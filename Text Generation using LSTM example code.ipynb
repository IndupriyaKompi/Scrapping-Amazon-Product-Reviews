{
 "cells": [
  {
   "cell_type": "code",
   "execution_count": null,
   "id": "optional-capitol",
   "metadata": {},
   "outputs": [],
   "source": [
    "import numpy as np\n",
    "import pandas as pd\n",
    "import warnings\n",
    "warnings.filterwarnings(\"ignore\")\n",
    "warnings.simplefilter(action='ignore', category=FutureWarning)"
   ]
  },
  {
   "cell_type": "code",
   "execution_count": 31,
   "id": "thrown-chaos",
   "metadata": {},
   "outputs": [
    {
     "data": {
      "text/html": [
       "<div>\n",
       "<style scoped>\n",
       "    .dataframe tbody tr th:only-of-type {\n",
       "        vertical-align: middle;\n",
       "    }\n",
       "\n",
       "    .dataframe tbody tr th {\n",
       "        vertical-align: top;\n",
       "    }\n",
       "\n",
       "    .dataframe thead th {\n",
       "        text-align: right;\n",
       "    }\n",
       "</style>\n",
       "<table border=\"1\" class=\"dataframe\">\n",
       "  <thead>\n",
       "    <tr style=\"text-align: right;\">\n",
       "      <th></th>\n",
       "      <th>review_title</th>\n",
       "      <th>product_review</th>\n",
       "      <th>product_rating</th>\n",
       "      <th>reviewer</th>\n",
       "    </tr>\n",
       "  </thead>\n",
       "  <tbody>\n",
       "    <tr>\n",
       "      <th>0</th>\n",
       "      <td>Works fine, replaces a Gen 3.</td>\n",
       "      <td>\\n  If you own an earlier Paperwhite and it's ...</td>\n",
       "      <td>3.0 out of 5 stars</td>\n",
       "      <td>E. Hinrichsen  II</td>\n",
       "    </tr>\n",
       "    <tr>\n",
       "      <th>1</th>\n",
       "      <td>Pinhole Bright Spots and Other Issues</td>\n",
       "      <td>\\n  Updated Review on Oct 6, 2019:</td>\n",
       "      <td>4.0 out of 5 stars</td>\n",
       "      <td>Sir Mike</td>\n",
       "    </tr>\n",
       "    <tr>\n",
       "      <th>2</th>\n",
       "      <td>Battery life is awful</td>\n",
       "      <td>\\n  I love Kindle, have always had one since t...</td>\n",
       "      <td>3.0 out of 5 stars</td>\n",
       "      <td>Ship210</td>\n",
       "    </tr>\n",
       "    <tr>\n",
       "      <th>3</th>\n",
       "      <td>A Review From 2 Perspectives</td>\n",
       "      <td>\\n  I feel I need to approach this review from...</td>\n",
       "      <td>5.0 out of 5 stars</td>\n",
       "      <td>Rustic</td>\n",
       "    </tr>\n",
       "    <tr>\n",
       "      <th>4</th>\n",
       "      <td>It’s waterproof. Everything else is worse.</td>\n",
       "      <td>\\n  It’s infuriating that Amazon went to marke...</td>\n",
       "      <td>1.0 out of 5 stars</td>\n",
       "      <td>D. Bier</td>\n",
       "    </tr>\n",
       "  </tbody>\n",
       "</table>\n",
       "</div>"
      ],
      "text/plain": [
       "                                 review_title  \\\n",
       "0               Works fine, replaces a Gen 3.   \n",
       "1       Pinhole Bright Spots and Other Issues   \n",
       "2                       Battery life is awful   \n",
       "3                A Review From 2 Perspectives   \n",
       "4  It’s waterproof. Everything else is worse.   \n",
       "\n",
       "                                      product_review      product_rating  \\\n",
       "0  \\n  If you own an earlier Paperwhite and it's ...  3.0 out of 5 stars   \n",
       "1                 \\n  Updated Review on Oct 6, 2019:  4.0 out of 5 stars   \n",
       "2  \\n  I love Kindle, have always had one since t...  3.0 out of 5 stars   \n",
       "3  \\n  I feel I need to approach this review from...  5.0 out of 5 stars   \n",
       "4  \\n  It’s infuriating that Amazon went to marke...  1.0 out of 5 stars   \n",
       "\n",
       "            reviewer  \n",
       "0  E. Hinrichsen  II  \n",
       "1           Sir Mike  \n",
       "2            Ship210  \n",
       "3             Rustic  \n",
       "4            D. Bier  "
      ]
     },
     "execution_count": 31,
     "metadata": {},
     "output_type": "execute_result"
    }
   ],
   "source": [
    "kindle_df = pd.read_csv('kindle.csv')\n",
    "kindle_df.head()"
   ]
  },
  {
   "cell_type": "code",
   "execution_count": 32,
   "id": "attended-award",
   "metadata": {
    "scrolled": true
   },
   "outputs": [
    {
     "data": {
      "text/html": [
       "<div>\n",
       "<style scoped>\n",
       "    .dataframe tbody tr th:only-of-type {\n",
       "        vertical-align: middle;\n",
       "    }\n",
       "\n",
       "    .dataframe tbody tr th {\n",
       "        vertical-align: top;\n",
       "    }\n",
       "\n",
       "    .dataframe thead th {\n",
       "        text-align: right;\n",
       "    }\n",
       "</style>\n",
       "<table border=\"1\" class=\"dataframe\">\n",
       "  <thead>\n",
       "    <tr style=\"text-align: right;\">\n",
       "      <th></th>\n",
       "      <th>review_title</th>\n",
       "      <th>product_review</th>\n",
       "      <th>product_rating</th>\n",
       "      <th>reviewer</th>\n",
       "    </tr>\n",
       "  </thead>\n",
       "  <tbody>\n",
       "    <tr>\n",
       "      <th>0</th>\n",
       "      <td>Works fine, replaces a Gen 3.</td>\n",
       "      <td>If you own an earlier Paperwhite and it's st...</td>\n",
       "      <td>3.0 out of 5 stars</td>\n",
       "      <td>E. Hinrichsen  II</td>\n",
       "    </tr>\n",
       "    <tr>\n",
       "      <th>1</th>\n",
       "      <td>Pinhole Bright Spots and Other Issues</td>\n",
       "      <td>Updated Review on Oct 6, 2019:</td>\n",
       "      <td>4.0 out of 5 stars</td>\n",
       "      <td>Sir Mike</td>\n",
       "    </tr>\n",
       "    <tr>\n",
       "      <th>2</th>\n",
       "      <td>Battery life is awful</td>\n",
       "      <td>I love Kindle, have always had one since the...</td>\n",
       "      <td>3.0 out of 5 stars</td>\n",
       "      <td>Ship210</td>\n",
       "    </tr>\n",
       "    <tr>\n",
       "      <th>3</th>\n",
       "      <td>A Review From 2 Perspectives</td>\n",
       "      <td>I feel I need to approach this review from 2...</td>\n",
       "      <td>5.0 out of 5 stars</td>\n",
       "      <td>Rustic</td>\n",
       "    </tr>\n",
       "    <tr>\n",
       "      <th>4</th>\n",
       "      <td>It’s waterproof. Everything else is worse.</td>\n",
       "      <td>It’s infuriating that Amazon went to market ...</td>\n",
       "      <td>1.0 out of 5 stars</td>\n",
       "      <td>D. Bier</td>\n",
       "    </tr>\n",
       "  </tbody>\n",
       "</table>\n",
       "</div>"
      ],
      "text/plain": [
       "                                 review_title  \\\n",
       "0               Works fine, replaces a Gen 3.   \n",
       "1       Pinhole Bright Spots and Other Issues   \n",
       "2                       Battery life is awful   \n",
       "3                A Review From 2 Perspectives   \n",
       "4  It’s waterproof. Everything else is worse.   \n",
       "\n",
       "                                      product_review      product_rating  \\\n",
       "0    If you own an earlier Paperwhite and it's st...  3.0 out of 5 stars   \n",
       "1                     Updated Review on Oct 6, 2019:  4.0 out of 5 stars   \n",
       "2    I love Kindle, have always had one since the...  3.0 out of 5 stars   \n",
       "3    I feel I need to approach this review from 2...  5.0 out of 5 stars   \n",
       "4    It’s infuriating that Amazon went to market ...  1.0 out of 5 stars   \n",
       "\n",
       "            reviewer  \n",
       "0  E. Hinrichsen  II  \n",
       "1           Sir Mike  \n",
       "2            Ship210  \n",
       "3             Rustic  \n",
       "4            D. Bier  "
      ]
     },
     "execution_count": 32,
     "metadata": {},
     "output_type": "execute_result"
    }
   ],
   "source": [
    "# \\n represents the new line\n",
    "# let's replace it with \n",
    "kindle_df['product_review'] = kindle_df['product_review'].str.replace('\\n', '')\n",
    "kindle_df.head()"
   ]
  },
  {
   "cell_type": "code",
   "execution_count": 82,
   "id": "solar-bread",
   "metadata": {
    "scrolled": true
   },
   "outputs": [
    {
     "data": {
      "text/plain": [
       "0         If you own an earlier Paperwhite and it's st...\n",
       "1                          Updated Review on Oct 6, 2019:\n",
       "2         I love Kindle, have always had one since the...\n",
       "3         I feel I need to approach this review from 2...\n",
       "4         It’s infuriating that Amazon went to market ...\n",
       "                              ...                        \n",
       "1995      I am so disappointed in the Kindle Ereaders....\n",
       "1996      Call me crazy, but I bought a Kindle to supp...\n",
       "1997      I bought this for the new Bluetooth feature ...\n",
       "1998      I rarely use my new Kindle Paperwhite, so so...\n",
       "1999      I like the Paperwhite but I still miss my 3r...\n",
       "Name: product_review, Length: 2000, dtype: object"
      ]
     },
     "execution_count": 82,
     "metadata": {},
     "output_type": "execute_result"
    }
   ],
   "source": [
    "data = kindle_df['product_review'][:2000]\n",
    "data"
   ]
  },
  {
   "cell_type": "code",
   "execution_count": 83,
   "id": "outdoor-climb",
   "metadata": {},
   "outputs": [
    {
     "name": "stdout",
     "output_type": "stream",
     "text": [
      "product_review:  False\n"
     ]
    },
    {
     "data": {
      "text/html": [
       "<div>\n",
       "<style scoped>\n",
       "    .dataframe tbody tr th:only-of-type {\n",
       "        vertical-align: middle;\n",
       "    }\n",
       "\n",
       "    .dataframe tbody tr th {\n",
       "        vertical-align: top;\n",
       "    }\n",
       "\n",
       "    .dataframe thead th {\n",
       "        text-align: right;\n",
       "    }\n",
       "</style>\n",
       "<table border=\"1\" class=\"dataframe\">\n",
       "  <thead>\n",
       "    <tr style=\"text-align: right;\">\n",
       "      <th></th>\n",
       "      <th>review_title</th>\n",
       "      <th>product_review</th>\n",
       "      <th>product_rating</th>\n",
       "      <th>reviewer</th>\n",
       "    </tr>\n",
       "  </thead>\n",
       "  <tbody>\n",
       "  </tbody>\n",
       "</table>\n",
       "</div>"
      ],
      "text/plain": [
       "Empty DataFrame\n",
       "Columns: [review_title, product_review, product_rating, reviewer]\n",
       "Index: []"
      ]
     },
     "execution_count": 83,
     "metadata": {},
     "output_type": "execute_result"
    }
   ],
   "source": [
    "print(\"product_review: \",kindle_df['product_review'].isnull().values.any())\n",
    "nan_values = kindle_df[kindle_df['product_review'].isnull()]\n",
    "nan_values"
   ]
  },
  {
   "cell_type": "code",
   "execution_count": 84,
   "id": "descending-writer",
   "metadata": {},
   "outputs": [
    {
     "name": "stdout",
     "output_type": "stream",
     "text": [
      "product_review:  False\n"
     ]
    },
    {
     "data": {
      "text/html": [
       "<div>\n",
       "<style scoped>\n",
       "    .dataframe tbody tr th:only-of-type {\n",
       "        vertical-align: middle;\n",
       "    }\n",
       "\n",
       "    .dataframe tbody tr th {\n",
       "        vertical-align: top;\n",
       "    }\n",
       "\n",
       "    .dataframe thead th {\n",
       "        text-align: right;\n",
       "    }\n",
       "</style>\n",
       "<table border=\"1\" class=\"dataframe\">\n",
       "  <thead>\n",
       "    <tr style=\"text-align: right;\">\n",
       "      <th></th>\n",
       "      <th>review_title</th>\n",
       "      <th>product_review</th>\n",
       "      <th>product_rating</th>\n",
       "      <th>reviewer</th>\n",
       "    </tr>\n",
       "  </thead>\n",
       "  <tbody>\n",
       "    <tr>\n",
       "      <th>0</th>\n",
       "      <td>Works fine, replaces a Gen 3.</td>\n",
       "      <td>If you own an earlier Paperwhite and it's st...</td>\n",
       "      <td>3.0 out of 5 stars</td>\n",
       "      <td>E. Hinrichsen  II</td>\n",
       "    </tr>\n",
       "    <tr>\n",
       "      <th>1</th>\n",
       "      <td>Pinhole Bright Spots and Other Issues</td>\n",
       "      <td>Updated Review on Oct 6, 2019:</td>\n",
       "      <td>4.0 out of 5 stars</td>\n",
       "      <td>Sir Mike</td>\n",
       "    </tr>\n",
       "    <tr>\n",
       "      <th>2</th>\n",
       "      <td>Battery life is awful</td>\n",
       "      <td>I love Kindle, have always had one since the...</td>\n",
       "      <td>3.0 out of 5 stars</td>\n",
       "      <td>Ship210</td>\n",
       "    </tr>\n",
       "    <tr>\n",
       "      <th>3</th>\n",
       "      <td>A Review From 2 Perspectives</td>\n",
       "      <td>I feel I need to approach this review from 2...</td>\n",
       "      <td>5.0 out of 5 stars</td>\n",
       "      <td>Rustic</td>\n",
       "    </tr>\n",
       "    <tr>\n",
       "      <th>4</th>\n",
       "      <td>It’s waterproof. Everything else is worse.</td>\n",
       "      <td>It’s infuriating that Amazon went to market ...</td>\n",
       "      <td>1.0 out of 5 stars</td>\n",
       "      <td>D. Bier</td>\n",
       "    </tr>\n",
       "    <tr>\n",
       "      <th>...</th>\n",
       "      <td>...</td>\n",
       "      <td>...</td>\n",
       "      <td>...</td>\n",
       "      <td>...</td>\n",
       "    </tr>\n",
       "    <tr>\n",
       "      <th>9996</th>\n",
       "      <td>My first Kindle - Love it!</td>\n",
       "      <td>I've never used a Kindle, or any e-reader befo...</td>\n",
       "      <td>5.0 out of 5 stars</td>\n",
       "      <td>AngieF</td>\n",
       "    </tr>\n",
       "    <tr>\n",
       "      <th>9997</th>\n",
       "      <td>Amazon con job</td>\n",
       "      <td>Can no longer \"Remove this title\" from my Kind...</td>\n",
       "      <td>3.0 out of 5 stars</td>\n",
       "      <td>thom flora</td>\n",
       "    </tr>\n",
       "    <tr>\n",
       "      <th>9998</th>\n",
       "      <td>A necessary evil...</td>\n",
       "      <td>I bought the Kindle Paperwhite so I could down...</td>\n",
       "      <td>4.0 out of 5 stars</td>\n",
       "      <td>Sylvia</td>\n",
       "    </tr>\n",
       "    <tr>\n",
       "      <th>9999</th>\n",
       "      <td>New and imporved</td>\n",
       "      <td>Smaller and lighter (green is the new one and ...</td>\n",
       "      <td>5.0 out of 5 stars</td>\n",
       "      <td>kattface6</td>\n",
       "    </tr>\n",
       "    <tr>\n",
       "      <th>10000</th>\n",
       "      <td>Book covers in black&amp;white-hard to see them</td>\n",
       "      <td>It is lightweight and the perfect size for an ...</td>\n",
       "      <td>3.0 out of 5 stars</td>\n",
       "      <td>SMZ</td>\n",
       "    </tr>\n",
       "  </tbody>\n",
       "</table>\n",
       "<p>10001 rows × 4 columns</p>\n",
       "</div>"
      ],
      "text/plain": [
       "                                      review_title  \\\n",
       "0                    Works fine, replaces a Gen 3.   \n",
       "1            Pinhole Bright Spots and Other Issues   \n",
       "2                            Battery life is awful   \n",
       "3                     A Review From 2 Perspectives   \n",
       "4       It’s waterproof. Everything else is worse.   \n",
       "...                                            ...   \n",
       "9996                    My first Kindle - Love it!   \n",
       "9997                                Amazon con job   \n",
       "9998                           A necessary evil...   \n",
       "9999                              New and imporved   \n",
       "10000  Book covers in black&white-hard to see them   \n",
       "\n",
       "                                          product_review      product_rating  \\\n",
       "0        If you own an earlier Paperwhite and it's st...  3.0 out of 5 stars   \n",
       "1                         Updated Review on Oct 6, 2019:  4.0 out of 5 stars   \n",
       "2        I love Kindle, have always had one since the...  3.0 out of 5 stars   \n",
       "3        I feel I need to approach this review from 2...  5.0 out of 5 stars   \n",
       "4        It’s infuriating that Amazon went to market ...  1.0 out of 5 stars   \n",
       "...                                                  ...                 ...   \n",
       "9996   I've never used a Kindle, or any e-reader befo...  5.0 out of 5 stars   \n",
       "9997   Can no longer \"Remove this title\" from my Kind...  3.0 out of 5 stars   \n",
       "9998   I bought the Kindle Paperwhite so I could down...  4.0 out of 5 stars   \n",
       "9999   Smaller and lighter (green is the new one and ...  5.0 out of 5 stars   \n",
       "10000  It is lightweight and the perfect size for an ...  3.0 out of 5 stars   \n",
       "\n",
       "                reviewer  \n",
       "0      E. Hinrichsen  II  \n",
       "1               Sir Mike  \n",
       "2                Ship210  \n",
       "3                 Rustic  \n",
       "4                D. Bier  \n",
       "...                  ...  \n",
       "9996              AngieF  \n",
       "9997          thom flora  \n",
       "9998              Sylvia  \n",
       "9999           kattface6  \n",
       "10000                SMZ  \n",
       "\n",
       "[10001 rows x 4 columns]"
      ]
     },
     "execution_count": 84,
     "metadata": {},
     "output_type": "execute_result"
    }
   ],
   "source": [
    "# if rating is positive, fill with good\n",
    "# if rating is negative, fill with bad\n",
    "# if rating is neutral, fill with average\n",
    "\n",
    "# kindle_df['product_review'].fillna('bad')\n",
    "kindle_df['product_review'] = kindle_df.product_review.replace(np.nan, 'bad', regex=True)\n",
    "print(\"product_review: \",kindle_df['product_review'].isnull().values.any())\n",
    "kindle_df"
   ]
  },
  {
   "cell_type": "code",
   "execution_count": 85,
   "id": "possible-piece",
   "metadata": {},
   "outputs": [
    {
     "data": {
      "text/plain": [
       "2000"
      ]
     },
     "execution_count": 85,
     "metadata": {},
     "output_type": "execute_result"
    }
   ],
   "source": [
    "len(data)"
   ]
  },
  {
   "cell_type": "code",
   "execution_count": 86,
   "id": "designing-puzzle",
   "metadata": {},
   "outputs": [],
   "source": [
    "reviews = [h for h in data ]"
   ]
  },
  {
   "cell_type": "code",
   "execution_count": 87,
   "id": "weighted-moldova",
   "metadata": {},
   "outputs": [],
   "source": [
    "def clean_text(txt):\n",
    "    txt = \"\".join(v for v in txt if v not in string.punctuation).lower()\n",
    "    txt = txt.encode(\"utf8\").decode(\"ascii\", \"ignore\")\n",
    "    return txt\n",
    "corpus = [clean_text(x) for x in reviews]"
   ]
  },
  {
   "cell_type": "code",
   "execution_count": 88,
   "id": "conceptual-question",
   "metadata": {
    "scrolled": false
   },
   "outputs": [
    {
     "data": {
      "text/plain": [
       "'  i purchased two of your ereaders and neither one came with a charge adapter   how can you expect the customer to charge your reader without the necessary equipment   this necessary piece of electronics should automatically be included   not happy that my granddaughter and i couldnt use our new ereaders until we purchased the charge cords '"
      ]
     },
     "execution_count": 88,
     "metadata": {},
     "output_type": "execute_result"
    }
   ],
   "source": [
    "corpus[45]"
   ]
  },
  {
   "cell_type": "markdown",
   "id": "accessible-piece",
   "metadata": {},
   "source": [
    "# Model"
   ]
  },
  {
   "cell_type": "code",
   "execution_count": 89,
   "id": "precise-recipe",
   "metadata": {},
   "outputs": [],
   "source": [
    "import tensorflow as tf\n",
    "from tensorflow.keras.preprocessing.text import Tokenizer\n",
    "from tensorflow.keras.preprocessing.sequence import pad_sequences\n",
    "from tensorflow.keras.layers import Embedding, LSTM, Dense, Dropout, Bidirectional\n",
    "from tensorflow.keras.utils import to_categorical\n",
    "from tensorflow.keras.models import Sequential\n",
    "from tensorflow.keras.optimizers import Adam\n",
    "from tensorflow.keras import regularizers\n",
    "import tensorflow.keras.utils as ku\n",
    "import re, string "
   ]
  },
  {
   "cell_type": "code",
   "execution_count": 90,
   "id": "accessible-mistress",
   "metadata": {},
   "outputs": [],
   "source": [
    "tokenizer = Tokenizer()\n",
    "tokenizer.fit_on_texts(corpus)\n",
    "total_words = len(tokenizer.word_index) + 1"
   ]
  },
  {
   "cell_type": "code",
   "execution_count": 91,
   "id": "bronze-accountability",
   "metadata": {},
   "outputs": [
    {
     "data": {
      "text/plain": [
       "8182"
      ]
     },
     "execution_count": 91,
     "metadata": {},
     "output_type": "execute_result"
    }
   ],
   "source": [
    "total_words"
   ]
  },
  {
   "cell_type": "code",
   "execution_count": 92,
   "id": "moved-species",
   "metadata": {},
   "outputs": [],
   "source": [
    "input_sequences = []\n",
    "\n",
    "for line in corpus:\n",
    "    token_list = tokenizer.texts_to_sequences([line])[0]\n",
    "    for i in range(1, len(token_list)):\n",
    "        n = token_list[:i+1]\n",
    "        input_sequences.append(n)"
   ]
  },
  {
   "cell_type": "code",
   "execution_count": 93,
   "id": "afraid-morning",
   "metadata": {},
   "outputs": [
    {
     "data": {
      "text/plain": [
       "206455"
      ]
     },
     "execution_count": 93,
     "metadata": {},
     "output_type": "execute_result"
    }
   ],
   "source": [
    "len(input_sequences)"
   ]
  },
  {
   "cell_type": "code",
   "execution_count": 94,
   "id": "bearing-cardiff",
   "metadata": {},
   "outputs": [],
   "source": [
    "max_sequence_len = max([len(x) for x in input_sequences])\n",
    "input_sequences = np.array(pad_sequences(input_sequences, maxlen=max_sequence_len, padding='pre'))"
   ]
  },
  {
   "cell_type": "code",
   "execution_count": 95,
   "id": "dimensional-messaging",
   "metadata": {},
   "outputs": [],
   "source": [
    "predictors, label = input_sequences[:,:-1],input_sequences[:,-1]\n",
    "\n",
    "label = ku.to_categorical(label, num_classes=total_words)"
   ]
  },
  {
   "cell_type": "code",
   "execution_count": 96,
   "id": "narrow-kernel",
   "metadata": {},
   "outputs": [],
   "source": [
    "from keras.models import Sequential\n",
    "from keras.layers import Dense, Embedding, GRU, Dropout, Bidirectional, SpatialDropout1D"
   ]
  },
  {
   "cell_type": "code",
   "execution_count": 97,
   "id": "wrong-extraction",
   "metadata": {},
   "outputs": [
    {
     "name": "stdout",
     "output_type": "stream",
     "text": [
      "Model: \"sequential_1\"\n",
      "_________________________________________________________________\n",
      "Layer (type)                 Output Shape              Param #   \n",
      "=================================================================\n",
      "embedding_1 (Embedding)      (None, 616, 100)          818200    \n",
      "_________________________________________________________________\n",
      "bidirectional_1 (Bidirection (None, 616, 300)          226800    \n",
      "_________________________________________________________________\n",
      "dropout_1 (Dropout)          (None, 616, 300)          0         \n",
      "_________________________________________________________________\n",
      "gru_3 (GRU)                  (None, 100)               120600    \n",
      "_________________________________________________________________\n",
      "dense_1 (Dense)              (None, 8182)              826382    \n",
      "=================================================================\n",
      "Total params: 1,991,982\n",
      "Trainable params: 1,991,982\n",
      "Non-trainable params: 0\n",
      "_________________________________________________________________\n",
      "None\n"
     ]
    }
   ],
   "source": [
    "model = Sequential()\n",
    "model.add(Embedding(total_words, 100, input_length=max_sequence_len))\n",
    "model.add(Bidirectional(GRU(150, return_sequences=True)))\n",
    "model.add(Dropout(0.2))\n",
    "model.add(GRU(100))\n",
    "# model.add(Dense(total_words/2, activation='relu', kernel_regularizer=regularizers.l2(0.01)))\n",
    "model.add(Dense(total_words, activation='softmax'))\n",
    "model.compile(loss='categorical_crossentropy', optimizer='adam', metrics=['accuracy'])\n",
    "\n",
    "print(model.summary())"
   ]
  },
  {
   "cell_type": "code",
   "execution_count": 98,
   "id": "noble-variable",
   "metadata": {},
   "outputs": [
    {
     "name": "stdout",
     "output_type": "stream",
     "text": [
      "Epoch 1/50\n",
      "WARNING:tensorflow:Model was constructed with shape (None, 616) for input KerasTensor(type_spec=TensorSpec(shape=(None, 616), dtype=tf.float32, name='embedding_1_input'), name='embedding_1_input', description=\"created by layer 'embedding_1_input'\"), but it was called on an input with incompatible shape (None, 615).\n",
      "WARNING:tensorflow:Model was constructed with shape (None, 616) for input KerasTensor(type_spec=TensorSpec(shape=(None, 616), dtype=tf.float32, name='embedding_1_input'), name='embedding_1_input', description=\"created by layer 'embedding_1_input'\"), but it was called on an input with incompatible shape (None, 615).\n",
      "6452/6452 [==============================] - 5337s 827ms/step - loss: 6.2097 - accuracy: 0.0653\n",
      "Epoch 2/50\n",
      "1950/6452 [========>.....................] - ETA: 1:01:06 - loss: 5.2458 - accuracy: 0.1305"
     ]
    },
    {
     "ename": "KeyboardInterrupt",
     "evalue": "",
     "output_type": "error",
     "traceback": [
      "\u001b[0;31m---------------------------------------------------------------------------\u001b[0m",
      "\u001b[0;31mKeyboardInterrupt\u001b[0m                         Traceback (most recent call last)",
      "\u001b[0;32m<ipython-input-98-40af4c769554>\u001b[0m in \u001b[0;36m<module>\u001b[0;34m\u001b[0m\n\u001b[0;32m----> 1\u001b[0;31m \u001b[0mmodel\u001b[0m\u001b[0;34m.\u001b[0m\u001b[0mfit\u001b[0m\u001b[0;34m(\u001b[0m\u001b[0mpredictors\u001b[0m\u001b[0;34m,\u001b[0m \u001b[0mlabel\u001b[0m\u001b[0;34m,\u001b[0m \u001b[0mepochs\u001b[0m\u001b[0;34m=\u001b[0m\u001b[0;36m50\u001b[0m\u001b[0;34m,\u001b[0m \u001b[0mverbose\u001b[0m\u001b[0;34m=\u001b[0m\u001b[0;36m1\u001b[0m\u001b[0;34m)\u001b[0m\u001b[0;34m\u001b[0m\u001b[0;34m\u001b[0m\u001b[0m\n\u001b[0m",
      "\u001b[0;32m~/opt/anaconda3/envs/dlvirenv/lib/python3.8/site-packages/tensorflow/python/keras/engine/training.py\u001b[0m in \u001b[0;36mfit\u001b[0;34m(self, x, y, batch_size, epochs, verbose, callbacks, validation_split, validation_data, shuffle, class_weight, sample_weight, initial_epoch, steps_per_epoch, validation_steps, validation_batch_size, validation_freq, max_queue_size, workers, use_multiprocessing)\u001b[0m\n\u001b[1;32m   1098\u001b[0m                 _r=1):\n\u001b[1;32m   1099\u001b[0m               \u001b[0mcallbacks\u001b[0m\u001b[0;34m.\u001b[0m\u001b[0mon_train_batch_begin\u001b[0m\u001b[0;34m(\u001b[0m\u001b[0mstep\u001b[0m\u001b[0;34m)\u001b[0m\u001b[0;34m\u001b[0m\u001b[0;34m\u001b[0m\u001b[0m\n\u001b[0;32m-> 1100\u001b[0;31m               \u001b[0mtmp_logs\u001b[0m \u001b[0;34m=\u001b[0m \u001b[0mself\u001b[0m\u001b[0;34m.\u001b[0m\u001b[0mtrain_function\u001b[0m\u001b[0;34m(\u001b[0m\u001b[0miterator\u001b[0m\u001b[0;34m)\u001b[0m\u001b[0;34m\u001b[0m\u001b[0;34m\u001b[0m\u001b[0m\n\u001b[0m\u001b[1;32m   1101\u001b[0m               \u001b[0;32mif\u001b[0m \u001b[0mdata_handler\u001b[0m\u001b[0;34m.\u001b[0m\u001b[0mshould_sync\u001b[0m\u001b[0;34m:\u001b[0m\u001b[0;34m\u001b[0m\u001b[0;34m\u001b[0m\u001b[0m\n\u001b[1;32m   1102\u001b[0m                 \u001b[0mcontext\u001b[0m\u001b[0;34m.\u001b[0m\u001b[0masync_wait\u001b[0m\u001b[0;34m(\u001b[0m\u001b[0;34m)\u001b[0m\u001b[0;34m\u001b[0m\u001b[0;34m\u001b[0m\u001b[0m\n",
      "\u001b[0;32m~/opt/anaconda3/envs/dlvirenv/lib/python3.8/site-packages/tensorflow/python/eager/def_function.py\u001b[0m in \u001b[0;36m__call__\u001b[0;34m(self, *args, **kwds)\u001b[0m\n\u001b[1;32m    826\u001b[0m     \u001b[0mtracing_count\u001b[0m \u001b[0;34m=\u001b[0m \u001b[0mself\u001b[0m\u001b[0;34m.\u001b[0m\u001b[0mexperimental_get_tracing_count\u001b[0m\u001b[0;34m(\u001b[0m\u001b[0;34m)\u001b[0m\u001b[0;34m\u001b[0m\u001b[0;34m\u001b[0m\u001b[0m\n\u001b[1;32m    827\u001b[0m     \u001b[0;32mwith\u001b[0m \u001b[0mtrace\u001b[0m\u001b[0;34m.\u001b[0m\u001b[0mTrace\u001b[0m\u001b[0;34m(\u001b[0m\u001b[0mself\u001b[0m\u001b[0;34m.\u001b[0m\u001b[0m_name\u001b[0m\u001b[0;34m)\u001b[0m \u001b[0;32mas\u001b[0m \u001b[0mtm\u001b[0m\u001b[0;34m:\u001b[0m\u001b[0;34m\u001b[0m\u001b[0;34m\u001b[0m\u001b[0m\n\u001b[0;32m--> 828\u001b[0;31m       \u001b[0mresult\u001b[0m \u001b[0;34m=\u001b[0m \u001b[0mself\u001b[0m\u001b[0;34m.\u001b[0m\u001b[0m_call\u001b[0m\u001b[0;34m(\u001b[0m\u001b[0;34m*\u001b[0m\u001b[0margs\u001b[0m\u001b[0;34m,\u001b[0m \u001b[0;34m**\u001b[0m\u001b[0mkwds\u001b[0m\u001b[0;34m)\u001b[0m\u001b[0;34m\u001b[0m\u001b[0;34m\u001b[0m\u001b[0m\n\u001b[0m\u001b[1;32m    829\u001b[0m       \u001b[0mcompiler\u001b[0m \u001b[0;34m=\u001b[0m \u001b[0;34m\"xla\"\u001b[0m \u001b[0;32mif\u001b[0m \u001b[0mself\u001b[0m\u001b[0;34m.\u001b[0m\u001b[0m_experimental_compile\u001b[0m \u001b[0;32melse\u001b[0m \u001b[0;34m\"nonXla\"\u001b[0m\u001b[0;34m\u001b[0m\u001b[0;34m\u001b[0m\u001b[0m\n\u001b[1;32m    830\u001b[0m       \u001b[0mnew_tracing_count\u001b[0m \u001b[0;34m=\u001b[0m \u001b[0mself\u001b[0m\u001b[0;34m.\u001b[0m\u001b[0mexperimental_get_tracing_count\u001b[0m\u001b[0;34m(\u001b[0m\u001b[0;34m)\u001b[0m\u001b[0;34m\u001b[0m\u001b[0;34m\u001b[0m\u001b[0m\n",
      "\u001b[0;32m~/opt/anaconda3/envs/dlvirenv/lib/python3.8/site-packages/tensorflow/python/eager/def_function.py\u001b[0m in \u001b[0;36m_call\u001b[0;34m(self, *args, **kwds)\u001b[0m\n\u001b[1;32m    853\u001b[0m       \u001b[0;31m# In this case we have created variables on the first call, so we run the\u001b[0m\u001b[0;34m\u001b[0m\u001b[0;34m\u001b[0m\u001b[0;34m\u001b[0m\u001b[0m\n\u001b[1;32m    854\u001b[0m       \u001b[0;31m# defunned version which is guaranteed to never create variables.\u001b[0m\u001b[0;34m\u001b[0m\u001b[0;34m\u001b[0m\u001b[0;34m\u001b[0m\u001b[0m\n\u001b[0;32m--> 855\u001b[0;31m       \u001b[0;32mreturn\u001b[0m \u001b[0mself\u001b[0m\u001b[0;34m.\u001b[0m\u001b[0m_stateless_fn\u001b[0m\u001b[0;34m(\u001b[0m\u001b[0;34m*\u001b[0m\u001b[0margs\u001b[0m\u001b[0;34m,\u001b[0m \u001b[0;34m**\u001b[0m\u001b[0mkwds\u001b[0m\u001b[0;34m)\u001b[0m  \u001b[0;31m# pylint: disable=not-callable\u001b[0m\u001b[0;34m\u001b[0m\u001b[0;34m\u001b[0m\u001b[0m\n\u001b[0m\u001b[1;32m    856\u001b[0m     \u001b[0;32melif\u001b[0m \u001b[0mself\u001b[0m\u001b[0;34m.\u001b[0m\u001b[0m_stateful_fn\u001b[0m \u001b[0;32mis\u001b[0m \u001b[0;32mnot\u001b[0m \u001b[0;32mNone\u001b[0m\u001b[0;34m:\u001b[0m\u001b[0;34m\u001b[0m\u001b[0;34m\u001b[0m\u001b[0m\n\u001b[1;32m    857\u001b[0m       \u001b[0;31m# Release the lock early so that multiple threads can perform the call\u001b[0m\u001b[0;34m\u001b[0m\u001b[0;34m\u001b[0m\u001b[0;34m\u001b[0m\u001b[0m\n",
      "\u001b[0;32m~/opt/anaconda3/envs/dlvirenv/lib/python3.8/site-packages/tensorflow/python/eager/function.py\u001b[0m in \u001b[0;36m__call__\u001b[0;34m(self, *args, **kwargs)\u001b[0m\n\u001b[1;32m   2940\u001b[0m       (graph_function,\n\u001b[1;32m   2941\u001b[0m        filtered_flat_args) = self._maybe_define_function(args, kwargs)\n\u001b[0;32m-> 2942\u001b[0;31m     return graph_function._call_flat(\n\u001b[0m\u001b[1;32m   2943\u001b[0m         filtered_flat_args, captured_inputs=graph_function.captured_inputs)  # pylint: disable=protected-access\n\u001b[1;32m   2944\u001b[0m \u001b[0;34m\u001b[0m\u001b[0m\n",
      "\u001b[0;32m~/opt/anaconda3/envs/dlvirenv/lib/python3.8/site-packages/tensorflow/python/eager/function.py\u001b[0m in \u001b[0;36m_call_flat\u001b[0;34m(self, args, captured_inputs, cancellation_manager)\u001b[0m\n\u001b[1;32m   1916\u001b[0m         and executing_eagerly):\n\u001b[1;32m   1917\u001b[0m       \u001b[0;31m# No tape is watching; skip to running the function.\u001b[0m\u001b[0;34m\u001b[0m\u001b[0;34m\u001b[0m\u001b[0;34m\u001b[0m\u001b[0m\n\u001b[0;32m-> 1918\u001b[0;31m       return self._build_call_outputs(self._inference_function.call(\n\u001b[0m\u001b[1;32m   1919\u001b[0m           ctx, args, cancellation_manager=cancellation_manager))\n\u001b[1;32m   1920\u001b[0m     forward_backward = self._select_forward_and_backward_functions(\n",
      "\u001b[0;32m~/opt/anaconda3/envs/dlvirenv/lib/python3.8/site-packages/tensorflow/python/eager/function.py\u001b[0m in \u001b[0;36mcall\u001b[0;34m(self, ctx, args, cancellation_manager)\u001b[0m\n\u001b[1;32m    553\u001b[0m       \u001b[0;32mwith\u001b[0m \u001b[0m_InterpolateFunctionError\u001b[0m\u001b[0;34m(\u001b[0m\u001b[0mself\u001b[0m\u001b[0;34m)\u001b[0m\u001b[0;34m:\u001b[0m\u001b[0;34m\u001b[0m\u001b[0;34m\u001b[0m\u001b[0m\n\u001b[1;32m    554\u001b[0m         \u001b[0;32mif\u001b[0m \u001b[0mcancellation_manager\u001b[0m \u001b[0;32mis\u001b[0m \u001b[0;32mNone\u001b[0m\u001b[0;34m:\u001b[0m\u001b[0;34m\u001b[0m\u001b[0;34m\u001b[0m\u001b[0m\n\u001b[0;32m--> 555\u001b[0;31m           outputs = execute.execute(\n\u001b[0m\u001b[1;32m    556\u001b[0m               \u001b[0mstr\u001b[0m\u001b[0;34m(\u001b[0m\u001b[0mself\u001b[0m\u001b[0;34m.\u001b[0m\u001b[0msignature\u001b[0m\u001b[0;34m.\u001b[0m\u001b[0mname\u001b[0m\u001b[0;34m)\u001b[0m\u001b[0;34m,\u001b[0m\u001b[0;34m\u001b[0m\u001b[0;34m\u001b[0m\u001b[0m\n\u001b[1;32m    557\u001b[0m               \u001b[0mnum_outputs\u001b[0m\u001b[0;34m=\u001b[0m\u001b[0mself\u001b[0m\u001b[0;34m.\u001b[0m\u001b[0m_num_outputs\u001b[0m\u001b[0;34m,\u001b[0m\u001b[0;34m\u001b[0m\u001b[0;34m\u001b[0m\u001b[0m\n",
      "\u001b[0;32m~/opt/anaconda3/envs/dlvirenv/lib/python3.8/site-packages/tensorflow/python/eager/execute.py\u001b[0m in \u001b[0;36mquick_execute\u001b[0;34m(op_name, num_outputs, inputs, attrs, ctx, name)\u001b[0m\n\u001b[1;32m     57\u001b[0m   \u001b[0;32mtry\u001b[0m\u001b[0;34m:\u001b[0m\u001b[0;34m\u001b[0m\u001b[0;34m\u001b[0m\u001b[0m\n\u001b[1;32m     58\u001b[0m     \u001b[0mctx\u001b[0m\u001b[0;34m.\u001b[0m\u001b[0mensure_initialized\u001b[0m\u001b[0;34m(\u001b[0m\u001b[0;34m)\u001b[0m\u001b[0;34m\u001b[0m\u001b[0;34m\u001b[0m\u001b[0m\n\u001b[0;32m---> 59\u001b[0;31m     tensors = pywrap_tfe.TFE_Py_Execute(ctx._handle, device_name, op_name,\n\u001b[0m\u001b[1;32m     60\u001b[0m                                         inputs, attrs, num_outputs)\n\u001b[1;32m     61\u001b[0m   \u001b[0;32mexcept\u001b[0m \u001b[0mcore\u001b[0m\u001b[0;34m.\u001b[0m\u001b[0m_NotOkStatusException\u001b[0m \u001b[0;32mas\u001b[0m \u001b[0me\u001b[0m\u001b[0;34m:\u001b[0m\u001b[0;34m\u001b[0m\u001b[0;34m\u001b[0m\u001b[0m\n",
      "\u001b[0;31mKeyboardInterrupt\u001b[0m: "
     ]
    }
   ],
   "source": [
    "model.fit(predictors, label, epochs=50, verbose=1)"
   ]
  },
  {
   "cell_type": "code",
   "execution_count": null,
   "id": "silent-redhead",
   "metadata": {},
   "outputs": [],
   "source": []
  }
 ],
 "metadata": {
  "kernelspec": {
   "display_name": "Python 3",
   "language": "python",
   "name": "python3"
  },
  "language_info": {
   "codemirror_mode": {
    "name": "ipython",
    "version": 3
   },
   "file_extension": ".py",
   "mimetype": "text/x-python",
   "name": "python",
   "nbconvert_exporter": "python",
   "pygments_lexer": "ipython3",
   "version": "3.8.5"
  }
 },
 "nbformat": 4,
 "nbformat_minor": 5
}
