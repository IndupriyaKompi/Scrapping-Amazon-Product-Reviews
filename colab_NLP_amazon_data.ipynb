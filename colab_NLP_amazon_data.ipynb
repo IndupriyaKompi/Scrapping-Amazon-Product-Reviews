{
 "cells": [
  {
   "cell_type": "code",
   "execution_count": 163,
   "metadata": {
    "id": "U2bL3y1TuyWx"
   },
   "outputs": [],
   "source": [
    "import pandas as pd\n",
    "import numpy as np\n",
    "import seaborn as sns\n",
    "\n",
    "import warnings\n",
    "warnings.filterwarnings('ignore')"
   ]
  },
  {
   "cell_type": "code",
   "execution_count": 164,
   "metadata": {
    "colab": {
     "base_uri": "https://localhost:8080/",
     "height": 419
    },
    "id": "makW3NIuuyW0",
    "outputId": "a281fc8e-b5b5-49e9-a0d1-50f83f7f21d1",
    "scrolled": false
   },
   "outputs": [
    {
     "data": {
      "text/html": [
       "<div>\n",
       "<style scoped>\n",
       "    .dataframe tbody tr th:only-of-type {\n",
       "        vertical-align: middle;\n",
       "    }\n",
       "\n",
       "    .dataframe tbody tr th {\n",
       "        vertical-align: top;\n",
       "    }\n",
       "\n",
       "    .dataframe thead th {\n",
       "        text-align: right;\n",
       "    }\n",
       "</style>\n",
       "<table border=\"1\" class=\"dataframe\">\n",
       "  <thead>\n",
       "    <tr style=\"text-align: right;\">\n",
       "      <th></th>\n",
       "      <th>review_title</th>\n",
       "      <th>product_review</th>\n",
       "      <th>product_rating</th>\n",
       "      <th>reviewer</th>\n",
       "    </tr>\n",
       "  </thead>\n",
       "  <tbody>\n",
       "    <tr>\n",
       "      <th>0</th>\n",
       "      <td>Works fine, replaces a Gen 3.</td>\n",
       "      <td>If you own an earlier Paperwhite and it's st...</td>\n",
       "      <td>3.0 out of 5 stars</td>\n",
       "      <td>E. Hinrichsen  II</td>\n",
       "    </tr>\n",
       "    <tr>\n",
       "      <th>1</th>\n",
       "      <td>Pinhole Bright Spots and Other Issues</td>\n",
       "      <td>Updated Review on Oct 6, 2019:</td>\n",
       "      <td>4.0 out of 5 stars</td>\n",
       "      <td>Sir Mike</td>\n",
       "    </tr>\n",
       "    <tr>\n",
       "      <th>2</th>\n",
       "      <td>Battery life is awful</td>\n",
       "      <td>I love Kindle, have always had one since the...</td>\n",
       "      <td>3.0 out of 5 stars</td>\n",
       "      <td>Ship210</td>\n",
       "    </tr>\n",
       "    <tr>\n",
       "      <th>3</th>\n",
       "      <td>A Review From 2 Perspectives</td>\n",
       "      <td>I feel I need to approach this review from 2...</td>\n",
       "      <td>5.0 out of 5 stars</td>\n",
       "      <td>Rustic</td>\n",
       "    </tr>\n",
       "    <tr>\n",
       "      <th>4</th>\n",
       "      <td>It’s waterproof. Everything else is worse.</td>\n",
       "      <td>It’s infuriating that Amazon went to market ...</td>\n",
       "      <td>1.0 out of 5 stars</td>\n",
       "      <td>D. Bier</td>\n",
       "    </tr>\n",
       "    <tr>\n",
       "      <th>...</th>\n",
       "      <td>...</td>\n",
       "      <td>...</td>\n",
       "      <td>...</td>\n",
       "      <td>...</td>\n",
       "    </tr>\n",
       "    <tr>\n",
       "      <th>9996</th>\n",
       "      <td>My first Kindle - Love it!</td>\n",
       "      <td>I've never used a Kindle, or any e-reader befo...</td>\n",
       "      <td>5.0 out of 5 stars</td>\n",
       "      <td>AngieF</td>\n",
       "    </tr>\n",
       "    <tr>\n",
       "      <th>9997</th>\n",
       "      <td>Amazon con job</td>\n",
       "      <td>Can no longer \"Remove this title\" from my Kind...</td>\n",
       "      <td>3.0 out of 5 stars</td>\n",
       "      <td>thom flora</td>\n",
       "    </tr>\n",
       "    <tr>\n",
       "      <th>9998</th>\n",
       "      <td>A necessary evil...</td>\n",
       "      <td>I bought the Kindle Paperwhite so I could down...</td>\n",
       "      <td>4.0 out of 5 stars</td>\n",
       "      <td>Sylvia</td>\n",
       "    </tr>\n",
       "    <tr>\n",
       "      <th>9999</th>\n",
       "      <td>New and imporved</td>\n",
       "      <td>Smaller and lighter (green is the new one and ...</td>\n",
       "      <td>5.0 out of 5 stars</td>\n",
       "      <td>kattface6</td>\n",
       "    </tr>\n",
       "    <tr>\n",
       "      <th>10000</th>\n",
       "      <td>Book covers in black&amp;white-hard to see them</td>\n",
       "      <td>It is lightweight and the perfect size for an ...</td>\n",
       "      <td>3.0 out of 5 stars</td>\n",
       "      <td>SMZ</td>\n",
       "    </tr>\n",
       "  </tbody>\n",
       "</table>\n",
       "<p>10001 rows × 4 columns</p>\n",
       "</div>"
      ],
      "text/plain": [
       "                                      review_title  \\\n",
       "0                    Works fine, replaces a Gen 3.   \n",
       "1            Pinhole Bright Spots and Other Issues   \n",
       "2                            Battery life is awful   \n",
       "3                     A Review From 2 Perspectives   \n",
       "4       It’s waterproof. Everything else is worse.   \n",
       "...                                            ...   \n",
       "9996                    My first Kindle - Love it!   \n",
       "9997                                Amazon con job   \n",
       "9998                           A necessary evil...   \n",
       "9999                              New and imporved   \n",
       "10000  Book covers in black&white-hard to see them   \n",
       "\n",
       "                                          product_review      product_rating  \\\n",
       "0        If you own an earlier Paperwhite and it's st...  3.0 out of 5 stars   \n",
       "1                         Updated Review on Oct 6, 2019:  4.0 out of 5 stars   \n",
       "2        I love Kindle, have always had one since the...  3.0 out of 5 stars   \n",
       "3        I feel I need to approach this review from 2...  5.0 out of 5 stars   \n",
       "4        It’s infuriating that Amazon went to market ...  1.0 out of 5 stars   \n",
       "...                                                  ...                 ...   \n",
       "9996   I've never used a Kindle, or any e-reader befo...  5.0 out of 5 stars   \n",
       "9997   Can no longer \"Remove this title\" from my Kind...  3.0 out of 5 stars   \n",
       "9998   I bought the Kindle Paperwhite so I could down...  4.0 out of 5 stars   \n",
       "9999   Smaller and lighter (green is the new one and ...  5.0 out of 5 stars   \n",
       "10000  It is lightweight and the perfect size for an ...  3.0 out of 5 stars   \n",
       "\n",
       "                reviewer  \n",
       "0      E. Hinrichsen  II  \n",
       "1               Sir Mike  \n",
       "2                Ship210  \n",
       "3                 Rustic  \n",
       "4                D. Bier  \n",
       "...                  ...  \n",
       "9996              AngieF  \n",
       "9997          thom flora  \n",
       "9998              Sylvia  \n",
       "9999           kattface6  \n",
       "10000                SMZ  \n",
       "\n",
       "[10001 rows x 4 columns]"
      ]
     },
     "execution_count": 164,
     "metadata": {},
     "output_type": "execute_result"
    }
   ],
   "source": [
    "kindle_df = pd.read_csv('kindle.csv')\n",
    "kindle_df['product_review'] = kindle_df['product_review'].str.replace('\\n', '')\n",
    "kindle_df"
   ]
  },
  {
   "cell_type": "code",
   "execution_count": 165,
   "metadata": {
    "colab": {
     "base_uri": "https://localhost:8080/",
     "height": 419
    },
    "id": "iUV5N30TuyW1",
    "outputId": "da8156d3-864a-4a2e-d02c-d65e469c1021"
   },
   "outputs": [
    {
     "data": {
      "text/html": [
       "<div>\n",
       "<style scoped>\n",
       "    .dataframe tbody tr th:only-of-type {\n",
       "        vertical-align: middle;\n",
       "    }\n",
       "\n",
       "    .dataframe tbody tr th {\n",
       "        vertical-align: top;\n",
       "    }\n",
       "\n",
       "    .dataframe thead th {\n",
       "        text-align: right;\n",
       "    }\n",
       "</style>\n",
       "<table border=\"1\" class=\"dataframe\">\n",
       "  <thead>\n",
       "    <tr style=\"text-align: right;\">\n",
       "      <th></th>\n",
       "      <th>review_title</th>\n",
       "      <th>product_review</th>\n",
       "      <th>product_rating</th>\n",
       "      <th>reviewer</th>\n",
       "    </tr>\n",
       "  </thead>\n",
       "  <tbody>\n",
       "    <tr>\n",
       "      <th>0</th>\n",
       "      <td>Works fine, replaces a Gen 3.</td>\n",
       "      <td>If you own an earlier Paperwhite and it's st...</td>\n",
       "      <td>3.0</td>\n",
       "      <td>E. Hinrichsen  II</td>\n",
       "    </tr>\n",
       "    <tr>\n",
       "      <th>1</th>\n",
       "      <td>Pinhole Bright Spots and Other Issues</td>\n",
       "      <td>Updated Review on Oct 6, 2019:</td>\n",
       "      <td>4.0</td>\n",
       "      <td>Sir Mike</td>\n",
       "    </tr>\n",
       "    <tr>\n",
       "      <th>2</th>\n",
       "      <td>Battery life is awful</td>\n",
       "      <td>I love Kindle, have always had one since the...</td>\n",
       "      <td>3.0</td>\n",
       "      <td>Ship210</td>\n",
       "    </tr>\n",
       "    <tr>\n",
       "      <th>3</th>\n",
       "      <td>A Review From 2 Perspectives</td>\n",
       "      <td>I feel I need to approach this review from 2...</td>\n",
       "      <td>5.0</td>\n",
       "      <td>Rustic</td>\n",
       "    </tr>\n",
       "    <tr>\n",
       "      <th>4</th>\n",
       "      <td>It’s waterproof. Everything else is worse.</td>\n",
       "      <td>It’s infuriating that Amazon went to market ...</td>\n",
       "      <td>1.0</td>\n",
       "      <td>D. Bier</td>\n",
       "    </tr>\n",
       "    <tr>\n",
       "      <th>...</th>\n",
       "      <td>...</td>\n",
       "      <td>...</td>\n",
       "      <td>...</td>\n",
       "      <td>...</td>\n",
       "    </tr>\n",
       "    <tr>\n",
       "      <th>9996</th>\n",
       "      <td>My first Kindle - Love it!</td>\n",
       "      <td>I've never used a Kindle, or any e-reader befo...</td>\n",
       "      <td>5.0</td>\n",
       "      <td>AngieF</td>\n",
       "    </tr>\n",
       "    <tr>\n",
       "      <th>9997</th>\n",
       "      <td>Amazon con job</td>\n",
       "      <td>Can no longer \"Remove this title\" from my Kind...</td>\n",
       "      <td>3.0</td>\n",
       "      <td>thom flora</td>\n",
       "    </tr>\n",
       "    <tr>\n",
       "      <th>9998</th>\n",
       "      <td>A necessary evil...</td>\n",
       "      <td>I bought the Kindle Paperwhite so I could down...</td>\n",
       "      <td>4.0</td>\n",
       "      <td>Sylvia</td>\n",
       "    </tr>\n",
       "    <tr>\n",
       "      <th>9999</th>\n",
       "      <td>New and imporved</td>\n",
       "      <td>Smaller and lighter (green is the new one and ...</td>\n",
       "      <td>5.0</td>\n",
       "      <td>kattface6</td>\n",
       "    </tr>\n",
       "    <tr>\n",
       "      <th>10000</th>\n",
       "      <td>Book covers in black&amp;white-hard to see them</td>\n",
       "      <td>It is lightweight and the perfect size for an ...</td>\n",
       "      <td>3.0</td>\n",
       "      <td>SMZ</td>\n",
       "    </tr>\n",
       "  </tbody>\n",
       "</table>\n",
       "<p>10001 rows × 4 columns</p>\n",
       "</div>"
      ],
      "text/plain": [
       "                                      review_title  \\\n",
       "0                    Works fine, replaces a Gen 3.   \n",
       "1            Pinhole Bright Spots and Other Issues   \n",
       "2                            Battery life is awful   \n",
       "3                     A Review From 2 Perspectives   \n",
       "4       It’s waterproof. Everything else is worse.   \n",
       "...                                            ...   \n",
       "9996                    My first Kindle - Love it!   \n",
       "9997                                Amazon con job   \n",
       "9998                           A necessary evil...   \n",
       "9999                              New and imporved   \n",
       "10000  Book covers in black&white-hard to see them   \n",
       "\n",
       "                                          product_review product_rating  \\\n",
       "0        If you own an earlier Paperwhite and it's st...            3.0   \n",
       "1                         Updated Review on Oct 6, 2019:            4.0   \n",
       "2        I love Kindle, have always had one since the...            3.0   \n",
       "3        I feel I need to approach this review from 2...            5.0   \n",
       "4        It’s infuriating that Amazon went to market ...            1.0   \n",
       "...                                                  ...            ...   \n",
       "9996   I've never used a Kindle, or any e-reader befo...            5.0   \n",
       "9997   Can no longer \"Remove this title\" from my Kind...            3.0   \n",
       "9998   I bought the Kindle Paperwhite so I could down...            4.0   \n",
       "9999   Smaller and lighter (green is the new one and ...            5.0   \n",
       "10000  It is lightweight and the perfect size for an ...            3.0   \n",
       "\n",
       "                reviewer  \n",
       "0      E. Hinrichsen  II  \n",
       "1               Sir Mike  \n",
       "2                Ship210  \n",
       "3                 Rustic  \n",
       "4                D. Bier  \n",
       "...                  ...  \n",
       "9996              AngieF  \n",
       "9997          thom flora  \n",
       "9998              Sylvia  \n",
       "9999           kattface6  \n",
       "10000                SMZ  \n",
       "\n",
       "[10001 rows x 4 columns]"
      ]
     },
     "execution_count": 165,
     "metadata": {},
     "output_type": "execute_result"
    }
   ],
   "source": [
    "kindle_df['product_rating'] = kindle_df.product_rating.apply(lambda r: str(r.split()[0]))\n",
    "kindle_df"
   ]
  },
  {
   "cell_type": "markdown",
   "metadata": {
    "id": "LTQ2rFdjuyW2"
   },
   "source": [
    "# Filling NaN values"
   ]
  },
  {
   "cell_type": "code",
   "execution_count": 110,
   "metadata": {
    "colab": {
     "base_uri": "https://localhost:8080/"
    },
    "id": "XDAuMc3vuyW2",
    "outputId": "9a771630-761d-4fab-a509-c7b3149c86ab",
    "scrolled": true
   },
   "outputs": [
    {
     "name": "stdout",
     "output_type": "stream",
     "text": [
      "product_rating:  False\n",
      "product_review:  True\n"
     ]
    }
   ],
   "source": [
    "print(\"product_rating: \", kindle_df['product_rating'].isnull().values.any())\n",
    "print(\"product_review: \",kindle_df['product_review'].isnull().values.any())"
   ]
  },
  {
   "cell_type": "code",
   "execution_count": 111,
   "metadata": {
    "colab": {
     "base_uri": "https://localhost:8080/",
     "height": 80
    },
    "id": "2eyHht_SuyW3",
    "outputId": "369a64f1-9326-46da-da4c-44092b2c6f66"
   },
   "outputs": [
    {
     "data": {
      "text/html": [
       "<div>\n",
       "<style scoped>\n",
       "    .dataframe tbody tr th:only-of-type {\n",
       "        vertical-align: middle;\n",
       "    }\n",
       "\n",
       "    .dataframe tbody tr th {\n",
       "        vertical-align: top;\n",
       "    }\n",
       "\n",
       "    .dataframe thead th {\n",
       "        text-align: right;\n",
       "    }\n",
       "</style>\n",
       "<table border=\"1\" class=\"dataframe\">\n",
       "  <thead>\n",
       "    <tr style=\"text-align: right;\">\n",
       "      <th></th>\n",
       "      <th>review_title</th>\n",
       "      <th>product_review</th>\n",
       "      <th>product_rating</th>\n",
       "      <th>reviewer</th>\n",
       "    </tr>\n",
       "  </thead>\n",
       "  <tbody>\n",
       "    <tr>\n",
       "      <th>6757</th>\n",
       "      <td>Disappointing</td>\n",
       "      <td>NaN</td>\n",
       "      <td>2.0</td>\n",
       "      <td>Steve A</td>\n",
       "    </tr>\n",
       "  </tbody>\n",
       "</table>\n",
       "</div>"
      ],
      "text/plain": [
       "       review_title product_review product_rating reviewer\n",
       "6757  Disappointing            NaN            2.0  Steve A"
      ]
     },
     "execution_count": 111,
     "metadata": {},
     "output_type": "execute_result"
    }
   ],
   "source": [
    "nan_values = kindle_df[kindle_df['product_review'].isnull()]\n",
    "nan_values"
   ]
  },
  {
   "cell_type": "code",
   "execution_count": 112,
   "metadata": {
    "colab": {
     "base_uri": "https://localhost:8080/",
     "height": 436
    },
    "id": "CB3E267NuyW4",
    "outputId": "d6e1f506-4c11-4ced-bb78-3b124a84d8f9"
   },
   "outputs": [
    {
     "name": "stdout",
     "output_type": "stream",
     "text": [
      "product_review:  False\n"
     ]
    },
    {
     "data": {
      "text/html": [
       "<div>\n",
       "<style scoped>\n",
       "    .dataframe tbody tr th:only-of-type {\n",
       "        vertical-align: middle;\n",
       "    }\n",
       "\n",
       "    .dataframe tbody tr th {\n",
       "        vertical-align: top;\n",
       "    }\n",
       "\n",
       "    .dataframe thead th {\n",
       "        text-align: right;\n",
       "    }\n",
       "</style>\n",
       "<table border=\"1\" class=\"dataframe\">\n",
       "  <thead>\n",
       "    <tr style=\"text-align: right;\">\n",
       "      <th></th>\n",
       "      <th>review_title</th>\n",
       "      <th>product_review</th>\n",
       "      <th>product_rating</th>\n",
       "      <th>reviewer</th>\n",
       "    </tr>\n",
       "  </thead>\n",
       "  <tbody>\n",
       "    <tr>\n",
       "      <th>0</th>\n",
       "      <td>Works fine, replaces a Gen 3.</td>\n",
       "      <td>If you own an earlier Paperwhite and it's st...</td>\n",
       "      <td>3.0</td>\n",
       "      <td>E. Hinrichsen  II</td>\n",
       "    </tr>\n",
       "    <tr>\n",
       "      <th>1</th>\n",
       "      <td>Pinhole Bright Spots and Other Issues</td>\n",
       "      <td>Updated Review on Oct 6, 2019:</td>\n",
       "      <td>4.0</td>\n",
       "      <td>Sir Mike</td>\n",
       "    </tr>\n",
       "    <tr>\n",
       "      <th>2</th>\n",
       "      <td>Battery life is awful</td>\n",
       "      <td>I love Kindle, have always had one since the...</td>\n",
       "      <td>3.0</td>\n",
       "      <td>Ship210</td>\n",
       "    </tr>\n",
       "    <tr>\n",
       "      <th>3</th>\n",
       "      <td>A Review From 2 Perspectives</td>\n",
       "      <td>I feel I need to approach this review from 2...</td>\n",
       "      <td>5.0</td>\n",
       "      <td>Rustic</td>\n",
       "    </tr>\n",
       "    <tr>\n",
       "      <th>4</th>\n",
       "      <td>It’s waterproof. Everything else is worse.</td>\n",
       "      <td>It’s infuriating that Amazon went to market ...</td>\n",
       "      <td>1.0</td>\n",
       "      <td>D. Bier</td>\n",
       "    </tr>\n",
       "    <tr>\n",
       "      <th>...</th>\n",
       "      <td>...</td>\n",
       "      <td>...</td>\n",
       "      <td>...</td>\n",
       "      <td>...</td>\n",
       "    </tr>\n",
       "    <tr>\n",
       "      <th>9996</th>\n",
       "      <td>My first Kindle - Love it!</td>\n",
       "      <td>I've never used a Kindle, or any e-reader befo...</td>\n",
       "      <td>5.0</td>\n",
       "      <td>AngieF</td>\n",
       "    </tr>\n",
       "    <tr>\n",
       "      <th>9997</th>\n",
       "      <td>Amazon con job</td>\n",
       "      <td>Can no longer \"Remove this title\" from my Kind...</td>\n",
       "      <td>3.0</td>\n",
       "      <td>thom flora</td>\n",
       "    </tr>\n",
       "    <tr>\n",
       "      <th>9998</th>\n",
       "      <td>A necessary evil...</td>\n",
       "      <td>I bought the Kindle Paperwhite so I could down...</td>\n",
       "      <td>4.0</td>\n",
       "      <td>Sylvia</td>\n",
       "    </tr>\n",
       "    <tr>\n",
       "      <th>9999</th>\n",
       "      <td>New and imporved</td>\n",
       "      <td>Smaller and lighter (green is the new one and ...</td>\n",
       "      <td>5.0</td>\n",
       "      <td>kattface6</td>\n",
       "    </tr>\n",
       "    <tr>\n",
       "      <th>10000</th>\n",
       "      <td>Book covers in black&amp;white-hard to see them</td>\n",
       "      <td>It is lightweight and the perfect size for an ...</td>\n",
       "      <td>3.0</td>\n",
       "      <td>SMZ</td>\n",
       "    </tr>\n",
       "  </tbody>\n",
       "</table>\n",
       "<p>10001 rows × 4 columns</p>\n",
       "</div>"
      ],
      "text/plain": [
       "                                      review_title  \\\n",
       "0                    Works fine, replaces a Gen 3.   \n",
       "1            Pinhole Bright Spots and Other Issues   \n",
       "2                            Battery life is awful   \n",
       "3                     A Review From 2 Perspectives   \n",
       "4       It’s waterproof. Everything else is worse.   \n",
       "...                                            ...   \n",
       "9996                    My first Kindle - Love it!   \n",
       "9997                                Amazon con job   \n",
       "9998                           A necessary evil...   \n",
       "9999                              New and imporved   \n",
       "10000  Book covers in black&white-hard to see them   \n",
       "\n",
       "                                          product_review product_rating  \\\n",
       "0        If you own an earlier Paperwhite and it's st...            3.0   \n",
       "1                         Updated Review on Oct 6, 2019:            4.0   \n",
       "2        I love Kindle, have always had one since the...            3.0   \n",
       "3        I feel I need to approach this review from 2...            5.0   \n",
       "4        It’s infuriating that Amazon went to market ...            1.0   \n",
       "...                                                  ...            ...   \n",
       "9996   I've never used a Kindle, or any e-reader befo...            5.0   \n",
       "9997   Can no longer \"Remove this title\" from my Kind...            3.0   \n",
       "9998   I bought the Kindle Paperwhite so I could down...            4.0   \n",
       "9999   Smaller and lighter (green is the new one and ...            5.0   \n",
       "10000  It is lightweight and the perfect size for an ...            3.0   \n",
       "\n",
       "                reviewer  \n",
       "0      E. Hinrichsen  II  \n",
       "1               Sir Mike  \n",
       "2                Ship210  \n",
       "3                 Rustic  \n",
       "4                D. Bier  \n",
       "...                  ...  \n",
       "9996              AngieF  \n",
       "9997          thom flora  \n",
       "9998              Sylvia  \n",
       "9999           kattface6  \n",
       "10000                SMZ  \n",
       "\n",
       "[10001 rows x 4 columns]"
      ]
     },
     "execution_count": 112,
     "metadata": {},
     "output_type": "execute_result"
    }
   ],
   "source": [
    "# if rating is positive, fill with good\n",
    "# if rating is negative, fill with bad\n",
    "# if rating is neutral, fill with average\n",
    "\n",
    "# kindle_df['product_review'].fillna('bad')\n",
    "kindle_df['product_review'] = kindle_df.product_review.replace(np.nan, 'bad', regex=True)\n",
    "print(\"product_review: \",kindle_df['product_review'].isnull().values.any())\n",
    "kindle_df"
   ]
  },
  {
   "cell_type": "markdown",
   "metadata": {
    "id": "7sQKnFvyuyW4"
   },
   "source": [
    "# Typecasting"
   ]
  },
  {
   "cell_type": "code",
   "execution_count": 113,
   "metadata": {
    "colab": {
     "base_uri": "https://localhost:8080/"
    },
    "id": "svkDM98quyW5",
    "outputId": "f05ca262-70bb-496b-ff4c-8044daafdccc"
   },
   "outputs": [
    {
     "data": {
      "text/plain": [
       "0        3.0\n",
       "1        4.0\n",
       "2        3.0\n",
       "3        5.0\n",
       "4        1.0\n",
       "        ... \n",
       "9996     5.0\n",
       "9997     3.0\n",
       "9998     4.0\n",
       "9999     5.0\n",
       "10000    3.0\n",
       "Name: product_rating, Length: 10001, dtype: object"
      ]
     },
     "execution_count": 113,
     "metadata": {},
     "output_type": "execute_result"
    }
   ],
   "source": [
    "kindle_df['product_rating'] = kindle_df['product_rating'].astype(str)\n",
    "kindle_df.product_rating"
   ]
  },
  {
   "cell_type": "code",
   "execution_count": 114,
   "metadata": {
    "id": "5ISiHye-uyW5"
   },
   "outputs": [],
   "source": [
    "copy_df=kindle_df.copy()"
   ]
  },
  {
   "cell_type": "markdown",
   "metadata": {
    "id": "Pc9Xmr9HuyW6"
   },
   "source": [
    "# Categorizing the ratings"
   ]
  },
  {
   "cell_type": "code",
   "execution_count": 115,
   "metadata": {
    "id": "8JW1VEtxuyW6"
   },
   "outputs": [],
   "source": [
    "def RatingCat(row):\n",
    "    if row['product_rating']>='3.5':     # if the rating is less than 2 then it is negative\n",
    "        return \"positive\"\n",
    "    #elif row['product_rating']>='4.0':   #if the rating is higher than 2 then it is positive\n",
    "      #  return \"positive\"\n",
    "    else:\n",
    "        return \"negative\""
   ]
  },
  {
   "cell_type": "markdown",
   "metadata": {
    "id": "NqzUvGbeuyW6"
   },
   "source": [
    "# Plotting the ratings"
   ]
  },
  {
   "cell_type": "code",
   "execution_count": 116,
   "metadata": {
    "colab": {
     "base_uri": "https://localhost:8080/",
     "height": 697
    },
    "id": "Hijgu8aIuyW6",
    "outputId": "a697b494-6780-4845-c71a-2947797aedc9",
    "scrolled": false
   },
   "outputs": [
    {
     "data": {
      "text/html": [
       "<div>\n",
       "<style scoped>\n",
       "    .dataframe tbody tr th:only-of-type {\n",
       "        vertical-align: middle;\n",
       "    }\n",
       "\n",
       "    .dataframe tbody tr th {\n",
       "        vertical-align: top;\n",
       "    }\n",
       "\n",
       "    .dataframe thead th {\n",
       "        text-align: right;\n",
       "    }\n",
       "</style>\n",
       "<table border=\"1\" class=\"dataframe\">\n",
       "  <thead>\n",
       "    <tr style=\"text-align: right;\">\n",
       "      <th></th>\n",
       "      <th>review_title</th>\n",
       "      <th>product_review</th>\n",
       "      <th>product_rating</th>\n",
       "      <th>reviewer</th>\n",
       "      <th>category</th>\n",
       "    </tr>\n",
       "  </thead>\n",
       "  <tbody>\n",
       "    <tr>\n",
       "      <th>0</th>\n",
       "      <td>Works fine, replaces a Gen 3.</td>\n",
       "      <td>If you own an earlier Paperwhite and it's st...</td>\n",
       "      <td>3.0</td>\n",
       "      <td>E. Hinrichsen  II</td>\n",
       "      <td>negative</td>\n",
       "    </tr>\n",
       "    <tr>\n",
       "      <th>1</th>\n",
       "      <td>Pinhole Bright Spots and Other Issues</td>\n",
       "      <td>Updated Review on Oct 6, 2019:</td>\n",
       "      <td>4.0</td>\n",
       "      <td>Sir Mike</td>\n",
       "      <td>positive</td>\n",
       "    </tr>\n",
       "    <tr>\n",
       "      <th>2</th>\n",
       "      <td>Battery life is awful</td>\n",
       "      <td>I love Kindle, have always had one since the...</td>\n",
       "      <td>3.0</td>\n",
       "      <td>Ship210</td>\n",
       "      <td>negative</td>\n",
       "    </tr>\n",
       "    <tr>\n",
       "      <th>3</th>\n",
       "      <td>A Review From 2 Perspectives</td>\n",
       "      <td>I feel I need to approach this review from 2...</td>\n",
       "      <td>5.0</td>\n",
       "      <td>Rustic</td>\n",
       "      <td>positive</td>\n",
       "    </tr>\n",
       "    <tr>\n",
       "      <th>4</th>\n",
       "      <td>It’s waterproof. Everything else is worse.</td>\n",
       "      <td>It’s infuriating that Amazon went to market ...</td>\n",
       "      <td>1.0</td>\n",
       "      <td>D. Bier</td>\n",
       "      <td>negative</td>\n",
       "    </tr>\n",
       "    <tr>\n",
       "      <th>...</th>\n",
       "      <td>...</td>\n",
       "      <td>...</td>\n",
       "      <td>...</td>\n",
       "      <td>...</td>\n",
       "      <td>...</td>\n",
       "    </tr>\n",
       "    <tr>\n",
       "      <th>9996</th>\n",
       "      <td>My first Kindle - Love it!</td>\n",
       "      <td>I've never used a Kindle, or any e-reader befo...</td>\n",
       "      <td>5.0</td>\n",
       "      <td>AngieF</td>\n",
       "      <td>positive</td>\n",
       "    </tr>\n",
       "    <tr>\n",
       "      <th>9997</th>\n",
       "      <td>Amazon con job</td>\n",
       "      <td>Can no longer \"Remove this title\" from my Kind...</td>\n",
       "      <td>3.0</td>\n",
       "      <td>thom flora</td>\n",
       "      <td>negative</td>\n",
       "    </tr>\n",
       "    <tr>\n",
       "      <th>9998</th>\n",
       "      <td>A necessary evil...</td>\n",
       "      <td>I bought the Kindle Paperwhite so I could down...</td>\n",
       "      <td>4.0</td>\n",
       "      <td>Sylvia</td>\n",
       "      <td>positive</td>\n",
       "    </tr>\n",
       "    <tr>\n",
       "      <th>9999</th>\n",
       "      <td>New and imporved</td>\n",
       "      <td>Smaller and lighter (green is the new one and ...</td>\n",
       "      <td>5.0</td>\n",
       "      <td>kattface6</td>\n",
       "      <td>positive</td>\n",
       "    </tr>\n",
       "    <tr>\n",
       "      <th>10000</th>\n",
       "      <td>Book covers in black&amp;white-hard to see them</td>\n",
       "      <td>It is lightweight and the perfect size for an ...</td>\n",
       "      <td>3.0</td>\n",
       "      <td>SMZ</td>\n",
       "      <td>negative</td>\n",
       "    </tr>\n",
       "  </tbody>\n",
       "</table>\n",
       "<p>10001 rows × 5 columns</p>\n",
       "</div>"
      ],
      "text/plain": [
       "                                      review_title  \\\n",
       "0                    Works fine, replaces a Gen 3.   \n",
       "1            Pinhole Bright Spots and Other Issues   \n",
       "2                            Battery life is awful   \n",
       "3                     A Review From 2 Perspectives   \n",
       "4       It’s waterproof. Everything else is worse.   \n",
       "...                                            ...   \n",
       "9996                    My first Kindle - Love it!   \n",
       "9997                                Amazon con job   \n",
       "9998                           A necessary evil...   \n",
       "9999                              New and imporved   \n",
       "10000  Book covers in black&white-hard to see them   \n",
       "\n",
       "                                          product_review product_rating  \\\n",
       "0        If you own an earlier Paperwhite and it's st...            3.0   \n",
       "1                         Updated Review on Oct 6, 2019:            4.0   \n",
       "2        I love Kindle, have always had one since the...            3.0   \n",
       "3        I feel I need to approach this review from 2...            5.0   \n",
       "4        It’s infuriating that Amazon went to market ...            1.0   \n",
       "...                                                  ...            ...   \n",
       "9996   I've never used a Kindle, or any e-reader befo...            5.0   \n",
       "9997   Can no longer \"Remove this title\" from my Kind...            3.0   \n",
       "9998   I bought the Kindle Paperwhite so I could down...            4.0   \n",
       "9999   Smaller and lighter (green is the new one and ...            5.0   \n",
       "10000  It is lightweight and the perfect size for an ...            3.0   \n",
       "\n",
       "                reviewer  category  \n",
       "0      E. Hinrichsen  II  negative  \n",
       "1               Sir Mike  positive  \n",
       "2                Ship210  negative  \n",
       "3                 Rustic  positive  \n",
       "4                D. Bier  negative  \n",
       "...                  ...       ...  \n",
       "9996              AngieF  positive  \n",
       "9997          thom flora  negative  \n",
       "9998              Sylvia  positive  \n",
       "9999           kattface6  positive  \n",
       "10000                SMZ  negative  \n",
       "\n",
       "[10001 rows x 5 columns]"
      ]
     },
     "execution_count": 116,
     "metadata": {},
     "output_type": "execute_result"
    },
    {
     "data": {
      "image/png": "[encoded data removed]",
      "text/plain": [
       "<Figure size 432x288 with 1 Axes>"
      ]
     },
     "metadata": {
      "needs_background": "light"
     },
     "output_type": "display_data"
    }
   ],
   "source": [
    "kindle_df['category']=kindle_df.apply(lambda row:RatingCat(row),axis=1)\n",
    "sns.countplot(kindle_df['category']).set_title(\"Distribution of Reviews Category\")   #distribution of the reviews\n",
    "kindle_df"
   ]
  },
  {
   "cell_type": "markdown",
   "metadata": {
    "id": "RVKNG2jVuyW7"
   },
   "source": [
    "# Train Test Split"
   ]
  },
  {
   "cell_type": "code",
   "execution_count": 117,
   "metadata": {
    "colab": {
     "base_uri": "https://localhost:8080/"
    },
    "id": "7vhyhBZ0uyW7",
    "outputId": "cabc46fb-7581-4020-f17f-37211b6083a8"
   },
   "outputs": [
    {
     "name": "stderr",
     "output_type": "stream",
     "text": [
      "[nltk_data] Downloading package stopwords to\n",
      "[nltk_data]     /Users/indupriyakompi/nltk_data...\n",
      "[nltk_data]   Package stopwords is already up-to-date!\n"
     ]
    },
    {
     "data": {
      "text/plain": [
       "True"
      ]
     },
     "execution_count": 117,
     "metadata": {},
     "output_type": "execute_result"
    }
   ],
   "source": [
    "import nltk\n",
    "nltk.download('stopwords')"
   ]
  },
  {
   "cell_type": "code",
   "execution_count": 118,
   "metadata": {
    "id": "LcHoHEtiuyW-"
   },
   "outputs": [],
   "source": [
    "from nltk.corpus import stopwords\n",
    "from nltk import PorterStemmer as stemmer\n",
    "from bs4 import BeautifulSoup \n",
    "\n",
    "import string\n",
    "import re"
   ]
  },
  {
   "cell_type": "code",
   "execution_count": 85,
   "metadata": {
    "id": "4lCb0fPOuyW8"
   },
   "outputs": [],
   "source": [
    "STOPWORDS=stopwords.words(\"english\") #stopwords are the most common unnecessary words. eg is, he, that, etc.\n",
    "\n",
    "def deEmojify(inputString):\n",
    "    return inputString.encode('ascii', 'ignore').decode('ascii') # A function to remove emojis from the reviews"
   ]
  },
  {
   "cell_type": "code",
   "execution_count": 86,
   "metadata": {
    "colab": {
     "base_uri": "https://localhost:8080/",
     "height": 606
    },
    "id": "PYEU23iEuyW-",
    "outputId": "37d76b5c-3ae0-440b-85cb-afe8e268ab51",
    "scrolled": true
   },
   "outputs": [
    {
     "data": {
      "text/html": [
       "<div>\n",
       "<style scoped>\n",
       "    .dataframe tbody tr th:only-of-type {\n",
       "        vertical-align: middle;\n",
       "    }\n",
       "\n",
       "    .dataframe tbody tr th {\n",
       "        vertical-align: top;\n",
       "    }\n",
       "\n",
       "    .dataframe thead th {\n",
       "        text-align: right;\n",
       "    }\n",
       "</style>\n",
       "<table border=\"1\" class=\"dataframe\">\n",
       "  <thead>\n",
       "    <tr style=\"text-align: right;\">\n",
       "      <th></th>\n",
       "      <th>review_title</th>\n",
       "      <th>product_review</th>\n",
       "      <th>product_rating</th>\n",
       "      <th>reviewer</th>\n",
       "      <th>category</th>\n",
       "      <th>cleaned_product_review</th>\n",
       "    </tr>\n",
       "  </thead>\n",
       "  <tbody>\n",
       "    <tr>\n",
       "      <th>0</th>\n",
       "      <td>Works fine, replaces a Gen 3.</td>\n",
       "      <td>If you own an earlier Paperwhite and it's st...</td>\n",
       "      <td>3.0</td>\n",
       "      <td>E. Hinrichsen  II</td>\n",
       "      <td>negative</td>\n",
       "      <td>earlier paperwhit still function compel reaso...</td>\n",
       "    </tr>\n",
       "    <tr>\n",
       "      <th>1</th>\n",
       "      <td>Pinhole Bright Spots and Other Issues</td>\n",
       "      <td>Updated Review on Oct 6, 2019:</td>\n",
       "      <td>4.0</td>\n",
       "      <td>Sir Mike</td>\n",
       "      <td>positive</td>\n",
       "      <td>updat review oct 6 2019</td>\n",
       "    </tr>\n",
       "    <tr>\n",
       "      <th>2</th>\n",
       "      <td>Battery life is awful</td>\n",
       "      <td>I love Kindle, have always had one since the...</td>\n",
       "      <td>3.0</td>\n",
       "      <td>Ship210</td>\n",
       "      <td>negative</td>\n",
       "      <td>love kindl alway one sinc first edit third pa...</td>\n",
       "    </tr>\n",
       "    <tr>\n",
       "      <th>3</th>\n",
       "      <td>A Review From 2 Perspectives</td>\n",
       "      <td>I feel I need to approach this review from 2...</td>\n",
       "      <td>5.0</td>\n",
       "      <td>Rustic</td>\n",
       "      <td>positive</td>\n",
       "      <td>feel need approach review 2 perspect</td>\n",
       "    </tr>\n",
       "    <tr>\n",
       "      <th>4</th>\n",
       "      <td>It’s waterproof. Everything else is worse.</td>\n",
       "      <td>It’s infuriating that Amazon went to market ...</td>\n",
       "      <td>1.0</td>\n",
       "      <td>D. Bier</td>\n",
       "      <td>negative</td>\n",
       "      <td>infuri amazon went market machin upgrad prior...</td>\n",
       "    </tr>\n",
       "    <tr>\n",
       "      <th>...</th>\n",
       "      <td>...</td>\n",
       "      <td>...</td>\n",
       "      <td>...</td>\n",
       "      <td>...</td>\n",
       "      <td>...</td>\n",
       "      <td>...</td>\n",
       "    </tr>\n",
       "    <tr>\n",
       "      <th>9996</th>\n",
       "      <td>My first Kindle - Love it!</td>\n",
       "      <td>I've never used a Kindle, or any e-reader befo...</td>\n",
       "      <td>5.0</td>\n",
       "      <td>AngieF</td>\n",
       "      <td>positive</td>\n",
       "      <td>ive never use kindl eread wasnt sure much woul...</td>\n",
       "    </tr>\n",
       "    <tr>\n",
       "      <th>9997</th>\n",
       "      <td>Amazon con job</td>\n",
       "      <td>Can no longer \"Remove this title\" from my Kind...</td>\n",
       "      <td>3.0</td>\n",
       "      <td>thom flora</td>\n",
       "      <td>negative</td>\n",
       "      <td>longer remov titl kindl content devic bought v...</td>\n",
       "    </tr>\n",
       "    <tr>\n",
       "      <th>9998</th>\n",
       "      <td>A necessary evil...</td>\n",
       "      <td>I bought the Kindle Paperwhite so I could down...</td>\n",
       "      <td>4.0</td>\n",
       "      <td>Sylvia</td>\n",
       "      <td>positive</td>\n",
       "      <td>bought kindl paperwhit could download book lib...</td>\n",
       "    </tr>\n",
       "    <tr>\n",
       "      <th>9999</th>\n",
       "      <td>New and imporved</td>\n",
       "      <td>Smaller and lighter (green is the new one and ...</td>\n",
       "      <td>5.0</td>\n",
       "      <td>kattface6</td>\n",
       "      <td>positive</td>\n",
       "      <td>smaller lighter green new one white old size s...</td>\n",
       "    </tr>\n",
       "    <tr>\n",
       "      <th>10000</th>\n",
       "      <td>Book covers in black&amp;white-hard to see them</td>\n",
       "      <td>It is lightweight and the perfect size for an ...</td>\n",
       "      <td>3.0</td>\n",
       "      <td>SMZ</td>\n",
       "      <td>negative</td>\n",
       "      <td>lightweight perfect size eread bigger phone sm...</td>\n",
       "    </tr>\n",
       "  </tbody>\n",
       "</table>\n",
       "<p>10001 rows × 6 columns</p>\n",
       "</div>"
      ],
      "text/plain": [
       "                                      review_title  \\\n",
       "0                    Works fine, replaces a Gen 3.   \n",
       "1            Pinhole Bright Spots and Other Issues   \n",
       "2                            Battery life is awful   \n",
       "3                     A Review From 2 Perspectives   \n",
       "4       It’s waterproof. Everything else is worse.   \n",
       "...                                            ...   \n",
       "9996                    My first Kindle - Love it!   \n",
       "9997                                Amazon con job   \n",
       "9998                           A necessary evil...   \n",
       "9999                              New and imporved   \n",
       "10000  Book covers in black&white-hard to see them   \n",
       "\n",
       "                                          product_review product_rating  \\\n",
       "0        If you own an earlier Paperwhite and it's st...            3.0   \n",
       "1                         Updated Review on Oct 6, 2019:            4.0   \n",
       "2        I love Kindle, have always had one since the...            3.0   \n",
       "3        I feel I need to approach this review from 2...            5.0   \n",
       "4        It’s infuriating that Amazon went to market ...            1.0   \n",
       "...                                                  ...            ...   \n",
       "9996   I've never used a Kindle, or any e-reader befo...            5.0   \n",
       "9997   Can no longer \"Remove this title\" from my Kind...            3.0   \n",
       "9998   I bought the Kindle Paperwhite so I could down...            4.0   \n",
       "9999   Smaller and lighter (green is the new one and ...            5.0   \n",
       "10000  It is lightweight and the perfect size for an ...            3.0   \n",
       "\n",
       "                reviewer  category  \\\n",
       "0      E. Hinrichsen  II  negative   \n",
       "1               Sir Mike  positive   \n",
       "2                Ship210  negative   \n",
       "3                 Rustic  positive   \n",
       "4                D. Bier  negative   \n",
       "...                  ...       ...   \n",
       "9996              AngieF  positive   \n",
       "9997          thom flora  negative   \n",
       "9998              Sylvia  positive   \n",
       "9999           kattface6  positive   \n",
       "10000                SMZ  negative   \n",
       "\n",
       "                                  cleaned_product_review  \n",
       "0       earlier paperwhit still function compel reaso...  \n",
       "1                                updat review oct 6 2019  \n",
       "2       love kindl alway one sinc first edit third pa...  \n",
       "3                   feel need approach review 2 perspect  \n",
       "4       infuri amazon went market machin upgrad prior...  \n",
       "...                                                  ...  \n",
       "9996   ive never use kindl eread wasnt sure much woul...  \n",
       "9997   longer remov titl kindl content devic bought v...  \n",
       "9998   bought kindl paperwhit could download book lib...  \n",
       "9999   smaller lighter green new one white old size s...  \n",
       "10000  lightweight perfect size eread bigger phone sm...  \n",
       "\n",
       "[10001 rows x 6 columns]"
      ]
     },
     "execution_count": 86,
     "metadata": {},
     "output_type": "execute_result"
    }
   ],
   "source": [
    "def clean_text(text):\n",
    "    ps=stemmer()\n",
    "    \n",
    "    text=deEmojify(text) # remove emojis\n",
    "    text_cleaned=\"\".join([x for x in text if x not in string.punctuation]) # remove punctuation\n",
    "    \n",
    "    text_cleaned=re.sub(' +', ' ', text_cleaned) # remove extra white spaces\n",
    "    text_cleaned=text_cleaned.lower() # converting to lowercase\n",
    "    tokens=text_cleaned.split(\" \")\n",
    "    tokens=[token for token in tokens if token not in STOPWORDS] # Taking only those words which are not stopwords\n",
    "    text_cleaned=\" \".join([ps.stem(token) for token in tokens])\n",
    "    \n",
    "    return text_cleaned\n",
    "kindle_df['cleaned_product_review']=kindle_df['product_review'].apply(lambda x:clean_text(x))\n",
    "kindle_df"
   ]
  },
  {
   "cell_type": "code",
   "execution_count": 18,
   "metadata": {
    "colab": {
     "base_uri": "https://localhost:8080/"
    },
    "id": "Wk_74KvfuyW_",
    "outputId": "6715d100-e3f0-4db5-bd90-d203ce23c316",
    "scrolled": true
   },
   "outputs": [
    {
     "name": "stdout",
     "output_type": "stream",
     "text": [
      "Load 9000 training examples and 1001 validation examples. \n",
      "\n",
      "Show a review in the training set : \n",
      "  love read kindl hard go back paper book second paperwhit one end bottom lake wait week recov bought new one cant without\n"
     ]
    },
    {
     "data": {
      "text/plain": [
       "(2087     wait long time buy kindl paperwhit read book ...\n",
       " 8653    big fan kindl long time final decid upgrad new...\n",
       " 2363     receiv kindl gift gener good perform well how...\n",
       " 3925     like reada lot 4th kindl tri fire batteri lif...\n",
       " 3471     love kindl paperwhit distract finish novel bo...\n",
       "                               ...                        \n",
       " 9225    use read ipad use kindl app fine develop carpa...\n",
       " 4859     research eread lot id never own one decid tak...\n",
       " 3264     ive own kindl time far worst upgrad thing pap...\n",
       " 9845    sensit screen need return home screen format l...\n",
       " 2732     receiv gift husband devic fine littl clunki u...\n",
       " Name: cleaned_product_review, Length: 9000, dtype: object,\n",
       " 2087    positive\n",
       " 8653    negative\n",
       " 2363    negative\n",
       " 3925    positive\n",
       " 3471    positive\n",
       "           ...   \n",
       " 9225    positive\n",
       " 4859    positive\n",
       " 3264    negative\n",
       " 9845    positive\n",
       " 2732    negative\n",
       " Name: category, Length: 9000, dtype: object)"
      ]
     },
     "execution_count": 18,
     "metadata": {},
     "output_type": "execute_result"
    }
   ],
   "source": [
    "# Split data into training set and validation\n",
    "from sklearn.model_selection import train_test_split\n",
    "\n",
    "X_train, X_test, y_train, y_test = train_test_split(kindle_df['cleaned_product_review'], kindle_df['category'], \\\n",
    "                                                    test_size=0.1, random_state=0)\n",
    "\n",
    "print('Load %d training examples and %d validation examples. \\n' %(X_train.shape[0],X_test.shape[0]))\n",
    "print('Show a review in the training set : \\n', X_train.iloc[10])\n",
    "X_train,y_train\n"
   ]
  },
  {
   "cell_type": "code",
   "execution_count": 19,
   "metadata": {
    "id": "4tUWF5mUuyW_"
   },
   "outputs": [],
   "source": [
    "from sklearn.feature_extraction.text import CountVectorizer,TfidfVectorizer\n",
    "countVect = CountVectorizer() "
   ]
  },
  {
   "cell_type": "code",
   "execution_count": 20,
   "metadata": {
    "colab": {
     "base_uri": "https://localhost:8080/"
    },
    "id": "HVjQOnLfuyW_",
    "outputId": "c530b3ca-2995-40fd-8975-d7efa157eb40"
   },
   "outputs": [
    {
     "name": "stdout",
     "output_type": "stream",
     "text": [
      "Number of features : 8014 \n",
      "\n",
      "Show some feature names : \n",
      " ['000', 'battl', 'decid', 'fuch', 'kummaran', 'outi', 'riceinaziplock', 'temperatur', 'yup']\n"
     ]
    }
   ],
   "source": [
    "X_train_countVect = countVect.fit_transform(X_train)\n",
    "print(\"Number of features : %d \\n\" %len(countVect.get_feature_names())) #6378 \n",
    "print(\"Show some feature names : \\n\", countVect.get_feature_names()[::1000])"
   ]
  },
  {
   "cell_type": "code",
   "execution_count": 21,
   "metadata": {
    "id": "GMBMOFUBuyXA"
   },
   "outputs": [],
   "source": [
    "def modelEvaluation(predictions):\n",
    "    '''\n",
    "    Print model evaluation to predicted result \n",
    "    '''\n",
    "    print (\"\\nAccuracy on training set: {:.4f}\".format(mnb.score(X_train_countVect, y_train)))\n",
    "    print (\"\\nAccuracy on validation set: {:.4f}\".format(accuracy_score(y_test, predictions)))\n",
    "    print (\"\\nClassification report : \\n\", metrics.classification_report(y_test, predictions))\n",
    "    print (\"\\nConfusion Matrix : \\n\", metrics.confusion_matrix(y_test, predictions))"
   ]
  },
  {
   "cell_type": "code",
   "execution_count": 22,
   "metadata": {
    "colab": {
     "base_uri": "https://localhost:8080/"
    },
    "id": "gW_iQCwquyXA",
    "outputId": "1b7340bd-7555-458b-a58e-a8a89851d992"
   },
   "outputs": [
    {
     "data": {
      "text/plain": [
       "MultinomialNB()"
      ]
     },
     "execution_count": 22,
     "metadata": {},
     "output_type": "execute_result"
    }
   ],
   "source": [
    "# Train MultinomialNB classifier\n",
    "from sklearn.naive_bayes import MultinomialNB\n",
    "\n",
    "mnb = MultinomialNB()\n",
    "mnb.fit(X_train_countVect, y_train)"
   ]
  },
  {
   "cell_type": "code",
   "execution_count": 23,
   "metadata": {
    "colab": {
     "base_uri": "https://localhost:8080/"
    },
    "id": "xbYaf3uKuyXA",
    "outputId": "ad076cbd-994a-41a0-f975-28ba53699afd",
    "scrolled": true
   },
   "outputs": [
    {
     "name": "stdout",
     "output_type": "stream",
     "text": [
      "\n",
      "Accuracy on training set: 0.8543\n",
      "\n",
      "Accuracy on validation set: 0.8142\n",
      "\n",
      "Classification report : \n",
      "               precision    recall  f1-score   support\n",
      "\n",
      "    negative       0.82      0.74      0.78       439\n",
      "    positive       0.81      0.87      0.84       562\n",
      "\n",
      "    accuracy                           0.81      1001\n",
      "   macro avg       0.81      0.81      0.81      1001\n",
      "weighted avg       0.81      0.81      0.81      1001\n",
      "\n",
      "\n",
      "Confusion Matrix : \n",
      " [[325 114]\n",
      " [ 72 490]]\n"
     ]
    }
   ],
   "source": [
    "from sklearn import metrics\n",
    "from sklearn.metrics import accuracy_score\n",
    "predictions = mnb.predict(countVect.transform(X_test))\n",
    "modelEvaluation(predictions)"
   ]
  },
  {
   "cell_type": "code",
   "execution_count": 24,
   "metadata": {
    "id": "quDam6dnuyXB"
   },
   "outputs": [],
   "source": [
    "from sklearn.svm import SVC, LinearSVC, NuSVC"
   ]
  },
  {
   "cell_type": "code",
   "execution_count": 25,
   "metadata": {
    "id": "44khD0oZuyXB"
   },
   "outputs": [],
   "source": [
    "from sklearn import svm\n",
    "svc = svm.SVC()"
   ]
  },
  {
   "cell_type": "code",
   "execution_count": 26,
   "metadata": {
    "colab": {
     "base_uri": "https://localhost:8080/"
    },
    "id": "Di_2zMjFuyXB",
    "outputId": "1900bfd7-6bb0-46c6-ae70-deda638ccbc7"
   },
   "outputs": [
    {
     "data": {
      "text/plain": [
       "SVC()"
      ]
     },
     "execution_count": 26,
     "metadata": {},
     "output_type": "execute_result"
    }
   ],
   "source": [
    "svc.fit(X_train_countVect, y_train)"
   ]
  },
  {
   "cell_type": "code",
   "execution_count": 27,
   "metadata": {
    "colab": {
     "base_uri": "https://localhost:8080/"
    },
    "id": "idV1uplvuyXB",
    "outputId": "bd5f478e-fcb6-49ed-d20a-84b2045f649c",
    "scrolled": true
   },
   "outputs": [
    {
     "name": "stdout",
     "output_type": "stream",
     "text": [
      "\n",
      "Accuracy on training set: 0.8543\n",
      "\n",
      "Accuracy on validation set: 0.8981\n",
      "\n",
      "Classification report : \n",
      "               precision    recall  f1-score   support\n",
      "\n",
      "    negative       0.93      0.83      0.88       439\n",
      "    positive       0.88      0.95      0.91       562\n",
      "\n",
      "    accuracy                           0.90      1001\n",
      "   macro avg       0.90      0.89      0.90      1001\n",
      "weighted avg       0.90      0.90      0.90      1001\n",
      "\n",
      "\n",
      "Confusion Matrix : \n",
      " [[365  74]\n",
      " [ 28 534]]\n"
     ]
    }
   ],
   "source": [
    "predictions = svc.predict(countVect.transform(X_test))\n",
    "modelEvaluation(predictions)"
   ]
  },
  {
   "cell_type": "code",
   "execution_count": 28,
   "metadata": {
    "colab": {
     "base_uri": "https://localhost:8080/"
    },
    "id": "n6K401IguyXC",
    "outputId": "fbdf6dc4-d22d-48d6-c55e-ad418195bb52"
   },
   "outputs": [
    {
     "name": "stdout",
     "output_type": "stream",
     "text": [
      "positive\n",
      "positive\n"
     ]
    }
   ],
   "source": [
    "test = \"i like kindle\"\n",
    "print(mnb.predict(countVect.transform([test]))[0])\n",
    "\n",
    "print(svc.predict(countVect.transform([test]))[0])\n"
   ]
  },
  {
   "cell_type": "code",
   "execution_count": 29,
   "metadata": {
    "colab": {
     "base_uri": "https://localhost:8080/"
    },
    "id": "wS_9rr87uyXC",
    "outputId": "0aaee87f-2f9b-493a-cf8a-c11d60a67df1"
   },
   "outputs": [
    {
     "name": "stdout",
     "output_type": "stream",
     "text": [
      "positive\n",
      "negative\n"
     ]
    }
   ],
   "source": [
    "test = \"this sucks\"\n",
    "print(mnb.predict(countVect.transform([test]))[0])\n",
    "\n",
    "print(svc.predict(countVect.transform([test]))[0])\n"
   ]
  },
  {
   "cell_type": "code",
   "execution_count": 30,
   "metadata": {
    "colab": {
     "base_uri": "https://localhost:8080/"
    },
    "id": "1SW95DACuyXD",
    "outputId": "7525250d-e131-4bb5-a523-33ad0fd6c7e8"
   },
   "outputs": [
    {
     "name": "stdout",
     "output_type": "stream",
     "text": [
      "positive\n",
      "negative\n"
     ]
    }
   ],
   "source": [
    "test = \"battery is awful\"\n",
    "print(mnb.predict(countVect.transform([test]))[0])\n",
    "\n",
    "print(svc.predict(countVect.transform([test]))[0])\n"
   ]
  },
  {
   "cell_type": "code",
   "execution_count": 31,
   "metadata": {
    "colab": {
     "base_uri": "https://localhost:8080/"
    },
    "id": "hr_jvvC0uyXF",
    "outputId": "848142ed-9c21-4b0a-babe-885fb811e681"
   },
   "outputs": [
    {
     "name": "stdout",
     "output_type": "stream",
     "text": [
      "negative\n",
      "negative\n"
     ]
    }
   ],
   "source": [
    "test = \"worst ever\"\n",
    "print(mnb.predict(countVect.transform([test]))[0])\n",
    "\n",
    "print(svc.predict(countVect.transform([test]))[0])\n"
   ]
  },
  {
   "cell_type": "markdown",
   "metadata": {},
   "source": [
    "# Some prep"
   ]
  },
  {
   "cell_type": "code",
   "execution_count": 86,
   "metadata": {},
   "outputs": [
    {
     "name": "stdout",
     "output_type": "stream",
     "text": [
      "10001 1\n"
     ]
    }
   ],
   "source": [
    "print(kindle_df.shape[0],1)"
   ]
  },
  {
   "cell_type": "code",
   "execution_count": 59,
   "metadata": {},
   "outputs": [],
   "source": [
    "#df = pd.read_csv('C:/Dataset.csv')\n",
    "kindle_df['split'] = np.random.randn(kindle_df.shape[0], 1)\n",
    "\n",
    "msk = np.random.rand(len(kindle_df)) <= 0.7\n",
    "\n",
    "train = kindle_df[msk]\n",
    "test = kindle_df[~msk]"
   ]
  },
  {
   "cell_type": "markdown",
   "metadata": {},
   "source": [
    "# Sentiment Classification Using BERT\n",
    "\n",
    "\n",
    "Like keras, ktrain is a ML library that wraps the tf.keras APIs to simpler forms\n"
   ]
  },
  {
   "cell_type": "code",
   "execution_count": 54,
   "metadata": {},
   "outputs": [],
   "source": [
    "import ktrain\n",
    "from ktrain import text"
   ]
  },
  {
   "cell_type": "code",
   "execution_count": 61,
   "metadata": {},
   "outputs": [
    {
     "name": "stdout",
     "output_type": "stream",
     "text": [
      "downloading pretrained BERT model (uncased_L-12_H-768_A-12.zip)...\n",
      "[██████████████████████████████████████████████████]\n",
      "extracting pretrained BERT model...\n",
      "done.\n",
      "\n",
      "cleanup downloaded zip...\n",
      "done.\n",
      "\n",
      "preprocessing train...\n",
      "language: en\n"
     ]
    },
    {
     "data": {
      "text/html": [
       "done."
      ],
      "text/plain": [
       "<IPython.core.display.HTML object>"
      ]
     },
     "metadata": {},
     "output_type": "display_data"
    },
    {
     "name": "stdout",
     "output_type": "stream",
     "text": [
      "Is Multi-Label? False\n",
      "preprocessing test...\n",
      "language: en\n"
     ]
    },
    {
     "data": {
      "text/html": [
       "done."
      ],
      "text/plain": [
       "<IPython.core.display.HTML object>"
      ]
     },
     "metadata": {},
     "output_type": "display_data"
    }
   ],
   "source": [
    "# prepoc contains the preprocess mode and other information\n",
    "# it takes cleaned_product_reviews in text col and category in target col\n",
    "# there is wrapping of 500 words for each reviews- if reviews are < 500, padding is done\n",
    "# id reviews > 500, truncation is done\n",
    "(X_train, y_train), (X_test, y_test), preproc = text.texts_from_df(train_df=train,\n",
    "                                                                   text_column = 'cleaned_product_review',\n",
    "                                                                   label_columns = 'category',\n",
    "                                                                   val_df = test,\n",
    "                                                                   maxlen = 500,\n",
    "                                                                   preprocess_mode = 'bert')"
   ]
  },
  {
   "cell_type": "markdown",
   "metadata": {},
   "source": [
    "We can see that it automatically detects the language and the type of classification. Cool!!"
   ]
  },
  {
   "cell_type": "code",
   "execution_count": 77,
   "metadata": {},
   "outputs": [
    {
     "data": {
      "text/plain": [
       "(6998, 500)"
      ]
     },
     "execution_count": 77,
     "metadata": {},
     "output_type": "execute_result"
    }
   ],
   "source": [
    "X_train[0].shape"
   ]
  },
  {
   "cell_type": "code",
   "execution_count": 62,
   "metadata": {
    "id": "1ra0YEXfuyXL"
   },
   "outputs": [
    {
     "name": "stdout",
     "output_type": "stream",
     "text": [
      "Is Multi-Label? False\n",
      "maxlen is 500\n",
      "done.\n"
     ]
    }
   ],
   "source": [
    "# name = \"bert\" means, here we are using BERT model.\n",
    "\n",
    "model = text.text_classifier(name = 'bert',\n",
    "                             train_data = (X_train, y_train),\n",
    "                             preproc = preproc)"
   ]
  },
  {
   "cell_type": "code",
   "execution_count": 63,
   "metadata": {},
   "outputs": [],
   "source": [
    "#here we have taken batch size as 6 as from the documentation it is recommend to use this with maxlen as 500\n",
    "\n",
    "learner = ktrain.get_learner(model=model, train_data=(X_train, y_train),\n",
    "                   val_data = (X_test, y_test),\n",
    "                   batch_size = 6)"
   ]
  },
  {
   "cell_type": "code",
   "execution_count": 80,
   "metadata": {},
   "outputs": [],
   "source": [
    "# find out best learning rate?\n",
    "# learner.lr_find()\n",
    "# learner.lr_plot()\n",
    "\n",
    "# it may take days or many days to find out."
   ]
  },
  {
   "cell_type": "code",
   "execution_count": 64,
   "metadata": {
    "scrolled": true
   },
   "outputs": [
    {
     "name": "stdout",
     "output_type": "stream",
     "text": [
      "\n",
      "\n",
      "begin training using onecycle policy with max lr of 2e-05...\n",
      "1167/1167 [==============================] - 19243s 16s/step - loss: 0.6031 - accuracy: 0.6608 - val_loss: 0.4205 - val_accuracy: 0.8132\n"
     ]
    },
    {
     "ename": "OSError",
     "evalue": "[Errno 30] Read-only file system: '/bert'",
     "output_type": "error",
     "traceback": [
      "\u001b[0;31m---------------------------------------------------------------------------\u001b[0m",
      "\u001b[0;31mOSError\u001b[0m                                   Traceback (most recent call last)",
      "\u001b[0;32m<ipython-input-64-134c6ee6b65b>\u001b[0m in \u001b[0;36m<module>\u001b[0;34m\u001b[0m\n\u001b[1;32m      4\u001b[0m \u001b[0;34m\u001b[0m\u001b[0m\n\u001b[1;32m      5\u001b[0m \u001b[0mpredictor\u001b[0m \u001b[0;34m=\u001b[0m \u001b[0mktrain\u001b[0m\u001b[0;34m.\u001b[0m\u001b[0mget_predictor\u001b[0m\u001b[0;34m(\u001b[0m\u001b[0mlearner\u001b[0m\u001b[0;34m.\u001b[0m\u001b[0mmodel\u001b[0m\u001b[0;34m,\u001b[0m \u001b[0mpreproc\u001b[0m\u001b[0;34m)\u001b[0m\u001b[0;34m\u001b[0m\u001b[0;34m\u001b[0m\u001b[0m\n\u001b[0;32m----> 6\u001b[0;31m \u001b[0mpredictor\u001b[0m\u001b[0;34m.\u001b[0m\u001b[0msave\u001b[0m\u001b[0;34m(\u001b[0m\u001b[0;34m'/bert'\u001b[0m\u001b[0;34m)\u001b[0m\u001b[0;34m\u001b[0m\u001b[0;34m\u001b[0m\u001b[0m\n\u001b[0m",
      "\u001b[0;32m~/opt/anaconda3/envs/dlvirenv/lib/python3.8/site-packages/ktrain/predictor.py\u001b[0m in \u001b[0;36msave\u001b[0;34m(self, fpath)\u001b[0m\n\u001b[1;32m     53\u001b[0m           \u001b[0;32mNone\u001b[0m\u001b[0;34m\u001b[0m\u001b[0;34m\u001b[0m\u001b[0m\n\u001b[1;32m     54\u001b[0m         \"\"\"\n\u001b[0;32m---> 55\u001b[0;31m         \u001b[0mself\u001b[0m\u001b[0;34m.\u001b[0m\u001b[0m_make_predictor_folder\u001b[0m\u001b[0;34m(\u001b[0m\u001b[0mfpath\u001b[0m\u001b[0;34m)\u001b[0m\u001b[0;34m\u001b[0m\u001b[0;34m\u001b[0m\u001b[0m\n\u001b[0m\u001b[1;32m     56\u001b[0m         \u001b[0mself\u001b[0m\u001b[0;34m.\u001b[0m\u001b[0m_save_model\u001b[0m\u001b[0;34m(\u001b[0m\u001b[0mfpath\u001b[0m\u001b[0;34m)\u001b[0m\u001b[0;34m\u001b[0m\u001b[0;34m\u001b[0m\u001b[0m\n\u001b[1;32m     57\u001b[0m         \u001b[0mself\u001b[0m\u001b[0;34m.\u001b[0m\u001b[0m_save_preproc\u001b[0m\u001b[0;34m(\u001b[0m\u001b[0mfpath\u001b[0m\u001b[0;34m)\u001b[0m\u001b[0;34m\u001b[0m\u001b[0;34m\u001b[0m\u001b[0m\n",
      "\u001b[0;32m~/opt/anaconda3/envs/dlvirenv/lib/python3.8/site-packages/ktrain/predictor.py\u001b[0m in \u001b[0;36m_make_predictor_folder\u001b[0;34m(self, fpath)\u001b[0m\n\u001b[1;32m     25\u001b[0m             \u001b[0;32mpass\u001b[0m\u001b[0;34m\u001b[0m\u001b[0;34m\u001b[0m\u001b[0m\n\u001b[1;32m     26\u001b[0m         \u001b[0;32melif\u001b[0m \u001b[0;32mnot\u001b[0m \u001b[0mos\u001b[0m\u001b[0;34m.\u001b[0m\u001b[0mpath\u001b[0m\u001b[0;34m.\u001b[0m\u001b[0mexists\u001b[0m\u001b[0;34m(\u001b[0m\u001b[0mfpath\u001b[0m\u001b[0;34m)\u001b[0m\u001b[0;34m:\u001b[0m\u001b[0;34m\u001b[0m\u001b[0;34m\u001b[0m\u001b[0m\n\u001b[0;32m---> 27\u001b[0;31m             \u001b[0mos\u001b[0m\u001b[0;34m.\u001b[0m\u001b[0mmakedirs\u001b[0m\u001b[0;34m(\u001b[0m\u001b[0mfpath\u001b[0m\u001b[0;34m)\u001b[0m\u001b[0;34m\u001b[0m\u001b[0;34m\u001b[0m\u001b[0m\n\u001b[0m\u001b[1;32m     28\u001b[0m         \u001b[0;32mreturn\u001b[0m\u001b[0;34m\u001b[0m\u001b[0;34m\u001b[0m\u001b[0m\n\u001b[1;32m     29\u001b[0m \u001b[0;34m\u001b[0m\u001b[0m\n",
      "\u001b[0;32m~/opt/anaconda3/envs/dlvirenv/lib/python3.8/os.py\u001b[0m in \u001b[0;36mmakedirs\u001b[0;34m(name, mode, exist_ok)\u001b[0m\n\u001b[1;32m    221\u001b[0m             \u001b[0;32mreturn\u001b[0m\u001b[0;34m\u001b[0m\u001b[0;34m\u001b[0m\u001b[0m\n\u001b[1;32m    222\u001b[0m     \u001b[0;32mtry\u001b[0m\u001b[0;34m:\u001b[0m\u001b[0;34m\u001b[0m\u001b[0;34m\u001b[0m\u001b[0m\n\u001b[0;32m--> 223\u001b[0;31m         \u001b[0mmkdir\u001b[0m\u001b[0;34m(\u001b[0m\u001b[0mname\u001b[0m\u001b[0;34m,\u001b[0m \u001b[0mmode\u001b[0m\u001b[0;34m)\u001b[0m\u001b[0;34m\u001b[0m\u001b[0;34m\u001b[0m\u001b[0m\n\u001b[0m\u001b[1;32m    224\u001b[0m     \u001b[0;32mexcept\u001b[0m \u001b[0mOSError\u001b[0m\u001b[0;34m:\u001b[0m\u001b[0;34m\u001b[0m\u001b[0;34m\u001b[0m\u001b[0m\n\u001b[1;32m    225\u001b[0m         \u001b[0;31m# Cannot rely on checking for EEXIST, since the operating system\u001b[0m\u001b[0;34m\u001b[0m\u001b[0;34m\u001b[0m\u001b[0;34m\u001b[0m\u001b[0m\n",
      "\u001b[0;31mOSError\u001b[0m: [Errno 30] Read-only file system: '/bert'"
     ]
    }
   ],
   "source": [
    "# Essentially fit is a very basic training loop, whereas fit one cycle uses the one cycle policy callback\n",
    "# fit_onecycle is one of the fitting algo for ktrain\n",
    "\n",
    "learner.fit_onecycle(lr = 2e-5, epochs = 1)\n",
    "\n",
    "predictor = ktrain.get_predictor(learner.model, preproc)\n",
    "#predictor.save('/bert')"
   ]
  },
  {
   "cell_type": "code",
   "execution_count": 79,
   "metadata": {},
   "outputs": [
    {
     "data": {
      "text/plain": [
       "<ktrain.text.learner.BERTTextClassLearner at 0x7f8bfb985f70>"
      ]
     },
     "execution_count": 79,
     "metadata": {},
     "output_type": "execute_result"
    }
   ],
   "source": [
    "learner"
   ]
  },
  {
   "cell_type": "code",
   "execution_count": 67,
   "metadata": {},
   "outputs": [],
   "source": [
    "predictor = ktrain.get_predictor(learner.model, preproc)"
   ]
  },
  {
   "cell_type": "code",
   "execution_count": 74,
   "metadata": {},
   "outputs": [],
   "source": [
    "data = ['kindle is horrible',\n",
    "        'waste of money', \n",
    "        'beautiful as a gift',\n",
    "        'I use it all day, everyday']"
   ]
  },
  {
   "cell_type": "code",
   "execution_count": 75,
   "metadata": {},
   "outputs": [
    {
     "data": {
      "text/plain": [
       "['negative', 'negative', 'positive', 'positive']"
      ]
     },
     "execution_count": 75,
     "metadata": {},
     "output_type": "execute_result"
    }
   ],
   "source": [
    "predictor.predict(data)"
   ]
  },
  {
   "cell_type": "code",
   "execution_count": 98,
   "metadata": {},
   "outputs": [],
   "source": [
    "data = 'I use it all day, everyday'"
   ]
  },
  {
   "cell_type": "code",
   "execution_count": 99,
   "metadata": {},
   "outputs": [
    {
     "name": "stdout",
     "output_type": "stream",
     "text": [
      "negative\n",
      "positive\n"
     ]
    }
   ],
   "source": [
    "print(mnb.predict(countVect.transform([data]))[0])\n",
    "\n",
    "print(svc.predict(countVect.transform([data]))[0])"
   ]
  },
  {
   "cell_type": "code",
   "execution_count": 93,
   "metadata": {},
   "outputs": [],
   "source": [
    "data='waste of money'"
   ]
  },
  {
   "cell_type": "markdown",
   "metadata": {},
   "source": [
    "# RNN\n",
    "# GRU\n",
    "# LSTM\n",
    "Read up"
   ]
  },
  {
   "cell_type": "code",
   "execution_count": 166,
   "metadata": {},
   "outputs": [],
   "source": [
    "from keras.preprocessing.sequence import pad_sequences\n",
    "from keras.layers import Embedding, LSTM, Dense, Dropout\n",
    "from keras.preprocessing.text import Tokenizer\n",
    "from keras.callbacks import EarlyStopping\n",
    "from keras.models import Sequential\n",
    "import keras.utils as ku\n",
    "\n",
    "import tensorflow as tf\n",
    "from numpy.random import seed\n",
    "seed(1)"
   ]
  },
  {
   "cell_type": "code",
   "execution_count": 167,
   "metadata": {
    "scrolled": true
   },
   "outputs": [
    {
     "data": {
      "text/html": [
       "<div>\n",
       "<style scoped>\n",
       "    .dataframe tbody tr th:only-of-type {\n",
       "        vertical-align: middle;\n",
       "    }\n",
       "\n",
       "    .dataframe tbody tr th {\n",
       "        vertical-align: top;\n",
       "    }\n",
       "\n",
       "    .dataframe thead th {\n",
       "        text-align: right;\n",
       "    }\n",
       "</style>\n",
       "<table border=\"1\" class=\"dataframe\">\n",
       "  <thead>\n",
       "    <tr style=\"text-align: right;\">\n",
       "      <th></th>\n",
       "      <th>review_title</th>\n",
       "      <th>product_review</th>\n",
       "      <th>product_rating</th>\n",
       "      <th>reviewer</th>\n",
       "    </tr>\n",
       "  </thead>\n",
       "  <tbody>\n",
       "    <tr>\n",
       "      <th>0</th>\n",
       "      <td>Works fine, replaces a Gen 3.</td>\n",
       "      <td>If you own an earlier Paperwhite and it's st...</td>\n",
       "      <td>3.0</td>\n",
       "      <td>E. Hinrichsen  II</td>\n",
       "    </tr>\n",
       "    <tr>\n",
       "      <th>1</th>\n",
       "      <td>Pinhole Bright Spots and Other Issues</td>\n",
       "      <td>Updated Review on Oct 6, 2019:</td>\n",
       "      <td>4.0</td>\n",
       "      <td>Sir Mike</td>\n",
       "    </tr>\n",
       "    <tr>\n",
       "      <th>2</th>\n",
       "      <td>Battery life is awful</td>\n",
       "      <td>I love Kindle, have always had one since the...</td>\n",
       "      <td>3.0</td>\n",
       "      <td>Ship210</td>\n",
       "    </tr>\n",
       "    <tr>\n",
       "      <th>3</th>\n",
       "      <td>A Review From 2 Perspectives</td>\n",
       "      <td>I feel I need to approach this review from 2...</td>\n",
       "      <td>5.0</td>\n",
       "      <td>Rustic</td>\n",
       "    </tr>\n",
       "    <tr>\n",
       "      <th>4</th>\n",
       "      <td>It’s waterproof. Everything else is worse.</td>\n",
       "      <td>It’s infuriating that Amazon went to market ...</td>\n",
       "      <td>1.0</td>\n",
       "      <td>D. Bier</td>\n",
       "    </tr>\n",
       "  </tbody>\n",
       "</table>\n",
       "</div>"
      ],
      "text/plain": [
       "                                 review_title  \\\n",
       "0               Works fine, replaces a Gen 3.   \n",
       "1       Pinhole Bright Spots and Other Issues   \n",
       "2                       Battery life is awful   \n",
       "3                A Review From 2 Perspectives   \n",
       "4  It’s waterproof. Everything else is worse.   \n",
       "\n",
       "                                      product_review product_rating  \\\n",
       "0    If you own an earlier Paperwhite and it's st...            3.0   \n",
       "1                     Updated Review on Oct 6, 2019:            4.0   \n",
       "2    I love Kindle, have always had one since the...            3.0   \n",
       "3    I feel I need to approach this review from 2...            5.0   \n",
       "4    It’s infuriating that Amazon went to market ...            1.0   \n",
       "\n",
       "            reviewer  \n",
       "0  E. Hinrichsen  II  \n",
       "1           Sir Mike  \n",
       "2            Ship210  \n",
       "3             Rustic  \n",
       "4            D. Bier  "
      ]
     },
     "execution_count": 167,
     "metadata": {},
     "output_type": "execute_result"
    }
   ],
   "source": [
    "kindle_df.head()"
   ]
  },
  {
   "cell_type": "code",
   "execution_count": 168,
   "metadata": {},
   "outputs": [],
   "source": [
    "data = kindle_df['product_review'][:500]"
   ]
  },
  {
   "cell_type": "code",
   "execution_count": 169,
   "metadata": {},
   "outputs": [
    {
     "data": {
      "text/plain": [
       "0      If you own an earlier Paperwhite and it's st...\n",
       "1                       Updated Review on Oct 6, 2019:\n",
       "2      I love Kindle, have always had one since the...\n",
       "3      I feel I need to approach this review from 2...\n",
       "4      It’s infuriating that Amazon went to market ...\n",
       "Name: product_review, dtype: object"
      ]
     },
     "execution_count": 169,
     "metadata": {},
     "output_type": "execute_result"
    }
   ],
   "source": [
    "data.head()"
   ]
  },
  {
   "cell_type": "code",
   "execution_count": 170,
   "metadata": {},
   "outputs": [
    {
     "data": {
      "text/plain": [
       "((500,), 0)"
      ]
     },
     "execution_count": 170,
     "metadata": {},
     "output_type": "execute_result"
    }
   ],
   "source": [
    "data.shape, data.isna().sum()"
   ]
  },
  {
   "cell_type": "code",
   "execution_count": 171,
   "metadata": {},
   "outputs": [
    {
     "data": {
      "text/plain": [
       "500"
      ]
     },
     "execution_count": 171,
     "metadata": {},
     "output_type": "execute_result"
    }
   ],
   "source": [
    "all_headlines = [h for h in data ]\n",
    "len(all_headlines)"
   ]
  },
  {
   "cell_type": "code",
   "execution_count": 179,
   "metadata": {},
   "outputs": [
    {
     "data": {
      "text/plain": [
       "'  If you own an earlier Paperwhite and it\\'s still functional there is no compelling reason to buy the Gen 4 \"All-New\" Paperwhite ( Amazon misleadingly refers to this as \"10th Generation\". It\\'s a 10th generation Kindle e-reader but only the 4th generation Paperwhite ) unless a limited degree of water resistance (not waterproof as they claim) is important to you or you want Bluetooth capability for Audiobooks. Neither of these are remotely important nor needed by me in an e-reader and Audiobooks are handled better by smaller, lighter and less power hungry devices. The additional storage is coals to Newcastle as Amazon\\'s cloud can hold any overstorage needs an owner has. Personally, I don\\'t know anyone who has ever run out of onboard storage on any Kindle, including the very first keyboard models, despite loading them with hundreds of books. The much touted, by Amazon, thinness and lightness of this edition is, in my opinion, overblown. Yes it is slightly thinner and slightly lighter but not paradigm changing. Also beware: the supplied micro USB cable packaged with mine will not fit into the device, maybe yours will. All in all I find it breathtakingly stupid and/or venal of Amazon to ship a device so poorly engineered and quality controlled as to not have a functional charging cable. I bought this Kindle solely to replace a Gen 3 whose battery was failing. Amazon took every other Paperwhite edition off the website and left no choice but this one at $10 more than the previous edition. It\\'s a Kindle, it\\'s fine, but it\\'s no game changer. If you buy it thinking it is I think you\\'ll be disappointed.'"
      ]
     },
     "execution_count": 179,
     "metadata": {},
     "output_type": "execute_result"
    }
   ],
   "source": [
    "all_headlines[0]"
   ]
  },
  {
   "cell_type": "code",
   "execution_count": 176,
   "metadata": {},
   "outputs": [],
   "source": [
    "def deEmojify(inputString):\n",
    "    return inputString.encode('ascii', 'ignore').decode('ascii') # A function to remove emojis from the reviews"
   ]
  },
  {
   "cell_type": "code",
   "execution_count": 180,
   "metadata": {},
   "outputs": [],
   "source": [
    "def cleanText(text):    \n",
    "    text=deEmojify(text) # remove emojis\n",
    "    text_cleaned=\"\".join([x for x in text if x not in string.punctuation]).lower() # remove punctuation\n",
    "    text_cleaned=re.sub(' +', ' ', text_cleaned) # remove extra white spaces    \n",
    "    return text_cleaned"
   ]
  },
  {
   "cell_type": "code",
   "execution_count": 181,
   "metadata": {},
   "outputs": [
    {
     "data": {
      "text/plain": [
       "[' if you own an earlier paperwhite and its still functional there is no compelling reason to buy the gen 4 allnew paperwhite amazon misleadingly refers to this as 10th generation its a 10th generation kindle ereader but only the 4th generation paperwhite unless a limited degree of water resistance not waterproof as they claim is important to you or you want bluetooth capability for audiobooks neither of these are remotely important nor needed by me in an ereader and audiobooks are handled better by smaller lighter and less power hungry devices the additional storage is coals to newcastle as amazons cloud can hold any overstorage needs an owner has personally i dont know anyone who has ever run out of onboard storage on any kindle including the very first keyboard models despite loading them with hundreds of books the much touted by amazon thinness and lightness of this edition is in my opinion overblown yes it is slightly thinner and slightly lighter but not paradigm changing also beware the supplied micro usb cable packaged with mine will not fit into the device maybe yours will all in all i find it breathtakingly stupid andor venal of amazon to ship a device so poorly engineered and quality controlled as to not have a functional charging cable i bought this kindle solely to replace a gen 3 whose battery was failing amazon took every other paperwhite edition off the website and left no choice but this one at 10 more than the previous edition its a kindle its fine but its no game changer if you buy it thinking it is i think youll be disappointed',\n",
       " ' updated review on oct 6 2019',\n",
       " ' i love kindle have always had one since the first edition this is my third paperwhite version of the kindle the battery life is nonexistent if you leave the wifi option on it drains the battery life within 910 hours even if you are not using the device if you disable the wifi the battery life lasts a bit longer approx 3days using the device 23 hours a day the low rating is because of the very low battery life and inability to keep wifi on all the time otherwise my kindle is my best friend i most likely will return it because of the lack of battery longevity',\n",
       " ' i feel i need to approach this review from 2 perspectives',\n",
       " ' its infuriating that amazon went to market with this machine do not upgrade from prior paperwhites',\n",
       " ' after almost 4 years what do we get nothing of practical use is 8gb of storage really necessary of course not unless you have 10000 sideloaded books that will take you 20 years to read waterproof after 10 years of owning kindles ive never needed it so unless youre michael phelps or love to read underwater with goggles on its not necessary bluetooth does a real book have bluetooth worse yet there is no immersive reading so its pointless',\n",
       " ' this is my fourth kindle i started with the classic moved to the one with a keyboard and then the paperwhite and now the paperwhite 20 ive now had it for five days when i got it i fully charged it',\n",
       " ' i am an avid reader and adore the new paperwhite to me its the perfect reader no light bleed thru easy to control the amount of backlight easy to download books and simply just easy to read my books it did not come with the very latest software uploaded but within 24 hours of being connected to my wifi the kindle updated itself honestly ive never purchased a smart phone that didnt need an update within minutes of activationandroid or apple',\n",
       " ' i have had a kindle since they originally cost 359',\n",
       " ' this new 2018 paperwhite is the 4th generation of the paperwhite version of amazons kindle the latest update to amazons bestselling kindle model it is a significant update to the paperwhite and to summarize the changes made and how significant they are',\n",
       " ' scroll down for a bulleted pros and cons list',\n",
       " ' my kindle voyage developed pinhole light bleeding so i decided to trade it in for 50 and a discount on a new kindle first i bought the oasis what a total disappointment high price and yet awkward to hold awkward dimensions horrendous battery life mere hours slow to boot up and lousy cover options back it went i wasnt about to shell out a premium price for the exact same old voyage tech and the paperwhite was too big a downgrade and also long in tooth so i held off on choosing a replacement i was very disappointed when all they came out with is this new paperwhite but i got it anyway at this point ill stick with it but if i could go back id get a kobo',\n",
       " ' after 2 hours with tech support i am returning this item because it is only compatible with 254ghz routers and i have a 5ghz router this requirement is not listed in the product specsdetailsdescription without wifi you cant use it two tech support people first had me use the incorrect software update i had to track down the correct one myself when i still couldnt access my wifi a specialist tech told me this device is not compatible with the 5 ghz router so i am returning this product very disappointed',\n",
       " ' so what if its waterproof i wanted this in white the black border closes in the reading area i hate the new home page layout its annoying just let me sync with my other kindles and just pop up my new books like before and i loathe goodreads i want to be alone when i read not part of yet another online community and i dont want recommendations showing up on homepage actually anywhere on my kindle they are barely based on my likes just stuff amazon wants to push not impressed',\n",
       " ' it does not stay charged for weeks like the item detail state it only stays charged for a few days',\n",
       " ' i so miss my old clunky early model kindle fire reading on the paperwhite is great but from the main screen and in the kindle store i have trouble reading the black and white on the book covers also i am very disappointed that customer reviews are not viewable on the kindle store any longer this means i will not be shopping for books on my kindle which means i will buy a lot fewer books over all not by choice but by lack of information and convenience i hope this will change in the future im still giving the sweet little paperwhite 4 stars but am still learning all the features everything is different on it which was unexpected',\n",
       " ' weve had a bunch of kindles over the years each showing various aspects of evaluation and often improvement our first kindle had a real keyboard solid with clicky buttons it also had a charger a speaker a headphone jack and the ability to play music and audiobooks the latest kindle paperwhite has none of these it has a backlight',\n",
       " ' i have a kindle voyage and love it sadly battery is slowly loosing its charging ability so time to replace the paperwhite of old was a really good ereader and i gifted it away after 3 years in great condition so this new paperwhite has all the features i like an is light weight great display and has bluetooth good product just the battery even with wifi off and reading maybe 2 hours a day it needs charging after 3 days',\n",
       " ' i wanted to love it i really did i charged it downloaded my library reset it to factory because none of the covers downloaded recharged it because it was almost dead less than 24 hours after i had fully charged it downloaded my library again then read two books small books grabbed it to read while i sit at the laundromat and its dead completely dead less than 48 hours after fully charging it im stealing my old paperwhite back from my husband and returning this',\n",
       " ' 121219 my final pw attempt the lighting is vastly improved over last year this time and it was lovely the button seems more recessed too for me though i want a basic reader with great ppi great even lighting and no extraneous things to drain battery like audible bluetooth goodreads etc by the time you start adding all of that in the battery goes quickly i need the light and i need brightness but i need a robust battery too and this one just doesnt have it even on airplane mode and battery saver mode there was a 5 reduction in five minutes and this is after fully charging the battery with no books on the device to be indexed not the device for me too bad really my pw2 was an awesome reader',\n",
       " ' my paperwhite arrived and i couldnt wait to try it i took it out of the box registered it and started to read during the day i felt the light was very dim even when tuned up to maximum so i decided id wait until night time and try it then it was still way too dim i called the next day to try and get some tech support and after an hour long wasted phone call in which i got no help i decided to send it back im afraid to order another one because if the light is still too dark it wont work for me it was darker than the light on my old kindle my iphone my ipad mini and my macbook',\n",
       " ' i received this as a birthday present from my husband',\n",
       " ' i have only had it a week obviously but love it so far it is lighter and slightly smaller it fits well in my hand and i love it and it is my 6th kindle so i have some experience with them',\n",
       " ' very disappointing charging cable didnt have the correct usb cant use it no option to turn it off no way to add apps games or view email ill use it when im near water otherwise im keeping my old kindle fire and using that',\n",
       " ' i used the first gen of paperwhite',\n",
       " ' my first unit was dysfunctional out of the box repeated charging problems wouldnt charge when plugged in and then after the reset drained almost immediately while on sleepwithout active use and ultimately turned out to be slower than the new one which took some pushiness on my part to get replaced amazon did follow up afterwards which i appreciate the original unit ended up being sent to their engineering department which suggests a concern with quality control and my new unit is wonderful it is replacing a 2014 paperwhite i really wanted and like the water resistant aspect its nice to read in the bathtub without a ziplock bag or a worry about an accident i also like the extra memory and being able to bluetooth connect to headphones once you have downloaded an audible book to go with a kindle version you cant delete the audible without also deleting the kindle and then redownloading the latterif you want at least as far as i have been able to figure out it feels lighter than my old one which may be a difference in cases i ordered the waterresistant fabric one of from amazon and my old one had a leather case the front is completely flush no bevel down to the screen so it feels more like a paper book in that way i find the unit to be very responsive except for menu items then it is slow to recognize the tap and if i tap again i end up getting two or three menus appearing over one another when they do show up other than that all the wonderful aspects of the old paperwhite the new features',\n",
       " ' kindle was so interested in giving us the lightest the thinnest the smallest etc of the ereaders that they failed to focus on what is good about the kindle the bottom of the kindle is thinner but the onoff button sticks out below the case and turns the kindle off while resding when i turned a page the book would go back to the index 1 and i would have to find out what part of the book i had completed before continuing with the book i was trying to enjoy very annoying and there were a couple of minor glitches too it is going back',\n",
       " ' update',\n",
       " ' i upgraded my previous paperwhite kindle to this one for the waterproof nature of the new model thats great but the new one has the power button on the bottom which is very easy to accidentally hit while you are holding the kindle and turn it off the recessed button on the previous model was much better secondly you are now forced to swipe to unlock kindle after you press the power button it is a minor hassle to have to do that every time you want to use the kindle after youve already pressed the power button to turn it on again the previous model where all you had to do was hit the power button was a better design come on amazon weve come to expect more than this from you',\n",
       " ' screen has a blue tint to it that was not present on the previous generation that makes reading in the dark feel like you are reading a laptop the power switch is again akwardly positioned where you would rest your pinky except this time the amazon case does not inhibit you from constantly pressing the button i was very excited to get the new model but reading in the dark at night is where i use my kindle most and this generation is a downgrade for that purpose blue light screen does not dim as much as the previous generation and the case is lower quality',\n",
       " ' right after i purchased this kindle i received a welcome email from amazon and i noted there is an additional message in the email that states weve heard from a small number of customers that theyre having trouble inserting the included usb cable into their device i didnt expect that would be me',\n",
       " ' for me the most important thing was storage battery life and it being water proof unfortunately battery life does not live up to the hype only a day or two for me granted i read a lot but my old paper white lasts longer also hate the power button being on the bottom causing me to accidentally cut it off while reading',\n",
       " ' i was so excited to find out there was a new paperwhite with bluetooth capabilities for audible im a serious reader and my job doesnt make way for me to actually read a book so audible allows me to work and get my book fix at the same time thats the only reason why i bought this my old paperwhite works just fine and the battery lasts forever',\n",
       " ' quick summary in case you dont want to read my whole review this is the best kindle ever if you are searching for a great reading device then this is the one you want',\n",
       " ' i was really surprisedimpressed with how nice this new 2018 kindle paperwhite was when it first arrived when i first opened it i could tell it seemed longer and maybe the wider bezel around it is for readers who prefer to read without a case offering a better grip just guessing i have both the oasis both versions and the voyage a couple of them gifts and wonderful ereaders ive thought and i have loved them and still do so i wasnt expecting to really be impressed with this new ereader i like to have an extra ereader or two so when my friends come to visit we can all sit around and read if we want when were tired of going',\n",
       " ' originally ordered two one for me one for my wife after i got done charging mine started the long laborious process of downloading my library we live in an area without reliable wifi and large swathes of no cell or wifi service so we have to have the books on the kindlethe 8g was a big plus went to work eight hours later my new kindle which had been off was down to 45 on the charge tried again starting at 100 after three hours of reading was down to 52 contacted customer support for a replacement as obviously the battery wasnt charging properly only had to go through three reps to get the return labela personal achievement',\n",
       " ' i have been a kindle user since they keyboard one came out back in 2009 since then i have purchased 2 more kindles for me and 2 for my sister i have never had any problems transferring my contents from amazon to my new kindle yes i do have 900 but as ive stated i have had a kindle for a long time it only ever took an hour to transfer all content this one to 6 days that is with me sending them 4 at a time over a broad band connection then i go to look for the games that i had purchased for my kindle i could not find them after questioning amazon about this kindle games are not compatible with the new kindle what freaking ridiculous i have returned mine and i will keep my old one until it no longer works and then i probably take my chances with a refurbished old one rather than go with this one',\n",
       " ' first day review ill update as time goes on',\n",
       " ' the new paperwhite to me is the best bang for your buck in terms of an ereader its essentially the same as the previous paperwhite with a few new upgrades the biggest and nicest change is the flush screen that was the biggest selling point to me in the previous paperwhite the screen kind of dipped into the device thus every so often youd get debris and what not in the sides of the screen so you had to clean it off every so often with the flush screen its smooth like an ipad screen surface wise you still got the same screen quality as the other paperwhites though',\n",
       " ' the is no reason to upgrade there are no additional features or user benefits it is slightly lighter but the screen is no brighter and there are no addition user controls or settings that represent an improvement',\n",
       " ' i received this early because i preordered it but amazon wouldnt let me review it because it wasnt really released yet its probably a good thing because it gave me a little more time with it that being said im not that crazy about it after all and i would still be using my kindle paperwhite previous generation if the charging port didnt stop working coincidentally the day this was announced go figure thats the first thing to go on all amazon devices whether its a kindle fire hd or reader amazon needs to check themselves',\n",
       " ' i own a kindle fire which was only about 50 a couple of years ago i ordered the new paperwhite because it promised longer battery time between charges but i returned it immediately because you cant adjust the background light at all and there was very little adjustment possible for font size i much prefer the fire even if i have to plug it in to the charger daily an important feature that was missing from the paperwhite is the ability to set a time that it changes from bluewhite to amber light when you are near bedtime',\n",
       " ' i struggle reviewing this product on one hand it has some great features that havent been available in kindle ereaders before namely water resistance on the other hand it still does not allow me to read a book while listening to the book immersive reading',\n",
       " ' if you have had a kindle before then you will be familiar with the 10th gen and in general how it works',\n",
       " ' this may be something or nothing at all but i recently bought a 8gb kindle late november and after a week i needed to delete a book from the device so through settings i went to device info and i learnt that my device only had 623 gb this is about less the memory promised for this new kindle edition i called amazon and talk to a kindle supervisor names calvin who told me to reset the device to manufacturing settings and this should fix the issue after doing so it still read 623gbs',\n",
       " ' i purchased two of your ereaders and neither one came with a charge adapter how can you expect the customer to charge your reader without the necessary equipment this necessary piece of electronics should automatically be included not happy that my granddaughter and i couldnt use our new ereaders until we purchased the charge cords ',\n",
       " ' it took forever to get live customer service from amazon but when i did it was excellent and now i can enjoy my kindle paperwhite but before this i was almost ready to return this and im glad i didnt the seller didnt seem to know how to help on amazons website i found no 800 for customer service',\n",
       " ' after five years or so i decided to upgrade from the generation 5 paperwhite to the latest gen 10 model hoping that there would be significant improvements it is a little sharper in pixel esolution but not much more black and white than the dark to light gray of the gen 5 it is a little faster in response as well but not much i did have a problem getting the kindle to properly detect library changes or receive samples but after talking with someone at amazon we were able to resolve the problem by deregistering and reregistering the paperwhite to get it working properly',\n",
       " ' i dont like the paper white kindle at all i am not interested in your recommendations they just crowd up the screen organizing the books into categories is time consuming and awkward it is also annoying that your description of it never stated that you couldnt listen to audiobooks unless you had blue tooth if i knew id have to buy bluetooth headphones i wouldnt have bought this device',\n",
       " ' this does not have text to speech only voice view voice view makes it hard to navigate to the book it also doesnt have the features that the uk version has the uk has immersion reading you can play the audible version of the book and read along with the text our version the page disappears it will even highlight the words as they are spoken i bought this for a special education class i feel ripped off that we do not have the same features as europe it took 2 hours on the phone with an out of country customer service to realize that we do not have the same features she kept instructing me to touch the center of the screen for these features when the features do not exist touching the center if the screen is a waste of time i am sorry i purchased it worse then my older paperwhite feels cheap page looks funny i can listen to audible on my phone i dont need a paperwhite to hear my books it didnt deliver features promosedpromised',\n",
       " ' everything about this new kindle is perfect except the battery life you can actually watch the percentage drop every couple of minutes',\n",
       " ' upgraded from a pw2 2013 through the tradein program which was a massive pain every step of the way something i wont ever do again with amazon but thats a separate issue the new paperwhite is lighter and smaller than the pw2 by quite a bit its noticably faster when navigating the menus kindle store and while highlighting and taking notes in books goodreads seems to be working much more smoothly as well the screen being a much higher dpi is sharper i dont really notice much difference with the added led waterproofing is nice but probably unnecessary with how i use it but the piece of mind is great having basically 4x the storage from the pw2 is amazing i doubt ill use the bluetooth feature unless they open it up to playing books other than through audible if we could sideload audiobooks id use this all the time',\n",
       " ' update i purchased another kindle with cellular connectivity again a huge disappointment this kindle has deregistered twice the connectivity has been spotty at best and the battery does not last long at all',\n",
       " ' i am moving to the kindle from the nook my nook device is great but it just so happens amazon products and apps run my life the nook made no sense this kindle is perfect easy on the eyes tiny simple to use',\n",
       " ' i was excited to hear amazon was finally releasing a new paperwhite that was waterproof and had audible capabilities i was so excited i didnt delve further into researching the capabilities and that was a big mistake on my part i love the immersion reading option on the kindle app which allows me to listen to audible while following along in the book as it highlights the words i assumed this new paperwhite would have the immersion reading capabilities nope as you listen to the book you must stay on the audible player or it stops the book you cant even browse the kindle or audible stores while continuing to listen to your book not worth the 180 in my opinion for basically only having the benefit of having a waterproof device and storage to fit my audible books amazon still has not made any major technological advancements to the paperwhites since the first one was released which is a huge disappointment',\n",
       " ' este es mi primer kindle decidi comprarlo debido a lo incomodo que se hacia leer un libro en el transporte publico y lo deteriorado que quedaban los libros al terminarlos',\n",
       " ' was pretty bummed out to get a unit with a dead eink pixel will probably return the unit still within refund window',\n",
       " ' great product mother and motherinlaw love read the fine print for the unlimited 6mo this is for only one kinder per buyer account',\n",
       " ' like the reader very much size and weight are just right for me like that it had lights to read under low light conditions i didnt think that i needed this feature initially selection of fonts good wish that the white letters on black screen were brighter would have been nice to have texttospeech and mp3 support audio books from overdrive are mp3 format',\n",
       " ' my first paper white was purchased in 2010 the battery life on that one was a least a month up until i dropped it and it died a horrible death on 112 i had already preordered this one so once i got it it took way too much to get it synched to how i work collections the way to get this all transferred was so nonintuitive i cant believe the developers thought this was an okay way to do things',\n",
       " ' hated it received on wednesday and returned on friday battery weeks or days long is nonsense im a reader and the battery lasts no more than two days same as my first paperwhite',\n",
       " ' whats in the box',\n",
       " ' this device is garbage and so is amazon and its software developers',\n",
       " ' this new 2018 paperwhite is the 4th generation of the paperwhite version of amazons kindle the latest update to amazons bestselling kindle model it is a significant update to the paperwhite and to summarize the changes made and how significant they are',\n",
       " ' i bought this for my wife and for the first several months she enjoyed it as it replaced a much older version for the past month it hasnt been used she has tried repeatedly to charge it and it wont take a charge regardless of the many different ways we have tried it different blocks different cables etc now i am on the site and it says that it is eligible for replacement but there is no way to click through as to find out how and cant get customer support to connect i realize that this is covid but customer service has gone way downhill how do i get someone to respond and replace this device',\n",
       " ' i read a lot so i figured i should get a kindle because kindle books tend to be cheaper i revieved it in the mail opened the packaging charged it with no problems but when i actually started to use it the screen started to glitch it doesnt happen all the time id say maybe 50 of the time when i click on something or flip the page the screen will go black for a second and then back to normal i dont know if i just received a faulty kindle or not i sure hope that not all of them are like this',\n",
       " ' a couple weeks after receiving my new kindle two thin lines appeared',\n",
       " ' i had high hopes for this device in fact it was going to be my christmas present the description made me think it would be a beefed up touchscreen version of the older kindle keyboard with free 3g service i can hardly describe my level of disappointment but im going to try so you can save yourself the money and the hassle',\n",
       " ' i have returned one because of the yellow screen it was also nonresponsive to touch about 50 of the time and very very slow no problem with the power cord i have paperwhite that i bought in 2016 and i loved it the last update wrecked the battery so i ordered this new version i wasnt interest in the audio feature as i have dealt with crappy speakers on kindle products including my fire hdx 89 for years i also wasnt interestd unless it had immersion reading switching back and from audio to reading is awkward and distracting i need the earphone plug port cant use earbuds and the headphones get incredibly hot i have some over ear hinge sets with small light foam ear pads that sit on the outer ear panasonic that are all i can use but they dont come wireless external speakers are out of the question because of living situation my devices never go near water so the trade off of a true paper white screen vs a dappled yellowish screen for waterproofing isnt worth it i have to set the brightness to around 17 to get the same brightness my old pw had set at 4 the fire hdx 89 was greatexcept it was hard on my eyes and then it got very temperamental im trying not to have it die on me and the paperwhite was a perfect companion until it wasnt with this new version im keeping this replacement paperwhite because i need the ereader anyone who has an older version should wait until a better upgrade comes out there is nothing about this one that makes the trade worth it',\n",
       " ' this is my 3rd kindle and by far the absolute worst if i could snap my fingers have my previous kindle back id do so in a heartbeat i have a large digital library so the main reason i went for the upgrade was for more storage capacity faster processor',\n",
       " ' edit',\n",
       " ' 12518 update after writing my original review on the battery life of my kindle i was pleasantly surprised that amazonkindle customer service called me directly the next day to troubleshoot i was provided some simple steps to take with my kindle doing a force reboot plugging in overnight after doing this my batter issue is no longer there it lasts for daysweeks i am so happy',\n",
       " ' i am adding on to my previous review i never realized that my hands moved so much when i read my kindle but i was constantly causing kindle to page forward and backward which drove me crazy i could find no setting to freeze or shut down this constant movement in my former kindle this new paperwhite has a new setting that allows you to disable the touchscreen which is the solution to correct the constant jumping pages however you have change this setting every time to start to read also it takes a long time to turn or start this new kindle the swipe to start takes much longer then my older kindle would i still buy this kindle over a regular kindle absolutely am i thrilled with the new improvements no this is my initial review so whats so much better about this paperwhite first its not as sensitive as my last one i spent more time going backwards then forward no matter how i set my settings it was just too touchy and too sensitive this paperwhite with about 25 hours of reading time so far works like a dream if this your first kindleplease make note i get approximately 12 hours from 1 charge on my paperwite not weeks that weeks bit is clarified by saying if you read 12 hour per day well i read 68 hours per day i do use my fast charge charger and it takes about 3 hours but i can still read when its plugged in',\n",
       " ' i bought a kindle last year specifically so i could read my old lady reverse harem smut whilst floating in my pool mostly because i didnt want to say goodbye to my ipad should i go and drop it',\n",
       " ' ive been a kindle customer for a while i decided to upgrade to the 10th generation and give my 7th generation to my son he had a paperwhite with no back light and he really wanted one with built in light for eveningnight reading my husband also has a 7th generation with all that being said the new kindle is slower to wake up it is unresponsive when turning the page and then it skips a page so i have to go back it does that about a third of the time the white kindle logo is distracting my husbands 7th generation kindle has the yellow light my previous kindle and my new one have the white light i prefer the yellow light but is not a deal breaker the battery life is ok so far comparable with the 7th generation i did not use the charging cable that came with the kindle so i cant speak to it fitting or not',\n",
       " ' this is my first kindle i usually wait on new technology until all the bugs are out all the bugs are not out',\n",
       " ' ill be honest the main reason why i bought this is because i really wanted an ebook reader with a backlit display and this one is discounted for students first off these are first impressions and have not been using it longterm i already noticed missing features and questionable design choices but relented because i really wanted an ebook reader at a bargain',\n",
       " ' so i never write reviews however after buying this as a gift for my brother and purchasing a bunch of comics on it for him to enjoy i was shocked to realize a 130 tablet reader was exclusively in black and white it is 2018 people my phone can video call people yet a newly produced 130 reader cant show a comic book in color the product should not be advertised to be able to house comic books if it has no color color to a comic book is like sound to a television show it is a necessity this is basically an electronic book which is worse than a regular book as it basically dangles the amazing technology advances of our generation while throwing out the groundbreaking digital color from 1953',\n",
       " ' firstly i want to talk about the defect itself i bought two days ago on amazon seeing the glowing reviews picked it up today morning had planned the books to read today as well as soon as i turned it on for every touch on the screen i made it started blacking out which can be seen in the video this is very consistent even when reading the user guilde',\n",
       " ' subpar production quality of the display is very apparent and obvious it isnt flush to the surface the gap is distracting',\n",
       " ' dont listen to the entitled',\n",
       " ' sadly the cons out weigh the pros with my new kindle paperwhite',\n",
       " ' pretty much as expected text not as black as i would like and battery while much better than the phone i was using is not lasting as long as some claimed its also crashed once in the four days ive had it the internet browser while called a experimental browser probably beta would be better as it is almost useless which surprised me',\n",
       " ' be very very careful if you think about replacing your current model with the paperwhite 10 2018 my former device was starting to have some glitches because it was getting old amazon did a factory reset and that ruined the device so completely that i had to get this new model it came with all sort of bells and whistles that i didnt ask for and didnt want and had other issues that even the amazonkindle support staff couldnt figure out either they did another factory reset and sure enough that ruined that device as well im now using yet another replacement device but this one came with an app for automatic popup ads when i called customer service the fellow said the app was part of the basic package i said i hadnt asked for it and didnt want it and he said hed have to charge me 5 to get rid of this extra addon i raised such a stink that he didnt i managed to disable other functions i dont want highlighting for example but there are still big problems the device downloads books much more slowly than my first kindle i reported that to one of the customer service reps on the phone and she laughed out loud finding it hilarious even though the book im reading now is supposed to be footnote capable if you tap on the underlined footnote number it just goes to a different page than the one youre on not to the footnote if you log off and then log back on it does not take you to the page where you were reading but to one several pages away in either direction in one instance when i reopened a book id read about 30 of it took me to the last page you read which was 3 full chapters before the last page id read if you tell it to go to a location and give it the number again youll go to some other number usually within about 10 either side of the you want the old kindle wasnt like this i rebooted just now thinking that might solve some of the immediate problems and it took almost 5 minutes for the device to get back to my home page why did kindle engineers made a device so much slower and more ungainly to use than the earlier version and which makes so many mistakes i can only hope that this is a beta version and the next one will actually work the way its supposed to now writing in midmay 2019 i can report that the innate glitches continue and get even worse if you tap on the back icon sometimes it goes to the previous page sometimes it goes to the page it was on when you opened it sometimes it goes to the books cover or elsewhere in the text sometimes it goes to the home page it is totally unreliable and unpredictable today it was lying on my desk and starting turning its own pages at one point i opened it and the screen immediately jumped to the middle of a book i hadnt looked at in months rather than the home page or book id been reading most recently later on i downloaded a new text and when i opened it it was already about 10 of the way through the book and when i told it to go the beginning it just flipped some pages back and went to some maps which are not the beginning this device is a mess it really really stinks',\n",
       " ' not that much different from the last version i still like the paperwhite but this one is still as slow as the last version the weight is not noticeably lighter the battery seems about the same i would not recommend spending money on upgrading if you have the older version of the paperwhite and you think it is okay',\n",
       " ' compared to kindle desktop or smartphone apps this real kindle is a bit slower on the positive side its very light weight and easy on eyes',\n",
       " ' added waterproofing and audible drove me to trade in my original kindle which lasted the last 5 years hopefully this one stands up just as long',\n",
       " ' leer se haba vuelto algo muy tedioso para mi estar con el libro en el busmetro la distraccin de las redes sociales y los ojos que me molestan cuando quiero leer un pdf en mi laptop o celular hicieron que opte por un nuevo dispositivo o alguna solucin para estos problemas que me impedan estudiar para un examen o leer un libro que me gusta',\n",
       " ' my original review',\n",
       " ' device sat on my desk unused until just after the warranty period now it wont come on and shows only a large explanation point inside a battery icon',\n",
       " ' i was a huge advocate of amazon and their products up until i purchased this item ive never been so disappointed i purchased this for my husbands birthday he never even had a chance to use it he loaded 1 sample book just to see how things work and put it down until he wanted to use it again well that was pretty much the last time it worked',\n",
       " ' to start with this is not a good option for reading in a dark room first because there is no night shift function to reduce blue light when i turn down the brightness very low the text fades as well and its straining on my eyes if i use invert colors black backgroundwhite text at every page turn there is a bright flash of light as the kindle quickly inverts the whiteblack to blackwhite on every page turn imagine that in a dark room andif you have highlights those flash even brighter so much for melatonin production a good nights rest anyone',\n",
       " ' paperwhites are fantastic and have been my favorite devices i own i would give this model 5 stars but the changes are underwhelming compared to my paperwhite 2 2013 model and not all of them for the better if you dont have a paperwhite you should get this if you have an older model your mileage may vary my main takeaways are',\n",
       " ' 1 the usb cable did not fit the paperwhite they are aware of the issue but are still shipping kindles with bad usb cables when contacted they are sending a correct cable 2 you can no longer swipe right to left to see you library must select library link not terrible but change for no reason 3 sometime the new paperwhite does not respond frozen for a bit frustrating 4 home screen font is very small seems harder to read than my previous paperwhite 5 batter life is terrible compared to previous paperwhite which did in fact last for weeks mine has went down 30 in one day this puppy may be going back i would say wait to order and see if some of these issues are corrected with new software',\n",
       " ' i have three kindles i use the oldest one for most reading because i like the buttons for page turning also have a fire i seldom used my original paperwhite because the battery drained too fast so when i saw i could trade it in for one with a battery charge that lasts for weeks i bought the new one but a battery charge on the new one drained to 47 without use thinking of returning and getting back my old paperwhite if possible',\n",
       " ' hace unos meses compre el dispositivo electronico kindle el cual me parecio muy favorable por lo facil de transportarlo y la cantidad de libros que pense que se podian comprar claro no se compara con la sensacion de lectura de un verdadero libro',\n",
       " ' ive had this kindle for a couple of weeks now i had the first generation of kindle years ago but this one is 20x better ive seen a ton of reviews saying the battery doesnt last long i havent had that problem i set the screen brightness to 10 and leave the wifi off if i dont need it im guessing people may have the screen brightness all the way up or keep the wifi on 247 i also dont use the bluetooth feature that could be why other users are having issues but ive only charged this kindle once when i first got it in 2 weeks and its still at 40 and i read it on average between 48 hours a day i think the screen and words are easy to read for someone who wears glasses or already looks at screens for multiple hours a day it doesnt give me a headache which is awesome its a really great investment if you are getting back into reading',\n",
       " ' first thing is i love my older kindle paperwhite the tap alexa the whole line of amazon products and i was super excited to get the new paperwhite waterproof kindle opened the box charged it and the touch screen wouldnt work i pressed one letter and it would select three letters somewhere else on the keyboard i restarted and updated and stillhaptic nightmare im a project manager and i know sometimes companies rush to meet demand and skimp on the quality control side of things so i returned it and ordered another again i opened the box eagerly which by the way the box had zero cushion or bubble wrap both times they just rattle around in there before being delivered ive ordered mascara that had bubble wrap tried to boot up again and the same thing happened touchscreen was unresponsive delayed or selected areas that i wasnt pushing on its now boxed up and ready to be returnedagain i wont be buying a third one my current kindle is perfect so i didnt actually need another one but i planned to give my older kindle to my college aged daughter and upgrade to a new one major downgrade and very disappointing quality control needs to be far better amazon i imagine a lot of disappointed folks who get a defective one for the holidays will be posting poor reviews as well i hope it doesnt happen to you but what are the odds it would happen twice to the same person pretty good major disappointment',\n",
       " ' the device as a whole is alright but not usable by me the backlight and battery are great features but those aspects dont affect me as much i was excited about audible being connected with it and the screen reader thats included while also being able to look up the page i was on with a simple tap im legally blind so i have very little of my vision and these two aspects were important to me',\n",
       " ' i love the kindle paperwhite except for one thing which takes it to one star for me',\n",
       " ' i bought a new kindle paperwhite this year because my old one was having to be charged more frequently my new one was supposed to have a much better battery life i made the mistake of trading in my old kindle when i purchased my new one big mistake',\n",
       " ' this is my fourth kindle the other i hand down to my kids only the first one ever bought broke didnt even use it much but they gave me a 5 credit for a broken kindle so anyway i really like having a bunch of books with me i dont have to decide which one to bring with more free prime offerings i might be a kindle for life reader',\n",
       " ' i just bought my first ever kindle the latest adsupported paperwhite i intended it primarily for reading books though i also had hoped to read newspapers on it such as the washington post and wall street journal heres what ive learned after a couple days',\n",
       " ' 122819',\n",
       " ' update initially i didnt have the battery life issue but i hadnt turned on the bluetooth my kindle updated turned it on and it started killing my battery really quick like less than a day my one other minor complaint is where the on off button is located i turn my kindle of accidentally a lot it should be moved or recessed',\n",
       " ' ive owned and enjoyed most amazon readers over the last 10 years and have never had any complaint with any of the devices the last generation kindle paperwhite was a superior device as was the kindle voyage this paperwhite seems to take the best of both and create a master device that exceeds the expectations for both ive had my new paperwhite for several weeks now and ive come to the conclusion that amazon may have great difficulty finding a way to make it better next time is it really that good i think its nothing short of a masterpiece',\n",
       " ' i love this ereader in all regards except for the brightness settings i found they were much better on the previous generation kindle paperwhite this is because i get a lot of lightsensitive migraine headaches with the previous generation with the screen set at its dimmest setting i was able to read with a migraine because it was dim enough that it wouldnt trigger the light sensitivity but it still just bright enough that i could make out the text when set at a large font size with this ereader at the dimmest setting the screen is too dark to make out the text and brightness level 1 is bright enough to trigger the light sensitivity so i cant read with a migraine on this device luckily i still have my old kindle paperwhite im quite disappointed by the brightness settings on this device',\n",
       " ' i admit i should have done more research in advance but i was shocked when the kindle arrived i wanted a device for my grandchildren ages 5 and 9 to read without being distracted by games it is extremely lightweight for sure but it is tiny the amount of actual page size is only 3 x 4 and with a reasonable font size for small children or older adults barely a paragraph of text displays',\n",
       " ' the device refuses to connect to either of two wifi networks i use all the time tech support was no help so i cannot make any use of the device its going back to amazon',\n",
       " ' i bought a kindle paperwhite when they first came out four years ago since then i read an average of one book per month really enjoyed using the paperwite in different lighting conditions both at home and on vacations this new paperwhite makes it much easier to change the brightness level it is also much faster when it comes to choosing which book to read one of the best features is that it tells you when its waking up and ready for you to swipe the screen to come on the text is much sharper the lighting is also more even i would highly recommend this for anyone interested in an ereader even if you already have one its lightweight and the battery lasts seemingly forever',\n",
       " ' this was my first kindle so i couldnt make any comparison to any previous models i almost purchased the oasis just based on desire for having the latest model available but i really didnt like the negative space along the side it would have driven me nuts it also appears to be bigger than the 10th gen paperwhite which also led to purchase this model',\n",
       " ' i have been using my 2011 kindle for the last 9 years and i loved it but wanted newer technology and backlight so i ordered this one i love that i can use it in full sun without glare issues battery life could be better the backlight at night is great the touchscreen kinda sucks i dont like it and it could use major improvement but what bothers me the most is that there is only the touchscreen for turning pages my old kindle had buttons on each side of the device so i could just click that to go forward and backward while holding the device in my hands and it was much more convenient than having to reach up and touch the screen i wish it still had those',\n",
       " ' before purchasing this product i was using the kindle app on my ipad mini had it for two years before the app started to lag and crash starting a few weeks ago ive had my eye on getting a kindle for awhile and finally got around to purchasing the allnew paperwhite with 32 gb its been several days since ive had it and i have to say im totally impressed',\n",
       " ' reading on it is great its easy to read and easy to change pages no matter whether you are laying down or not it stays the same orientation i like that unlike an ipad',\n",
       " ' first off let me say this kindle is better than the previous generation in almost every conceivable way the new design aesthetics are a marked improvement not having a recessed display should mean less dust buildup in the edges the display feels crisper and cleaner and overall the device feels more responsive however i have 2 issues with this device first is false advertising this device is water resistant not water proof at least according to the documentation in the box second is that the light is a lot cooler than the old light and i prefer the warmer feel of the old backlight',\n",
       " ' after several unsuccessful attempts to register my new paperwhite 10th generation with my amazon account i read online that there is a bug in the firmware none of the recommended fixes worked i know ive entered the correct username and password i was finally able to correct the time on the device as suggested but still nothing this is so frustrating this paperwhite should work right out of the box as my original one did also frustrating is the fact that my perfectly good cover from my previous paperwhite doesnt fit the new version amazon spends millions advertising how environmentally friendly they are but purposely redesigned the paperwhite so customers who want a cover to protect their devices are forced to buy a new one such a waste of money and unnecessary pollution shame on you amazon',\n",
       " ' ive had my kindle paperwhite for 31 days the screen is now scrambled and none of the trouble shooting worked i called amazon and a very non sympathetic sounding person informed me my warranty was up and there was nothing he could do i have had 3 kindle ereaders over the years my very first one still works but it was the first generation so i was eager to update these last two times my one before last one was damaged in an accident but i had had it for years so i as ready to upgrade this one was perfect with the built in light light weight and easier operation it was perfect for all the reading i do i cant believe amazon wont replace it it slipped off of a chair onto a carpeted floor and the screen is scrambled its not cracked that sounds like a defect tome but this apathetic customer service agent sounded like he could not have been more bothered by my call that lasted under 7 minutes i have spent thousands of dollars at amazon over the many many years ive been a customer im taking a break from my subscriptions and purchases on amazon till i can get the bad taste of this call out of my mouth',\n",
       " ' the first thing i liked about my new kindle was the box i could see the significant thought in both the materials and the design my first kindle which i still use has endured years of use and travel though the battery in it is now failing and the charge only lasts 23 days all of its buttons still work and its screen is a perfect display for text years ago it was supported with both 3g and wifi capability which set it apart from any ereader of its day i loved such superior design now as soon as i opened the box for my new kindle i began to see superior design again while it looked naked without all the keyboard buttons at the bottom or the paging buttons on the side i was pleased with its crisp display and its ease of the auto setup menu supposedly it is waterproof but i wont deliberately try to validate this feature my old keyboard kindle worked just fine in a ziplock plastic bag when used around water i often wake at night and have to turn on a light in order to read my old kindle which i keep under my pillow this new paper white kindle has it own light which is a great improvement for night time use my library was immediately down loaded into this new kindle for which i was greatly pleased i was afraid to buy a new kindle thinking i was being disloyal to my old kindlea trusted friend capable of calming my soul on a bad day or simply entertaining or educating me with the push of a button if i went camping or boarding an airline my kindle was my constant companion and my intellectual superior ready to mentor me in an instance i could not trade in my old friend if it reaches a severe state of decline i will retire it on a shelf alongside my old slide rule as a reminder that some technology really does advance human capabilities so for now i will continue to appreciate my new paper white kindle as a new friend with new adventures and deep thought ahead as we daily enter the future with its curiosity and discovery in the elation and enlightenment of the gift of life',\n",
       " ' another product made worse by corporate developers good luck navigating through endless ads and unwanted recommendations confusing and nonsensical user interface every time the screen turns on why do i then have to also swipe it oh i guess its to get past the annoying cover page which informs the user books can be downloaded from the kindle store',\n",
       " ' this was my first paperwhite and so something touted as grand as this for the price tag especially for the increased price tag that i paid which amounted to 184 usd and change i was expecting something really good the price is currently 180 usd and at the time of my purchase the base version was more like 120 usd',\n",
       " ' this new kindle had everything as advertised and i loved it except the one i received had a very tight charging port when i needed to charge this kindle i had to try several times before i could insert the usb cable into the charging port i was afraid i might damage the device if i forced the cable in also one time it just died and wouldnt want to wake up i had to reboot the kindle to get it restarted i had a talk with amazons rep and he determined that my kindle was defective and prepared an order to send a replacement to me however he messed up the order and i received a kindle cover instead i had to call amazon again to send me a replacement kindle not its cover ill receive it in a couple of days and will know if the replacement kindle works ok',\n",
       " ' if you are reading this you sorted by new thank you buy the base kindle with 4 leds not this one spend the extra 20 elsewhere',\n",
       " ' i received my kindle on november 11th but i didnt unbox it until november 18th this is my 3rd kindle since 2010 so i am not unfamiliar with the environment',\n",
       " ' i love my newest ereader i have owned every kindle but the oasis this is my favorite i love that it waterproof with bluetooth capabilities',\n",
       " ' this is my favorite kindle ever i have owned a previous version of the paperwhite the voyage the first oasis for a few days before i sent it back and the new oasis with the 7 screen this is by far my favorite',\n",
       " ' third times the charm i finally got a unit with decent battery life my first pw would lose 20 of battery per day so total charge life of about 5 days of very light reading one day i did not have a chance to read at all and battery still dropped by 1819 the replacement did the same thing and yes to those whom i have seen make snarky comments about people now knowing what they are doing i do this was with airplane mode on wifi off bluetooth off brightness at 810 so there were no battery drains i could control finally the 3rd one is getting very good battery life it seems to be using 23 per day which sounds much better 2030 days worth for me i feel better now',\n",
       " ' i have no idea why companies take incredible products and destroy them not only did this paperwhite not start up but i spent over 2 hrs talking to support just to get it registered my voyager 10 min top to get it so i was reading this device believe it or not is slower than my voyager a 5 year old device',\n",
       " ' my first kindle did not survive a quick swim in the bathtub so i bought the latest version in january 2019 i had owned the old model for two years and thought it was marvelous this new one is not a gamechanger but it is better in every way it is thinner lighter and the smooth front looks good i never had a problem with the battery life of the older version and this version is at least as good i plug it in every week or two and i have never had a battery reading lower than 30 it is supposed to be waterresistant but i am not going to test it for you',\n",
       " ' i absolutely love the kindle and have owned multiple iterations of it this was supposed to be the best thing ever my battery only lasts a couple days and the bluetooth takes three minutes to get connectedi have to remove and add each device every time so im returning this one hoping that its defective if mine was doing its job and the issues i experienced are how this thing works its going back too',\n",
       " ' ok this is my first paperwhite but my sixth kindle device',\n",
       " ' the battery on this goes from 100 to 13 in one day with me barely reading my old kindle lasts days im going back to my old paperwhite and returning this',\n",
       " ' i am still learning my way around some of the new features but the new kindle definitely holds a long charge as noted there was nothing wrong with the older model i traded in but the promotion seemed too good to pass up i regularly use kindle unlimited and find i enjoy reading on the kindle much more than holding a book to read definitely still an amazon fan',\n",
       " ' this is my 7th kindle i was expecting it to be faster processor lighter but it is the opposite compared to previous versions at cheaper price',\n",
       " ' if you do the comparison of the kindle vs kindle paperwhite on amazons page it clearly shows the paperwhite has wifi cellular connectivity so i purchased this for my 84 year old mother who has no wifi service to replace her 3rd generation but this has no cellular connectivity when delivered amazon cust svc says you have to purchase a different paperwhite which is 100 more i challenge anyone to try to buy a paperwhite from the amazon website and see anywh',\n",
       " ' i have to say i am just not impressed with the quality of eink displays and readers after all this time the main problem is that they are still so small we should have ereaders the size of magazines for this same price by now instead we still have ereaders the size of paperback books',\n",
       " ' i travel a lot to places without secure internet access and have always relied on the kindle cellular connectivity i ordered this latest paperwhite because we live on a boat and the warerresistance feature was significant to me i ordered the 8 gig version i didnt think i needed more well it does not have cellular connectivity',\n",
       " ' im a first time kindle user for me seeing a 10th generation means perfection but its not not even close how is that possible are my expectations too high i dont really understand the purpose of this device',\n",
       " ' so my gf bought me a base model first gen kindle touch the year they came out for christmas and honestly it still works to this day and all ive needed is a book light to attach to the top for night reading however that same gf decided that it was time i got an upgrade to this thing i use almost every evening',\n",
       " ' i bought the 10th gen in july of 2019 i loved the display the readability and yes even the battery life the real trouble starts when the battery goes all the way to zero the screen shows a battery with an exclamation mark',\n",
       " ' this is a good product with one exception it doesnt always change the page when i want it to without retapping the device and it will sometimes change the page when i dont want it to this was an upgrade from an earlier kindle that was getting on in years and starting to have issues i like the new white page and the light and find this model easier on the eyes which is good for this addicted reader who is starting to feel her age overall im glad i got it',\n",
       " ' lamentablemente esta nueva versin de la paper white no vale la pena no puedes almacenar y escuchar msica la imagen no es superior a las previas 220 ppi y las aplicaciones interactivas o juegos de la touch y previa paperwhite asi como los diccionarios no se pueden aplicar sumado a esto el navegador experimental es un fiasco lamento haber cambiados mis kindle youch y paperwhite previas por esta ultima versin',\n",
       " ' this is my 2nd kindle i also own a kindle keyboard that ive had for 8 years now and its been wonderful but i mostly read in bed at night and that wasnt a problem for me when i lived alone but my boyfriend is an early riser and early to bed so if i want to read at night i have to either stay in the living room and freeze or keep the light to a minimum in the bedroom my parents gave me the new paperwhite for christmas and i am obsessed its been wonderful for reading at night and i didnt think of my old kindle as old technology but man theyve come a long way i thought id miss having physical buttons but there have only been a couple of times ive missed them so far ill chalk those up to adjusting to the touch screen highlighting passages is a little more difficult than before but im sure ill get used to it',\n",
       " ' i have owned kindle readers since their inception first generation and have purchased several since my current library has close to 600 books that i have purchased and read i was very excited when i learned of the new paperwhite as i felt that my current one was getting old and i was becoming frustrated with error messages and having to recharge it every couple of days when i received the announcement for the all new paper white and it said longer times between charges water resistant etc i couldnt wait to get it i perordered it i waited patiently for th release date to arrive as soon as it came i put it to use what a disappointment the display was supposed to be better it isnt the battery is supposed to last much longer the advertising said lasts weeks instead of days it doesnt i do read a lot but to have to re charge this almost daily or at best i might get two days is not what i would consider acceptable i guess it hold the charge longer if you dont use it i am really not at all pleased with this item',\n",
       " ' avoid this version an apparent stealth update uninstalled all books from the reader overnight the content is still available on my account but no longer downloaded as it was just last night responsiveness continues to decline',\n",
       " ' the look and feel are very different than i expected not a fan of touch screens these days as too many evinces seem to have screens that are too easily damaged very small in size from the more original models and its so not the same white screen maybe it will be better maybe it will grow on me the charging plug is extremely difficult to insert thought it would break before it finally snapped into place even then its taken several experiments to get the charge to actually get going not sure id recommend it to anyone at the moment only got this because my older device broke totally user fault when it got smashed in the car trunk with other stuff by accident',\n",
       " ' i wanted to replace my current kindle purchased 5 years ago as the battery will no longer hold a charge im charging the device daily and tired of doing so per specs on this device battery life should last weeks reading 30 minutes a day with the light on setting 13 with the light on setting 13 or less after 20 minutes of use my device was down 10 battery lifecertainly not going to last weeks like that',\n",
       " ' i received my third kindle paperwhite on the release date i like it better than the one i bought 2 years ago more features for the future like the audio of note i find the wifi reception on this third kindle pw to be much stronger and functioning well further from the router in this multilevel dwelling lighting is very important to me i find this pw lighting to be more finely tuned making it easy to adjust to diverse environments pagination features are now readily available during reading i dont intend to get my pw wet but nice to know if an accident does happen that it will be okay in the water for awhile at least',\n",
       " ' when my first kindle paperwhite began to fail after six years i replaced it with this one fifteen months later and this one is dead',\n",
       " ' 1 wake up takes forever a major change was made with this version the kindle now needs to wake up before you can swipe to your home screen and it takes forever before when you pressed the button it would wake up almost instantly and then you could then swipe now you have to turn it on and waiiiiiiiiiit when it finally decides to wake up you can then swipe to get to your library if its going to take that long it really ought to automatically go to your home screen so youre not having to push the button and sit there staring at it until youre allowed to swipe super frustrating oh also the wake up screen doesnt obey your brightness settings so if youre turning it on in a dark room be prepared for momentary blindness',\n",
       " ' i just received this latest kindle to replace my old paperwhite now i havent been using it very long today is the first day i have used it to read however after using it this afternoon my battery is at 75 down from 100 at noon this charge is not going to last weeks as amazon claims also amazon really needs to make it easier to load my new paperwhite with just the content from my old paperwhite i have spent hours picking through my unread cloud content to find my actual unread content to download to the new device not all kindle buyers are new customers',\n",
       " ' i realize most of you avid readers will never even glance at this message of friendship from afar yet im sending warm wishes for relaxing reading and your best times in life still to come with a small assist from this great lightweight device my wife is coming from a fouryearold now elderly kindle thats greyscreened in comparison the older one is heavier and much larger too and can be fatiguing this screen is wonderfully white with good contrast but not tiring in its brightness at all',\n",
       " ' when ordering a case for this kindle we had to get a 10th generation 2018 case after ordering one for the 2019 and it not fitting very frustrating getting the the right case',\n",
       " ' i love to read but often i would buy books for the kindle app on my ipad and get about a quarter of the way through and i would stop the purchased books would form a virtual pile up in the app as my bank account would dwindle and serve as a source of guilt for spending the money and not finishing what i started but then i borrowed one of my kids kindles and gave it a try the fact that it is just an ereader is its main virtue while reading there are no popups no emails no other electronic temptations to distract me from the pure joy and simply reading at the same time i rediscovered the library well the electronic library and the ability to borrow ebooks direct to my kindle using the libby app on my iphone since this kindlelibby revelation i have read 4 novels i am enjoying dan browns books very much in about 45 weeks the library books are available for 21 days which puts a healthy pressure on me to read them in a timely manner in this middle of all this the new kindle paperwhite 4 came outi ordered it right away and actually use it as much for work reading etextbooks during my commute as for novels at the gym it is a great device well made highly functional lightweight and long lasting i highly recommend this purchase',\n",
       " ' ive owned 5 kindles and 2 paperwhites and this is certainly the best one yet there isnt much to say its got an excellent screen that looks amazing in both sun and in the dark the waterproofing seems to work very well the battery is several weeks long and its the best looking kindle paperwhite yet if youre buying a kindle right now this one is nearly the very best the newest oasis is arguably slightly nicer but its double the price i think youll love this kindle and itll be the one to get for the majority of people',\n",
       " ' el kindle paperwhite se da a menos de un ao de uso lo dej de usar un mes y no pude encenderlo ms aparece una batera con un signo de exclamacin en la pantalla y desde amazon me piden que lo enve a mi cargo a eeuu nuevamente yo vivo en uruguay que ellos lo van a ver me sale muuuy caro ese envo y no lo puedo hacer deberan hacerse cargo ellos por vender un producto defectuoso una verguenza ahora tengo un kindle paperwhite roto alguien sabe donde debo tirarlo para no daar al medio ambiente',\n",
       " ' i held out on getting a kindle for a long time and grudgingly gave in because i am doing a lot of travel this summer i have to admit im impressed i enjoyed it way more than i expected after the first couple of pages the format as opposed to a physical book really didnt bother me one big pro is the portability i can have a book in my purse all the time which is great with any unexpected travel delays and so on i got myself a standcase as well so i can read while blowdrying my hair or doing just about anything else and i only occasionally need to take one finger and touch the screen no juggling while i try to turn the page hold the book open etc for a major reader like me its huge being able to take advantage of every second of reading time',\n",
       " ' i was excited to have an ereader that i could store multiple books on for trips and vacations rather than lugging around multiple books the paperwhite turned out to be clunky to navigate and use it often would not respond to commands it was not intuitive in the least worst of all there are endless advertisements constantly showing up i understand getting ads when you are using a free product but why should i be bombarded with them on a device and service im paying for finally the paperwhite crapped out all together and got stuck in the waking mode after 4 months it is now unusable ive tried a hard reset several times apparently this is a common problem but that did not work i would like to replace it it only has a 1 month return policy why is that because its garbage and they cannot back up their product amazon did not list the replacement link on my order list i will now spend the morning digging around the internet trying to figure out how to get amazon to replace it but first i wanted to forewarn buyers how disappointing this devise is perhaps other ereaders are better this one feels like a dinosaur and like it hasnt been improved upon since its conception it didnt last even 6 months with light use the only benefit was the nonreflective screen otherwise a complete waste of money fyi we have 3 kindle fires they have lasted years i should have just stuck with those devices and enjoyed the benefit of a web browser reading apps audible app music no ads and best of all kindle fire works unlike the paperwhite',\n",
       " ' boy if i wanted to see everything in black white and grey i need only look out the window in ohio in winter no color difficult to customize i dont want their suggested reading etc i paid 20 extra to get it without ads it took about an hour before i packed it up to send it back i am going to try the fire tablet even though it is too big sometimes life sucks i was really looking forward to reading a book tonight oh wait i do have real books i forgot about them',\n",
       " ' ive never liked listening to books but i had recently found that i did like listening and reading at the same time so when i saw this paperwhite came with audible and bluetooth i thought itd be great to be able to use just one device to read and listen simultaneously instead of using my voyage and my phone guess what the paperwhite allows one or the other so you still have to use a secondary device what a waste of money my assumption was that this would be the whole point of using an inferior audio source which it is screwed myself by thinking theyd do what made sense update amazon called to talk to me about my review and informed me that the way to see that you cant listen to audible and read kindle at the same time is when it says in the description that immersive reading isnt supported i pointed out youd have to know that term to understand that so buyer beware i dont understand the point of having a kindle with audible that doesnt support immersive reading everyone has a phone right',\n",
       " ' i love the kindle ereaders previously i had the 7th generation that i bought back in 2013 you just cant beat the backlight with the kindle ereaders they are the best on the market in my opinion',\n",
       " ' so this paperwhite is probably my 4th kindle i am addicted to my kindle so when my beloved voyage stopped charging may it rests in peace i ordered a new kindle the same day voyage arent done anymore so i thought the new and improved paperwhite love the water resistant feature would be a wonderful replacement its ok but not as good as my old faitful voyage was first of all and i know its a detail the screen takes a tad longer to switch on waking up it tells me the backlight isnt as strong and that makes a difference on a beach where i can thankfully be every week end and the battery seems to drain faster too and yes i am staying in flight mode with all of that ill live i know but still i was kind of hoping that 4 years after voyage the paperwhite would be as good its not its good enough not good',\n",
       " ' love this i was using the kindle app on my phone and my battery was drained within a few hours the kindle battery lasts a week or two and i read sometimes for 4 hours a day i love the waterproof feature i have 4 young kids and it has been tested multiple times with no issues i love that i can buyrent books from amazon easily as well as use the overdrive app through the library i am not a technology savvy person and i find the process very simple i use this without and case and am very rough on it and have had it almost a year at this point and it hasnt scratched at all the only thing i wish theyd improve is to not have the onoff button on the bottom of the kindle it makes it difficult to prop up on a hard surface and read without it turning off',\n",
       " ' i had an older model paperwhite and loved it sadly it died in february 2019 so i replaced it with this new model with a 32gb harddrive this new one takes forever to turn onwaiting waiting waiting waiting and after it finally comes on i will be in the middle of reading a page often the 1st page and for some odd reason it turns itself off about 10 seconds after i turned the page update its just not right and has not been right size i unboxed it and its not nearly as good as my old one very unfortunate it has now been over a year since i bought this piece of junk i hate it it refuses to charge about 12 of the time so i am never sure if i can use it or not i do not use it as much these days because i will leave it charging for 8 hours and it will be 20 charged or 50 charged or 100 chargedor completely dead ridiculous caveat emptor whatever you do do not waste a penny on the 32gb and id also suggest buying another vendors reader',\n",
       " ' i bought the kindle paperwhite waterproof with the kindle unlimited promotion for 6 months never applied for my purchase they tell me that in amazon that applies for residents in the us they also explain a series of requirements that are never considered and or explain the official website of amazon therefore i consider that misleading advertising is incurred for people who act in good faith',\n",
       " ' update i totally dislike this version of kindle the touch screenin swiping up to view all of your books if you swipe a little too hard it opens a book if you touch the screen to close to i dont know it skips ahead or behind pagesmany pages it is all a little slow to the go previous i have one of the earlier kindles with the keyboard at the bottom and a cover with a light that pulls up which i love i wanted a touch screen and a builtin light so i purchased the paperwhite issue 1 there is not much to hold onto issue 2 with the touch screen i am not sure if there is a place on the screen or if i am touching it oddly but it skips ahead 5 some pages irritating and it happens a few times during a reading session issue 3 i wish there was a book directory more like that of the older versions the new directory is slow small a mess',\n",
       " ' i loved loved loved my original kindle either the first one ever or the 2009 version im not sure which the buttons worked the whispersync worked and the ability to buy without wifi was wonderful and then i dropped it and ever since then ive been disappointed i do like my kindle fire but i was hoping the paperwhite would be more convenient on a daytoday basis so i bought one and hated it i took advantage of the tradein when this one came out hoping it would be more appealing i didnt read the fine print well enough and assumed the blahblahblah about audio meant there were speakers and a jack for earbuds but there arent i know i can buy bluetooth earbuds but i dont really want to i find the home screen setup and even the library page setup very displeasing and i cant even tell you why and i hate hate hate turning pages on it or manoeuvring to or from a book to the homepage or the library no improvement at all from the one i turned in if they put out a kindle classic id buy it in an instant',\n",
       " ' i was cautious to purchase this given the negative reviews especially talking about the battery life but for me its been fine i upgraded from i think the previous generation because i gave it to my kid and it is minimally different id say the backlight is slightly more uniform and it is waterproof but other than that very little difference from an already great product',\n",
       " ' ive had a lot of kindles over the years k2 k3 previous versions of paperwhite voyage and two oasis in my experience by far the most fragile kindle',\n",
       " ' i have had my allnew kindle paperwhite for two days i have an original kindle paperwhite i purchased in 2012 but i bought the new one because it had texttospeech my eyes dont always read well because of eyestrain from working on a computer all day but i love to read and i also love to listen texttospeech to avoid further eyestrain i have been shopping for the perfect kindle reader and i tried the kindle fire hd i found that the hd to be too large and heavier then a paperwhite although there texttospeech is better',\n",
       " ' no way should it take almost a day to move just over 300 books to a new kindle paperwhite i do not have access to the internet 247 so do not live in a cloud reality but really why couldnt i just cp my collection with history notes which i lost to the new kindle',\n",
       " ' the battery life of my old kindle could be measured in weeks this kindle lasts only days if it is placed in airplane mode for me this is a major disappointment otherwise the kindle works as expected but is not a significant improvement over previous generations if a long battery life is important to you dont buy it',\n",
       " ' i traded my older paperwhite in for this new edition mostly for the audible feature although being waterproof was appealing too first off the new screen is awful and gets covered in finger prints which was never an issue with the texture of the old screen second there is no option that i can find to sync the device only individual books i changed the name of a collection on amazon and have since restarted the paperwhite twice and it will not update the collection name on the device third audible needs some major work i have four books from the same author where i own the kindle version and the audible version three of those sync up so that i can go to that collection and have one icon for the book from which i can access the kindle and the audiobook for the forth book the kindle version shows up in the correct collection but the audible version shows up on my homescreen and does not offer the option to combine the two or to add it to the collection i have one additional audible book downloaded that is also stuck on my home screen despite it being part of a collection that is also downloaded onto the device so basically i am unable to organize my home screen because the audible books wont go into a collection unless you also own the kindle version and even then it only works 75 of the time',\n",
       " ' ive been using the gen 1 paperwhite and decided to upgrade to this gen 4 because of a better screen so comparing my 2013 and 2020 devices the only noticeable difference is a sharper screen of gen4 because of more dpi 300 vs 220 otherwise it is almost the year 2021 yet amazon bravely sells you junk with no usbc no wifi 5 ghz support very poor battery 1450 mah no sd card expansion but with disgusting advertisements that you need to pay to turnoff these were the reasons i decided not to buy oasis and bought paperwhite heavily discounted on black friday with outdated hardware this device does not cost its full price',\n",
       " ' mixed feelings vs my previous generation kindle paperwhites',\n",
       " ' ive been wanting a paperwhite for the past ten years or so finally got one overall happy with it as my first eink reader but may replace with another brand when the time comes',\n",
       " ' this is a great little device i bought a nook several years before i purchased this because i like barns and nobel and really enjoy book stores but i liked the readability of the paper white so i used my nook and it was ok i will still use it as its a neat little device for reading surfing the web etc but i love the paper white implementation wow it feels like you are reading an actual printed book i love that also this thing is so light my color nook was nice but if you had to hold it up to your face and read for a while longer than say 15 minutes the weight would start making my wrists and hands sore but this kindle i can read for hours without any issue to my wrists or arms the images a crisp and clear and the adjustments to the contrast are easy to use but dont burn out my eyes when i need a little more light for reading flipping pages going to another book or purchasing a book is super simple all in all this thing is really a nice reading device',\n",
       " ' i purchased this on a one day sale to replace my aging oasis i setup the trade in and it was basically going to be a free upgrade glad i did not send the oasis back too quickly',\n",
       " ' okay first ive only had this a day second my frame of reference is a second generation kindle third i am seriously considering returning this my second gen kindle still works great but no light so reading in bed at night still requires i light up the bedroom and disturb the better half i thought a new kindle would improve this situation by having the built in light and be easier on my eyes than using the lcd screen on my phone the lighting works fine but there are many other problems that seriously make me consider whether or not it is worth it i find the touchscreen annoying the ctual reading area is only 35 x 475 if your hands slip or curl over the edge too much you change the page or get a highlight popup something that also occurs when reading on a phone buttons would definitely be better for these devices maybe its the device i got but i can clearly see underlying lines more like grey bars behind the text when it is lit more annoying than that is there seems to be ghost lettering on the device which is of a different font and size than the text of the book so it isnt words from the last page burned in it seems to be burned from the ads used as the screen saver when it powers down i really dont notice a speed difference in the device vs my 2nd generation this is extremely disappointing given that my 2nd gen is at least 8 years old i find holding this device to be uncomfortable its actually heavier than my 2nd gen maybe its the materials used maybe its the weight of the light system maybe its because i have to keep my hands from adjusting and cant let them relax across the screen occasionally i dont know i just know that if i keep it i will have to purchase a case which of course adds weight cost and other issues another quirk i noticed btw my old and this kindle is that i get more book cover images on my old one than the new one i like to read a wide variety of books and i find it odd that i can see the cover images on my amazon page my kindle phone app and even my gen 2 kindle but not this one i also find the navigation on this device to be awkward and i dont like how to get to my library i need to surf through a page of advertisements overall a big disappointment but it does have the reading light that i need so i may keep it or i may try another brand instead i dont find the price or layout of the oasis model attractive overall these devices need to get lighter have larger screens come with ways to hold and grip them well and improve the effects of lighting them up at night i think amazon should just dump the touch screen and focus on speeding the navigation with buttons its really not that big of an issue to navigate with the buttons and it beats having to constantly scroll back or forward when your finger accidentally touches the screen',\n",
       " ' this is my third kindle i like the paperwhite the best of all the kindles this has the same features as my second kindle just more storage and longer battery life the screen seems crisper and when highlighting it is faster and very smooth i will not test it to see if its waterproof and hope i never have to assess that but since i am in a humid climate i suppose that will help protect it it feels lighter and fits perfectly in its new case i feel the paperwhite has the best screen for eye health adjusting the light or size of font is heavenly having a little arthritis in my hands and reading a lot makes this an ideal investment paperback and hard cover books are harder to keep open to read than a kindle if this could just smell like a real book',\n",
       " ' i dont like using this tablet much its advantages are far outweighed by its disadvantages which are numerous and annoying',\n",
       " ' i decided to try a kindle instead of my phone or an ipad i ordered the new paperwhite thinking that being a 10th generation product the bugs would be worked out i had multiple things that didnt work 1 battery life was not weeks it was days even with the screen turned off each time it was turned on the battery was 10 than the time prior 2 it frozeall of the time after reading one or two pages it would completely lock up and i would have to reboot by holding the power button down in order to unfreeze it 3 i had to factory reset it multiple times in order to try and fix it per amazons support 4 it rebooted itself when it want freezing i tried multiple things i must have just had a defective unit but i am done for not with trying i wanted to like this in the worst way for traveling because its so light and compact but i am going to have to wait 10 more generations so they can fix these issues i gave it two stars instead of one because the support rep i spoke to was awesome and it was not their fault the unit did not function',\n",
       " ' this is secondreplacement unit that i got after my first one froze',\n",
       " ' i love it i have been reading my kindles for approximately 1214 years and the 10 is awesome it is about one to two inches shorter that the others i love the leather cover very glad i spent the extra 20 to upgrade the corners on the cover are rounded to keep them from tearing the new kindle has several changes i havent mastered all of them yet but most are an improvement over the previous kindles the only complaint so far is when you open the book to the front page where i keep my folders with certain books in them is not on the first page you have to go to the three dots at the top right of the page and go to your library at least its the first item on the list to get to the folders you have set up i liked being able to open home and have my folders right there if there is a way around this i havent found it and nobody at kindle has been able to help me change it to be like i want it other than that small item which probably wont bother most people i would highly recommend getting the new 10 i also didnt realize you can get a car charger 66 from amazon but i found one on amazon from another individual which was brand new for 999 huge difference in price the plug from your old kindle works just fine with the new 10 kindle if you dont purchase the bundle you dont need a new one i dont like that you cannot purchase a bundle where you dont need wifiin order to upgrade and purchase items separately it would have raised the price by 133 a bit pricy i think i would have liked to have the one that doesnt need wifi but settled for the one that needs wifi and will keep plenty of books downloaded in my folders so when we are traveling i dont need to use wifi i think the difference in price of the kindle wifi vs no wifi should be the amount to upgrade to a bundle with one that doesnt need wifi but for 133 i just couldnt justify or afford the no wifi version great book and its a lot lighter just a few grams in weight but noticeable since the book is smaller and fits easier into my purse i would have given it a 5 star rating but there are a few things that i didnt like mentioned above',\n",
       " ' ive had multiple kindles and bought this one to replace my still working 2017 kindle it was advertised as waterproof and that it holds its charge for weeks id say that it needs recharging more often than my old one with the same type of use im super disappointed',\n",
       " ' i bought this as a gift for my gf she reads a few books a month and was very skeptical about switching from physical copies to ebooks however she really loves this she likes that it tells her exactly how far she is in the book and her estimated time till completion she also likes that it automatically syncs to her good reads account so she can quickly add buy or mark books as read to her various lists she also says that the battery life is great rarely needing a charge',\n",
       " ' i was one of those hard core readers who refused to give up on the feel of a real book once i gave in though theres been no turning back i love the kindle and ive now owned several since i now own the newest version out i have some complaints about things i think should have been better designed by now one area is the system fonts in a book theres numerous ways to change the size of the text youre reading though it still doesnt work so well with pdfs getting into the kindles own system menus though reguires me to have a pair of glasses on hand to read those nonnegotiable font sizes then theres the dictionary i think by now there should be an easy way to use the dictionary recursivelyfinding definitions for words within definitions your already looking up to whatever level you need to go theres no easy way ive been able to do that on any kindle',\n",
       " ' i have had this device for three weeks and i love it i wanted to address some of the negative comments that i read prior to me getting the device this is my third kindle',\n",
       " ' im a big fan of kindle in fact i have three but i wanted one that would easily switch from visual reading to audible audiobooks for example i had hoped that if i was in the middle of a chapter but had to go out somewhere i would be able to switch from printed word to audible that i could listen to through bluetooth in the car even though they are advertised to sync with audible audiobooks paperwhite kindles dont i spent hours no exaggeration on the phone with kindle help when they couldnt get it to work they thought the kindle must be broken and sent me a replacement i decided to contact audible audiobooks before i even opened the replacement kindle and audible told me that paperwhite does not sync and that i should use my iphone or other device needless to say i returned the replacemtnt kindle unopened since i already have 3',\n",
       " ' this is my 3rd kindle paperwhite i loved the kindle until this one my first 2 kindles had great battery life for the first year and a half i purchased this my 3rd because my second kindle was not holding a charge for a full day during prime days they had a good offer on kindles and i decided to splurge and get myself a new one wishing now i hadnt bothered new it doesnt keep a charge any better than my old paperwhite so very very disappointed',\n",
       " ' short version i love reading on this device but the display settings were designed by a drunken monkey',\n",
       " ' let me start out by saying that this is the 5th kindle that i have owned and i love the paperwhite i bought this last waterproof model because i wanted more memory and for the waterproof feature',\n",
       " ' my voyager died and i replaced it with this on par with voyager and cheaper and i like it better than my husbands oasis oasis was too wide and slippery for me i only miss the squish to turn pages of the voyager but a tap is ok i really like the slightly rubberized case overall it has been great',\n",
       " ' i finally had enough with bn and bought a kindle instead ive owned 2 previous nooks as well as used my wifes older kindle paperwhite and this is the nicest ereader ive ever used i use it daily and think amazon hit the mark for the most part with this device',\n",
       " ' this kindle does everything youd expect it to and it does it well the eink display truly does look like words on a page and is very easy on the eyes paired with the design of the device this truly is the best reading experience you can have in my personal opinion you can hold it in any position without having to deal with pages awkwardly flopping around or causing shadows additionally you can store hundreds or even thousands of books all in the palm of your hand',\n",
       " ' i am so happy this kindle is waterproof so i can read in the tub without worry about the little splashes that said i miss my older kindle two years old which was also back lit but had a much better mechanism for turning the page back and forth with this kindle i can only turn the page forward on the right side of the screen and back on the left but sometimes i am holding the kindle with my left hand and would prefer to be able to turn the page forward from there the last kindle i owned had pressure sensitive buttons on both the right and left of the screen to go backwards and forwards they were not buttons as much as places on the screen that were sensitive to pressure this was a much more accurate way of page turning as well as often now the highlighting and the page turning feature gets messed up missing my old kindle',\n",
       " ' i was so excited to have this kindle since we are stuck at home due to covid19 i decided floating in the pool with a good book was the way to go i have had my kindle for about a week now and used it for maybe four or five of those days the issues that occurred so far the touch screen recognizes water drops as touches so wet hands will cause the page to turn when you dont want it to the sides of the kindle are narrow so it is easy to turn pages on accident even with dry hands the biggest negative today while reading the screen suddenly became pixilated see photos the pixilation became worse and worse until the pages practically blended together i called customer support and was instructed to hold the power button this sent the kindle into an endless loop of restarting the agent i spoke with was unable to correct the issue and is now sending a new kindle to me i am hoping this is just a defective one and the next will work without issue once i have the new one for a few days i will update this review',\n",
       " ' i wanted to like this kindle so much more than i was able to due to one simple fact its too bright one of the main reasons i like kindles is that i can read in the dark without overstimulating my eyes and keeping myself awake the darkest backlight setting on this kindle is at least twice as bright as the darkest setting on my older paperwhite i have no idea why the designers of this newer model felt the need to increase the baseline brightness so much but it really ruins the device for me',\n",
       " ' this device is still shutting down every 25 minutes sometimes all the way back to the kindle tree',\n",
       " ' we had kindles long ago they lasted for years and were great now i have bought them for all of my children my wife and i and they dont last a year the batteries fail they lock up permanently i am extremely disappointed i love the idea of an ereader but having to buy 6 new ones every year is too great of an expense',\n",
       " ' this is my first kindle reader i have been using the fire tablets for years i wanted something waterproof and this was priced right what i didnt know is that you have to sync the book manually if you started it on another reader not a big deal but there are two sync places one is for the entire reader at the top of the home page but the one for the book is in the upper right 3 dot menu within the book',\n",
       " ' i am adding on to a previous review and moving down to 3 stars',\n",
       " ' what would i do without my kindle i use it all the time and really enjoy the convenience of the builtin light and the touch screen i also love the fact that i can quickly look up a word i dont yet know especially for medieval historical fiction ive been a voracious reader my entire life and never thought i would go so smoothly from paper to an electronic book one of the best things ive ever done',\n",
       " ' i had two older models of kindle readers close to 10 years ago and since then i have used my ipad and my iphone 7 to read before bedtime i started to realize that the iphone was causing my eyes to get dry and fatigued and looked at getting a new kindle to read im so glad i did and could kick myself for not doing it sooner',\n",
       " ' the 2018 kindle paperwhite is great first ereader for anyone who hasnt owned an ereader yet i bought this after just buying the 2017 paperwhite generation a couple months prior to be able to use the inverted night function and to have the more modern flushed screen design the waterproof aspect wasnt exactly the selling point for me being most people dont always read around water but it is a nice touch wake up time and opening books are a tad slower than the 2017 kindle paperwhite generation but thats trivial to the fact that a paperwhite is still a very useful ereader and would probably be the more logical pick over the basic kindle ereader and the kindle oasis also this generation allows you to turn brightness off completely whereas the previous generation didnt fully dim when turning brightness to 0 which is great to help save battery when in daytime lighting overall you cant go wrong with this product and it is highly recommendable',\n",
       " ' this would be a good ereader if it worked as intended although i cant see much improvement over the similar paperwhite ive had for several years other than the advertised waterresistance and the nice blue color the storage on the old one has been sufficient for about 600 books and almost as many samples but i only have a few audiobooks so the added storage might be needed by some',\n",
       " ' this is the only kindle paperwhite available at this time december 2020 so if you must get a new kindle now or if you dont have one yet this will be fine i really love love love the kindle paperwhite in general im just not impressed with this version they can do so much better so i wouldnt upgrade to this one if you dont have to my current kindle paperwhites battery is starting to go dead faster than usual so i assume its getting to the end of its life so i ordered this 10th generation 2018 version to replace it so im not left without one but i dislike this version so much that im returning it and will stick to my current kindle until the new version comes out in 2021',\n",
       " ' i have had several kindles before this one as has my husband they have all worked until this one i have had my daughters help set it up and give me tutorials but it just does not work my books do not come up and there is no way to find them they have just disappeared all of them the page does not turn even tho i hit the glass several times and then it jumps forward several pages and when i have to return the pages it does the same thing going back the print is faint and to get it big enough to see i have about three words on a page nothing works so i cannot use it and so the battery lasts a long time i am ready to just smash it with a hammer and throw it in the trash my daughter returned hers and i should have done the same its garbage',\n",
       " ' i was stupid enough to think that this compared to barnes and nobles nook was i ever wrong long battery life what a joke only if you read 12 hour a day however if you happen to enjoy your book be prepared to recharge it is also only black and white which i was unaware of when i bought it also unlike the nook you can only go to kindle store it is also very small and awkward to hold for any length of time while reading truly a disappointment considering how much i had to pay for this i truly hate it for 2000 more i am now going to buy a samsung tablet like i should have from the start',\n",
       " ' i received a paperwhite years ago as a gift didnt think id use it that much given that i love books actual feel them in your hands and turn the pages loving books',\n",
       " ' i own several kindle fires this paperwhite is my first regular kindle it is awful i deeply regret buying it it is very buggy and support from amazon is far below my usual expectations it is slooooow it is erratically responsive it is difficult to skim through a library of more than 100 books maybe 40 of which are downloaded you need a separate laptop or desktop to effectively manage content even then sending books to the device is hit or miss way more time consuming than is tolerable even when it does manage to work after several tries i havent been able to send a pdf or jpeg document in over 2 weeks',\n",
       " ' this is my third fourth kindle maybe amazon should have a subscription program where they deliver a new one every 18 months',\n",
       " ' i purchased the kindle paperwhite gen 7 for 11999 thinking it would be a reasonably inexpensive solution for an ereader cheap would better describe the product the device reminded me of something you might expect to see in the 90s if the technology of those days could produce such a thing when i saw that i could tradein the slow clunky interfaced dim device i was excited to think that a newer improved 10th gen version of the same tablet might be better i couldnt have been more wrong i was given a 3000 tradein value for the 11999 tablet i had only owned and barely used for 5 months i was also given a 2500 gift card incentive to purchase tradein this kindle for a newer and improved 10th gen so i went for it and after the two aforementioned incentives i paid 6499 for a 11999 new kindle i received it shortly after christmas 2018 i opened the box signed in to my amazon account tried to use the device became immediately frustrated closed the box and put the device in a drawer 7 months later today when cleaning out the drawer i found the 10th gen kindle i thought i would give it another try again remarkable disappointment realizing much time had passed since the purchase of the device i remembered the excellent service i have received from amazon to date so i initiated a chat with customer service to see what sort of remedy they could offer me i was initially offered a 4500 promotion when i would receive a gift card but would return the device i chose to refuse the offer since i was already down much more than this having purchased 2 devices i barely used and i didnt want a replacement device when i wrote back a couple of hours later asking for the 4500 promo and offered to return the tablet i was told this was not an option and since the tablet was still under warranty i could send it back for a new one i am completely convinced that the technology and functionality of the replacement will be equally as frustrating i told amazon service that i will throw the very disappointing piece of equipment in the trash i recommended that they and their colleagues take the opportunity to use one and try to maneuver the device the screen is dim the touch feature is choppy and sensitive so sensitive that the slightest inadvertent touch sends the tablet on to another screen i use a lot of various devices in my work and pleasure have tried two different kindle tablets to date both of which are completely unsatisfactory i chose to toss the device rather than give it to someone because i would be too embarrassed to give it to someone please give this feedback some consideration when making your own purchase',\n",
       " ' total waste of money the app has so many more features than the actual device yes you can mark on your goodreads as reading or read and give it a star rating but you cannot actually post a written review',\n",
       " ' when i first got the paperwhite i restarted it a couple of times to try to get it to stop freezing that didnt work i had to chat with amazon to try to fix it well see how long it lasts',\n",
       " ' will not be purchasing a kindle again picked up my paperwhite for the first time in a few months and saw the error your kindle needs repair talked to customer service and all they would offer was a discount to purchase another kindle',\n",
       " ' i recently traded in my older paperwhite for the new one i am incredibly disappointed in the new one the more i use it the more disappointed i am here is what i have noticed so far',\n",
       " ' my older kindle finally died so i could justify getting a new paperwhite i had a really bad first impression after i got it but i have worked out the problems and really do not want to return it because i really enjoy having a kindle',\n",
       " ' i have traveled all over the world for years with my kindle and never had any problems i bought this new one because my previous one was showing signs of aging when it arrived the set up went well and when i started to read the page turner kept freezing up i had a long chat about it and said i hoped it wasnt a flaw that i wasnt being told about i was told no flaw and that thousands had been sold they suggested they send me a replacement which they did the new one arrived and guess what the page turner froze up from time to time another chat and another replacement was sent i now have the 3rd one and ill let you guess i went on line and found that everybody but amazon was aware of this problem one person suggested that i turn the page refresh on which refreshes the page every time this helped a little bit a second person suggested that swiping the page instead of tapping would work better and it does it still freezes up but not as often i also read that there was supposed to be some updated soft wear that was not ready but not being a techie i cannot comment on this i am planning to send a severe complaint to amazon and see what their customer service has to say the chat is no help in this situation',\n",
       " ' the last kindle reader i had was able to sync last page read over the whispernet that used the cellular network but didnt required a wifi network',\n",
       " ' finally replaced my 4th generation kindle after years of reading from my tablet kindles are much nicer on the eyes downfall of my previous kindle was no backlight but now this one is backlit and i can read it even at night i also like the waterproof capabilities as i love bubble baths and before would put my tablet in a gallon ziplock bag to protect it while reading in the bath',\n",
       " ' have been doing the bulk of my reading for the last few years on an old kindle fire not even a fire hd its that old hardly ever used the fire for anything else though it still works well so decided to get the paperwhite started looking at them in early october saw that the new version was due out in early november worth the wait i decided to splurge on the topoftheline leather case for it so had to wait another week until it was available very pleased with the new paperwhite an occasional 2page skip when advancing to the next page as others have noted and now and then a quick flash of white on black when changing pages but these are minor things i like the weight of it only 12 ounces with the case and it really does seem to be easier on the eyes than the old fire covers on books in the library are a bit hard to make out sometimes because the images are small and in black and white but again a minor thing highly recommended all in all',\n",
       " ' every 5 min or so the new paperwhite will jump ahead 2 pgs at once and then freeze at which point i will have to swipe back once to get to the correct pg i also wondered if this device will get the font adjustment updates that recently were installed on the oasis mostly i like the unit very light looks good',\n",
       " ' i had my previous kindle paperwhite for 5yrs and took up the offer to upgrade to the newest version in dec 2018 other than some minor improvements to the backlight and resolution nothing to rave about the battery actually lasted longer in the older model which is the most important benefit and the touch screen is overly sensitive i miss my older paperwhite i guess i ll get my moneys worth on this one and trade up in a few years',\n",
       " ' after reading some reviews saying this version of the paperwhite is inferior to the previous i was hesitant to purchase it but the 2gb of storage on my older one purchased in 2013 was close to full it was starting to have a few performance issues so i took the chance i knew id probably never use the builtin bluetooth on the new one but thought the other new feature of being waterresistant was worth it',\n",
       " ' im disappointed in a lot of aspects of this device i purchased the one with 8gb digital storage capacity but it actually has 63 you cant tell me the os takes up 17gb although books take up very little space so that didnt wind up mattering i just dont appreciate the false sell the display is blackwhite only which i knew would mean it wouldnt be fun to read magazines but since book covers are so tiny and blackwhite on the landing page you see when you boot the devicemost covers are smaller than my thumbnailits very difficult to tell which books are which when youre trying to select one to read the device has no apps store and just an experimental browser thats what the device calls it which is pretty much unusably buggy and anyway everything is in blackwhite and very small the device and the accessories are expensive for what little functionality it has i also feel its too small those are the minuses',\n",
       " ' i absolutely love my kindle its become such a staple in my life that i normally just tuck it into my purse no matter where im going its waterproof so i take it to the beach and on hikes without worrying that itll get ruined its also great for reading in the bath the battery life is ridiculous sometimes i can go like 23 weeks without ever having to charge it i dont use it on high brightness so that is probably helping conserve battery but the backlight does come in handy if youre trying to read on a really bright sunny day',\n",
       " ' wife got me this gift for my birthday after using it for few weeks i think i enjoy it better and better',\n",
       " ' long honest review',\n",
       " ' update to my prior review as described near location 810 of the paperwhite user manual i added some fonts from office 2010 on my pc to the fonts folder in either one or both of the paperwhites this action may have caused the problems that i experienced this is my second paperwhite which replaced my first one that arrived only a few days ago that was defective and immediately returned after setting up my second one it not only froze a few times but also displayed an inky front screen on one occasion when i tried to open the 7th edition user guide that came with the device it froze again after having enough troubles i tried to reset the device in order to remove personal information before returning it but it would not let me do it i had to first do a restart then a reset while the screen and light are wonderful its os firmware seems to be a nightmare or maybe there are a bunch of defective units around with hardware problems i have no idea this behavior is definitely not characteristic of amazon products as a credit to amazon technology my 7 year old keyboard kindle still works great except for the screen recently having become darker which is why i purchased the paperwhite sadly im returning this paperwhite also having been spoiled by the os in my older kindle which just works without any flaws or headaches i also have little patience for tech when it does not work well like was sadly the case with both of my paperwhites',\n",
       " ' i ordered this as a christmas gift i love the non glare backlights it is the size of a short paperback book which is good for holding and if you take it places with you easy to fit in your bag im not upset with the product at all',\n",
       " ' im very conflicted with this product i love how small and lightweight it is',\n",
       " ' same two problems as my old paperwhite updates do not return you anywhere near where you were in the book was at 85 complete when update started book was at 61 when came back up since you do not know when they will run i never know what page or location i am on when update suddenly starts running',\n",
       " ' overall the device does what it is supposed to its the third kindle i have owned started with the original one and then the first gen of paperwhites someone stole the latter so i bought this one to replace it one could expect that it would be of similar production quality but this one is not',\n",
       " ' i have ordered two different 10th generation paperwhites from amazon i have been a longtime kindle user love them and have had previous generations of paperwhites with good experience i decided to replace my current paperwhite with a 10th generation model because of some small issues with my current one however on the first 10th gen paperwhite i found that the text contrast flickered every time i turned a page it would show as dark black for a second then immediately change to gray this happened no matter how i set the screen brightness which font i selected or which book i opened setting the font to bold still resulted in the text darkness showing first as black then flicking to a lighter darkness that flicker drove me nuts and made reading really unpleasant',\n",
       " ' for me theres no significant changes i had the previous version and i think theres no much difference that worth the money even if you trade in i dont know why but i lost every word of every book i looked up',\n",
       " ' overall this 10th gen device is a regression from the 7th gen minus the diet it went on and the waterproofness im returning it and keeping my 7th gen',\n",
       " ' i bought this during prime day promos and im surprised at how happy i am with this kindle i didnt notice any issues with pinhole spots or glare like other reviewers mentioned the text is crisp and ive found the screen easy to see even poolside on a hot and sunny summer day i still prefer physical books but the convenience of the kindle for commuting and travel is pretty hard to argue with its just easier to pull out a kindle while im standing on the train with only one hand available ive found that in the two months ive had the kindle ive already read more than i did in the 6 months prior if youre a diehard physical book lover the kindle is probably not for you but if youre looking for a convenient digital option this is a great choice i prefer it as well to my phoneipad its just easier on the eyes and i find that having a dedicated bookreading machine means im not distracted by appsemailsgamesetc i really wasnt sure that i would like the kindle as much as i do but its so stunningly convenient the battery life is great and i think ive only charged the device three or four times since i got it two months ago the waterproof feature means i dont have to be too precious about it if i want to read on the beach by the pool or in the bath something that was a real deterrent from purchasing an ereader in the past for me because those are my prime reading times aside from commuting i still love reading physical books but the kindle has made it so much easier for me to read more and im very happy with it the only caveat is that i dont like it for cookbooks for me ibooks is preferable for that easier to quickly jump around color etc but for reading a book starttofinish the kindle is excellent',\n",
       " ' i was a bit disappointed with the paperwhite but probably because i didnt read the features carefully first thing its all black and white type which was a surprise ive had 3 kindle fires and i love them theyre full color which makes an enormous difference to me especially when shopping for books i dont buy books for colors on the cover but nothing at all stands out in bw when youre browsing',\n",
       " ' my second generation keyboard kindle gave up the ghost after about 10 years of heavy service cant complain about that except it was truly irreplaceable i bought a 10th generation paperwhite i only want it to read books i dont need anything that does more i guess i will get used to this one but so far i do not love it it is not as comfortable to hold as the keyboards the touch screen turning of pages gives you nowhere to hold the thing without accidentally turning the page frequently',\n",
       " ' used to reading kindle books on a different tablet device and wanted to go back to a dedicated kindle so i purchased the paperwhite the pros the device is lighter than an actual tablet computer and i can purchase books from the kindle store',\n",
       " ' i love everything about this ereader',\n",
       " ' i tried to love it this was my 6th kindle and my 3rd paperwhite i thought i had found way around most of the cons lighting issues close your eyes until your lighting adjustment registers so you arent blinded reading lists issues use only my reading list feature to avoid small screen clutter power button on bottom shutting off use cover protector to elevate kindle to it doesnt turn off when resting on bottom button or use landscape i tried everything i could think of but could not prolong the battery life however no matter what i do there is no way to make the battery life better than the older generation paperwhite kindle that kindle will go to sleep if i fall asleep this one will not i charged this new one and fell asleep with it on i woke up with it on the same page and spot i had previously turned my wifi off as i thought this might preserve the battery however just 16 hours after my kindle was fully charged it was dead so back it went i bought the new one for the battery life because i read 40 hours a week what i really need is a non glare tablet because a kindle oasis is too expensive for so little screen size upgrade',\n",
       " ' i dont often write reviews but in this instance i think it may help others this is the first time ive had a kindle it arrived a day early and was easy to setup however the cable provided with the paperwhite is the incorrect size the micro usb end doesnt fit into the paperwhite i used the chat function on amazons website to ask about the issue the amazon representative provided a link to the replacement cable on amazon and a credit to cover the cost the replacement cable is on its way at no cost to me and it only took about 10 minutes from beginning of chat to the order completion',\n",
       " ' my first kindle was a kindle keyboard and between the ones purchased for myself and by and for family members i think ive had hands on with every single model paperwhite model to date i had high hopes for this paperwhite but find i am not using it reading on my fire instead ive now owned this since december 2018 and it mostly just sits i did order a screen protector as i have done with all devices but i have not installed it because i find the screen responsiveness to be abysmal at best given that poor performance a screen protector seemed like a bad idea i got this model for the increased screen lighting and that is an improvement for that reason this device gets 2 stars now if pages would just turn without so much swiping and reswiping reading on this device means much more time fighting with the device and much less time reading so using it is a hassle rather than a pleasure this will be my last paperwhite unless page turn buttons return since the screen sensitivity and responsiveness is so poor i should also say that i cannot accurately rate the battery life in comparison to other paperwhites because i find i just avoid using this device it sits untouched but holds a charge for a long time while sitting every thing has become very slow with this model while the battery life of my fire is less it at least functions smoothly so i now read on that this paperwhite is a constant struggle to get it to turn a single page at a time it either doesnt turn or turns too many so reading becomes a constant battle have had this problem with no other paperwhite or any other device for that matter adding a book to a collection means select the collection and then go do something else for a few minutes my kindle keyboard is still much more responsive than this device',\n",
       " ' thought highly of this model and shooed away naysayers who said the battery life stinks that i should get a case for it to switch to automatic sleep mode when i close it',\n",
       " ' im massively disappointed with this kindle i wanted to upgrade as i was running out of storage space and i was hoping for some extra features this kindle arbitrarily decides to do 15 minute update in the middle of reading a book it frequently decides to go back a page or ahead 2 pages when you touch the right side to turn the page i decided to just put up with these minor issues as i liked the extra space the waterproof feature and the audible capabilities and now conveniently 2 weeks after the warranty expired joy of joys i now have the death screen shot and when i spoke with customer service they directed by to do a hard reboot by holding the power volume buttons at the same time except that this kindle doesnt have volume control and yes i did give customer service the model info but hey they can get me a discounted price on a new kindle yay so massively ticked off by this complete waste of money and amazons crap customer service',\n",
       " ' i bought this to replace an old kindle fire tablet i was all excited i can read it in the bathtub dark mode it fits in my hand perfectly and thats all i love about it so far',\n",
       " ' so this is my first time buying a ereader i have used a tablet before and have been reading on my phone but wanted to switch to an ereader to get away from interruptions and distractions well honestly i just hate it it feels like something out of the 80s',\n",
       " ' i thought very seriously about buying the 8 gb or 32gb because only 25 difference in price i bought the 8 gb and found out after i received it that there is only 6 gb on it the other 2 gb was for the reader to run i debated about returning it and buying the 32 gb due to the false advertising dont say its 8 if its not i get really upset with lies just say its 6 gb im still on the fence about returning it my concern is they wont give me my money back at least now i know even the 32 gb is only like 28 gb after buying mine',\n",
       " ' i returned my first new kindle because the battery wasnt lasting even 24 hrs i received a replacement kindle midmay all of a sudden this weekend i realized the battery wasnt holding a charge within a couple of hrs after unplugging it from the charger and confirming a full charge it reads 57 im so disappointed im thankful i still have my previous generation kindle to fall back on',\n",
       " ' the kindle paperwhite is a giant pile of garbage youd never know because its wrapped in a package of lies and nothing is there to indicate that its a worthless upgrade that nobody needed first the amount of storage is mostly irrelevant books take up next to no space so having a 16gb kindle mostly just means youre not smart enough to know how technology works even the 8gb version has its problems more specifically they include',\n",
       " ' after losing my kindle paperwhite somewhere in lax i ordered the new generation kindle paperwhite here is my assessment',\n",
       " ' i love to read and paper books will always be my first love but my kindle is my constant companion im one of those readers with multiple books started at any one time i may be in the mood for a light and easy beach read or a good mysterythriller other times it may be a book about astronomy and our reach for the planets sometimes its a biography or a look at the history of a region if i have my kindle handy all of my books are right there and if i decide that im not in the mood for a book ive already started there are many more to choose from already downloaded or easily obtained',\n",
       " ' first a little background i dismissed e readers a while ago i had an ipad over the years several different models of them and kindle fire tablets i love to read but im not a rabid voracious reader like a lot of kindle fans are so i didnt think spending the money on one years ago was worth it this is my second model kindle e reader the first being the 3rd generation paperwhite so i only have that to compare it too personally im in love with this new 4th generation model and its well worth upgrading too but i gave it 4 stars overall and ill explain why',\n",
       " ' i gave this newer model 4 stars because as mentioned by others the power button protrudes too far out resulting in the unit restarting the prompt to cancel the restart or power down is very fast so even when ive selected cancel its too late and the kindle powers down and restarts this occurs even with a cover stand the kindle up and boom there it goes shutting down some have suggested landscape mode to avoid this a solution true but as the customer i shouldnt have to consider this inconvenience its not the typical way we hold a book very annoying love that its water resistant i read worry free while i bathe or at the pool the only other difference with the previous white paper model is bluetooth and how the setting selections have been offered still getting used to those changes the previous model design for settings worked well honestly this new model seems awkwardly designed i purchased a new white paper kindle because the battery on my previous unit was starting to drain quickly i gave that unit to my husband since he doesnt read as often as i do if not for the battery i would not have purchased a new kindle white',\n",
       " ' mine has never worked as advertised the battery doesnt last for weeks a few days yes weeks no my phone my ipad my tablet computer is far superior to this i got it because of the weeks of battery the page turning is terrible i have to pound the screen hard to get the page to turn and often it turns multiple pages at a time',\n",
       " ' ive owned a few kindles since the kindle keyboard back in the day each one always seemed to improve in some key way over the previous until now key features',\n",
       " ' hints for making a waterproof kindle paperwhite less irritating to use',\n",
       " ' i bought this kindle as a backup to my kindle voyager as it is waterproof i can take it to the pool without worrying about destroying my kindle also i can lend it to a friend to read a bood on this mayve just been a hicup but after id downloaded numerous books and had gone on vacation with my girlfriend id downloaded a specific book for her id not read any books on it as yet low and behold when she was reading her book and only a few pages into it she went to reopen it and it froze up on the special offers page i googled how to unfreeze a kindle nothing worked she eventually went onto read a physical book shed luckily brought with her i thought perhaps that letting the power drain completely to zero would possibly fix the problem as if that didnt work i was going to have to return it to amazon after almost two weeks and it had not lost all power i read that possibly charging it back up to full might rectify the problem i did and it did problem resolvedfor now i still dont trust it and my girlfriend who was skeptical of kindles to begin with is less than impressed hopefully this was a one time glitch without any reservations my kindle voyaget gets a solid 5 stars this 10th generation kindle paperwhite is on probation so reluctantly only 3 stars',\n",
       " ' purchased this one because i live in amsterdam and it rains a lot after wanting to take my kindle last week on my bike and another day on the bus but didnt because it was raining so much thought why not invest in one that it didnt matter if a little rain came in contact with it',\n",
       " ' if youre like me youre reading 100s of reviews trying to decide if you really want this product if youre like me youve held out against buying an ereader this long and are simply curious i bought the nook when it first came out hated that so traded it for the first kindle fire which i also hated and then sold why did i finally break down and get another after all this time honestly im not sure but i think the pandemic has something to do with it i read all the books i had at home during lock down and when i was done with those i started reading some on my phone i cant run my hands on the pages when im reading a kindle or give it good sniff when i crack it open but this thing has really grown on me in the last month or so',\n",
       " ' alrighty then well let me tell you somethingi have never owned an ereader i had always just used my phone i always felt it was unnecessary to have an electronic specifically for reading i love reading do not get me wrong i have a plethora of physical books at my disposal and will continue the growth of my at home library however books get heavy and parting with any is next to impossible you get it lol and my husband is annoyed with me anytime we have to move he suggested an ereader a few years back but i refused since i had my phone what changed my mind you ask my eyes my eyes changed my mind',\n",
       " ' in general i love the kindle devices however i specifically upgraded this from my previous kindle paperwhite device because it is waterproof so thats nice heres what is bad',\n",
       " ' this is my fourth kindle paperwhite i read a lot and usually wear out my kindle in about 25 years i just received this newest version of the paperwhite without advertising options i paid 114 and it is complete junk ive only had it a few days and already the brightness feature wont go beyond the 4th level the screen is yellow instead of white and the print is not sharp and crisp no matter which font i select in addition to that when you go to look at a book in the store the display is an absolute crowded mess becausethe option to buy an audio version adds to an already crowded space also its almost impossible to just turn a page without selecting something you didnt want to select i am a very experienced kindle user and know how to turn a page adjust the brightness and buy a book ive been buying kindle paperwhites since they first came out i am so disgusted and disappointed with this version my previous kindle just died and cant be resurrected if you can avoid buying this version you should its a shameful excuse for an amazon product note i did live chat on amazoncom with tech support after about an hour of rebooting the kindle and finally resorting to resetting the kindle to the original store setting which wipes out any hard work you had down downloading books from your library selecting options etc i still couldnt get the kindle to full brightness the tech person told me that my warranty expired on 51420 despite having only recieved this kindle on 51020 i could not get an explanation of why the warranty expiration was so short even though the amazon info says the warranty is a year i was told that if they replace this piece of garbage i will receive a reconditioned ie used and repaired kindle wait a minute i am returning a brand new flawed product for a used flawed product what kind of nonsense is that so if you buy the new kindle paperwhite and it has problems dont procrastinate with a 4 day warranty you could be in trouble i realize all of this sounds crazy but its true and accurate i have the copy of the chat to prove it after much wrangling by my tech support person and her supervisor i am allegedly being sent a new paperwhite although they appear to be backordered and heaven knows when it will show up i dont have high hopes for the replacement by the way the battery life is as short as everyone says if you read more than an hour a day with the wifi connected you can expect to have to recharge your kindle every couple of days',\n",
       " ' i waited far too long to buy myself a kindle ive use the app on my phone on my ipad mini on my fire tablet so i didnt really think i needed one its so light weight and so easy to hold its so comfortable i have and use a lot of gadgets i didnt think i needed a dedicated e reader but its so good the field is really unlike any other tool ive used to read i still have books that i will always need physical copies of but for the other 99 gagillion books in the world this is perfect',\n",
       " ' the lighting distribution is better than the previous model i had to return a device when i bought the previous model because the light was dimmer towards the bottom of the page this time around the page seems more evenly lit',\n",
       " ' i have pretty big hands and with the cover folded back i like to hold my kindle with a finger between the cover and the kindle so i have a better grip you cant do that left handed if you reverse the cover so it opens to the right you can do it but you lose the automatic power off startup',\n",
       " ' coming from a refurbished kindle voyage which after four years of use had begun to have a touchscreen problem i was hesitant to buy a new 10th gen paperwhite because of many less than stellar reviews but amazons cyber monday price was too good to pass up and im glad i made the purchase the 10th gen paperwhite is almost identical to the voyage it has the same great 300 ppi glarefree screen the overall build of the device feels as solid and comfortable as the voyage some reviews have complained about battery life but those appear to be bluetooth related i turned off bluetooth and the battery life is meeting my expectation of one charge per month in summary im completely satisfied with my 10th gen paperwhite it has everything i want in an ereader a small form factor that makes it easy to carry in your back pocket great battery life an illuminated epaper screen which doesnt strain your eyes like a phone or tablet touch controls and integration with amazons ecosystem on top of all that it is water resistant sale or no sale the new paperwhite is worth the price',\n",
       " ' wow this paperwhite kindle is impressive i love just about everything about it i havent owned a kindle before so cant comment on this 10th generation vs earlier ones but not sure how anyone can knock this thing the screen is gorgeous the backlighting is perfect with no hot spots the screen refreshes well yes its not as quick as a tablet or phone but i wouldnt expect it to be if i had to say something negative it would be that the blacks could be blacker its more of a dark gray and looks perfectly fine but dont expect a perfect blackwhite contrast for the price i think its a great deal very happy with the purchase and glad i upgraded from reading on my phone battery life is great so far',\n",
       " ' ordered the new paperwhite on nov 16th prime customer for multiple years returned an older unit on a return special an additional spif to order the new one 2 weeks after receiving the unit started going nuts switched pages highlighted and unhighlighted text froze changed screens multiple reboots didnt correct got on the phone with amazon customer service',\n",
       " ' so far the batter life is amazing ive had it for about two weeks i would consider myself a night reader about 2 hours a night and i havent had to charge it yet this battery is amazing its nicean light but maybe a little awkward after a while to hold for extended periods of time so i bought a strap so its more comfortable to hold for long periods of time if there is one big down fall it would be the touch screen and its response time now it could just be me being an impatient person but when i click on something i want an immediate response so it does lag a little bit when clicking links but on the plus side i havent noticed a lag when turning pages',\n",
       " ' my old paperwhite was in process of giving up the ghost after seven long years of daily reading sometimes late into the wee hours of the night and i loved it so much i ordered the new paperwhite as a replacement i love that it is lighter and less bulky to hold and a has host of new features that look interesting the sleep function means my battery is lasting much longer so less frequent charging i understand it is compatible with audible so at some point i may actually delve into those but my normal reading time is late at night we shall see on that one since i normally read at night i love that i can make the page black with white type which means less disturbance for my husband i have not looked at whether i can better organize the things on my kindlethat has been the only flaw amazon if you are listeningcan you please give me an indicator that lets me know whether i have read the book or not',\n",
       " ' i have had several kindles my first paperwhite was awesome the battery lasted at least a month even with daily use the light was great everything worked just perfectly i decided to get a new paperwhite after 6 years because the battery life on my old one was lasting only about a week i loved my old kindle so much i had no hesitation about getting a newer generation model well unfortunately i am not impressed with this new paperwhite at all the reading pane seems small with a rather too large border of wasted space around it and the battery life is horrible in not even one full day the battery life went from 60 to 19 also the 60 start was the start point from the paperwhite just sitting and not being used for a couple of weeks it had been at 100 what i do like is the improved going back or forward between pages and i guess its nice that its waterproof although that wasnt a selling point for me overall this was a big disappointment and a lot of money to spend on something to end up being disappointed to be honest i wish i had my old one back',\n",
       " ' june 25th 2020 update',\n",
       " ' i preordered this to replace my last generation kindle i read a lot and mostly in 3 areas outside in the sun in bed in no light and indoors during the day i like the ease of adjusting the backlight as needed to read in the different environment',\n",
       " ' im so disappointed in this paperwhite i purchased it because i was excited about the splashproofing',\n",
       " ' the product description on this page for this particular model states that it has cellular connectivity which was not the case with the one that was sent to me i do not have wireless internet at my home and was therefore unable to connect the device to anything my older kindle which i am still using has 3g connectivity which is great not sure if they sent me the wrong one or what the problem was but i am very disappointed with this product and will be sending it back also it is advertised as having 8gb of memory yet when i turned it on it stated that it only had 6gb of available memory',\n",
       " ' keep it charged even if you dont use it my kindle was a year old and i used it a lot until i gave birth to my second child after about 4 months i picked it up again to find a battery i on with an exclamation point in it i figured it was just drained so i put it on the charger overnight nothing changed i thought maybe it was a bad cord or charger so i used my husbands charger the next night still nothing i tried a third time and still nothing',\n",
       " ' ive had 4 kindles since 2010 with the 3rd gen kindle keyboard as far as improvements over the old pw i dont see much difference and wouldnt have bought it myself as a gift though awesome',\n",
       " ' i was enjoying the kindle until i had to charge it it froze and it will no longer light up when the on button is pushed so not able to turn it on this is the last one of these i will purchase its much too expensive to pay 10000 for something you can read for only 5 12 weeks very unhappy',\n",
       " ' the screen quality is great it works beautifully in the sun and no glare at all they are stretching the truth when they say the battery lasts for weeks i read one book about 7 hours and i was at 23 from a full charge maybe it lasts for weeks if you dont actually read on it',\n",
       " ' so i just received this product 2 hours ago and im going to return it immediately whatever you do if you really want a good ebook reading device dont buy this one here are the basic problems i found with it so far and why its completely unusable',\n",
       " ' my 2018 8gb arrived and i compared it to my 2013 paperwhite the front panel material seems similar to past kindles seems like plastic not glass it doesnt bendflex to regular pressing though it is matted and antiglare but with a smoother finger glide comparable to coffee table book good paper vs the 2013s rougher texture closer to mass paperback it does pick up fingerprints and oils but about as much as the 2013 does including the bezel',\n",
       " ' ive used the android android kindle app on my samsung tablet for several years i finally broke down and bought a paperwhite highly anticipating new features and functionality to my disappointment i had more features faster speed and color on the android app as compared to the reader',\n",
       " ' great product however i purchased this in november to give as a christmas present it came with a free three month subscription for books however they start the subscription as soon as you buy this item my fiance lost a full months worth of the subscription just because it was sitting under the tree wrapped',\n",
       " ' ive been a kindle fire user for years and have been a big fan but i realized i really just use it for reading and thought id try the paperwhite since its lighter and made for that the first problem is the light it is so dark and hard to read no matter what settings i used and speaking of settings they are really hard to find thanks for hiding them under accessibility really thats just dumb also forget about the internet it is so slow it feels like the worlds first computer i use the kindle for library books as well and getting online to anything other than an amazon site is pointless the other issue is the fabric cover why make one that doesnt have a notch in the back so you can actually hold the thing its slim and light but impossible to hold with one hand which negates the whole point unbelievably frustrating do not waste your time',\n",
       " ' this is my fifth kindle ereader and my third paperwhite and this is the first time ive had complaints with the battery ive had it about two weeks and have had to charge it twice not counting topping it up on its first day its not unusual for the initial setup to eat up some charge so i wasnt concerned with the drain the first day or so but id rank its battery somewhere better than my fire tablet but i charged it two nights ago and its down to 85 already at this rate ill be charging it every week not every three weeks like i did on my previous paperwhite',\n",
       " ' an update',\n",
       " ' i tend to have my paperwhite follow me around i had the prior version that means when im washing dishes its on its stand getting wet for instance so when i found out that this version was waterproof i traded in my paperwhite and bought this one my impression is that functionality wise its pretty much the same i do like how it feels but now that i have a case on it it doesnt really matter how the machine itself feels o i dont expect too much more in terms of functionality because i liked how my old paperwhite worked so basically if you have an old paperwhite and you dont care about the waterproofing and audible this version is unnecessary speaking of audible it works fine with a bluetooth headphone i dont really like audio books but this did get me to try one and it sounds good audio wise the narrator on the other hand',\n",
       " ' the paperwhite as a device is pretty cool easy to access content new features like ordering from the device get added ability to listen to the audio i have a lot of content this is my second kindle after my first one failed ive had this paperwhite for 15 months and the battery is shot i get a battery icon on the screen and nothing else i contacted support who after attempting to troubleshoot determined my kindle was dead they have offered me a 15 discount on a new device but it seems to me a kindle shouldnt die after 15 months 3 months after the warranty has expired a new one is 129 so even with 15 its still really expensive',\n",
       " ' this is my first kindle device and im loving it ive used the kindle app on my phone for years but im starting to notice the eye strain from constantly using a phone to read after talking to several friends who own a paperwhite as well as reading the reviews i decided to try it it is small enough to take with me easily which was a concern of mine i have noticed a difference in the level of eye strain which is a great thing its super easy to download and buy books as well as check out books from the library it syncs with my phone well even if it is a bit slower than id like i love that it is water proof as i love to read in the tub the only complaint i have is in regards to the power buttonwhy on earth would anyone think its a good idea to put a power button on the bottom of a device i have accidentally turned it off several times while switching hands or just setting it on something other than that i really do enjoy this device',\n",
       " ' i really love my new paperwhite i thought about buying one for far too long like 5 years because i kept thinking that reading books on my iphone or ipad mini would be good enough and that i didnt need an extra device finally i got one of these on sale to try it out and it is just so much better than reading on other devices',\n",
       " ' my first kindle disappeared i decided to upgrade to the new kindle paperwhite i love that it has a built in light for some reason i could not go to the home page so i asked for support on the computer expecting a text through to resolve the problem i was surprised when they said they would send me a new onethere must have been a problem received the new one and its a refurbished one i bought a brand new one not somebodys broken one that they fixed i had them call me this time i talked to 2 different people who told me they send out refurbished as replacements i continued to tell them that refurbished is not new but got nowhere i am very disappointed with how this was handled',\n",
       " ' i traded in a keyboard kindle and bought this one on black friday still an extravagance to have an extra kindle but i will put it to good use this 10th kindle version is waterproof something i really havent needed and expect not to put to the test i like the new flat bezel design better i also like the slightly grayish color of the screen still easy to read maybe easier on the eyes the lighting on this version is extremely even much better than my older model',\n",
       " ' my kindle voyage has gone to its grave after 2 12 years i swore at that point to never overspend on a kindle again i caught this sale at 9999 for the newest paperwhite and bought one',\n",
       " ' i like the new version of kindle paperwhite the new interface is smoother than the old can be a bit irritating when you accidentally brush the screen though very sensitive the only other drawback is the size is a tiny bit smaller than the last and none of my covers fit hmm selling more covers i guess',\n",
       " ' we purchased the new paperwhite 062519 the product was advertised as having better battery life than older versions the battery life is actually terrible with wifi on the battery drains in 2 to 3 hours with wifi off airplane mode the battery life is less than one day we returned the unit to amazon the refurbished replacement sent to us has less battery life than the original new one we have been given the run around by the kindle customer service people in the philippines we are now hoping to get a replacement that works this is a disgusting situation for customers like us that have been using kindle products for years we would love have a refund for this defective product but amazon is resisting our request',\n",
       " ' this is my second paper white i love how it functions fits well in most of my handbags battery life is fabulous the backlight is perfect for the amount of reading that i do',\n",
       " ' so far its awesome i have a kindle fire an have problems reading in the sun this paperwhite works in the sun or the dark its great for reading anywhere its small and light',\n",
       " ' ill say upfront kindle is fantastic has been for a decade i love the convenience of reading and accessing new books the paperwhite reading page is easy on the eyes precise fonts and backlit to read without additional light and im talking about my 5th gen that ive used for years five stars all day long and for the past 8 years so yea i give this new 10th gen kindle 5 stars in this review however from a different perspective is the upgrade worth it',\n",
       " ' i just got my new kindle paperwhite that is supposed to be better than previous ones i find it the same as my old one except that the battery runs down faster weeks of battery life on one chargeserious overstatement if i use it in exactly the same way as my old one the battery will not last even a week if that long it has dropped 20 in one day the old one never did that even with many hours of use the airplane mode is a nuisance to use and yet it seems to be the only way to save on battery use and even then its not saving much at least so far as i can tell if i want to use any of the features such as looking up the meaning of a word in the text i have to switch off the airplane mode then switch it back on again to save battery juice i dont see that as a feature but rather a bug now if there is something i am missing and there is a secret of some sort about the battery use id really like to know anyone',\n",
       " ' my wife bought me a kindle in 2011 among its many great features was something called texttospeech which turns any book into an audiobook this is absolutely indispensable for me since i drive for a living but after 10 years its battery is starting to lose the ability to hold a charge so i just upgraded to a brandnew paperwhite',\n",
       " ' ordered on black friday received on black friday 5 stars for shipping bought this to replace the paperwhite i bought in 2017 and lost at the airport last week out of the box it was easy to register easy to download my almost 1000 books which all remained in the collections i had on my previous paperwhite it wakes up quickly pages turn easily font selection is just as easy i cant speak to battery life because ive only had it for one day i let the negative reviews of the 10th gen kindle scare me and i almost didnt order it turns out that would have been a foolish mistake while im sure that a flub will pop up once in a while with the millions of devices sold and my always happy outcome with any amazon returns im going to trust that my kindle experience will always be rewarding',\n",
       " ' this has been the worst kindle i have ever had it keeps restarting it self screen goes black or just shuts off i called customer service it was awful in the past i would have been sent a replacement and box to send old one back now you have to send your kindle in and wait until it is repaired and returned to you i also bought the extended warrenty and they acted like i did not i was told it was repaired but it is still doing the same thing',\n",
       " ' disappointedthe navigation is elementary am quite shocked page turning is clumsier than the original which is hard to imagine it skips pages easily bookmark doesnt always workforget typing a noteeven the highlighting is clumsy browsing is also impossible',\n",
       " ' i had a kindle voyage and found one day a hairline crack in the screen unfortunately even though it was barely even visible it rendered the touchscreen inoperable so i replaced it with the latest paperwhite and have been sorely disappointed',\n",
       " ' i upgraded from my 2nd gen paperwhite to this newer version and am left with mixed feelings it does have does have some nice features for example the 300 ppi screen is noticeably sharper compared to the last gen model i also really like the flat front screen design it is much easier to clean the dust off of and gives the device a more premium feeling the water resistance is a nice to have feature in case of drink spills i guess but not a real selling point for me',\n",
       " ' i bought this to replace my admittedly old paperwhite purchased 2012 second generation of paperwhite i think which has been getting slower and occasionally hanging most of the obvious differences between the two are minor the flush bezels are a nice touch although you do lose the feedback about how close your finger is to the edge of the screen the new one is faster smoother operating and doesnt hang but its also 6 years younger the new display is a little better matte which should make it easier to read around lights but i never had any complaints with the old surface character display looks a little improved the advertise better resolution and there may be better contrast under the same lighting conditions i like the new hardware particularly the waterproof claim since i used to have to use a ziplock when i got near water',\n",
       " ' update amazon allowed my review to go through but shortly after i wrote this review i received a call from kindle customer service they had me try a solution that involved a hard reset and charging it again it seems to have solved the problem of fast battery drainage i do read a lot so i dont expect my battery to last as long as amazon says it will but i also know it was draining too fast for it to be normal i love amazon and kindle cs they know how to treat customers and i appreciate that they called me to try and fix my problem other companies sears lol should take lessons from amazon im still a little disappointed at the slow wake up with the words waking up before you can swipe to unlock but the cs rep explained to me that its due to the newer software and actually helps with battery life when it works properly and other new features if youre one who has had trouble with the new 10th gen paperwhite battery life i recommend calling kindle cs not just amazon cs and letting them know i changed the star rating from 2 to 5 to reflect the change',\n",
       " ' although i am enjoying the latest paperwhite it is not perfect i like the lighting the weight size and storage space however i find that it is too sensitive in some regards if you accidentally gently bump the device or hold it a little off vertical it sometimes skips multiple pages either forward or backward making it difficult to find your place it is easier just to go back to the beginning of the chapter you were reading and start again from there also when charging the battery i find that it when it has charged up to about 95 the green light goes on indicating full charge which is not quite true i just leave the device plugged into the charger for a while longer until it says it is 100 charged not a big deal but is a little misleading all in all i am glad i bought it just have to get used to its ideosyncrases',\n",
       " ' this is my first ereader so i dont have anything to compare it to besides my ipad which i used with the kindle app to read before bed for the lightup screen i knew i wanted the paper white because of the realistic book pages but mostly for the ability to see the screen clearly in the sunlight it looks really good and clear in the sunlight i was really surprised while i was researching this vs the oasis and the standard kindle i saw a lot of people mentioning the offsleep button being poorly placed on the bottom but i have had no issues with that the button clicks its not a softpress kind of button i dont know how to better describe it',\n",
       " ' sadly i had to replace my last generation kindle because the screen was scratched i expected this one to be a nice upgrade but so far im not impressed',\n",
       " ' this is my first kindle ive had and i love it im so happy i finally bought one what sold me finally was that i could change the text size i kept ordering books that ended up having really small print that was hard and unenjoyable for me to read i held off on buying a kindle for a long time because i mainly read in the bath but when i saw this one was waterproof i decided to give it a shot im still hoping i never completely drop it in there but ive had no issues with water splashing on it like i have with other devices that arent waterproof in the past',\n",
       " ' i bought this to replace an aging nook i had some issues with the nook not being able to work with overdrive from my library so it was time to retire it',\n",
       " ' run dont walk away from this device',\n",
       " ' i traded in two older kindles for two what i thought would be improved paperwhites the software has hardly improved the kindles lose the wifi connection connecting to wifi is still tricky and prone to not working you can set the reading progress option and it will not stay on i thought i would see some improvement maybe the improved battery life is all that ill get',\n",
       " ' you can find plenty of reviews from people telling you why they like them i just want to say ive been consciously resisting buying one for years and only decided to buy one because of the pandemic and availability of relatively cheap special sales on kindle titles i had tried one for a few minutes several years ago but didnt like it i use the kindle app on my ipad but mostly for cookbooks but after reading a few chapters of a couple fiction books on the kindle device im a convert im looking forward to taking it backpacking with me for long winter nights the only negative ive found and its a minor one is that the screen is not as accurate and responsive as my phone or tablet so sometimes i fat finger the wrong thing im glad i bought it and would do so again',\n",
       " ' first thoughts about this kindle is slow this isnt a tablet nor obviously does it have the processing speedcapability of a tablet making the overall experience a bit frustrating as you issue a command via a screen touch then watch the tablet wheeze and weeble to perform the request it reminds me a lot of the firstgeneration kindles theres little difference to me of the paperwhite in terms of performance and features from the first generation kindle except its got lights',\n",
       " ' upgraded from the 6th generation 2014 im loving this allnew kindle paperwhite',\n",
       " ' ive been reading on an older kindle paperwhite 2nd generation for years it was still working perfectly fine and there was probably no need to upgrade except for slightly diminished battery life but heres why im really happy i decided to trade it in for the newest paperwhite',\n",
       " ' i love kindles but why does every generation get worse my first kindle was the one with the little keyboard and it was the best thing ever if it didnt go completely brain dead i would still be reading on it to this day my next kindle a newer generation of paperwhite wasnt as good the battery didnt last as long no more 3g ads etc after a few good years together it too started to lag and eventually became unusable this prompted the purchase of this newest kindle and boy am i let down this kindle wont connect to my at home wifi as i was informed by an amazon help agent my wifi is too good at my apartment and my kindle cant recognize it so every time i want a new book i have to hotspot from my phone also i didnt realize i would no longer have supported active content which is wild to me goodbye sudoku the battery life is dismal at best it isnt that im charging it every night and maybe i am being a little bit of a drama queen about it but in comparison to my previous two kindles boy does it suck no more bringing a fully charged kindle for a trip out of town and being totally fine the charger will definitely have to be packed one of the features i have always loved about kindle is that i can change the font style and size i can even save these settings as a favorite so if it ever gets changed i can revert back to it sounds great ya well it would be super nice if i didnt have to do so every time i turned on my kindle all my previous kindles would reopen my books just as i had closed them but now every time i power up my kindle i have to change the settings to the font i like and the size sense it resets to what i assume is its factory settings another gripe although lesser is that every time i unlock my kindle from the lock screen it powers up to full brightness and then dims why does it have to do that it absolutely blinds you when you are reading in the dark also is it just me or is the way the kindle store runs on these things terrible it always freezes and closes me out and the lag is terrible this on my hotspot and other wifi networks so i know it isnt just its connection i do really enjoy that i can buy a case which turns off my kindle when i close it that is a very nice touch that i really enjoy',\n",
       " ' just received my new kindle paperwhite couldn t be happier the outlet for the charge cord wiggled so much i could not charge it when i was finally able to get the cord to connect it took hours for it to charge time for a new kindle first i ordered it before the holidays and paid 9900 that being said i would have been happy paying the 12900 when i received it i immediately charged it the cord provided worked for me ive read some people have had issues thankfully i was good upon registering my collections with the books were immediately available in the past i had to set them up individually has the same adjustable light fonts as my previous kindle had i like the 300 ppi text it is thinner and lighter i dont get a glare on the screen it is maybe a 14 of inch smaller so if you want a cover which i did make sure you get one that it indicates it will fit only the new 10th generation 2018 i bought one from uucovers and it fits perfectly the only issue i have is the includes special offers which is no more than ads when you power up and you need to slide the ads away to begin reading frustrating to say the least in order to have them disabled call amazon ask for kindle then the teamleadership division and they will disable for a cost of 1500 and request nicely that you do not want to be charged i had mine disabled at no charge',\n",
       " ' i originally rated this a 1 star amazon sent me a new usb cable after further research i realized my headphones where using an outdated bluetooth profile i feel amazon should make the bluetooth requirements more visible on their sales page many devises are capable of connecting to older bluetooth profiles but the kindle paperwhite will only connect to devices using the a2dp profile',\n",
       " ' yesterday i got the cover i thought id ordered blue it is brown',\n",
       " ' ill start emotionally i hate this thing sooooo muchhate it hate it hate it hate it',\n",
       " ' first off i receive the device and the cable simply will not plug into it okay fine nothing is perfect right so i decide to push on the device seemed to work properly and i was off reading like a mad man',\n",
       " ' i have been thinking about getting a kindle for a long time but i had been holding back because a good chunk of my reading is audible and whisper sync and only being able to read but not listen seemed incomplete i finally bought this because it said it was compatible with audible it is but there are limitations',\n",
       " ' i have enjoyed having a kindle for all these years for ease in obtaining the books and portablity of the units i have not enjoyed the repeated problems with the units i have had which has become consistent in the last for 4 units which i have tried and returned from november 29 2019 to jan 1 2020 in 2 months problems encountered were consistent despite if i asked for a replacement and got a refurbished one or i ask for refund and bought a new one with higher price unit problems as follows 1 new model april 2011 stopped working completely 2 12 yold',\n",
       " ' bought primarily because my old paperwhite was starting to act up like freezing up turning off etc so with the discount and trade in of old kindles and 6 months of kindle unlimited this was a great deal so far i do not find it any different from my previous paperwhite from 2015 so if your old kindle paperwhite is working just fine you may choose to just keep it but if it is time for a new one this is great the paperwhite kindle is a great ereader a separate issue of the cover because amazon makes each new reader a slightly different size it requires the purchase of a new cover if you use a cover i bought the leather coverwhich i think is a little expensive plus the edge of the cover is too sharp maybe later versions will be better',\n",
       " ' i love this kindle easy to use the ads are only on the lock screen and do not bother me so i wouldnt recommend paying extra to remove the ads and sometimes they advertise a book i would want to read the battery life is good enough although it definitely does not last weeks as is indicated in the description i read a moderate amount and the battery lasts a couple of days without charging i now just charge it every night and it is no big deal',\n",
       " ' thought last paperwhite crashed often when opening books this one is 1000 times worse needed to reboot it ten or twenty times an hour old ones few times a month i read 510 books a day so use often please upgrade the device not adding stupid features like audio or waterproofing for next version otherwise i need to start buying books elsewhere for when my 10 old kindles start dying',\n",
       " ' so theres a reason why the kindle is essentially the xerox of ereaders and before this i wasnt too sure why having used mine about three weeks im starting to understand',\n",
       " ' this is the first kindle or ereader in general that ive ever purchased so i was super excited my first issue is i realized i didnt get the version that comes with 3 months of free kindleunlimited so i contacted support and apparently they cant override that not their fault they were very kind just ridiculous that you would build that option into a device and as a multi billion dollar company not make it possible to give someone a couple extra months free to save em 20 bucks it might not be much but i work in education so im poor and every bit counts',\n",
       " ' amazon i am disappointed this same product was listed a few days after i purchased it for 50 less and you wouldnt honor that price difference for a longstanding prime member your team told me to return my kindle and reorder it but that takes up valuable time for a working mom who bought it because of a vacation there is no time to return it and start over just practice good best practices and honor the price reduction esp for a valued customer this is beneath you and your tenets',\n",
       " ' i bought this for my wife to replace her kindle fire i was about to buy a new fire but realized my wife doesnt use it for anything but reading she uses her phone for checking email and the web plus the fire really doesnt function well as a tablet the paperwhite is super light and she is able to read print even in bright light',\n",
       " ' my kindle keyboard broke the first weekend in november after 8 years of use sometimes heavy use but a lot of time spent on my nightstand because honestly i prefer regular books to ebooks but not having the eink reading option if i wanted it was irritating so with a little research i bought the new paperwhite',\n",
       " ' this is the first paperwhite kindle i have bought i have had numerous kindle fires which i have liked the paperwhite is good but i had to get use to the screen it is just like reading a book i find its a little slower when maneuvering around the battery life lacks though im a avid reader and at home all day i have to charge this everyday if you want this and you read all day like i do you will need to have another kindle so you can continue reading thank god i have a kindle fire so i can continue reading i am confused why the battery runs down if there is nothing really running on it and i do take it off wi fi the battery life needs to be changed to make this a better product it took me a while to figure out how maneuver around it its ok im glad i got it at a sale price because the battery is my biggest issue in the future i will probably keep to a kindle fire which is cheaper',\n",
       " ' i really like this device because its like an upgraded waterproof voyage without the buttons the device is similar to that more than it is to the kindle oasis i traded my kindle oasis 2017 in for this device because i wanted something simpler and lighter and paperwhites are also known for better battery life usually',\n",
       " ' if you already have a paperwhite or a voyager and consider upgrading the only question to ask yourself is do you keep dropping your kindle in water if the answer is no there is no reason to upgrade whatsoever',\n",
       " ' caught mine on special for 80 bucks so it was pretty much impulse territory i got the second gen kindle many moons ago and loved it but it was a very quirky device and the 120dpi screen was not what i had hoped it would be once ipad hit 300dpi screen resolution i really stopped keeping an eye out for the mythical hi rez eink ereader that had been promised they did finally pop up but were typically too expensive to justify in addition to my ipad the only complaint i have about the paperwhite is also one of its advantages in some circumstances that is its size the device is overall about the foot print of a very thin paperback think 100150 pages this means the screen is somewhat smaller than a typical paperback page and there are still margins inside that so if you are a fast reader and maybe have the font size bumped up a bit because your eyes are not what they used to be you are flipping pages at a pretty good clip fast enough that the short but noticeable page load can become somewhat irksome but it lasts multiple days on a charge and doesnt take up much space and unlike my original kindle it isnt a massive risk to read with it in a tub or by a pool and it has a backlit screen for reading at night to go along with that magical 300dpi printed page quality resolution all at a pretty affordable price ambient lit eink still makes for a better reading screen than backlit high res ipsoled screens but i have found this backlit eink is really much of a muchness when it comes to low light overall solid well sorted device for those who love to read but hate lugging tons of books around or constantly having to find a plug to top up when reading long form content',\n",
       " ' i purchased this upgraded version of the kindle pw for the audible books feature what a mistake the audiobook feature used bluetooth to connect to earbuds and this sucks the battery down incredibly quickly this combined with the general high battery use even in airplane mode with the wifi and bt off makes the device need charging an a daily sometimes multiple times basis even setting on the shelf with all wifibt and the screen shut off the thing will kill the battery in a week i traded my older pw 3 version in when i purchase this one and im kicking myself for the oversight',\n",
       " ' update after taking to amazon customer service and learning about his is normal due to the screen technology i decided to keep them i got used somewhat but the good thing is that it doesnt do that on the books itself so its not a problem im very much enjoying reading on the paperwhite the screen is much better for reading than the fire',\n",
       " ' this kindle is supposed to have come with builtin wifi which it does recognizes wifi signals and connected to my home one of the very few places where im comfortable connecting to a wifi network however when i was at the club pool i wanted to download a book and was unable to do so this is the 2nd kindle paperwhite ive received within 30 days that states it comes with both wifi cellular connections and yet the device is missing this very important component the whole purpose for buying this model was for the connection i can waterproof my 11 year old kindle by inserting it into a quart size ziplock bag and it works just fine i wanted to be able to finish 1 book and immediately download another either from my library or by buying a new one but amazon failed miserably on this one utterly disappointed that the rates keep increasing and the service keeps decreasing',\n",
       " ' this is my 3rd paperwhite and i love it i have traded up twice now finally it has the reverse contrast text feature and that is the one thing i missed from my old nook touch it is under accessibility in settings plus it is waterproof so now i can read in the bath the battery lasts a really long time at least a week or more and that is with a lot of use',\n",
       " ' i admit i was never really much of a reader i tend to read many technical documents at work but never really read for pleasure i think part of this is because books are a bit of pain to deal with but im also the person that will buy a physical copy of an ebook i like i ended up buying the paperwhite to try to read more and to take advantage of the ebook lending that my library offered this thing is awesome and lot smaller thin and lightweight than i was expecting the light is not the kind of light that blows your eyes out i have always been fascinated by eink displays and this one is no exception i like that the backlight makes it very easy to read in any light but isnt overpowering it does take some adapting to get used to how the touch screen works since its not nearly as sensitive as a smartphone but it does work pretty well i also find the text a lot easier to read than a traditional book which helps reduce eyestrain and fatigue while reading would i buy it again 100 i think im a convert the convenience size and portability have made it a lot easier to read im not saying im going to turn into a bookworm but at least itll give me something to do while sitting on the porch with the dog',\n",
       " ' okay so here is a weird coincidence after the new kindle was released my old kindle stopped calculating time remaining correctly on my books not a big deal but it is one of my favorite features since i can bargain with myself on how much to read before bed this and a couple other more valid reasons led me to buy the new kindle since the old one mysteriously disappeared from amazon',\n",
       " ' amazon gives you zero control of what appears on your device am i in a nursing home am i 5 years old i think i can handle a little control over my device images',\n",
       " ' first off its a paperwhite so its awesome nothing else out there compares it feels great in your hand is easy on the eyes lets you take all of your books with you everywhere you go has a battery life of like a million years',\n",
       " ' i bought this for my daughter who was moving to germany due to military orders i wanted her to have something to keep her busy especially for those times when she was missing her family well after 13 months of use the device completely stopped working the warranty expired after 12 months and when i called about it i was told that we would still be able to trade in the device i made sure to ask neil k if when he said i could do a trade in did he mean device for device he reassured me that yes that is what he meant however what really occurred is that my daughter was given a 5 gift card to use towards the purchase of another amazon item i do not mind following company policy however i do mind being given false information by customer service representatives had i known he was only referring to a 5 tradein i would have certainly asked to speak to someone else regarding the situation i am disappointed that amazon employees would give such dishonest information so i would like to let others know the need to be careful when having an issue and calling customer service',\n",
       " ' got the paperwhite for the wife as her current kindle is 5 years old and showing its age a bit took forever to get to us for all of them advertising having before christmas the set up was fairly straight forward although having to opt out of some many services just to get to the library section is a bit annoying she used it for about a day and when asked if she liked her new ereader she pulled a faced and said no not really id like to return it so youre not wasting money on it seriously this was her answer and she likes gadgets so i was a bit shocked and asked her what was wrong with it',\n",
       " ' i decided that it was time to upgrade my perfectly good but old paperwhite and ran into problems immediately i discovered that bluetooth could not connect to anything eg iearpods wonderboom iphone',\n",
       " ' quarantine made me break down and buy my first kindle lol libraries are closed and i wanted a way to read books without using my phone as using it for long periods of time fatigues my eyes',\n",
       " ' third edit',\n",
       " ' my kindle paperwhite arrived july 22 2020 earlier than the midaugust date i was given so i was happy except for the fact that the kindle was loose in the shipping box with no air paks so who knows how much it was knocked around since it was a very busy time for me i didnt even try to set it up until early august 2020 when i had trouble registering it to my current amazon account error message every time i called amazon support and was told that the serial number of the device in my hands didnt belong to me and was registered to someone else just so you know im really slick but im not that slickcant pull off something as cool as having someone elses kindle delivered to myself sooo a new kindle was ordered for me to be delivered in 8 weeks midoctober 2020 i already waited for one kindle and now i have to wait 8 weeks more the reason everyone wants one of these im supposed to throw away the kindle i have thats registered to someone else and apparently were not worrying about that poor schmuck i doubt i will throw it out to me it is clear that some sleightofhand has taken place and someone with access to orders has been looseygoosey with kindles but no one at amazon is talking me i just want one kindle paperwhite that has my serial number on it if it hadnt happened to me this might be an amusing tale but i am not amused and if everyone wants a kindle right now why am i supposed to throw away a brand new one',\n",
       " ' i debated getting a new kindle for a while we had some for our kids several years ago and i was hoping theyd improved dramatically since then overall ive been pretty disappointed',\n",
       " ' and i must say its held up',\n",
       " ' extremely tiny',\n",
       " ' i had the first kindle ever and loved it fast forward 20 years or so and i havent read as much or ive used an ipad or my phone i was away last month and decided i really need to be able to read in the sun so i picked this up',\n",
       " ' so im not a big reader i have a regular kindle and started reading from my kindle app i was having issues checking out the books and returning syncing etc not sure whats going on with it but there are always issues with it and its not userfriendly compared to an ipad for most tasks i bought this paperwhite so i had something more comfortable to hold it doesnt have any issues syncing i can load books on it really easily i like to go to my computer to pick out the books because it is difficult to browse with the black and white screen as well as the limited reviews however you just add the book and have it delivered to your paperwhite ive also had good luck loading books from my local library',\n",
       " ' i had an older version paperwhite that i loved a lot but it started to deteriorate and the screen stopped responding to touch it became quite frustrating so i ordered a new 10th generation paperwhite now im frustrated for different reasons i love the lighter weight sleek look and smooth feel of the 10th generation paperwhite the text is sharp and i like be able to adjust the brightness',\n",
       " ' youll notice my rating is high and my headline is critical heres why',\n",
       " ' i bought an original paperwhite in 2012 and have loved it it finally started to have some issues and will be handed down to my daughter soon i found the new on on sale and bought it for a replacement',\n",
       " ' ok its a nice light unit thin easy to hold but the background is not white its a very light grey',\n",
       " ' i had not used my kindle for a couple of weeks now the battery will not charge in researching i discovered that this issue occurs if you do not charge it regularly i had it less than a year very disappointing i actually really enjoyed using it but will not invest in another one i shouldnt have to',\n",
       " ' update 71620 i love this kindle paperwhite i havent borrowed a real book since i got it i am downloading books from the library as well as amazon kindle will load download from your library through overdrive which our library uses',\n",
       " ' i bought this because the glass is flush i truly hate the unflushed design in the other kindle and the oasis is too expensive even though it is really nice but i do also own it',\n",
       " ' i just dont get it as technology advances these devices should get better not so with this new kindle paperwhite waterproof i have had two earlier versions of the kindle i dont know what model about 710 years ago a voyager that i left in a hotel room an amazon fire 7 and this new paperwhite that i sent back after 4 days i had another kindle just before this one that was worse that i traded in i have had two problems 1 i can stand 3 feet from my router and the kindle will say no wifi signal that happened with this new one and the last one i sent back to trade in for this one 2 battery drains from full to 1417 overnight this is with it being in airplane mode i read the other reviews and the device being off',\n",
       " ' this is my favorite amazon device it is compact and can be carried anywhere 8 gbs of memory is enough for a decades worth of reading and audible books the new waterproofing makes it almost indestructible',\n",
       " ' ive owned several generations of kindle readers but none can compare to the paperwhite my wife and i spend six weeks each year reading on the beach and the latest generations of kindle are perfect she prefers the larger oasis while i prefer the more compact paperwhite each have excellent visibility in bright sunlight as well as effective backlights for evening reading great job amazon',\n",
       " ' i got it and within less than an hour am returning it there needs to be more contrast between the page and the writing trying g to read gave me a headache back it goes ive wanted one for ages and so disappointed',\n",
       " ' this is my second kindle ereader unlike my first one this one has been nothing but trouble when i go to add another book it blocks me demanding my password i have always used the same password it doesnt recognize my password or any other type of password i try ive been on the chat room with a rep finally after nearly an hour we are able to access my books in no time at all it starts shutting me out again nothing ive tried in the past works this time im sick and tired of going trough this idiotic routine i want a replacement unit or my money back period sn c001 6t02 9253 0452 purchase date august 16 2019 purchase price 12999',\n",
       " ' i had a 1st gen paperwhite for nearly seven years i used it frequently almost every day i didnt keep many books downloaded on it because of the limited memory but it had significantly slowed down it took 1015 seconds to wake up but this was literally the only issue with it so my standards going into this new kindle were high',\n",
       " ' this is my first kinda paperwhite i was using a kindle fire to read before this so that is my comparison',\n",
       " ' this is my second kindle paperwhite the older one stopped letting me charge it and i thought a few upgrades were in order because i read more on the kindle than anything else i bought the one with the mega 32 gb because the associate at the amazon store said this one would let me enjoy audio books i like to do jigsaw puzzles so how perfect to have a new use for the kindlebe read to while playing puzzles at the same timesounds perfect to me sure ill try what a hassle though to pair with a bluetooth device i cant believe how long its taking me oh and there are a zillion books out there in audio but the kindle only likes its own format which is on audiblecom which costs about 15month no thanks to that id like to borrow audio books from my public library in the same way i get other books to read but no can do i spent two hours chatting with customer service last weekend to figure out what i can do to get a nofee audio book or to even buy one once in awhile without joining audiblecom its not easy but of course to listen to an audio book i need headphones earbuds or a speaker connected this is a scream a plea on bended knee to amazon omg you guys need to get your act together add a freaking speaker to the kindle how about an audio jack how about some color on the pages for a few pictures now and then i love biographies and theres always photos in those books along with some decent resolution there were a few pictures in one book that landed on my older kindle but the resolution was too poor to enjoy the kindle should be so much easier to use i would happily add a dongle to plug in my wired headphones to but guess what i cant even find one on amazoncom i asked the person who sold me this kindle at the amazon store and they dont sell kindle dongles at the store either i went to best buy and they dont have them its a good thing i love to read text but i dont need so much memory for my small library i do want to get into audio books though very frustrating experience id give lesser ratings but the truth is when given a choice a choose the kindle to read from oh and the bit about it being waterproof well the 40 case i bought for it of course the case i had with the older kindle doesnt fit the new one since the standard size has changed is not waterproof so watch out for that too i hope someone from kindle reads this',\n",
       " ' im coming to write this review because i recently read a book and took a ridiculous amount of notes while reading and it made me realize that there was absolutely zero effort put into the software behind the kindle',\n",
       " ' i had the first generation kindle fire and finally decided to upgrade now i will admit the fire and the paperwhite are different but there was some features that really took me by surprise',\n",
       " ' realize that this product does not support listening while reading simultaneously you can do one or the other theoretically there is little support at amazon for their devices so if you are trying to read and listen to a book one then the other technical support knows nothing about this feature or download problems its also difficult shopping for the books and matching the audio to the regular text books that have this feature my experience so far has been that the feature is flaky and support non existent so dont waste you money on extra memory for the storage of audible books like i did just listen to them on your phone in fact just keep your old kindle the best new feature of this device is that it is splashdunk proof in water untested that is really the only improvement i had a waterproof case for my old kindle and never should have blown 180 on this new kindle',\n",
       " ' i have a kindle 3 and i adore it but i have to have a light on to read it i wanted another kindle in order to be able to read in circumstances where i cannot turn on a light so i bought a kindle paperwhite during the amazon prime sales event im very disappointed in the touch screen its the worst touch screen ive ever experienced with a touch device and i dont see a huge difference in the type quality despite the paperwhite being seemingly better because it was on sale ill keep this but will only use it when i have to read in complete darkness otherwise im sticking to my kindle 3 which is easier to hold easier to use for highlighting text and easier for turning pages',\n",
       " ' the description on this item is misleading this device does not have cellular connectivity which renders it useless the comparison chart specifically lists this kindle as having cellular connectivity yes it holds many books but if someone has kindle unlimited as i do and they are out at sea or another remote location which we regularly are there is no way to download new books kindle unlimited only allows 10 books in the query at a time and i read those in no time if cellular is not available i can no longer use the kindle unlimited i pay 999 month for i have had 4 kindles since 2011 and this is the only one that does not have that feature i paid under 100 for the last kindle i had with 3g and now you cant get that feature unless you pay 249 i am returning this item as it is not at all useful i am very disappointed',\n",
       " ' i have the kindle generation 2 and the kindle fire i love my kindle gen 2 and my only complaint would be that it didnt have a backlight for reading at night ive had this kindle since christmas 2011 it was starting to lag when trying to advance to next screen or connecting to amazon so i decided to buy the kindle paperwhite i absolutely love it you can adjust the brightness and it is still glarefree in the sun it has the word wise feature awesome and it doesnt require internet connection to use the dictionary there are more choices for font type and size it navigates quickly at least compared to my older kindle i only turn on wifi when i first turn it on or wake it up to sync and check for updates then i put it in airplane mode i do this since quite a few reviews stated the battery dies quickly ive read for several hours and the battery is only down to 68 3 hours a day for 4 days the next time i charge it i will experiment and see how much faster the battery drains with wifi on vs airplane mode while reading i would definitely recommend this product',\n",
       " ' i really like reading on this the resolution is good enough that i can read natively pdfs just fine for the most part or use pinch techniques to expand',\n",
       " ' my biggest complaint about the original paperwhite was that it wasnt waterproof and got crumbs stuck along the screen edges this model had a flush screen thats waterproof which is a great new feature the downside is theyve redesigned the default home screen so you dont default to your book collections which is a pain in the bum but not a huge deal the battery however does not seem to hold a charge as long as my old one i used to charge once a month reading daily now im charging ever other to every week which is a bit of a disappointment still the only way i can read in the car still has adjustable back lighting good text contrast and adjustable font so id still consider it the best ereader brand ive ever used and highly recommend it for the heavy reader',\n",
       " ' honestly this would be better labeled water resistant theres a standard usb charging hole and a mechanical button and we are instructed to dry the device carefully and immediately if it should get submerged still this is enough to let it be used in a bath or by a poolside so its still pretty nice',\n",
       " ' i purchased this kindle because i wanted one i could take into the bathtub with me to do my readings for school it appears to function as well as my kindle voyage though i wish this one had physical buttons for page flipping i also noticed that the keyboard is finicky and even when im touching the correct letter sometimes another letter gets typed instead however these are not big enough gripes to dock any stars the kindle does exactly what i wanted and needed it to do and thats being my bathtub buddy',\n",
       " ' this kindle paperwhite failed after 7 months yes one month after the support limit it randomly skips and jumps pages goes unbidden to the dictionary does whatever it wants to do with no direction from me it is unusable needless to say this is a great disappointment i have not been able to find out how to contact amazon about this problem anywhere on the website',\n",
       " ' i bought this new paperwhite on the exchange plan it was billed as the newest model with the latest upgrades i can say that the evenness of the screen light has been improved noticeably on the other hand the touch screen seems to be sluggish and even more so the wake up time when activating my several year old unit was much better at both also the battery life is touted as lasting weeks rather than days im not sure how much you read but i can suck down 10 or more of the battery at one sitting im not believing ill be getting much more than a week out of a charge',\n",
       " ' the paperwhite is a good reasonably priced device with a good screen and great battery but slow performance',\n",
       " ' seems i got a good unit works almost perfect and after taking a long break from reading i am now reading daily and enjoying it on the kindle this being my first kindle i am very impressed reading on the kindle is a pleasure i dont use the backlight during the day and during the night the lights serves me just fine read a bit of negative reviews that put me on edge but the price drop to 89 usd made me pull the trigger the power button doesnt bother me much and neither do the adverts or slow start up but then again this is my first ereader just hope it lasts',\n",
       " ' i was used to my old kindle but with the 4gb limit i was looking for something new some of the features of the new one i didnt really think id care about but now that ive had it for a day i really like the smooth front and the backlight',\n",
       " ' the selling point that made me purchase was the invert colors in bed i like a black background with light text to make the screen darker the first problem is that you dont get a black background its a grey that pushes a lot of light in comparison my samsung tablet gives a true black background',\n",
       " ' i have an older nook with eink display and have always really enjoyed the premise but wanted something more modern when i saw that this was waterproof i was hooked it reads just like a paper book the light feature is gentle and perfect for night reading the battery lasts for weeks im not worried about water damage at the beach or pool 100 would recommend if youre an avid reader like myself',\n",
       " ' the physical design is perfect light and comfortable to usehowever at the end of every single document the device gets stuck on the rating screen and i have to restart the device plus for a device that is only displaying txt in black and white it is pretty sluggish when clicking through options very disappointed and going back to my nook tablet',\n",
       " ' i am so disappointed i truly enjoy my kindle reader and was excited to order one that was waterproof mistakenly assuming that it would be as great as the one i had and have more downloading books that i had on my previous kindle is a royal pain the lighting is much worse there is virtually no technical support it comes with a cord that doesnt work',\n",
       " ' i have been a reader virtually all of my life i prefer the tactile feel of a physical book and weirdly so the smell of the pages as i get older and start to travel more in our rv i considered looking at a kindle device i ended up purchasing a refurbished 6th gen kindle on woot it was ok and i could understand the utility of an ereader after a few weeks and a conversation with my younger daughter i also signed up for the kindle unlimited free trial',\n",
       " ' what can i sayamazon ereaders are the best comparing to my older paperwhite reader the following are much better there may be things i havent figured out as of yet',\n",
       " ' i got the 32gb model without offers for reading light novels and manga and hen ties and i dont regret it',\n",
       " ' i have been using the amazon kindle keyboard 3rd gen since 2014 i liked being able to just press a button on either side to both go forward and backwards i found how to swipe left to go backwards if holding it in a different hand on the new one not as easy but ok',\n",
       " ' i traded my 6th gen kindle for this 10 gen kindle and i am not impressed the kindle feels excellent in the hand but it is terribly slow and glitchy it was like an act of congress to get items deleted off between my amazon account and my kindle the audible feature which i was so excited about took hours to download i use my iphone kindle app and it is far an away better than the actual kindle i am sorry for this because i liked my old kindle but it was getting slow i just do not see any noticeable difference in speed and efficiency i wish i did and i wanted to love this but i am so sad to have to return it the price bundle for this was awesome',\n",
       " ' the latest paperwhite is very light it has the perfect feel in my hand weight size dimension everything i also really like the blue color backing the download speed is at least 3 or 4 times faster than my previous paperwhite love it the one thing that has not improved however is the touch screen swipe and scroll is not smooth choppy and klunky but that has always been the case with the paperwhite',\n",
       " ' kindle paperwhite review',\n",
       " ' got it today loved it easy setup user friendly just like my other kindle products downloaded an audiobook i usually go to bed with an audiobook playing and depend on the sleep timer to turn it off for me if i fall asleep there is no sleep timer for audiobooks im crushed this makes no sense all my other devices kindle or not have the sleep timer for audiobooks sorry kindle dealbreaker for me should have been mentioned in the glitzy sales pitch',\n",
       " ' 1 very bad thing us the constant black to white flashing i get whenever i touch the screen i love the weight it is extremely easy to hold without my hands shaking',\n",
       " ' updated review',\n",
       " ' this paperwhite is lighter smaller and has extended battery life did not test the waterproof feature this paperwhite keeps resetting itself other users have had this issue search the internet they recommended fixes but none worked for me spent two hours trying to fix the self reset issue to no avail i traded in my old paperwhite for this improved paperwhite totally fed up with this device so i returned it for a refund',\n",
       " ' it is slow',\n",
       " ' i grew up an avid reader and bought a first or second generation nook many years ago when ereaders were new and clunky i ended up using it once or twice and eventually gave it away for free years later resigning myself to being a physical book type of person unfortunately the free time to browse and linger in the library that i had growing up is now scarce i turned to purchasing my hard copy books online choosing which physical book to spend money on and devote bookshelf space to resulted in a kind of decision paralysis that led to not jumping on many titles that looked interesting also i will not lie to you somewhere in the last decade i transformed into a screen addict that spends too much time on her cell phone i clicked around the internet and read lots of things online wellwritten news and columns along with a morethanhealthy share of poorly written news articles list mills facebook posts click baityou get the idea this kind of screen conditioning has resulted in me being more likely to pick up my little screen when it comes time to choose between it and the book its sitting on top of on my nightstand',\n",
       " ' my kindle paperwhite was stolen and i missed it desperately especially for bedtime reading but i really resented having to pay so much more for the upgraded version than i had for the last one is it lighter weight definitely but i never found the last one too heavy is it waterproof dont know i never take it to the beach or the bath i can see why that might be an appealing feature for some people longer battery life dont know i havent owned it last enough to say it seems to be a bit harder to return to a previous page using the touch screen ive found myself a couple of pages ahead instead a few times font and light adjustments work as well as they did in the previous version my favorite feature',\n",
       " ' okay so heres the dealdo not buy this i order my kindle in march of 2020 i had only had it for about two months when it got stuck on the waking up screenmy brand new kindle i had not done anything to it i mean i had barely gotten to use it i contacted customer service and we stayed on for an hour troubleshooting after an hour they informed me that my kindle would need to be replaced i was pleased that they were so helpful and willing to replace the kindle however i received my replacement kindle today and it is a refurbished kindlethats just not what i paid for i paid for a brand new kindle and that is what i wanted the technology crapped out and now i dont get what i paid for because the technology is inferior that just seems like bad practice and it is upsetting because i have always been impressed by amazons customer service but this was really disappointing i guess my recommendation would be not to pay for a brand new one because they apparently dont work and youll probably end up with a refurbished one anyway so save yourself some money',\n",
       " ' i purchased this newest paperwhite because my 2012 model finally quit after 65 years after reading mixed reviews about the newest version and with my old one as the standard i was a little skeptical about this one not to worry after a little confusion about when i would get my new paperwhite it came on time and some time setting it up and downloading a couple hundred books i am as happy as before this paperwhite 8 gb storage and no ads is more adjustable and more comfortable than the 2012 version and it reads in daylight at least as well dont know about the review that said no anti glare no readability in daylight etc but i can verify this paperwhite is still excellent i dont know about features like audible etc that i will never use but this reader is the best',\n",
       " ' i had purchased my kindle a little over a year ago at the beginning of the month it stopped working for no reason when i called amazon they did not provide any support since the warranty of 1year had expired i asked for guidance on where could i fix the device however i was told they do not have such a service or they know where it can be fixed other than offering me a 5 worth trade in or a 15 off on a new device why would i get another one of these poorly developed devices they did not provide any resolution i would definitely choose to go with any other ebook reader',\n",
       " ' upgrading from the previous generation kindle paperwhite i can really appreciate the uniform led lighting smaller formfactor flush waterproof design and audible support however instead of the usual black kindle logo the new paperwhite has a distracting conspicuous white logo the designmarketing team should have really understood that an important value proposition for kindle is distractionfree reading so it was a rather poor design choice or perhaps a cheap marketing ploy i hope in the next iteration they revise this and consider a less eyecatching way to promote the kindle besides this i tend to agree with what others have already noted',\n",
       " ' books bam',\n",
       " ' my 6th kindle just died after two years none of them have lasted more than 3 it is a battery issue',\n",
       " ' i got this specifically or the built in light as i have a little one i snuggle with while he sleeps and i dont want to be too obtrusive to risk waking him up i also occasionally get so immersed in my book that i can not seem to put it down which can lead to some issues when reading in a dark room and my husband is trying to sleep',\n",
       " ' ive own the kindle since 2011 it was a big change for me at the time since i used to carry 23 books with me to work and school started reading on an ipad and that gave me headaches',\n",
       " ' i was using a fire hd 10 primarily for reading and decided to try the paperwhite for less eye strain im not sure if there is any difference yet what i do know is that the touchscreen is absolute crap in comparison it is so slow and totally unresponsive it is impossible to get out of a book make a bookmark or skip ahead it just keeps turning the pages also the orientation is fixed in only 2 positions which is ridiculous if i want the charger to come out the top i cant flip the book to read upside down when i try to access the return and borrow functions it takes forever to process i am very disappointed in this product',\n",
       " ' love the kindle paperwhites in general had two previously the last one was a 7th generation that lasted two years thats pretty good i am very hard on things in general screen finally gave way while working which is alot of manual labor i carry the paperwhite in my back pocket or jacket on cold days it took alot of abuse the battery was perfect and lasted forever i loved it',\n",
       " ' this is the third kindle i have purchased this new kindle pretty much operates the same as the last kindle version i have so there was really no new learning curve the light is brighter and the words are more crisp on the screen the touch screen works exactly like my previous kindle the battery life is about the same if not a little better as long as you leave your kindle in airplane mode while reading and only turn it off while purchasing materials for your kindle',\n",
       " ' i upgraded because i bought into the marketing language of waterproof and the slightly smaller and lighter build once i received the new kindle i did notice that it actually felt lighter slightly smaller and a little more portable i liked the slimmer profile and trimmed bezels after using it for a day though i found some annoyances that made me retreat back to my previous version with this new update you lose the paper feel of the previous screen this screen which covers the entire front of the device is smooth and slick to the touch leaving fingerprints everywhere it also produces a significant amount of more glare still way less than an ipad than the previous version my device had some residual glue from manufacturing on the right front of the device around the edges another annoying feature was the waking up from being locked that took an extra few seconds to get into reading im aware you can turn off this feature but doing so quickly drains battery life which already occurred at a higher rate than the previous version lastly while the backlight is brighter than the previous generation that also means it doesnt dim as low i do a lot of reading at night in bed and i found the lowest brightness setting to be several levels brighter than the lowest setting on the older model for now im sticking with last models paperwhite and will just continue taking extra care around the pool',\n",
       " ' ive had a paperwhite for four years but it plotzed out on me and nobody at amazon could help so i figured id upgrade',\n",
       " ' first device had multiple issues first it was a bundle meant to include 6 months free subscription to the kindle library problem was after purchase there was no way to claim it in fairness to amazon they did give me credit for it second issue the device and charging cable did not match third problem the screen would display at times like an etchosketch that was being erased if you are not familiar with the device not to worry just younger than me fourth issue the device would freeze',\n",
       " ' this is my first kindle paperwhite its beautiful and functional the built in light is amazing for reading outdoors and its very user friendly the battery lasts forever and the touch screen is responsive the small size is perfect for even my smallest purse and it weighs practically nothing i no longer have to worry about messing up a book while throwing it in my bag plus i can switch books depending on my mood or progress level without having to carry two or three books like before i am thoroughly in love',\n",
       " ' bought this and was excited about the upgrade but just over a year later and with very little use the battery will no longer charge at all just stays on the screen with the battery symbol with the exclamation mark this is pathetic product sure did seem great until it died after just over a year with less than 30 hours of actual use should have gone with a nook i guess or whatever the other competitor is',\n",
       " ' i upgraded to this because of the extra space and the waterproof feature i got what i wanted out of that but i am not a fan of the yellow tinted screens i read a lot an average of 6 hrs a day i want something that is really comfortable for my eyes i truly wish for the people who like this yellowed tint that they also made a choice option of the bright white screen of old i have problems reading on this one also i couldnt believe the amount of fingerprints i suppose this comes from no plastic bezel around the screen like some other reviewers i also dont feel like the response time is up to par with previous versions and i dont like waiting for my pages to turn it will serve its purpose for me but it could have been so much better',\n",
       " ' this is my 7th kindle 3rd paperwhite while i am a confirmed kindle user this unit has several significant drawbacks imho',\n",
       " ' hi all',\n",
       " ' i have had this kindle for 3 weeks now and use it about 30 minutes a day some days for an hour or more and have not had to charge it since the day i got it and i still have 23 battery id say thats a darn good battery life for anything',\n",
       " ' so far i use it to read books its great for that my only issue is the tiny onoff switch its very hard to use',\n",
       " ' i read a lot together with the fact that im somewhat forgetful lends to the fact that ive owned almost every kindle to come out this is by far the worst of them it seems to be following a trend with the kindle product line in the last three years the voyage was incredibly good first round of the oasis pretty good second oasis was definitely a regression being so slippery and unwieldy i thought this being the newest would reflect all the lessons theyve learned about making effective ereaders over the course of their history this was totally wrong',\n",
       " ' i like my new paperwhite because it is light and has a longer lasting battery i knew that i would have to give up some feature to get the extended battery use but there are a few features i really miss from my fire and i hate the interface it is all to similar to the one bn updated to on my nook a few years ago that was one of the reasons i switched to kindle i am sure that i will get used to the lesser features but the extra steps and the missing feature will have me returning to my heavier fire more than i intended for now i really miss features that i could do on my fire but that i will have to go to my computer for',\n",
       " ' i have had kindles since they first came out my old kindle voyage was getting so i had to recharge it everyday so i thought i would try the new paper white have to say i am disappointed that it is not really improved other than being waterproof they really need to work on improving the battery they say weeks which is totally not true if you read daily the charging cord that came with it did not fit the plug it was too big to insert in the hole i contacted them and they told me to buy another cord and they would refund the cost which they did the cord took a week to be delivered thankfully my cord for the voyage worked because it needed charging before using',\n",
       " ' update changing my 2 star to a 4 star rating finally about to get in touch via chat to get a replacement it definitely took some time to verify information but it was worth it the only thing on the screen was an image of the battery with an exclamation mark i guess this is similar to the blue window of death on your laptop customer service was excellent and patient as we worked through all the questions while my daughter is insistent on using the kindle and loves it i have found the app for my phone enjoyable and never had an issue with it i have not used the app on my ipad but would think text would be easier to read this comes down to personal preference i leave as a 3 star rating since i am rating the kindle product and not the kindle service',\n",
       " ' bought it last week they hope to deliver it in 2 months if youre in a hurry this is not the ereader for you havent rated features since i havent received it its a kindle i assume its fine ordered a new one because my trusty old paperwhite has been rebooting itself a lot lately so i assume its wearing out also wanted to get a new one before they decide to add alexa that spying witch seems to be everywhere',\n",
       " ' thanks you for listening to me and for the update that fixed my concerns customer service still exists this is my updated review',\n",
       " ' i had been reading ku off of my samsung tablet after a few hours i just couldnt make out the letters to read a friend told me it had to do with the lighting and i needed to get a kindle because it was better on the eyes',\n",
       " ' wish it came with a small printed booklet to help people new to kindle with simple instructions things like how to borrow a book instead of purchasing etc i purchased the instruction book but find it annoying to look up and read instructions on the same devise im trying to learn use love the touch screen built in light is great for reading in bed or on night flights and the long battery life is great i also like being able to make the print larger it should have come with a wall plug adapter as well as the charging cable overall a nice way to read',\n",
       " ' mostly going to echo other peoples comments with the added note that the fact that patches still havent been released for the blinding light issue is sloppy and unconscionable',\n",
       " ' its easy to take your book anywhere with a paperwhite i like that i can read it on my deck in the sun and easily carry in my purse i love that i can also access my books thru the kindle app on my phone i highly recommend that a person buying a kindle buy a cover not only for protection but because it shuts down your device when you open the cover it wakes up i have not had to test its water resistant feature my only disappointment was how long it took to receive it once i ordered it i guess amazon has spoiled me for delivery usually within a few days i believe it was 1012 days from the date i ordered until i received it luckily the library was finally open so i could get some books to read while waiting by the way this is my second paperwhite',\n",
       " ' i purchased the kindle paperwhite excited about not having to charge it after 12 hours of reading i have a kindle fire currently i have hundreds of books in my kindle account and i subscribe to kindle unlimited the paperwhite is the size of a childs board book with a much smaller screen the type allows for only 3 print sizes and the compact is larger than what i would normally use about a 10 point there is no arial narrow option in the font options result 13 less words on each page',\n",
       " ' what a complete disappointment id give one star for quality of the device and zero stars for customer service if i could this was just a few weeks out of warranty and used very lightly no dropping and no water even though its waterproof when i took it on vacation i hadnt been on a real vacation in about a year and i was so looking forward to readingbut two days in and this died completely leaving me with no books believe me i wont make that mistake again nothing beats actual pagesespecially when youre in the middle of nowhere and the last thing you want to deal with is another garbage electronic device eating your time glitching away',\n",
       " ' okay first of all as an ereader it does what it promises allows you to read digital content a on that heres the rest',\n",
       " ' sad i am writing this review because living at the beach i really really wanted a waterproof kindlehere is the problem1 the adjustment settings on brightest and same font are not as dark a print and paperwhite background and killing my eyes after 1 hour i love my original kindle because it is hard for me to read paperbacks only hardback books and that gets expensive here is my reviewthe kindle paperwhite the last generation is more like reading a hardback book dark print easy background light for older eyesthe new gen 10 kindle that i am returning even though it is audible waterproof and can store all my books is like reading a paperback which my eyes can longer due if you are older i do not recommend this new 10th gen until they fix the paperwhite to be darker print like the kindle gen prior',\n",
       " ' overall it works pretty good ive had several kindles this model has pros and cons relative to an earlier model kindle paperwhite',\n",
       " ' its very lightweight and i love the memory capacity on this however i am just really annoyed by the placement of the power switch what genius decided putting it on the bottom of the kindle is a good idea its where you hold the kindle at the bottom so youre more likely to press this stupid button and put it into sleep mode while holding it it wouldve been perfect on the top i hate this feature it just doesnt make sense to me',\n",
       " ' love this kindle originally purchased however for my mom who has really bad eyesight she went from a fire tablet to this but couldnt see the text even on the bright setting of this paperwhite',\n",
       " ' they say its water proof ive not checked that weeks of battery life i read a lot it hasnt proved to be as good as the last generation of paperwhite the screen feels smaller the page turn touch at edge of screen is different something im still getting used to backlighting is excellent power on is a little slow from book closed or on button at bottom',\n",
       " ' theres a common problem where the device will stop accepting a charge with an battery image on the screen i had one replaced and within a year the replacement started doing the same thing ive had a half dozen kindles over time and always handed down the old one now that they ran out of reasons to upgrade it seems they built in a shelflife customer support wont help because its out of warranty if they want to keep people in their ecosystem they really ought to improve the quality of the device or at least do their best to replace the tools that keep you locked in their ecosystem',\n",
       " ' so far so good i was not looking for a tablet or anything fancy i just want to read books',\n",
       " ' i bought this new paperwhite based on the advertisement saying it was so much better than the previous one i have had this one since may and absolutely hate it i hate it so much i am going back to my original paperwhite that never gave me any problems while there is a good battery life it is no better than the one i bought in 2014 the downloading time seems about the same it will frequently change font size while i am reading causing me to have to get out of the book and go into settings which also doesnt respond very well at all just today i got a new book and had to turn my machine off in order to reboot it because when i tried to read the new book a smaller version of the first page came on and no amount of touching the x would make it respond all in all i am extremely disappointed also embarrassed that i have suggested to many people that they should buy one because i love mine so much unfortunately i am now out 119 for something that doesnt work as advertised lesson learned dont be fooled into thinking that newer is better',\n",
       " ' 8 weeks of battery life lie built in light sure but is it going to be easily read in any lights no touch screen sometimes if its not thinking or doing something else the collections that come in are useless you have to remake and reapply so youre wasting hours potentially days of your life on what you already sorted if you make a collection and delete it on the device doesnt go away until you delete in under the amazon online account can you click something and know the page will advance when its ready to pay attention no no its not anything other kindles have as their best features cant turn off wifi hand no purchasable 4g option for those of us that travel and on top of all that the sync across all devices is an absolute yes or no cant start a book again not even asked just repeatedly forced to last page making off the only option if you want to restart not good the app is a much more useful bright manageable and even better lit option in reality will it get me though the trip sure glad i bought it get a fire if you truly love to read because the battery life is the same',\n",
       " ' i bought my first kindle in 2014 i thought about trading it in a few times but after reading many reviews about how awful the newer kindles were i decided there was no reason to get rid of what has worked so well for me then in september 2020 my kindle disconnected from my wifi and no matter what i did it wouldnt wirelessly connect amazon was offering a great tradein deal and so i bought the new waterproof kindle and hoped for the best',\n",
       " ' first review bought this item 4 months ago and noticed the battery life was shorter then expected tried to charge it yesterday and nothing happened i rotated to different outlets and that didnt work it arrived with a cord but no wall socket looked for lint inside the device and the cord but ive kept it covered when not in use very disappointed because the reason i purchased singularity for the long battery life sending it back',\n",
       " ' its a little slow the screen flashes every time you turn pages hit buttons or select options of any kind very distracting the flashing is very off putting and paired with my motion sicknessvertigo sensitivity it was not a good fit for me also battery life is ok if you do not use it often',\n",
       " ' i bought this as a replacement for an old kindle paperwhite that seemed to be approaching end of its useful life',\n",
       " ' this is my first dedicated ebook device',\n",
       " ' bought this kindle in april for avoiding going to stores in a pandemic replaced my older one which died and didnt take a charge trust me i tired every suggestion to get it revived 5 days ago this device had 60 charge and was in flight mode went to turn it on to redeem some christmas gift books and it is now as dead as a door nail wont take a charge wont reset nothing so my christmas day is going to be a labyrinth of various troubleshooting attempts thanks for another dead kindle amazon',\n",
       " ' ive always used an ipad pro as my kindle and am therefore likely spoiled by the quality of the ipad i finally purchased a paperwhite and am quite pleased with it its a little small and strangely a little too lightweight for my taste that said it is extremely portable rarely needs a charge never loses its wifi connection and is very readable being an ittech guy it really bugs me that every time i turn a page it inverts colors to white on black then back to black on white after the page has turned the touchscreen isnt like an ipad either but then again the paperwhite costs 110th the price or less of my latest ipad all in all i would recommend the paperwhite and would buy it again should i have the chance',\n",
       " ' i waited a few days before i wrote this review because i was very upset when i received the thin little box that brought this kindle to me and wanted to cool off but the more i think about it the more upset i get i bought this as a christmas gift because i have a paperwhite that has served me well and am welcoming a daughterinlaw to the family who is an avid reader when i purchased my paperwhite an adapter was included with the purchase makes sense to me because you have to have the adapter to make the electronic work right no now you have to purchase it separately really you are using a product i purchased to already further your own business those special offers included on the device and you wont pony up for an adapter that probably costs pennies for you now i am torn between returning the device or just buying an adapter for less money from somewhere else amazon you are truly testing this prime members loyalty by chintzing out on a product that i have recommended to others for years is that worth the price of an adapter',\n",
       " ' this small light device is a joy you can use it in any lighting situation without needing an auxiliary light im still getting used to the differences in controls from my old kindle i have only two criticisms it is too easy to slip and touch the edge of the screen and advance the page without intending to do so the edge of the device where you might hold it is quite narrow allowing for finger slips the offon switch is a button rather than the old slider this also makes it easy to accidentally turn it off while reading in bed if you rest it on your body or another surface i imagine ill get used to those things over time',\n",
       " ' this has been amazing for staying up with a newborn at night the adjustable light fonts and sizing ridiculously long battery life and ability to add prime books right from the kindle are all great features',\n",
       " ' i purchased this kindle for my wife who reads paper books with difficulty when she started with the kindle all of the print became very clear due to backlighting and reading is back to being a wonderful experience for her three drawbacks the kindle is not user friendly enough for people who have not grown up with 21st century technology kindle could have done a better job with this the user manual is not easy to follow you have to sit down next to a computer and find the manual in order to set up the device also my wife subscribed to kindle unlimited and found that it was indeed limited the first two books were not downloadable and had to be purchased what good is purchasing a lending library service that will only sell you the books you want that was a disappointment and eliminated the appeal of the service very disappointing because we have always had superior service from anything associated with amazon bottom line once you have mastered the intricacies of kindle its a godsend for people like my wife who read hard copy with difficulty',\n",
       " ' i wont tell you how many kindles are laying around my house because its a lot i still have the original one when amazon first came out with them and it just now stopped charging after many many years so i would say that it very much so outlived what i expected i got this one because of the small size and i love reading with it in bed i can pop it in my purse and take it with me very easily and i have always loved the paper white function of these i love using the fire as well but it is so big and can get uncomfortable if you read for hours on end like i do the battery life is amazing i charge this to full once a week and i am good to go for at least a week or sometimes two between charging i will say i have never been disappointed in an amazon product and i have quite a few of them including several alexa devices and the tv fire stick thanks amazon for making such awesome products i was not paid or given this product for a review',\n",
       " ' the kindle paired with the free reading from prime and the kindle unlimited subscription reinvigorated my childhood love of reading the kindle makes reading convenient i never took advantage of amazons reading with my fire hd10 because it was too cumbersome to hold for hours on end and the battery simply couldnt handle it the kindle on the other hand is purpose built for reading it is practically glarefree in most lighting and the backlighting is great most of the time i have the backlight off and at night time in bed i have my light at maybe 5 or 6 maximum out of 15 my kindle only needs to be recharged about once every week or two and im typically reading every day my only real criticism is that touchscreen interaction tends to be delayed now whether that is due to a slow cpu or the nature of the eink design i dont know but a more responsive interaction between touching the screen and seeing the result of the touch would turn this into a perfect device',\n",
       " ' first to start the review i have to mention that in the past ive had a kindle 4th gen and theres a reference to compare it to the outstanding thing on the new paperwhite is the screen resolution this thing holds up pretty well and you really appreciate it when you have to read pdfs',\n",
       " ' when ereaders first came out i received a sony reader for christmas and i absolutely loved it the display was exactly like looking at the page of a book and it didnt glare and the books for it were really cheap eventually the battery wouldnt hold a charge and it was harder to buy books for it so i quit using it and went back to plain old books i finally broke down and bought the kindle paperwhite on prime day ive been using it for a while now trying to get used to it so i could leave an honest review but no matter how hard i try i cant make myself like it it has a glare sometimes so its not truly like a book page and for some reason glares drive me crazy its supposed to be waterproof so ive used it a bit out at the pool but after being outside for a while it gets so hot im afraid im going to ruin it if i keep it out turning pages is a nightmare sometimes it turns the page then sometimes it doesnt do anything at all ill try to turn it again and it turns a whole bunch of pages so i have to figure out which page i was trying to get to in the first place a lot of times it doesnt register when im trying to select something with the touchscreen especially on the kindle store ill have to try to select something multiple times before it will ever open kindle books are also more expensive than i expected many books ive looked at havent been much cheaper than their print version its a lot easier to carry around instead of lugging a bunch of books with you everywhere but thats the only positive ive been able to find so far ill probably use it when im going to be moving around a lot to save from carrying a book with me but im most likely going to stick with my plain old paper books and hope i dont run out of space to put them',\n",
       " ' i love using my kindle paperwhite for reading it is easy to travel with although dont forget to take it out when you go through security i like being able to stick it in my purse or backpack easily it is also so lightweight that sometimes i forget it is there i like the screen although sometimes it is hard to select text to highlight or look up a definition i find that my fingers are either too big or the screen is not very sensitive maybe i should try using a stylus with it',\n",
       " ' i am the type of person that always has a book to read and like to actually have the book in my hand for awhile i have wanted to try a kindle but thought i would not like it since im a book collector too i got the kindle app and really liked it i ordered the new kindle and absolutely love it i can read all types of books and in some cases get the audiobook for free but ive never used audiobooks before the kindle itself is user friendly but i wish it was in color because the book covers are hard to see for me even when on a bright setting plus id like to see an off white background instead of stark white or black i do like the inverted feature for reading at night and you do not need a light on which helps to let your partner sleep for late night reads also its really neat that you can change the font as well as the page layout and make the text bigger to fit your own needs i highly recommend the kindle due to convenience to order a book right away and download it instantly as well as if you are one that likes to carry a book around its smaller than i thought but its slim and fits in a purse nicely i did not think id like it but i love it and glad i purchased it now i can carry thousands of books with me and always have something to read',\n",
       " ' i bought this to replace an 8yearold paperwhite what was frustrating about my old one was its slow page turns and the fact that the pages would often turn in the wrong direction and the only way i could get it to correct was by going to a further back page or location well the pages turn very quickly but today after about a week of use i just had my first instance of the pages turning in the wrong direction i would have thought this would have been corrected in the new models again the only way to get out of the problem is to go to a further back page or location',\n",
       " ' finally bit the bullet after wanting a kindle for a while and went with the paperwhite version i was very happy to see its offered in a few colors besides grey so i went with sage and it looks very nice i like that the leather cover i picked up was available in the same color as the kindle itself',\n",
       " ' i had an earlier version of the paperwhite easier to use downloaded faster setting and features easy to intuit this one is slow to download shuts off if you leave it sitting and doesnt continue download and except for the builtin light is an inferior product to the older version i cant comment yet on battery life but just letting it set face down for a week drained almost 40 either this is a terrible upgrade of a formerly great device or i got a lemon',\n",
       " ' i already owned the previous version of paperwhite but wanted to add my audible account with the new waterproof bluetooth version of course i can use my phone for listening to audible but why run down its battery plus by listening on this new paperwhite you dont have other apps calls or notifications interfering or slowing down your listening pleasure',\n",
       " ' since i have no use for audibles and managed not to drop my previous kindle in the tub while reading this isnt really an upgradebut the various deals made it a almost free to upgrade so why not',\n",
       " ' i have to say i am not very impressed with it i love the battery life it is longer than my older one my older one also has a built in light and touch screen that works well when i heard that i could transfer my books from the one to the other i was excited what i didnt know was that they would not be transferred in the book collection that i had most of them in so i have to go through my new kindle and put my books in the book collections they should have transferred the way they were but now i have to do it again i had to do it the first time also i paid for audio and dont see anywhere or anyway to use that so i am a bit disappointed in it',\n",
       " ' i loved loved my kindle fire that i bought in may of 2017 unfortunately last week it simple died will not charge cannot boot it up just done for which surprises me because i would think it would last longer than two years so i looked at the current kindle tablet options and am not savy enough to figure out if that would be the best replacement for my kindle fire as i predominantly used my kindle for reading i decided to order the kindle paperwhite i have now used it for four days and really have to say i dont like it it is small there is no color anywhere i am used to seeing the color of the covers of the hundreds of books i own it only holds the chosen orientation for reading not for the home page i want my home page to only have books on it that i have not read or am currently reading but i cant make that happen i am considering returning it and ordering a tablet but i read a number of problems with that device also any advice would be much appreciated',\n",
       " ' i purchased this product so i could read in the middle of the night while feeding our new baby my ipad is just too bright so i needed something that wouldnt wake the baby with all the light it put out i also hated the onscreen glare from the ipad when i was trying to read around fluorescent lights',\n",
       " ' i bought this particular kindle because it offers audio my other kindle was perfectly fine but audiobooks were eating up the battery on my android quickly so i thought this would be a great choice come to find out only audiobooks from amazon can be downloaded at this time in an mp3 format this means that i have to purchase books from amazon i will continue using my phone for audiobooks as for other books the kindle is great i think amazon should have been more upfront with this information but shame on me buyer beware',\n",
       " ' i bought this to replace a fire 8 that seems to be having battery issues after 3 years of use i realized i mostly read books so thought a reader would be the better option',\n",
       " ' my 2 year old kindle didnt seem like it was holding a charge the same way it used to so i ordered one of these went to move my collections to the new kindle old collections names showed up on my new kindle with the old kindles the books came along with the collection sure the books came along but you have to individually load them since some of my collections have over 100 books that wasnt going to happen in my world chatted with amazon to find out why this was working this way they told me they would get back with me and they never did',\n",
       " ' i purchased this kindle to replace my fifth generation version because of a few features that i really wanted after 6 months of use heres the good and bad ive discovered to date',\n",
       " ' i have purchased over 10 kindles over the years and loved them this one happened to not work you would think no biggie ill return it here begins the nightmare note im writing this after over 6 weeks ive been trying to return the item due to a product defect amazon customer service would email me a return label i would click on the link and asked to put in my email and password then it would tell me it was incorrect i called cs back and they would send another email that did the same thing so i called several times more to ask for a return email to be sent to me im still waiting on it note ive been calling weekly this is not customer service every time i call i have to explain why im calling to several people and stay on hold for an unusual amount of time well over 30 min while being transferred to department to department this is insane im going to contact my cc and let them handle the dispute ive tried my best to send it back',\n",
       " ' love love love this its perfect i took this to ireland with me for three weeks so much easier than carting books i did not have luck with other e readers in the past when reading in sunlight this one is perfect',\n",
       " ' i have had several kindle devices over the past decade i purchased this kindle as part of a tradein deal during amazon prime day 2019 and it is not nearly as good as the old one i traded in i think it was 7th or 8th generation i regret doing so in fact its downright unsatisfactory',\n",
       " ' i upgraded my previous paperwhite to this one and i have regretted it ever since this kindle moves so slowly that it is difficult to tell when it is moving glacially slowly and when it just isnt registering that youve touched the screen both are constant problems',\n",
       " ' i bought the paperwhite because my old kindle fire is on its last leg i was really impressed with my previous kindle even when it started being glitchy it had lasted almost a decade of strenuous reading in comparison the paperwhite is very disappointing the battery life is absolutely not what its being reported as i went through about 50 of a full charge in an afternoon the touch screen is sensitive but not intuitive its difficult to do anything with it even change the page but when youre not trying to do anything the screen will go crazy if you even brush it i tried shopping with it and it was difficult as the software doesnt scroll i gave up and just used the app on my phone instead the screen almost reloads when you do anything so it flashes black and white constantly gave me a horrible headache one thing ill give it its incredible for reading outside no glare at all in the sun and it looks like paper',\n",
       " ' i just ordered another paperwhite because like the lasts 5 or 6 i owned stopped accepting any charger to take a charge a its ridiculous for amazon to consistently include this flawed design and b given that i have to replace it so often and always when my current kindle needs a charge and is ready to die it should be shipped to me overnight when i order a new one but this one will take six days when i will be without my reader and finally c i spent forever on the amazon we3bpage trying to communicate with a human to ask if it would be possible to overnight the new paperwhite given my circumstances and perhaps stupid loyalty but it is impossible even the chat function is run by a bot that only allows you to give one of a number of provided answers i am furious with amazon at the moment and i want to warn everyone ordering these just what thy are in store for maybe 910 months to use this product and i really want my replacement shipped overnight but alas it is impossible to make that argument or request ',\n",
       " ' this has been my first kindle and most likely my last i downloaded a book that i really wanted to read and i had no problems with that when i was finished reading for the night i turned off the kindle the next day i turned it back on i kept on waiting for my book to load and the only message that i received for hours was waking up i decided to return this product and buy the book instead at least i can open a page immediately very disappointed',\n",
       " ' i rest my kindle on flat surfaces to read have done so for several years until i bought this model',\n",
       " ' lots of people have their own reviews but be aware that although this is still marketed as having 3g connectivity apparently it isnt being offered with 3g connectivity anymore this was a major annoyance for me when it arrived i had searched to find the 3g option and never found a distinction to choose that or only wifi so since amazon was still marketing it with 3g i inferred it must come automatically with any of these models nope',\n",
       " ' with spending so much more time indoors the last couple months i found myself wanting to start reading more but unable to visit so many stores that were closed down the kindle has been exactly was i was looking for as the last reader i had used was over ten years ago which was less than impressive',\n",
       " ' i picked up this new kindle because of the waterproof feature theres nothing else to recommend it over the gen 6 kindle which ive been using for 4 years i read extensively while sunbathing so the waterproof feature was a welcome upgrade for using outdoors around water during the summer months however i have found that this kindle cannot take the heat earlier today i was reading outside in the sun on an 82 degree day with the kindle inside a cover and after only 55 minutes an error message popped up saying that it was overheating and would be suspending soon this was the 2nd time that has happened so unless youre only going to use this device inside in a cool environment you might want to skip this until the engineers get their act together and figure out how to make this new kindle work as well as all the other previous models i have spent hours reading outdoors in much hotter temps than 82 degrees using my 4year old gen 6 model and it continues to work perfectly',\n",
       " ' the kindle paperwhite is my first ereader and i have a massive petpeeve with it the power button is on the bottom which means that i cant read while my kindle is standing up ie on a table leaning against the wall for handsfree reading because the weight of the kindle on its own powerbutton triggers it to turn off furthermore the most comfortable position for me to hold the kindle with my hands is to make a sort of lshape with my thumb along the side and pinkyfinger holding the base with the rest of my fingers supporting the back of the kindle there have been several instances where im completely absorbed in a book not paying attention to what my fingers are doing and my pinkyfinger hits the powerbutton and turns off the kindle if only they had put the powerbutton on the top or side or programed an option to rotate the content on the screen 180degrees',\n",
       " ' overall i like this devise its light weight fits in my hand and is easy to use however since is read a lot and have ms i like to put the devise on a little stand rather than hold it all the time since the power switch is on the bottom every time the devise gets bumped it turns off i wish i had returned it within the return period of time if it werent for this problem i would give it 5 stars',\n",
       " ' microusb is crazy outdated i dont have anything that still uses those cables my solution was to buy a wireless charging receiver game changer',\n",
       " ' this is my first kindle and so far i am very pleased i was reading books using libby on my phoneipad but my eyes would get tired from the screen i would also get distracted from reading by seeing notifications or having the internet at my fingertips when i wanted to look something up i can still borrow books from libby which is what ultimately sold me i love the look of the eink and the battery life is amazing ive been using my device for about a month now reading every now and then and im still at 60 i only turn the wifi on when i have to download or a return a book to the library which definitely helps the battery last longer',\n",
       " ' i spent days reading reviews and weighing my options about this tablet and i never saw a review like this so i hope i can help someone else make a decision this kindle is ok its very small my cell phone isnt much bigger and i dont own a huge cell phone its black and white not a drop of color which shocked me for some reason there is no brick to charge it only a cord in the package which means you have to buy a separate accessory thats 20 just to be able to use it i found that sad and ridiculous the charge most certainly does not last weeks i charge mine on sundays and it does last all week when i read a few minutes at work each day and some at night but not weeks there is no way to access the app store which means if you use your local library overdrive like i do you have to download that on another device then find your books and have them sent to the kindle which is a gigantic pain in the booty i got 3 months free from kindle unlimited but i have yet to find a single book that i wanted to read on it its very limited on selections its not super user friendly i had to google how to even get out of a book once i was reading it i have difficulty navigating it and usually once i figure something out ive tried for so long to get there i cant remember how to do it for next time',\n",
       " ' update 6292020 not quite 8 months old and its become basically useless now only 1 star down from 4 it will not always download books and not remove those ive finished right now i have 3 books i still havent been able to download onto my kindle so im having to read them on my ipad and the page turning is very iffy',\n",
       " ' i bought this so i could read more and enjoy reading without dealing with apps from my phonekindle fire this software is so flipping slow and glitchy it drives me insane plus highlighting is a nightmare especially when the quote continues to the next page yeah good luck with that my highlights on goodreads are a mess from this see photos i have to highlight the words on each page separately and then add them in later on ugh highlighting is one of my favorite things about the kindle youd think in 13 years they would have figured out how to make this thing work and trust me i love ebooks and i am an avid ebook supporter but this just makes reading more frustrating guess i will go back to reading on my phone not having a glare isnt worth all the bs plus when you read in the dark and you switch pages it can sometimes flash a bright white page in your face i use the black paper with white font to keep it dark for my eyes',\n",
       " ' my first kindle was the kindle keyboard this was near perfect in every way for me as a student this new kindle is ok many good and a few bad things i will list them all here',\n",
       " ' the 10th generation kindle paperwhite with 32gb storage is the best ereader for me heres why',\n",
       " ' the books you buy on kindle will never be your property this turns out to be more than an academic point i recently had a fraud issue with my credit card and while going over purchases with the bank that services it accidentally flagged two minor amazon purchases as fraudulent the bank demanded that amazon refund payment to the bank and amazon shut down my account ie my whole amazon account and deleted my entire kindle library you have no downloaded items on this device this was over matter of maybe 30 total the kindle library redownloaded once i paid amazon nothing was lost and i have no doubt it was all pursuant to the many pages of terms and conditions that i signed but i now know who owns my kindle purchases and certainly will never make another one']"
      ]
     },
     "execution_count": 181,
     "metadata": {},
     "output_type": "execute_result"
    }
   ],
   "source": [
    "corpus = [cleanText(x) for x in all_headlines]\n",
    "corpus"
   ]
  },
  {
   "cell_type": "code",
   "execution_count": 182,
   "metadata": {},
   "outputs": [],
   "source": [
    "# Tokenization is a process of extracting tokens (terms / words) from a corpus\n",
    "# Python’s library Keras has inbuilt model for tokenization which can be used \n",
    "# to obtain the tokens and their index in the corpus\n",
    "# After this step, every text document in the dataset is converted into \n",
    "# sequence of tokens\n",
    "tokenizer = Tokenizer()\n",
    "\n",
    "def get_sequence_of_tokens(corpus):\n",
    "    tokenizer.fit_on_texts(corpus)\n",
    "    total_words = len(tokenizer.word_index) + 1\n",
    "    input_sequences = []\n",
    "    for line in corpus:\n",
    "        token_list = tokenizer.texts_to_sequences([line])[0]\n",
    "        for i in range(1, len(token_list)):\n",
    "            n_gram_sequence = token_list[:i+1]\n",
    "            input_sequences.append(n_gram_sequence)\n",
    "    return input_sequences, total_words"
   ]
  },
  {
   "cell_type": "code",
   "execution_count": 183,
   "metadata": {},
   "outputs": [
    {
     "data": {
      "text/plain": [
       "[[41, 24],\n",
       " [41, 24, 297],\n",
       " [41, 24, 297, 38],\n",
       " [41, 24, 297, 38, 554],\n",
       " [41, 24, 297, 38, 554, 22],\n",
       " [41, 24, 297, 38, 554, 22, 5],\n",
       " [41, 24, 297, 38, 554, 22, 5, 28],\n",
       " [41, 24, 297, 38, 554, 22, 5, 28, 83],\n",
       " [41, 24, 297, 38, 554, 22, 5, 28, 83, 1016],\n",
       " [41, 24, 297, 38, 554, 22, 5, 28, 83, 1016, 87]]"
      ]
     },
     "execution_count": 183,
     "metadata": {},
     "output_type": "execute_result"
    }
   ],
   "source": [
    "inp_sequences, total_words = get_sequence_of_tokens(corpus)\n",
    "inp_sequences[0:10]"
   ]
  },
  {
   "cell_type": "markdown",
   "metadata": {},
   "source": [
    "|Ngram seq|Token of seq|\n",
    "|---|---|\n",
    "|[if you]|[41, 24]|\n",
    "|[if you own]|[41, 24, 297]|\n",
    "|[if you own an ]|[41, 24, 297, 38]|\n",
    "|[if you own an earlier]|[41, 24, 297, 38, 554]|\n",
    "|[if you own an earlier paperwhite]|[41, 24, 297, 38, 554, 22]|"
   ]
  },
  {
   "cell_type": "code",
   "execution_count": 184,
   "metadata": {},
   "outputs": [],
   "source": [
    "# it is possible that different sequences have different lengths\n",
    "# pad the sequences and make their lengths equal\n",
    "def generate_padded_sequences(input_sequences):\n",
    "    max_sequence_len = max([len(x) for x in input_sequences])\n",
    "    input_sequences = np.array(pad_sequences(input_sequences, maxlen = max_sequence_len, padding='pre'))\n",
    "    predictors, label = input_sequences[:,:-1], input_sequences[:,-1]\n",
    "    label = ku.to_categorical(label, num_classes=total_words)\n",
    "    return predictors, label, max_sequence_len"
   ]
  },
  {
   "cell_type": "code",
   "execution_count": 185,
   "metadata": {},
   "outputs": [],
   "source": [
    "predictors, label, max_sequence_len = generate_padded_sequences(inp_sequences)"
   ]
  },
  {
   "cell_type": "code",
   "execution_count": 186,
   "metadata": {},
   "outputs": [],
   "source": [
    "def create_model(max_sequence_len, total_words):\n",
    "    input_len = max_sequence_len -1\n",
    "    model = Sequential()\n",
    "    \n",
    "    model.add(Embedding(total_words, 10, input_length = input_len))\n",
    "    model.add(LSTM(100))\n",
    "    model.add(Dropout(0.1))\n",
    "    \n",
    "    model.add(Dense(total_words, activation = 'softmax'))\n",
    "    model.compile(loss='categorical_crossentropy', optimizer = 'adam')\n",
    "    return model"
   ]
  },
  {
   "cell_type": "code",
   "execution_count": 187,
   "metadata": {},
   "outputs": [],
   "source": [
    "model = create_model(max_sequence_len, total_words)"
   ]
  },
  {
   "cell_type": "code",
   "execution_count": 188,
   "metadata": {},
   "outputs": [
    {
     "name": "stdout",
     "output_type": "stream",
     "text": [
      "Model: \"sequential_2\"\n",
      "_________________________________________________________________\n",
      "Layer (type)                 Output Shape              Param #   \n",
      "=================================================================\n",
      "embedding_1 (Embedding)      (None, 601, 10)           41040     \n",
      "_________________________________________________________________\n",
      "lstm_1 (LSTM)                (None, 100)               44400     \n",
      "_________________________________________________________________\n",
      "dropout_1 (Dropout)          (None, 100)               0         \n",
      "_________________________________________________________________\n",
      "dense_1 (Dense)              (None, 4104)              414504    \n",
      "=================================================================\n",
      "Total params: 499,944\n",
      "Trainable params: 499,944\n",
      "Non-trainable params: 0\n",
      "_________________________________________________________________\n"
     ]
    }
   ],
   "source": [
    "model.summary()"
   ]
  },
  {
   "cell_type": "code",
   "execution_count": 189,
   "metadata": {},
   "outputs": [
    {
     "name": "stdout",
     "output_type": "stream",
     "text": [
      "Epoch 1/100\n",
      "1460/1460 [==============================] - 292s 199ms/step - loss: 6.5203\n",
      "Epoch 2/100\n",
      "1460/1460 [==============================] - 278s 191ms/step - loss: 6.0044\n",
      "Epoch 3/100\n",
      "1460/1460 [==============================] - 288s 197ms/step - loss: 5.7103\n",
      "Epoch 4/100\n",
      "1460/1460 [==============================] - 279s 191ms/step - loss: 5.4984\n",
      "Epoch 5/100\n",
      "1460/1460 [==============================] - 278s 190ms/step - loss: 5.3171\n",
      "Epoch 6/100\n",
      "1460/1460 [==============================] - 278s 191ms/step - loss: 5.1277\n",
      "Epoch 7/100\n",
      "1460/1460 [==============================] - 279s 191ms/step - loss: 4.9637\n",
      "Epoch 8/100\n",
      "1460/1460 [==============================] - 285s 195ms/step - loss: 4.8232\n",
      "Epoch 9/100\n",
      "1460/1460 [==============================] - 280s 191ms/step - loss: 4.6859\n",
      "Epoch 10/100\n",
      "1460/1460 [==============================] - 295s 202ms/step - loss: 4.5631\n",
      "Epoch 11/100\n",
      "1460/1460 [==============================] - 284s 194ms/step - loss: 4.4362\n",
      "Epoch 12/100\n",
      "1460/1460 [==============================] - 277s 189ms/step - loss: 4.3337\n",
      "Epoch 13/100\n",
      "1460/1460 [==============================] - 278s 190ms/step - loss: 4.2082\n",
      "Epoch 14/100\n",
      "1460/1460 [==============================] - 278s 190ms/step - loss: 4.1115\n",
      "Epoch 15/100\n",
      "1460/1460 [==============================] - 283s 194ms/step - loss: 4.0163\n",
      "Epoch 16/100\n",
      "1460/1460 [==============================] - 282s 193ms/step - loss: 3.9059\n",
      "Epoch 17/100\n",
      "1460/1460 [==============================] - 277s 190ms/step - loss: 3.7987\n",
      "Epoch 18/100\n",
      "1460/1460 [==============================] - 278s 190ms/step - loss: 3.7231\n",
      "Epoch 19/100\n",
      "1460/1460 [==============================] - 281s 192ms/step - loss: 3.6417\n",
      "Epoch 20/100\n",
      "1460/1460 [==============================] - 284s 195ms/step - loss: 3.5441\n",
      "Epoch 21/100\n",
      "1460/1460 [==============================] - 283s 194ms/step - loss: 3.4821\n",
      "Epoch 22/100\n",
      "1460/1460 [==============================] - 284s 194ms/step - loss: 3.4186\n",
      "Epoch 23/100\n",
      "1460/1460 [==============================] - 282s 193ms/step - loss: 3.3362\n",
      "Epoch 24/100\n",
      "1460/1460 [==============================] - 283s 194ms/step - loss: 3.3007\n",
      "Epoch 25/100\n",
      "1460/1460 [==============================] - 282s 193ms/step - loss: 3.2072\n",
      "Epoch 26/100\n",
      "1460/1460 [==============================] - 284s 195ms/step - loss: 3.1752\n",
      "Epoch 27/100\n",
      "1460/1460 [==============================] - 278s 190ms/step - loss: 3.1252\n",
      "Epoch 28/100\n",
      "1460/1460 [==============================] - 280s 192ms/step - loss: 3.0849\n",
      "Epoch 29/100\n",
      "1460/1460 [==============================] - 284s 195ms/step - loss: 3.0384\n",
      "Epoch 30/100\n",
      "1460/1460 [==============================] - 293s 201ms/step - loss: 3.0068\n",
      "Epoch 31/100\n",
      "1460/1460 [==============================] - 305s 209ms/step - loss: 2.9560\n",
      "Epoch 32/100\n",
      "1460/1460 [==============================] - 307s 211ms/step - loss: 2.9061\n",
      "Epoch 33/100\n",
      "1460/1460 [==============================] - 297s 203ms/step - loss: 2.8638\n",
      "Epoch 34/100\n",
      "1460/1460 [==============================] - 294s 201ms/step - loss: 2.8478\n",
      "Epoch 35/100\n",
      "1460/1460 [==============================] - 305s 209ms/step - loss: 2.8138\n",
      "Epoch 36/100\n",
      "1460/1460 [==============================] - 297s 204ms/step - loss: 2.7472s - loss: 2.74\n",
      "Epoch 37/100\n",
      "1460/1460 [==============================] - 299s 205ms/step - loss: 2.7376\n",
      "Epoch 38/100\n",
      "1460/1460 [==============================] - 300s 206ms/step - loss: 2.7185\n",
      "Epoch 39/100\n",
      "1460/1460 [==============================] - 715s 490ms/step - loss: 2.6783\n",
      "Epoch 40/100\n",
      "1460/1460 [==============================] - 525s 360ms/step - loss: 2.6647\n",
      "Epoch 41/100\n",
      "1460/1460 [==============================] - 295s 202ms/step - loss: 2.6418\n",
      "Epoch 42/100\n",
      "1460/1460 [==============================] - 4935s 3s/step - loss: 2.6155\n",
      "Epoch 43/100\n",
      "1460/1460 [==============================] - 312s 214ms/step - loss: 2.5793\n",
      "Epoch 44/100\n",
      "1460/1460 [==============================] - 294s 201ms/step - loss: 2.5704\n",
      "Epoch 45/100\n",
      "1460/1460 [==============================] - 283s 194ms/step - loss: 2.5441\n",
      "Epoch 46/100\n",
      "1460/1460 [==============================] - 289s 198ms/step - loss: 2.5467\n",
      "Epoch 47/100\n",
      "1460/1460 [==============================] - 286s 196ms/step - loss: 2.5183\n",
      "Epoch 48/100\n",
      "1460/1460 [==============================] - 281s 193ms/step - loss: 2.4926\n",
      "Epoch 49/100\n",
      "1460/1460 [==============================] - 283s 194ms/step - loss: 2.4686\n",
      "Epoch 50/100\n",
      "1460/1460 [==============================] - 282s 193ms/step - loss: 2.4455\n",
      "Epoch 51/100\n",
      "1460/1460 [==============================] - 281s 192ms/step - loss: 2.4392\n",
      "Epoch 52/100\n",
      "1460/1460 [==============================] - 284s 194ms/step - loss: 2.4104\n",
      "Epoch 53/100\n",
      "1460/1460 [==============================] - 284s 194ms/step - loss: 2.4168\n",
      "Epoch 54/100\n",
      "1460/1460 [==============================] - 291s 199ms/step - loss: 2.3915\n",
      "Epoch 55/100\n",
      "1460/1460 [==============================] - 288s 197ms/step - loss: 2.3757\n",
      "Epoch 56/100\n",
      "1460/1460 [==============================] - 289s 198ms/step - loss: 2.3651\n",
      "Epoch 57/100\n",
      "1460/1460 [==============================] - 293s 201ms/step - loss: 2.3530\n",
      "Epoch 58/100\n",
      "1460/1460 [==============================] - 299s 205ms/step - loss: 2.3219\n",
      "Epoch 59/100\n",
      "1460/1460 [==============================] - 300s 205ms/step - loss: 2.3313\n",
      "Epoch 60/100\n",
      "1460/1460 [==============================] - 307s 210ms/step - loss: 2.3085\n",
      "Epoch 61/100\n",
      "1460/1460 [==============================] - 300s 205ms/step - loss: 2.3010\n",
      "Epoch 62/100\n",
      "1460/1460 [==============================] - 296s 203ms/step - loss: 2.2842\n",
      "Epoch 63/100\n",
      "1460/1460 [==============================] - 294s 201ms/step - loss: 2.2816\n",
      "Epoch 64/100\n",
      "1460/1460 [==============================] - 293s 200ms/step - loss: 2.2729\n",
      "Epoch 65/100\n",
      "1460/1460 [==============================] - 293s 201ms/step - loss: 2.2654\n",
      "Epoch 66/100\n",
      "1460/1460 [==============================] - 286s 196ms/step - loss: 2.2579\n",
      "Epoch 67/100\n",
      "1460/1460 [==============================] - 283s 194ms/step - loss: 2.2606\n",
      "Epoch 68/100\n",
      "1460/1460 [==============================] - 285s 195ms/step - loss: 2.2498\n",
      "Epoch 69/100\n",
      "1460/1460 [==============================] - 294s 202ms/step - loss: 2.2324\n",
      "Epoch 70/100\n",
      "1460/1460 [==============================] - 295s 202ms/step - loss: 2.2165\n",
      "Epoch 71/100\n",
      "1460/1460 [==============================] - 293s 201ms/step - loss: 2.2148\n",
      "Epoch 72/100\n",
      "1460/1460 [==============================] - 300s 206ms/step - loss: 2.2168\n",
      "Epoch 73/100\n",
      "1460/1460 [==============================] - 293s 201ms/step - loss: 2.1941\n",
      "Epoch 74/100\n",
      "1460/1460 [==============================] - 299s 205ms/step - loss: 2.1838\n",
      "Epoch 75/100\n",
      "1460/1460 [==============================] - 301s 206ms/step - loss: 2.1852\n",
      "Epoch 76/100\n",
      "1460/1460 [==============================] - 297s 203ms/step - loss: 2.1730\n",
      "Epoch 77/100\n",
      "1460/1460 [==============================] - 295s 202ms/step - loss: 2.1835\n",
      "Epoch 78/100\n",
      "1460/1460 [==============================] - 296s 203ms/step - loss: 2.1615\n",
      "Epoch 79/100\n",
      "1460/1460 [==============================] - 298s 204ms/step - loss: 2.1719\n",
      "Epoch 80/100\n",
      "1460/1460 [==============================] - 302s 207ms/step - loss: 2.1496\n",
      "Epoch 81/100\n",
      "1460/1460 [==============================] - 296s 203ms/step - loss: 2.1418\n",
      "Epoch 82/100\n",
      "1460/1460 [==============================] - 296s 203ms/step - loss: 2.1376\n",
      "Epoch 83/100\n",
      "1460/1460 [==============================] - 298s 204ms/step - loss: 2.1357\n",
      "Epoch 84/100\n",
      "1460/1460 [==============================] - 296s 203ms/step - loss: 2.1403\n",
      "Epoch 85/100\n",
      "1460/1460 [==============================] - 294s 201ms/step - loss: 2.1317\n",
      "Epoch 86/100\n",
      "1460/1460 [==============================] - 297s 204ms/step - loss: 2.1266s - l\n",
      "Epoch 87/100\n",
      "1460/1460 [==============================] - 298s 204ms/step - loss: 2.1295\n",
      "Epoch 88/100\n",
      "1460/1460 [==============================] - 298s 204ms/step - loss: 2.0994\n",
      "Epoch 89/100\n",
      "1460/1460 [==============================] - 298s 204ms/step - loss: 2.1150\n",
      "Epoch 90/100\n",
      "1460/1460 [==============================] - 293s 201ms/step - loss: 2.1092\n",
      "Epoch 91/100\n",
      "1460/1460 [==============================] - 292s 200ms/step - loss: 2.0960\n",
      "Epoch 92/100\n",
      "1460/1460 [==============================] - 292s 200ms/step - loss: 2.1118\n"
     ]
    },
    {
     "name": "stdout",
     "output_type": "stream",
     "text": [
      "Epoch 93/100\n",
      "1460/1460 [==============================] - 277s 190ms/step - loss: 2.0959\n",
      "Epoch 94/100\n",
      "1460/1460 [==============================] - 278s 190ms/step - loss: 2.0918\n",
      "Epoch 95/100\n",
      "1460/1460 [==============================] - 279s 191ms/step - loss: 2.0725\n",
      "Epoch 96/100\n",
      "1460/1460 [==============================] - 279s 191ms/step - loss: 2.0856\n",
      "Epoch 97/100\n",
      "1460/1460 [==============================] - 280s 192ms/step - loss: 2.0769\n",
      "Epoch 98/100\n",
      "1460/1460 [==============================] - 288s 198ms/step - loss: 2.0695\n",
      "Epoch 99/100\n",
      "1460/1460 [==============================] - 281s 192ms/step - loss: 2.0605\n",
      "Epoch 100/100\n",
      "1460/1460 [==============================] - 282s 193ms/step - loss: 2.0544\n"
     ]
    },
    {
     "data": {
      "text/plain": [
       "<tensorflow.python.keras.callbacks.History at 0x7f82eb5043a0>"
      ]
     },
     "execution_count": 189,
     "metadata": {},
     "output_type": "execute_result"
    }
   ],
   "source": [
    "model.fit(predictors, label, epochs = 100, verbose =1)"
   ]
  },
  {
   "cell_type": "code",
   "execution_count": 190,
   "metadata": {},
   "outputs": [],
   "source": [
    "def generate_text(seed_text, next_words, model, max_sequence_len):\n",
    "    for _ in range(next_words):\n",
    "        token_list = tokenizer.texts_to_sequences([seed_text])[0]\n",
    "        token_list = pad_sequences([token_list], maxlen=max_sequence_len-1, padding='pre')\n",
    "        predicted = model.predict_classes(token_list, verbose=0)\n",
    "        \n",
    "        output_word = \"\"\n",
    "        for word,index in tokenizer.word_index.items():\n",
    "            if index == predicted:\n",
    "                output_word = word\n",
    "                break\n",
    "        seed_text += \" \"+output_word\n",
    "    return seed_text.title()"
   ]
  },
  {
   "cell_type": "code",
   "execution_count": 191,
   "metadata": {},
   "outputs": [
    {
     "name": "stdout",
     "output_type": "stream",
     "text": [
      "Kindle Is Very  Much Slow From The Previous\n",
      "Books Are  A Very Slow So\n",
      "This Is  My First Kindle Paperwhite\n",
      "Gifts And  I Dont Have Done\n",
      "Science And Technology Paperwhite On This Gift For\n"
     ]
    }
   ],
   "source": [
    "print (generate_text(\"Kindle is very \", 5, model, max_sequence_len))\n",
    "print (generate_text(\"Books are \", 4, model, max_sequence_len))\n",
    "print (generate_text(\"This is \", 4, model, max_sequence_len))\n",
    "print (generate_text(\"Gifts and \", 4, model, max_sequence_len))\n",
    "print (generate_text(\"science and technology\", 5, model, max_sequence_len))"
   ]
  },
  {
   "cell_type": "code",
   "execution_count": 77,
   "metadata": {
    "scrolled": true
   },
   "outputs": [
    {
     "name": "stdout",
     "output_type": "stream",
     "text": [
      "Love The Many Features And I Got The\n",
      "We Will Probably Start With The Devices And My\n"
     ]
    }
   ],
   "source": [
    "print (generate_text(\"Love the many features\", 4, model, max_sequence_len))\n",
    "print (generate_text(\"We will probably start\", 5, model, max_sequence_len))"
   ]
  },
  {
   "cell_type": "code",
   "execution_count": 193,
   "metadata": {},
   "outputs": [
    {
     "name": "stdout",
     "output_type": "stream",
     "text": [
      "Love The Many Features Theres A Good Keyboard\n",
      "We Will Probably Start Out Of Kindles Over Fact\n"
     ]
    }
   ],
   "source": [
    "print (generate_text(\"Love the many features\", 4, model, max_sequence_len))\n",
    "print (generate_text(\"We will probably start\", 5, model, max_sequence_len))"
   ]
  },
  {
   "cell_type": "code",
   "execution_count": 194,
   "metadata": {
    "scrolled": true
   },
   "outputs": [
    {
     "data": {
      "text/plain": [
       "'  I am still learning my way around some of the new features, but the new Kindle definitely holds a long charge, as noted. There was nothing wrong with the older model I traded in, but the promotion seemed too good to pass up! I regularly use Kindle Unlimited and find I enjoy reading on the Kindle much more than holding a book to read.  Definitely still an amazon fan!'"
      ]
     },
     "execution_count": 194,
     "metadata": {},
     "output_type": "execute_result"
    }
   ],
   "source": [
    "data.iloc[131]"
   ]
  },
  {
   "cell_type": "code",
   "execution_count": 195,
   "metadata": {
    "scrolled": true
   },
   "outputs": [
    {
     "name": "stdout",
     "output_type": "stream",
     "text": [
      "I Enjoy Reading On My Older Paperwhite Was\n"
     ]
    }
   ],
   "source": [
    "print (generate_text(\"I enjoy reading\", 5, model, max_sequence_len))"
   ]
  },
  {
   "cell_type": "code",
   "execution_count": 196,
   "metadata": {},
   "outputs": [
    {
     "data": {
      "text/plain": [
       "'  My Paperwhite arrived and I couldn’t wait to try it. I took it out of the box, registered it and started to read. During the day I felt the light was very dim, even when tuned up to maximum. So I decided I’d wait until night time and try it then. It was still WAY too dim. I called the next day to try and get some tech support and after an hour long, wasted phone call in which I got no help, I decided to send it back. I’m afraid to order another one, because if the light is still too dark, it won’t work for me. It was darker than the light on my old Kindle, my iPhone, my iPad mini and my MacBook.'"
      ]
     },
     "execution_count": 196,
     "metadata": {},
     "output_type": "execute_result"
    }
   ],
   "source": [
    "data.iloc[20]"
   ]
  },
  {
   "cell_type": "code",
   "execution_count": 83,
   "metadata": {
    "scrolled": true
   },
   "outputs": [
    {
     "name": "stdout",
     "output_type": "stream",
     "text": [
      "My Paperwhite Is A Lot Of The\n"
     ]
    }
   ],
   "source": [
    "print (generate_text(\"My paperwhite\", 5, model, max_sequence_len))"
   ]
  },
  {
   "cell_type": "code",
   "execution_count": 197,
   "metadata": {},
   "outputs": [
    {
     "name": "stdout",
     "output_type": "stream",
     "text": [
      "My Paperwhite Arrived I Was Using This\n"
     ]
    }
   ],
   "source": [
    "print (generate_text(\"My paperwhite\", 5, model, max_sequence_len))"
   ]
  },
  {
   "cell_type": "markdown",
   "metadata": {},
   "source": [
    "# Do GRU"
   ]
  },
  {
   "cell_type": "code",
   "execution_count": 198,
   "metadata": {},
   "outputs": [],
   "source": [
    "from keras.models import Sequential\n",
    "from keras.layers import Dense, Embedding, GRU, Dropout, Bidirectional, SpatialDropout1D"
   ]
  },
  {
   "cell_type": "code",
   "execution_count": null,
   "metadata": {},
   "outputs": [],
   "source": []
  },
  {
   "cell_type": "code",
   "execution_count": 199,
   "metadata": {},
   "outputs": [
    {
     "name": "stdout",
     "output_type": "stream",
     "text": [
      "Model: \"sequential_3\"\n",
      "_________________________________________________________________\n",
      "Layer (type)                 Output Shape              Param #   \n",
      "=================================================================\n",
      "embedding_2 (Embedding)      (None, 602, 100)          410400    \n",
      "_________________________________________________________________\n",
      "bidirectional (Bidirectional (None, 602, 300)          226800    \n",
      "_________________________________________________________________\n",
      "dropout_2 (Dropout)          (None, 602, 300)          0         \n",
      "_________________________________________________________________\n",
      "gru_1 (GRU)                  (None, 100)               120600    \n",
      "_________________________________________________________________\n",
      "dense_2 (Dense)              (None, 4104)              414504    \n",
      "=================================================================\n",
      "Total params: 1,172,304\n",
      "Trainable params: 1,172,304\n",
      "Non-trainable params: 0\n",
      "_________________________________________________________________\n"
     ]
    }
   ],
   "source": [
    "def create_model(max_sequence_len, total_words):\n",
    "    input_len = max_sequence_len -1\n",
    "    model = Sequential()\n",
    "    model.add(Embedding(total_words, 100, input_length=max_sequence_len))\n",
    "    model.add(Bidirectional(GRU(150, return_sequences=True)))\n",
    "    model.add(Dropout(0.2))\n",
    "    model.add(GRU(100))\n",
    "    \n",
    "    model.add(Dense(total_words, activation = 'softmax'))\n",
    "    model.compile(loss='categorical_crossentropy', optimizer = 'adam', metrics=['accuracy'])\n",
    "    return model\n",
    "\n",
    "model = create_model(max_sequence_len, total_words)\n",
    "model.summary()"
   ]
  },
  {
   "cell_type": "code",
   "execution_count": null,
   "metadata": {},
   "outputs": [],
   "source": [
    "model.fit(predictors, label, epochs = 100, verbose =1)"
   ]
  }
 ],
 "metadata": {
  "accelerator": "GPU",
  "colab": {
   "collapsed_sections": [
    "5IMpJPm0uyXL"
   ],
   "name": "NLP_amazon_data.ipynb",
   "provenance": []
  },
  "kernelspec": {
   "display_name": "Python 3",
   "language": "python",
   "name": "python3"
  },
  "language_info": {
   "codemirror_mode": {
    "name": "ipython",
    "version": 3
   },
   "file_extension": ".py",
   "mimetype": "text/x-python",
   "name": "python",
   "nbconvert_exporter": "python",
   "pygments_lexer": "ipython3",
   "version": "3.8.5"
  },
  "widgets": {
   "application/vnd.jupyter.widget-state+json": {
    "0b7077b040dd43cea77888fa32a98569": {
     "model_module": "@jupyter-widgets/controls",
     "model_name": "DescriptionStyleModel",
     "state": {
      "_model_module": "@jupyter-widgets/controls",
      "_model_module_version": "1.5.0",
      "_model_name": "DescriptionStyleModel",
      "_view_count": null,
      "_view_module": "@jupyter-widgets/base",
      "_view_module_version": "1.2.0",
      "_view_name": "StyleView",
      "description_width": ""
     }
    },
    "1aae61c8fc8241ed930fdc26379a1645": {
     "model_module": "@jupyter-widgets/controls",
     "model_name": "ProgressStyleModel",
     "state": {
      "_model_module": "@jupyter-widgets/controls",
      "_model_module_version": "1.5.0",
      "_model_name": "ProgressStyleModel",
      "_view_count": null,
      "_view_module": "@jupyter-widgets/base",
      "_view_module_version": "1.2.0",
      "_view_name": "StyleView",
      "bar_color": null,
      "description_width": "initial"
     }
    },
    "2140914acb324314a223ac418fab402c": {
     "model_module": "@jupyter-widgets/base",
     "model_name": "LayoutModel",
     "state": {
      "_model_module": "@jupyter-widgets/base",
      "_model_module_version": "1.2.0",
      "_model_name": "LayoutModel",
      "_view_count": null,
      "_view_module": "@jupyter-widgets/base",
      "_view_module_version": "1.2.0",
      "_view_name": "LayoutView",
      "align_content": null,
      "align_items": null,
      "align_self": null,
      "border": null,
      "bottom": null,
      "display": null,
      "flex": null,
      "flex_flow": null,
      "grid_area": null,
      "grid_auto_columns": null,
      "grid_auto_flow": null,
      "grid_auto_rows": null,
      "grid_column": null,
      "grid_gap": null,
      "grid_row": null,
      "grid_template_areas": null,
      "grid_template_columns": null,
      "grid_template_rows": null,
      "height": null,
      "justify_content": null,
      "justify_items": null,
      "left": null,
      "margin": null,
      "max_height": null,
      "max_width": null,
      "min_height": null,
      "min_width": null,
      "object_fit": null,
      "object_position": null,
      "order": null,
      "overflow": null,
      "overflow_x": null,
      "overflow_y": null,
      "padding": null,
      "right": null,
      "top": null,
      "visibility": null,
      "width": null
     }
    },
    "25a2c7870c7d4ba9807b2766b5c2ada2": {
     "model_module": "@jupyter-widgets/controls",
     "model_name": "HTMLModel",
     "state": {
      "_dom_classes": [],
      "_model_module": "@jupyter-widgets/controls",
      "_model_module_version": "1.5.0",
      "_model_name": "HTMLModel",
      "_view_count": null,
      "_view_module": "@jupyter-widgets/controls",
      "_view_module_version": "1.5.0",
      "_view_name": "HTMLView",
      "description": "",
      "description_tooltip": null,
      "layout": "IPY_MODEL_bb52b0768e2346c685114fadfa58b122",
      "placeholder": "​",
      "style": "IPY_MODEL_b61b1494975e4650b6590dcad689d541",
      "value": " 433/433 [00:14&lt;00:00, 29.4B/s]"
     }
    },
    "27ea10cb10aa4780b40ad12e20579fbc": {
     "model_module": "@jupyter-widgets/base",
     "model_name": "LayoutModel",
     "state": {
      "_model_module": "@jupyter-widgets/base",
      "_model_module_version": "1.2.0",
      "_model_name": "LayoutModel",
      "_view_count": null,
      "_view_module": "@jupyter-widgets/base",
      "_view_module_version": "1.2.0",
      "_view_name": "LayoutView",
      "align_content": null,
      "align_items": null,
      "align_self": null,
      "border": null,
      "bottom": null,
      "display": null,
      "flex": null,
      "flex_flow": null,
      "grid_area": null,
      "grid_auto_columns": null,
      "grid_auto_flow": null,
      "grid_auto_rows": null,
      "grid_column": null,
      "grid_gap": null,
      "grid_row": null,
      "grid_template_areas": null,
      "grid_template_columns": null,
      "grid_template_rows": null,
      "height": null,
      "justify_content": null,
      "justify_items": null,
      "left": null,
      "margin": null,
      "max_height": null,
      "max_width": null,
      "min_height": null,
      "min_width": null,
      "object_fit": null,
      "object_position": null,
      "order": null,
      "overflow": null,
      "overflow_x": null,
      "overflow_y": null,
      "padding": null,
      "right": null,
      "top": null,
      "visibility": null,
      "width": null
     }
    },
    "47f6f1301a8c4e9290782312b6eafff0": {
     "model_module": "@jupyter-widgets/controls",
     "model_name": "DescriptionStyleModel",
     "state": {
      "_model_module": "@jupyter-widgets/controls",
      "_model_module_version": "1.5.0",
      "_model_name": "DescriptionStyleModel",
      "_view_count": null,
      "_view_module": "@jupyter-widgets/base",
      "_view_module_version": "1.2.0",
      "_view_name": "StyleView",
      "description_width": ""
     }
    },
    "65d4bac3b9ae4dca9f9e20d02fa8f4b2": {
     "model_module": "@jupyter-widgets/controls",
     "model_name": "ProgressStyleModel",
     "state": {
      "_model_module": "@jupyter-widgets/controls",
      "_model_module_version": "1.5.0",
      "_model_name": "ProgressStyleModel",
      "_view_count": null,
      "_view_module": "@jupyter-widgets/base",
      "_view_module_version": "1.2.0",
      "_view_name": "StyleView",
      "bar_color": null,
      "description_width": "initial"
     }
    },
    "67b68a80b9e14489b852bc543bbc93ca": {
     "model_module": "@jupyter-widgets/controls",
     "model_name": "HBoxModel",
     "state": {
      "_dom_classes": [],
      "_model_module": "@jupyter-widgets/controls",
      "_model_module_version": "1.5.0",
      "_model_name": "HBoxModel",
      "_view_count": null,
      "_view_module": "@jupyter-widgets/controls",
      "_view_module_version": "1.5.0",
      "_view_name": "HBoxView",
      "box_style": "",
      "children": [
       "IPY_MODEL_da01ad38bebe49a39098d7b9b14732cd",
       "IPY_MODEL_25a2c7870c7d4ba9807b2766b5c2ada2"
      ],
      "layout": "IPY_MODEL_de27df20c9b54b05b4a111b5782b475d"
     }
    },
    "7008025a9a2b4a08b97f013128df4ff3": {
     "model_module": "@jupyter-widgets/controls",
     "model_name": "HBoxModel",
     "state": {
      "_dom_classes": [],
      "_model_module": "@jupyter-widgets/controls",
      "_model_module_version": "1.5.0",
      "_model_name": "HBoxModel",
      "_view_count": null,
      "_view_module": "@jupyter-widgets/controls",
      "_view_module_version": "1.5.0",
      "_view_name": "HBoxView",
      "box_style": "",
      "children": [
       "IPY_MODEL_b2e9468b1d6b4bc080ea922e95017900",
       "IPY_MODEL_e723697f7d0d47b7891da4048761a09a"
      ],
      "layout": "IPY_MODEL_94ad6fe09bff43aa82c0274856d25832"
     }
    },
    "76fdadeaba294b1abbf9b80ce053dfc4": {
     "model_module": "@jupyter-widgets/controls",
     "model_name": "FloatProgressModel",
     "state": {
      "_dom_classes": [],
      "_model_module": "@jupyter-widgets/controls",
      "_model_module_version": "1.5.0",
      "_model_name": "FloatProgressModel",
      "_view_count": null,
      "_view_module": "@jupyter-widgets/controls",
      "_view_module_version": "1.5.0",
      "_view_name": "ProgressView",
      "bar_style": "success",
      "description": "Downloading: 100%",
      "description_tooltip": null,
      "layout": "IPY_MODEL_27ea10cb10aa4780b40ad12e20579fbc",
      "max": 536063208,
      "min": 0,
      "orientation": "horizontal",
      "style": "IPY_MODEL_1aae61c8fc8241ed930fdc26379a1645",
      "value": 536063208
     }
    },
    "94ad6fe09bff43aa82c0274856d25832": {
     "model_module": "@jupyter-widgets/base",
     "model_name": "LayoutModel",
     "state": {
      "_model_module": "@jupyter-widgets/base",
      "_model_module_version": "1.2.0",
      "_model_name": "LayoutModel",
      "_view_count": null,
      "_view_module": "@jupyter-widgets/base",
      "_view_module_version": "1.2.0",
      "_view_name": "LayoutView",
      "align_content": null,
      "align_items": null,
      "align_self": null,
      "border": null,
      "bottom": null,
      "display": null,
      "flex": null,
      "flex_flow": null,
      "grid_area": null,
      "grid_auto_columns": null,
      "grid_auto_flow": null,
      "grid_auto_rows": null,
      "grid_column": null,
      "grid_gap": null,
      "grid_row": null,
      "grid_template_areas": null,
      "grid_template_columns": null,
      "grid_template_rows": null,
      "height": null,
      "justify_content": null,
      "justify_items": null,
      "left": null,
      "margin": null,
      "max_height": null,
      "max_width": null,
      "min_height": null,
      "min_width": null,
      "object_fit": null,
      "object_position": null,
      "order": null,
      "overflow": null,
      "overflow_x": null,
      "overflow_y": null,
      "padding": null,
      "right": null,
      "top": null,
      "visibility": null,
      "width": null
     }
    },
    "b2e9468b1d6b4bc080ea922e95017900": {
     "model_module": "@jupyter-widgets/controls",
     "model_name": "FloatProgressModel",
     "state": {
      "_dom_classes": [],
      "_model_module": "@jupyter-widgets/controls",
      "_model_module_version": "1.5.0",
      "_model_name": "FloatProgressModel",
      "_view_count": null,
      "_view_module": "@jupyter-widgets/controls",
      "_view_module_version": "1.5.0",
      "_view_name": "ProgressView",
      "bar_style": "success",
      "description": "Downloading: 100%",
      "description_tooltip": null,
      "layout": "IPY_MODEL_b87fbc63e0dd436c91790a6c81f835e7",
      "max": 231508,
      "min": 0,
      "orientation": "horizontal",
      "style": "IPY_MODEL_65d4bac3b9ae4dca9f9e20d02fa8f4b2",
      "value": 231508
     }
    },
    "b52bffc7c9234ca29aadf5dde6cf48cd": {
     "model_module": "@jupyter-widgets/controls",
     "model_name": "HBoxModel",
     "state": {
      "_dom_classes": [],
      "_model_module": "@jupyter-widgets/controls",
      "_model_module_version": "1.5.0",
      "_model_name": "HBoxModel",
      "_view_count": null,
      "_view_module": "@jupyter-widgets/controls",
      "_view_module_version": "1.5.0",
      "_view_name": "HBoxView",
      "box_style": "",
      "children": [
       "IPY_MODEL_76fdadeaba294b1abbf9b80ce053dfc4",
       "IPY_MODEL_c8355d75e138454db3a15a74229fe88e"
      ],
      "layout": "IPY_MODEL_e5d94eb846b442b4b266a42546df3c16"
     }
    },
    "b61b1494975e4650b6590dcad689d541": {
     "model_module": "@jupyter-widgets/controls",
     "model_name": "DescriptionStyleModel",
     "state": {
      "_model_module": "@jupyter-widgets/controls",
      "_model_module_version": "1.5.0",
      "_model_name": "DescriptionStyleModel",
      "_view_count": null,
      "_view_module": "@jupyter-widgets/base",
      "_view_module_version": "1.2.0",
      "_view_name": "StyleView",
      "description_width": ""
     }
    },
    "b87fbc63e0dd436c91790a6c81f835e7": {
     "model_module": "@jupyter-widgets/base",
     "model_name": "LayoutModel",
     "state": {
      "_model_module": "@jupyter-widgets/base",
      "_model_module_version": "1.2.0",
      "_model_name": "LayoutModel",
      "_view_count": null,
      "_view_module": "@jupyter-widgets/base",
      "_view_module_version": "1.2.0",
      "_view_name": "LayoutView",
      "align_content": null,
      "align_items": null,
      "align_self": null,
      "border": null,
      "bottom": null,
      "display": null,
      "flex": null,
      "flex_flow": null,
      "grid_area": null,
      "grid_auto_columns": null,
      "grid_auto_flow": null,
      "grid_auto_rows": null,
      "grid_column": null,
      "grid_gap": null,
      "grid_row": null,
      "grid_template_areas": null,
      "grid_template_columns": null,
      "grid_template_rows": null,
      "height": null,
      "justify_content": null,
      "justify_items": null,
      "left": null,
      "margin": null,
      "max_height": null,
      "max_width": null,
      "min_height": null,
      "min_width": null,
      "object_fit": null,
      "object_position": null,
      "order": null,
      "overflow": null,
      "overflow_x": null,
      "overflow_y": null,
      "padding": null,
      "right": null,
      "top": null,
      "visibility": null,
      "width": null
     }
    },
    "bb52b0768e2346c685114fadfa58b122": {
     "model_module": "@jupyter-widgets/base",
     "model_name": "LayoutModel",
     "state": {
      "_model_module": "@jupyter-widgets/base",
      "_model_module_version": "1.2.0",
      "_model_name": "LayoutModel",
      "_view_count": null,
      "_view_module": "@jupyter-widgets/base",
      "_view_module_version": "1.2.0",
      "_view_name": "LayoutView",
      "align_content": null,
      "align_items": null,
      "align_self": null,
      "border": null,
      "bottom": null,
      "display": null,
      "flex": null,
      "flex_flow": null,
      "grid_area": null,
      "grid_auto_columns": null,
      "grid_auto_flow": null,
      "grid_auto_rows": null,
      "grid_column": null,
      "grid_gap": null,
      "grid_row": null,
      "grid_template_areas": null,
      "grid_template_columns": null,
      "grid_template_rows": null,
      "height": null,
      "justify_content": null,
      "justify_items": null,
      "left": null,
      "margin": null,
      "max_height": null,
      "max_width": null,
      "min_height": null,
      "min_width": null,
      "object_fit": null,
      "object_position": null,
      "order": null,
      "overflow": null,
      "overflow_x": null,
      "overflow_y": null,
      "padding": null,
      "right": null,
      "top": null,
      "visibility": null,
      "width": null
     }
    },
    "be731714fc92489096ecf16a746455b7": {
     "model_module": "@jupyter-widgets/base",
     "model_name": "LayoutModel",
     "state": {
      "_model_module": "@jupyter-widgets/base",
      "_model_module_version": "1.2.0",
      "_model_name": "LayoutModel",
      "_view_count": null,
      "_view_module": "@jupyter-widgets/base",
      "_view_module_version": "1.2.0",
      "_view_name": "LayoutView",
      "align_content": null,
      "align_items": null,
      "align_self": null,
      "border": null,
      "bottom": null,
      "display": null,
      "flex": null,
      "flex_flow": null,
      "grid_area": null,
      "grid_auto_columns": null,
      "grid_auto_flow": null,
      "grid_auto_rows": null,
      "grid_column": null,
      "grid_gap": null,
      "grid_row": null,
      "grid_template_areas": null,
      "grid_template_columns": null,
      "grid_template_rows": null,
      "height": null,
      "justify_content": null,
      "justify_items": null,
      "left": null,
      "margin": null,
      "max_height": null,
      "max_width": null,
      "min_height": null,
      "min_width": null,
      "object_fit": null,
      "object_position": null,
      "order": null,
      "overflow": null,
      "overflow_x": null,
      "overflow_y": null,
      "padding": null,
      "right": null,
      "top": null,
      "visibility": null,
      "width": null
     }
    },
    "c8355d75e138454db3a15a74229fe88e": {
     "model_module": "@jupyter-widgets/controls",
     "model_name": "HTMLModel",
     "state": {
      "_dom_classes": [],
      "_model_module": "@jupyter-widgets/controls",
      "_model_module_version": "1.5.0",
      "_model_name": "HTMLModel",
      "_view_count": null,
      "_view_module": "@jupyter-widgets/controls",
      "_view_module_version": "1.5.0",
      "_view_name": "HTMLView",
      "description": "",
      "description_tooltip": null,
      "layout": "IPY_MODEL_be731714fc92489096ecf16a746455b7",
      "placeholder": "​",
      "style": "IPY_MODEL_0b7077b040dd43cea77888fa32a98569",
      "value": " 536M/536M [00:09&lt;00:00, 58.7MB/s]"
     }
    },
    "d368a2b85c084caead06d56deed161c2": {
     "model_module": "@jupyter-widgets/controls",
     "model_name": "ProgressStyleModel",
     "state": {
      "_model_module": "@jupyter-widgets/controls",
      "_model_module_version": "1.5.0",
      "_model_name": "ProgressStyleModel",
      "_view_count": null,
      "_view_module": "@jupyter-widgets/base",
      "_view_module_version": "1.2.0",
      "_view_name": "StyleView",
      "bar_color": null,
      "description_width": "initial"
     }
    },
    "da01ad38bebe49a39098d7b9b14732cd": {
     "model_module": "@jupyter-widgets/controls",
     "model_name": "FloatProgressModel",
     "state": {
      "_dom_classes": [],
      "_model_module": "@jupyter-widgets/controls",
      "_model_module_version": "1.5.0",
      "_model_name": "FloatProgressModel",
      "_view_count": null,
      "_view_module": "@jupyter-widgets/controls",
      "_view_module_version": "1.5.0",
      "_view_name": "ProgressView",
      "bar_style": "success",
      "description": "Downloading: 100%",
      "description_tooltip": null,
      "layout": "IPY_MODEL_deff965641ef4035b878e6c0ac88e840",
      "max": 433,
      "min": 0,
      "orientation": "horizontal",
      "style": "IPY_MODEL_d368a2b85c084caead06d56deed161c2",
      "value": 433
     }
    },
    "de27df20c9b54b05b4a111b5782b475d": {
     "model_module": "@jupyter-widgets/base",
     "model_name": "LayoutModel",
     "state": {
      "_model_module": "@jupyter-widgets/base",
      "_model_module_version": "1.2.0",
      "_model_name": "LayoutModel",
      "_view_count": null,
      "_view_module": "@jupyter-widgets/base",
      "_view_module_version": "1.2.0",
      "_view_name": "LayoutView",
      "align_content": null,
      "align_items": null,
      "align_self": null,
      "border": null,
      "bottom": null,
      "display": null,
      "flex": null,
      "flex_flow": null,
      "grid_area": null,
      "grid_auto_columns": null,
      "grid_auto_flow": null,
      "grid_auto_rows": null,
      "grid_column": null,
      "grid_gap": null,
      "grid_row": null,
      "grid_template_areas": null,
      "grid_template_columns": null,
      "grid_template_rows": null,
      "height": null,
      "justify_content": null,
      "justify_items": null,
      "left": null,
      "margin": null,
      "max_height": null,
      "max_width": null,
      "min_height": null,
      "min_width": null,
      "object_fit": null,
      "object_position": null,
      "order": null,
      "overflow": null,
      "overflow_x": null,
      "overflow_y": null,
      "padding": null,
      "right": null,
      "top": null,
      "visibility": null,
      "width": null
     }
    },
    "deff965641ef4035b878e6c0ac88e840": {
     "model_module": "@jupyter-widgets/base",
     "model_name": "LayoutModel",
     "state": {
      "_model_module": "@jupyter-widgets/base",
      "_model_module_version": "1.2.0",
      "_model_name": "LayoutModel",
      "_view_count": null,
      "_view_module": "@jupyter-widgets/base",
      "_view_module_version": "1.2.0",
      "_view_name": "LayoutView",
      "align_content": null,
      "align_items": null,
      "align_self": null,
      "border": null,
      "bottom": null,
      "display": null,
      "flex": null,
      "flex_flow": null,
      "grid_area": null,
      "grid_auto_columns": null,
      "grid_auto_flow": null,
      "grid_auto_rows": null,
      "grid_column": null,
      "grid_gap": null,
      "grid_row": null,
      "grid_template_areas": null,
      "grid_template_columns": null,
      "grid_template_rows": null,
      "height": null,
      "justify_content": null,
      "justify_items": null,
      "left": null,
      "margin": null,
      "max_height": null,
      "max_width": null,
      "min_height": null,
      "min_width": null,
      "object_fit": null,
      "object_position": null,
      "order": null,
      "overflow": null,
      "overflow_x": null,
      "overflow_y": null,
      "padding": null,
      "right": null,
      "top": null,
      "visibility": null,
      "width": null
     }
    },
    "e5d94eb846b442b4b266a42546df3c16": {
     "model_module": "@jupyter-widgets/base",
     "model_name": "LayoutModel",
     "state": {
      "_model_module": "@jupyter-widgets/base",
      "_model_module_version": "1.2.0",
      "_model_name": "LayoutModel",
      "_view_count": null,
      "_view_module": "@jupyter-widgets/base",
      "_view_module_version": "1.2.0",
      "_view_name": "LayoutView",
      "align_content": null,
      "align_items": null,
      "align_self": null,
      "border": null,
      "bottom": null,
      "display": null,
      "flex": null,
      "flex_flow": null,
      "grid_area": null,
      "grid_auto_columns": null,
      "grid_auto_flow": null,
      "grid_auto_rows": null,
      "grid_column": null,
      "grid_gap": null,
      "grid_row": null,
      "grid_template_areas": null,
      "grid_template_columns": null,
      "grid_template_rows": null,
      "height": null,
      "justify_content": null,
      "justify_items": null,
      "left": null,
      "margin": null,
      "max_height": null,
      "max_width": null,
      "min_height": null,
      "min_width": null,
      "object_fit": null,
      "object_position": null,
      "order": null,
      "overflow": null,
      "overflow_x": null,
      "overflow_y": null,
      "padding": null,
      "right": null,
      "top": null,
      "visibility": null,
      "width": null
     }
    },
    "e723697f7d0d47b7891da4048761a09a": {
     "model_module": "@jupyter-widgets/controls",
     "model_name": "HTMLModel",
     "state": {
      "_dom_classes": [],
      "_model_module": "@jupyter-widgets/controls",
      "_model_module_version": "1.5.0",
      "_model_name": "HTMLModel",
      "_view_count": null,
      "_view_module": "@jupyter-widgets/controls",
      "_view_module_version": "1.5.0",
      "_view_name": "HTMLView",
      "description": "",
      "description_tooltip": null,
      "layout": "IPY_MODEL_2140914acb324314a223ac418fab402c",
      "placeholder": "​",
      "style": "IPY_MODEL_47f6f1301a8c4e9290782312b6eafff0",
      "value": " 232k/232k [00:00&lt;00:00, 778kB/s]"
     }
    }
   }
  }
 },
 "nbformat": 4,
 "nbformat_minor": 1
}
