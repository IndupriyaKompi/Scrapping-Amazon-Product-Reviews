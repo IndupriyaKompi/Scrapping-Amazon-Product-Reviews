{
 "cells": [
  {
   "cell_type": "code",
   "execution_count": 1,
   "metadata": {},
   "outputs": [],
   "source": [
    "import pandas as pd\n",
    "import numpy as np\n",
    "import seaborn as sns\n",
    "\n",
    "import warnings\n",
    "warnings.filterwarnings('ignore')"
   ]
  },
  {
   "cell_type": "code",
   "execution_count": 2,
   "metadata": {
    "scrolled": false
   },
   "outputs": [
    {
     "data": {
      "text/html": [
       "<div>\n",
       "<style scoped>\n",
       "    .dataframe tbody tr th:only-of-type {\n",
       "        vertical-align: middle;\n",
       "    }\n",
       "\n",
       "    .dataframe tbody tr th {\n",
       "        vertical-align: top;\n",
       "    }\n",
       "\n",
       "    .dataframe thead th {\n",
       "        text-align: right;\n",
       "    }\n",
       "</style>\n",
       "<table border=\"1\" class=\"dataframe\">\n",
       "  <thead>\n",
       "    <tr style=\"text-align: right;\">\n",
       "      <th></th>\n",
       "      <th>review_title</th>\n",
       "      <th>product_review</th>\n",
       "      <th>product_rating</th>\n",
       "      <th>reviewer</th>\n",
       "    </tr>\n",
       "  </thead>\n",
       "  <tbody>\n",
       "    <tr>\n",
       "      <th>0</th>\n",
       "      <td>Works fine, replaces a Gen 3.</td>\n",
       "      <td>If you own an earlier Paperwhite and it's st...</td>\n",
       "      <td>3.0 out of 5 stars</td>\n",
       "      <td>E. Hinrichsen  II</td>\n",
       "    </tr>\n",
       "    <tr>\n",
       "      <th>1</th>\n",
       "      <td>Pinhole Bright Spots and Other Issues</td>\n",
       "      <td>Updated Review on Oct 6, 2019:</td>\n",
       "      <td>4.0 out of 5 stars</td>\n",
       "      <td>Sir Mike</td>\n",
       "    </tr>\n",
       "    <tr>\n",
       "      <th>2</th>\n",
       "      <td>Battery life is awful</td>\n",
       "      <td>I love Kindle, have always had one since the...</td>\n",
       "      <td>3.0 out of 5 stars</td>\n",
       "      <td>Ship210</td>\n",
       "    </tr>\n",
       "    <tr>\n",
       "      <th>3</th>\n",
       "      <td>A Review From 2 Perspectives</td>\n",
       "      <td>I feel I need to approach this review from 2...</td>\n",
       "      <td>5.0 out of 5 stars</td>\n",
       "      <td>Rustic</td>\n",
       "    </tr>\n",
       "    <tr>\n",
       "      <th>4</th>\n",
       "      <td>It’s waterproof. Everything else is worse.</td>\n",
       "      <td>It’s infuriating that Amazon went to market ...</td>\n",
       "      <td>1.0 out of 5 stars</td>\n",
       "      <td>D. Bier</td>\n",
       "    </tr>\n",
       "    <tr>\n",
       "      <th>...</th>\n",
       "      <td>...</td>\n",
       "      <td>...</td>\n",
       "      <td>...</td>\n",
       "      <td>...</td>\n",
       "    </tr>\n",
       "    <tr>\n",
       "      <th>9996</th>\n",
       "      <td>My first Kindle - Love it!</td>\n",
       "      <td>I've never used a Kindle, or any e-reader befo...</td>\n",
       "      <td>5.0 out of 5 stars</td>\n",
       "      <td>AngieF</td>\n",
       "    </tr>\n",
       "    <tr>\n",
       "      <th>9997</th>\n",
       "      <td>Amazon con job</td>\n",
       "      <td>Can no longer \"Remove this title\" from my Kind...</td>\n",
       "      <td>3.0 out of 5 stars</td>\n",
       "      <td>thom flora</td>\n",
       "    </tr>\n",
       "    <tr>\n",
       "      <th>9998</th>\n",
       "      <td>A necessary evil...</td>\n",
       "      <td>I bought the Kindle Paperwhite so I could down...</td>\n",
       "      <td>4.0 out of 5 stars</td>\n",
       "      <td>Sylvia</td>\n",
       "    </tr>\n",
       "    <tr>\n",
       "      <th>9999</th>\n",
       "      <td>New and imporved</td>\n",
       "      <td>Smaller and lighter (green is the new one and ...</td>\n",
       "      <td>5.0 out of 5 stars</td>\n",
       "      <td>kattface6</td>\n",
       "    </tr>\n",
       "    <tr>\n",
       "      <th>10000</th>\n",
       "      <td>Book covers in black&amp;white-hard to see them</td>\n",
       "      <td>It is lightweight and the perfect size for an ...</td>\n",
       "      <td>3.0 out of 5 stars</td>\n",
       "      <td>SMZ</td>\n",
       "    </tr>\n",
       "  </tbody>\n",
       "</table>\n",
       "<p>10001 rows × 4 columns</p>\n",
       "</div>"
      ],
      "text/plain": [
       "                                      review_title  \\\n",
       "0                    Works fine, replaces a Gen 3.   \n",
       "1            Pinhole Bright Spots and Other Issues   \n",
       "2                            Battery life is awful   \n",
       "3                     A Review From 2 Perspectives   \n",
       "4       It’s waterproof. Everything else is worse.   \n",
       "...                                            ...   \n",
       "9996                    My first Kindle - Love it!   \n",
       "9997                                Amazon con job   \n",
       "9998                           A necessary evil...   \n",
       "9999                              New and imporved   \n",
       "10000  Book covers in black&white-hard to see them   \n",
       "\n",
       "                                          product_review      product_rating  \\\n",
       "0        If you own an earlier Paperwhite and it's st...  3.0 out of 5 stars   \n",
       "1                         Updated Review on Oct 6, 2019:  4.0 out of 5 stars   \n",
       "2        I love Kindle, have always had one since the...  3.0 out of 5 stars   \n",
       "3        I feel I need to approach this review from 2...  5.0 out of 5 stars   \n",
       "4        It’s infuriating that Amazon went to market ...  1.0 out of 5 stars   \n",
       "...                                                  ...                 ...   \n",
       "9996   I've never used a Kindle, or any e-reader befo...  5.0 out of 5 stars   \n",
       "9997   Can no longer \"Remove this title\" from my Kind...  3.0 out of 5 stars   \n",
       "9998   I bought the Kindle Paperwhite so I could down...  4.0 out of 5 stars   \n",
       "9999   Smaller and lighter (green is the new one and ...  5.0 out of 5 stars   \n",
       "10000  It is lightweight and the perfect size for an ...  3.0 out of 5 stars   \n",
       "\n",
       "                reviewer  \n",
       "0      E. Hinrichsen  II  \n",
       "1               Sir Mike  \n",
       "2                Ship210  \n",
       "3                 Rustic  \n",
       "4                D. Bier  \n",
       "...                  ...  \n",
       "9996              AngieF  \n",
       "9997          thom flora  \n",
       "9998              Sylvia  \n",
       "9999           kattface6  \n",
       "10000                SMZ  \n",
       "\n",
       "[10001 rows x 4 columns]"
      ]
     },
     "execution_count": 2,
     "metadata": {},
     "output_type": "execute_result"
    }
   ],
   "source": [
    "kindle_df = pd.read_csv('kindle.csv')\n",
    "kindle_df['product_review'] = kindle_df['product_review'].str.replace('\\n', '')\n",
    "kindle_df"
   ]
  },
  {
   "cell_type": "code",
   "execution_count": 3,
   "metadata": {},
   "outputs": [
    {
     "data": {
      "text/html": [
       "<div>\n",
       "<style scoped>\n",
       "    .dataframe tbody tr th:only-of-type {\n",
       "        vertical-align: middle;\n",
       "    }\n",
       "\n",
       "    .dataframe tbody tr th {\n",
       "        vertical-align: top;\n",
       "    }\n",
       "\n",
       "    .dataframe thead th {\n",
       "        text-align: right;\n",
       "    }\n",
       "</style>\n",
       "<table border=\"1\" class=\"dataframe\">\n",
       "  <thead>\n",
       "    <tr style=\"text-align: right;\">\n",
       "      <th></th>\n",
       "      <th>review_title</th>\n",
       "      <th>product_review</th>\n",
       "      <th>product_rating</th>\n",
       "      <th>reviewer</th>\n",
       "    </tr>\n",
       "  </thead>\n",
       "  <tbody>\n",
       "    <tr>\n",
       "      <th>0</th>\n",
       "      <td>Works fine, replaces a Gen 3.</td>\n",
       "      <td>If you own an earlier Paperwhite and it's st...</td>\n",
       "      <td>3.0</td>\n",
       "      <td>E. Hinrichsen  II</td>\n",
       "    </tr>\n",
       "    <tr>\n",
       "      <th>1</th>\n",
       "      <td>Pinhole Bright Spots and Other Issues</td>\n",
       "      <td>Updated Review on Oct 6, 2019:</td>\n",
       "      <td>4.0</td>\n",
       "      <td>Sir Mike</td>\n",
       "    </tr>\n",
       "    <tr>\n",
       "      <th>2</th>\n",
       "      <td>Battery life is awful</td>\n",
       "      <td>I love Kindle, have always had one since the...</td>\n",
       "      <td>3.0</td>\n",
       "      <td>Ship210</td>\n",
       "    </tr>\n",
       "    <tr>\n",
       "      <th>3</th>\n",
       "      <td>A Review From 2 Perspectives</td>\n",
       "      <td>I feel I need to approach this review from 2...</td>\n",
       "      <td>5.0</td>\n",
       "      <td>Rustic</td>\n",
       "    </tr>\n",
       "    <tr>\n",
       "      <th>4</th>\n",
       "      <td>It’s waterproof. Everything else is worse.</td>\n",
       "      <td>It’s infuriating that Amazon went to market ...</td>\n",
       "      <td>1.0</td>\n",
       "      <td>D. Bier</td>\n",
       "    </tr>\n",
       "    <tr>\n",
       "      <th>...</th>\n",
       "      <td>...</td>\n",
       "      <td>...</td>\n",
       "      <td>...</td>\n",
       "      <td>...</td>\n",
       "    </tr>\n",
       "    <tr>\n",
       "      <th>9996</th>\n",
       "      <td>My first Kindle - Love it!</td>\n",
       "      <td>I've never used a Kindle, or any e-reader befo...</td>\n",
       "      <td>5.0</td>\n",
       "      <td>AngieF</td>\n",
       "    </tr>\n",
       "    <tr>\n",
       "      <th>9997</th>\n",
       "      <td>Amazon con job</td>\n",
       "      <td>Can no longer \"Remove this title\" from my Kind...</td>\n",
       "      <td>3.0</td>\n",
       "      <td>thom flora</td>\n",
       "    </tr>\n",
       "    <tr>\n",
       "      <th>9998</th>\n",
       "      <td>A necessary evil...</td>\n",
       "      <td>I bought the Kindle Paperwhite so I could down...</td>\n",
       "      <td>4.0</td>\n",
       "      <td>Sylvia</td>\n",
       "    </tr>\n",
       "    <tr>\n",
       "      <th>9999</th>\n",
       "      <td>New and imporved</td>\n",
       "      <td>Smaller and lighter (green is the new one and ...</td>\n",
       "      <td>5.0</td>\n",
       "      <td>kattface6</td>\n",
       "    </tr>\n",
       "    <tr>\n",
       "      <th>10000</th>\n",
       "      <td>Book covers in black&amp;white-hard to see them</td>\n",
       "      <td>It is lightweight and the perfect size for an ...</td>\n",
       "      <td>3.0</td>\n",
       "      <td>SMZ</td>\n",
       "    </tr>\n",
       "  </tbody>\n",
       "</table>\n",
       "<p>10001 rows × 4 columns</p>\n",
       "</div>"
      ],
      "text/plain": [
       "                                      review_title  \\\n",
       "0                    Works fine, replaces a Gen 3.   \n",
       "1            Pinhole Bright Spots and Other Issues   \n",
       "2                            Battery life is awful   \n",
       "3                     A Review From 2 Perspectives   \n",
       "4       It’s waterproof. Everything else is worse.   \n",
       "...                                            ...   \n",
       "9996                    My first Kindle - Love it!   \n",
       "9997                                Amazon con job   \n",
       "9998                           A necessary evil...   \n",
       "9999                              New and imporved   \n",
       "10000  Book covers in black&white-hard to see them   \n",
       "\n",
       "                                          product_review product_rating  \\\n",
       "0        If you own an earlier Paperwhite and it's st...            3.0   \n",
       "1                         Updated Review on Oct 6, 2019:            4.0   \n",
       "2        I love Kindle, have always had one since the...            3.0   \n",
       "3        I feel I need to approach this review from 2...            5.0   \n",
       "4        It’s infuriating that Amazon went to market ...            1.0   \n",
       "...                                                  ...            ...   \n",
       "9996   I've never used a Kindle, or any e-reader befo...            5.0   \n",
       "9997   Can no longer \"Remove this title\" from my Kind...            3.0   \n",
       "9998   I bought the Kindle Paperwhite so I could down...            4.0   \n",
       "9999   Smaller and lighter (green is the new one and ...            5.0   \n",
       "10000  It is lightweight and the perfect size for an ...            3.0   \n",
       "\n",
       "                reviewer  \n",
       "0      E. Hinrichsen  II  \n",
       "1               Sir Mike  \n",
       "2                Ship210  \n",
       "3                 Rustic  \n",
       "4                D. Bier  \n",
       "...                  ...  \n",
       "9996              AngieF  \n",
       "9997          thom flora  \n",
       "9998              Sylvia  \n",
       "9999           kattface6  \n",
       "10000                SMZ  \n",
       "\n",
       "[10001 rows x 4 columns]"
      ]
     },
     "execution_count": 3,
     "metadata": {},
     "output_type": "execute_result"
    }
   ],
   "source": [
    "kindle_df['product_rating'] = kindle_df.product_rating.apply(lambda r: str(r.split()[0]))\n",
    "kindle_df"
   ]
  },
  {
   "cell_type": "markdown",
   "metadata": {},
   "source": [
    "# Filling NaN values"
   ]
  },
  {
   "cell_type": "code",
   "execution_count": 4,
   "metadata": {
    "scrolled": true
   },
   "outputs": [
    {
     "name": "stdout",
     "output_type": "stream",
     "text": [
      "product_rating:  False\n",
      "product_review:  True\n"
     ]
    }
   ],
   "source": [
    "print(\"product_rating: \", kindle_df['product_rating'].isnull().values.any())\n",
    "print(\"product_review: \",kindle_df['product_review'].isnull().values.any())"
   ]
  },
  {
   "cell_type": "code",
   "execution_count": 5,
   "metadata": {},
   "outputs": [
    {
     "data": {
      "text/html": [
       "<div>\n",
       "<style scoped>\n",
       "    .dataframe tbody tr th:only-of-type {\n",
       "        vertical-align: middle;\n",
       "    }\n",
       "\n",
       "    .dataframe tbody tr th {\n",
       "        vertical-align: top;\n",
       "    }\n",
       "\n",
       "    .dataframe thead th {\n",
       "        text-align: right;\n",
       "    }\n",
       "</style>\n",
       "<table border=\"1\" class=\"dataframe\">\n",
       "  <thead>\n",
       "    <tr style=\"text-align: right;\">\n",
       "      <th></th>\n",
       "      <th>review_title</th>\n",
       "      <th>product_review</th>\n",
       "      <th>product_rating</th>\n",
       "      <th>reviewer</th>\n",
       "    </tr>\n",
       "  </thead>\n",
       "  <tbody>\n",
       "    <tr>\n",
       "      <th>6757</th>\n",
       "      <td>Disappointing</td>\n",
       "      <td>NaN</td>\n",
       "      <td>2.0</td>\n",
       "      <td>Steve A</td>\n",
       "    </tr>\n",
       "  </tbody>\n",
       "</table>\n",
       "</div>"
      ],
      "text/plain": [
       "       review_title product_review product_rating reviewer\n",
       "6757  Disappointing            NaN            2.0  Steve A"
      ]
     },
     "execution_count": 5,
     "metadata": {},
     "output_type": "execute_result"
    }
   ],
   "source": [
    "nan_values = kindle_df[kindle_df['product_review'].isnull()]\n",
    "nan_values"
   ]
  },
  {
   "cell_type": "code",
   "execution_count": 6,
   "metadata": {},
   "outputs": [
    {
     "name": "stdout",
     "output_type": "stream",
     "text": [
      "product_review:  False\n"
     ]
    },
    {
     "data": {
      "text/html": [
       "<div>\n",
       "<style scoped>\n",
       "    .dataframe tbody tr th:only-of-type {\n",
       "        vertical-align: middle;\n",
       "    }\n",
       "\n",
       "    .dataframe tbody tr th {\n",
       "        vertical-align: top;\n",
       "    }\n",
       "\n",
       "    .dataframe thead th {\n",
       "        text-align: right;\n",
       "    }\n",
       "</style>\n",
       "<table border=\"1\" class=\"dataframe\">\n",
       "  <thead>\n",
       "    <tr style=\"text-align: right;\">\n",
       "      <th></th>\n",
       "      <th>review_title</th>\n",
       "      <th>product_review</th>\n",
       "      <th>product_rating</th>\n",
       "      <th>reviewer</th>\n",
       "    </tr>\n",
       "  </thead>\n",
       "  <tbody>\n",
       "    <tr>\n",
       "      <th>0</th>\n",
       "      <td>Works fine, replaces a Gen 3.</td>\n",
       "      <td>If you own an earlier Paperwhite and it's st...</td>\n",
       "      <td>3.0</td>\n",
       "      <td>E. Hinrichsen  II</td>\n",
       "    </tr>\n",
       "    <tr>\n",
       "      <th>1</th>\n",
       "      <td>Pinhole Bright Spots and Other Issues</td>\n",
       "      <td>Updated Review on Oct 6, 2019:</td>\n",
       "      <td>4.0</td>\n",
       "      <td>Sir Mike</td>\n",
       "    </tr>\n",
       "    <tr>\n",
       "      <th>2</th>\n",
       "      <td>Battery life is awful</td>\n",
       "      <td>I love Kindle, have always had one since the...</td>\n",
       "      <td>3.0</td>\n",
       "      <td>Ship210</td>\n",
       "    </tr>\n",
       "    <tr>\n",
       "      <th>3</th>\n",
       "      <td>A Review From 2 Perspectives</td>\n",
       "      <td>I feel I need to approach this review from 2...</td>\n",
       "      <td>5.0</td>\n",
       "      <td>Rustic</td>\n",
       "    </tr>\n",
       "    <tr>\n",
       "      <th>4</th>\n",
       "      <td>It’s waterproof. Everything else is worse.</td>\n",
       "      <td>It’s infuriating that Amazon went to market ...</td>\n",
       "      <td>1.0</td>\n",
       "      <td>D. Bier</td>\n",
       "    </tr>\n",
       "    <tr>\n",
       "      <th>...</th>\n",
       "      <td>...</td>\n",
       "      <td>...</td>\n",
       "      <td>...</td>\n",
       "      <td>...</td>\n",
       "    </tr>\n",
       "    <tr>\n",
       "      <th>9996</th>\n",
       "      <td>My first Kindle - Love it!</td>\n",
       "      <td>I've never used a Kindle, or any e-reader befo...</td>\n",
       "      <td>5.0</td>\n",
       "      <td>AngieF</td>\n",
       "    </tr>\n",
       "    <tr>\n",
       "      <th>9997</th>\n",
       "      <td>Amazon con job</td>\n",
       "      <td>Can no longer \"Remove this title\" from my Kind...</td>\n",
       "      <td>3.0</td>\n",
       "      <td>thom flora</td>\n",
       "    </tr>\n",
       "    <tr>\n",
       "      <th>9998</th>\n",
       "      <td>A necessary evil...</td>\n",
       "      <td>I bought the Kindle Paperwhite so I could down...</td>\n",
       "      <td>4.0</td>\n",
       "      <td>Sylvia</td>\n",
       "    </tr>\n",
       "    <tr>\n",
       "      <th>9999</th>\n",
       "      <td>New and imporved</td>\n",
       "      <td>Smaller and lighter (green is the new one and ...</td>\n",
       "      <td>5.0</td>\n",
       "      <td>kattface6</td>\n",
       "    </tr>\n",
       "    <tr>\n",
       "      <th>10000</th>\n",
       "      <td>Book covers in black&amp;white-hard to see them</td>\n",
       "      <td>It is lightweight and the perfect size for an ...</td>\n",
       "      <td>3.0</td>\n",
       "      <td>SMZ</td>\n",
       "    </tr>\n",
       "  </tbody>\n",
       "</table>\n",
       "<p>10001 rows × 4 columns</p>\n",
       "</div>"
      ],
      "text/plain": [
       "                                      review_title  \\\n",
       "0                    Works fine, replaces a Gen 3.   \n",
       "1            Pinhole Bright Spots and Other Issues   \n",
       "2                            Battery life is awful   \n",
       "3                     A Review From 2 Perspectives   \n",
       "4       It’s waterproof. Everything else is worse.   \n",
       "...                                            ...   \n",
       "9996                    My first Kindle - Love it!   \n",
       "9997                                Amazon con job   \n",
       "9998                           A necessary evil...   \n",
       "9999                              New and imporved   \n",
       "10000  Book covers in black&white-hard to see them   \n",
       "\n",
       "                                          product_review product_rating  \\\n",
       "0        If you own an earlier Paperwhite and it's st...            3.0   \n",
       "1                         Updated Review on Oct 6, 2019:            4.0   \n",
       "2        I love Kindle, have always had one since the...            3.0   \n",
       "3        I feel I need to approach this review from 2...            5.0   \n",
       "4        It’s infuriating that Amazon went to market ...            1.0   \n",
       "...                                                  ...            ...   \n",
       "9996   I've never used a Kindle, or any e-reader befo...            5.0   \n",
       "9997   Can no longer \"Remove this title\" from my Kind...            3.0   \n",
       "9998   I bought the Kindle Paperwhite so I could down...            4.0   \n",
       "9999   Smaller and lighter (green is the new one and ...            5.0   \n",
       "10000  It is lightweight and the perfect size for an ...            3.0   \n",
       "\n",
       "                reviewer  \n",
       "0      E. Hinrichsen  II  \n",
       "1               Sir Mike  \n",
       "2                Ship210  \n",
       "3                 Rustic  \n",
       "4                D. Bier  \n",
       "...                  ...  \n",
       "9996              AngieF  \n",
       "9997          thom flora  \n",
       "9998              Sylvia  \n",
       "9999           kattface6  \n",
       "10000                SMZ  \n",
       "\n",
       "[10001 rows x 4 columns]"
      ]
     },
     "execution_count": 6,
     "metadata": {},
     "output_type": "execute_result"
    }
   ],
   "source": [
    "# if rating is positive, fill with good\n",
    "# if rating is negative, fill with bad\n",
    "# if rating is neutral, fill with average\n",
    "\n",
    "# kindle_df['product_review'].fillna('bad')\n",
    "kindle_df['product_review'] = kindle_df.product_review.replace(np.nan, 'bad', regex=True)\n",
    "print(\"product_review: \",kindle_df['product_review'].isnull().values.any())\n",
    "kindle_df"
   ]
  },
  {
   "cell_type": "markdown",
   "metadata": {},
   "source": [
    "# Typecasting"
   ]
  },
  {
   "cell_type": "code",
   "execution_count": 7,
   "metadata": {},
   "outputs": [
    {
     "data": {
      "text/plain": [
       "0        3.0\n",
       "1        4.0\n",
       "2        3.0\n",
       "3        5.0\n",
       "4        1.0\n",
       "        ... \n",
       "9996     5.0\n",
       "9997     3.0\n",
       "9998     4.0\n",
       "9999     5.0\n",
       "10000    3.0\n",
       "Name: product_rating, Length: 10001, dtype: object"
      ]
     },
     "execution_count": 7,
     "metadata": {},
     "output_type": "execute_result"
    }
   ],
   "source": [
    "kindle_df['product_rating'] = kindle_df['product_rating'].astype(str)\n",
    "kindle_df.product_rating"
   ]
  },
  {
   "cell_type": "code",
   "execution_count": 8,
   "metadata": {},
   "outputs": [],
   "source": [
    "copy_df=kindle_df.copy()"
   ]
  },
  {
   "cell_type": "markdown",
   "metadata": {},
   "source": [
    "# Categorizing the ratings"
   ]
  },
  {
   "cell_type": "code",
   "execution_count": 9,
   "metadata": {},
   "outputs": [],
   "source": [
    "def RatingCat(row):\n",
    "    if row['product_rating']>='3.5':     # if the rating is less than 2 then it is negative\n",
    "        return \"positive\"\n",
    "    #elif row['product_rating']>='4.0':   #if the rating is higher than 2 then it is positive\n",
    "      #  return \"positive\"\n",
    "    else:\n",
    "        return \"negative\""
   ]
  },
  {
   "cell_type": "markdown",
   "metadata": {},
   "source": [
    "# Plotting the ratings"
   ]
  },
  {
   "cell_type": "code",
   "execution_count": 10,
   "metadata": {
    "scrolled": false
   },
   "outputs": [
    {
     "data": {
      "text/html": [
       "<div>\n",
       "<style scoped>\n",
       "    .dataframe tbody tr th:only-of-type {\n",
       "        vertical-align: middle;\n",
       "    }\n",
       "\n",
       "    .dataframe tbody tr th {\n",
       "        vertical-align: top;\n",
       "    }\n",
       "\n",
       "    .dataframe thead th {\n",
       "        text-align: right;\n",
       "    }\n",
       "</style>\n",
       "<table border=\"1\" class=\"dataframe\">\n",
       "  <thead>\n",
       "    <tr style=\"text-align: right;\">\n",
       "      <th></th>\n",
       "      <th>review_title</th>\n",
       "      <th>product_review</th>\n",
       "      <th>product_rating</th>\n",
       "      <th>reviewer</th>\n",
       "      <th>category</th>\n",
       "    </tr>\n",
       "  </thead>\n",
       "  <tbody>\n",
       "    <tr>\n",
       "      <th>0</th>\n",
       "      <td>Works fine, replaces a Gen 3.</td>\n",
       "      <td>If you own an earlier Paperwhite and it's st...</td>\n",
       "      <td>3.0</td>\n",
       "      <td>E. Hinrichsen  II</td>\n",
       "      <td>negative</td>\n",
       "    </tr>\n",
       "    <tr>\n",
       "      <th>1</th>\n",
       "      <td>Pinhole Bright Spots and Other Issues</td>\n",
       "      <td>Updated Review on Oct 6, 2019:</td>\n",
       "      <td>4.0</td>\n",
       "      <td>Sir Mike</td>\n",
       "      <td>positive</td>\n",
       "    </tr>\n",
       "    <tr>\n",
       "      <th>2</th>\n",
       "      <td>Battery life is awful</td>\n",
       "      <td>I love Kindle, have always had one since the...</td>\n",
       "      <td>3.0</td>\n",
       "      <td>Ship210</td>\n",
       "      <td>negative</td>\n",
       "    </tr>\n",
       "    <tr>\n",
       "      <th>3</th>\n",
       "      <td>A Review From 2 Perspectives</td>\n",
       "      <td>I feel I need to approach this review from 2...</td>\n",
       "      <td>5.0</td>\n",
       "      <td>Rustic</td>\n",
       "      <td>positive</td>\n",
       "    </tr>\n",
       "    <tr>\n",
       "      <th>4</th>\n",
       "      <td>It’s waterproof. Everything else is worse.</td>\n",
       "      <td>It’s infuriating that Amazon went to market ...</td>\n",
       "      <td>1.0</td>\n",
       "      <td>D. Bier</td>\n",
       "      <td>negative</td>\n",
       "    </tr>\n",
       "    <tr>\n",
       "      <th>...</th>\n",
       "      <td>...</td>\n",
       "      <td>...</td>\n",
       "      <td>...</td>\n",
       "      <td>...</td>\n",
       "      <td>...</td>\n",
       "    </tr>\n",
       "    <tr>\n",
       "      <th>9996</th>\n",
       "      <td>My first Kindle - Love it!</td>\n",
       "      <td>I've never used a Kindle, or any e-reader befo...</td>\n",
       "      <td>5.0</td>\n",
       "      <td>AngieF</td>\n",
       "      <td>positive</td>\n",
       "    </tr>\n",
       "    <tr>\n",
       "      <th>9997</th>\n",
       "      <td>Amazon con job</td>\n",
       "      <td>Can no longer \"Remove this title\" from my Kind...</td>\n",
       "      <td>3.0</td>\n",
       "      <td>thom flora</td>\n",
       "      <td>negative</td>\n",
       "    </tr>\n",
       "    <tr>\n",
       "      <th>9998</th>\n",
       "      <td>A necessary evil...</td>\n",
       "      <td>I bought the Kindle Paperwhite so I could down...</td>\n",
       "      <td>4.0</td>\n",
       "      <td>Sylvia</td>\n",
       "      <td>positive</td>\n",
       "    </tr>\n",
       "    <tr>\n",
       "      <th>9999</th>\n",
       "      <td>New and imporved</td>\n",
       "      <td>Smaller and lighter (green is the new one and ...</td>\n",
       "      <td>5.0</td>\n",
       "      <td>kattface6</td>\n",
       "      <td>positive</td>\n",
       "    </tr>\n",
       "    <tr>\n",
       "      <th>10000</th>\n",
       "      <td>Book covers in black&amp;white-hard to see them</td>\n",
       "      <td>It is lightweight and the perfect size for an ...</td>\n",
       "      <td>3.0</td>\n",
       "      <td>SMZ</td>\n",
       "      <td>negative</td>\n",
       "    </tr>\n",
       "  </tbody>\n",
       "</table>\n",
       "<p>10001 rows × 5 columns</p>\n",
       "</div>"
      ],
      "text/plain": [
       "                                      review_title  \\\n",
       "0                    Works fine, replaces a Gen 3.   \n",
       "1            Pinhole Bright Spots and Other Issues   \n",
       "2                            Battery life is awful   \n",
       "3                     A Review From 2 Perspectives   \n",
       "4       It’s waterproof. Everything else is worse.   \n",
       "...                                            ...   \n",
       "9996                    My first Kindle - Love it!   \n",
       "9997                                Amazon con job   \n",
       "9998                           A necessary evil...   \n",
       "9999                              New and imporved   \n",
       "10000  Book covers in black&white-hard to see them   \n",
       "\n",
       "                                          product_review product_rating  \\\n",
       "0        If you own an earlier Paperwhite and it's st...            3.0   \n",
       "1                         Updated Review on Oct 6, 2019:            4.0   \n",
       "2        I love Kindle, have always had one since the...            3.0   \n",
       "3        I feel I need to approach this review from 2...            5.0   \n",
       "4        It’s infuriating that Amazon went to market ...            1.0   \n",
       "...                                                  ...            ...   \n",
       "9996   I've never used a Kindle, or any e-reader befo...            5.0   \n",
       "9997   Can no longer \"Remove this title\" from my Kind...            3.0   \n",
       "9998   I bought the Kindle Paperwhite so I could down...            4.0   \n",
       "9999   Smaller and lighter (green is the new one and ...            5.0   \n",
       "10000  It is lightweight and the perfect size for an ...            3.0   \n",
       "\n",
       "                reviewer  category  \n",
       "0      E. Hinrichsen  II  negative  \n",
       "1               Sir Mike  positive  \n",
       "2                Ship210  negative  \n",
       "3                 Rustic  positive  \n",
       "4                D. Bier  negative  \n",
       "...                  ...       ...  \n",
       "9996              AngieF  positive  \n",
       "9997          thom flora  negative  \n",
       "9998              Sylvia  positive  \n",
       "9999           kattface6  positive  \n",
       "10000                SMZ  negative  \n",
       "\n",
       "[10001 rows x 5 columns]"
      ]
     },
     "execution_count": 10,
     "metadata": {},
     "output_type": "execute_result"
    },
    {
     "data": {
      "image/png": "[encoded data removed]",
      "text/plain": [
       "<Figure size 432x288 with 1 Axes>"
      ]
     },
     "metadata": {
      "needs_background": "light"
     },
     "output_type": "display_data"
    }
   ],
   "source": [
    "kindle_df['category']=kindle_df.apply(lambda row:RatingCat(row),axis=1)\n",
    "sns.countplot(kindle_df['category']).set_title(\"Distribution of Reviews Category\")   #distribution of the reviews\n",
    "kindle_df"
   ]
  },
  {
   "cell_type": "markdown",
   "metadata": {},
   "source": [
    "# Train Test Split"
   ]
  },
  {
   "cell_type": "code",
   "execution_count": null,
   "metadata": {},
   "outputs": [],
   "source": []
  },
  {
   "cell_type": "code",
   "execution_count": 27,
   "metadata": {},
   "outputs": [],
   "source": [
    "STOPWORDS=set(stopwords.words(\"english\")) #stopwords are the most common unnecessary words. eg is, he, that, etc.\n",
    "\n",
    "def deEmojify(inputString):\n",
    "    return inputString.encode('ascii', 'ignore').decode('ascii') # A function to remove emojis from the reviews"
   ]
  },
  {
   "cell_type": "code",
   "execution_count": 21,
   "metadata": {},
   "outputs": [],
   "source": [
    "import nltk"
   ]
  },
  {
   "cell_type": "code",
   "execution_count": 22,
   "metadata": {},
   "outputs": [
    {
     "name": "stderr",
     "output_type": "stream",
     "text": [
      "[nltk_data] Downloading package stopwords to\n",
      "[nltk_data]     /Users/indupriyakompi/nltk_data...\n",
      "[nltk_data]   Package stopwords is already up-to-date!\n"
     ]
    },
    {
     "data": {
      "text/plain": [
       "True"
      ]
     },
     "execution_count": 22,
     "metadata": {},
     "output_type": "execute_result"
    }
   ],
   "source": [
    "nltk.download('stopwords')"
   ]
  },
  {
   "cell_type": "code",
   "execution_count": 23,
   "metadata": {},
   "outputs": [
    {
     "name": "stdout",
     "output_type": "stream",
     "text": [
      "Requirement already satisfied: sklearn in /Users/indupriyakompi/opt/anaconda3/envs/dlvirenv/lib/python3.8/site-packages (0.0)\r\n",
      "Requirement already satisfied: scikit-learn in /Users/indupriyakompi/opt/anaconda3/envs/dlvirenv/lib/python3.8/site-packages (from sklearn) (0.24.1)\r\n",
      "Requirement already satisfied: numpy>=1.13.3 in /Users/indupriyakompi/opt/anaconda3/envs/dlvirenv/lib/python3.8/site-packages (from scikit-learn->sklearn) (1.18.5)\r\n",
      "Requirement already satisfied: joblib>=0.11 in /Users/indupriyakompi/opt/anaconda3/envs/dlvirenv/lib/python3.8/site-packages (from scikit-learn->sklearn) (1.0.1)\r\n",
      "Requirement already satisfied: threadpoolctl>=2.0.0 in /Users/indupriyakompi/opt/anaconda3/envs/dlvirenv/lib/python3.8/site-packages (from scikit-learn->sklearn) (2.1.0)\r\n",
      "Requirement already satisfied: scipy>=0.19.1 in /Users/indupriyakompi/opt/anaconda3/envs/dlvirenv/lib/python3.8/site-packages (from scikit-learn->sklearn) (1.6.1)\r\n"
     ]
    }
   ],
   "source": [
    "!pip install sklearn"
   ]
  },
  {
   "cell_type": "code",
   "execution_count": 28,
   "metadata": {},
   "outputs": [
    {
     "ename": "ModuleNotFoundError",
     "evalue": "No module named 'sklearn.feature_extraction.stop_words'",
     "output_type": "error",
     "traceback": [
      "\u001b[0;31m---------------------------------------------------------------------------\u001b[0m",
      "\u001b[0;31mModuleNotFoundError\u001b[0m                       Traceback (most recent call last)",
      "\u001b[0;32m<ipython-input-28-48601f2c8468>\u001b[0m in \u001b[0;36m<module>\u001b[0;34m\u001b[0m\n\u001b[1;32m      5\u001b[0m \u001b[0;32mimport\u001b[0m \u001b[0mstring\u001b[0m\u001b[0;34m\u001b[0m\u001b[0;34m\u001b[0m\u001b[0m\n\u001b[1;32m      6\u001b[0m \u001b[0;32mimport\u001b[0m \u001b[0mre\u001b[0m\u001b[0;34m\u001b[0m\u001b[0;34m\u001b[0m\u001b[0m\n\u001b[0;32m----> 7\u001b[0;31m \u001b[0;32mfrom\u001b[0m \u001b[0msklearn\u001b[0m\u001b[0;34m.\u001b[0m\u001b[0mfeature_extraction\u001b[0m\u001b[0;34m.\u001b[0m\u001b[0mstop_words\u001b[0m \u001b[0;32mimport\u001b[0m \u001b[0mENGLISH_STOP_WORDS\u001b[0m\u001b[0;34m\u001b[0m\u001b[0;34m\u001b[0m\u001b[0m\n\u001b[0m",
      "\u001b[0;31mModuleNotFoundError\u001b[0m: No module named 'sklearn.feature_extraction.stop_words'"
     ]
    }
   ],
   "source": [
    "from nltk.corpus import stopwords\n",
    "from nltk import PorterStemmer as stemmer\n",
    "from bs4 import BeautifulSoup \n",
    "\n",
    "import string\n",
    "import re\n",
    "from sklearn.feature_extraction.stop_words import ENGLISH_STOP_WORDS"
   ]
  },
  {
   "cell_type": "code",
   "execution_count": 29,
   "metadata": {
    "scrolled": true
   },
   "outputs": [
    {
     "data": {
      "text/html": [
       "<div>\n",
       "<style scoped>\n",
       "    .dataframe tbody tr th:only-of-type {\n",
       "        vertical-align: middle;\n",
       "    }\n",
       "\n",
       "    .dataframe tbody tr th {\n",
       "        vertical-align: top;\n",
       "    }\n",
       "\n",
       "    .dataframe thead th {\n",
       "        text-align: right;\n",
       "    }\n",
       "</style>\n",
       "<table border=\"1\" class=\"dataframe\">\n",
       "  <thead>\n",
       "    <tr style=\"text-align: right;\">\n",
       "      <th></th>\n",
       "      <th>review_title</th>\n",
       "      <th>product_review</th>\n",
       "      <th>product_rating</th>\n",
       "      <th>reviewer</th>\n",
       "      <th>category</th>\n",
       "      <th>cleaned_product_review</th>\n",
       "    </tr>\n",
       "  </thead>\n",
       "  <tbody>\n",
       "    <tr>\n",
       "      <th>0</th>\n",
       "      <td>Works fine, replaces a Gen 3.</td>\n",
       "      <td>If you own an earlier Paperwhite and it's st...</td>\n",
       "      <td>3.0</td>\n",
       "      <td>E. Hinrichsen  II</td>\n",
       "      <td>negative</td>\n",
       "      <td>earlier paperwhit still function compel reaso...</td>\n",
       "    </tr>\n",
       "    <tr>\n",
       "      <th>1</th>\n",
       "      <td>Pinhole Bright Spots and Other Issues</td>\n",
       "      <td>Updated Review on Oct 6, 2019:</td>\n",
       "      <td>4.0</td>\n",
       "      <td>Sir Mike</td>\n",
       "      <td>positive</td>\n",
       "      <td>updat review oct 6 2019</td>\n",
       "    </tr>\n",
       "    <tr>\n",
       "      <th>2</th>\n",
       "      <td>Battery life is awful</td>\n",
       "      <td>I love Kindle, have always had one since the...</td>\n",
       "      <td>3.0</td>\n",
       "      <td>Ship210</td>\n",
       "      <td>negative</td>\n",
       "      <td>love kindl alway one sinc first edit third pa...</td>\n",
       "    </tr>\n",
       "    <tr>\n",
       "      <th>3</th>\n",
       "      <td>A Review From 2 Perspectives</td>\n",
       "      <td>I feel I need to approach this review from 2...</td>\n",
       "      <td>5.0</td>\n",
       "      <td>Rustic</td>\n",
       "      <td>positive</td>\n",
       "      <td>feel need approach review 2 perspect</td>\n",
       "    </tr>\n",
       "    <tr>\n",
       "      <th>4</th>\n",
       "      <td>It’s waterproof. Everything else is worse.</td>\n",
       "      <td>It’s infuriating that Amazon went to market ...</td>\n",
       "      <td>1.0</td>\n",
       "      <td>D. Bier</td>\n",
       "      <td>negative</td>\n",
       "      <td>infuri amazon went market machin upgrad prior...</td>\n",
       "    </tr>\n",
       "    <tr>\n",
       "      <th>...</th>\n",
       "      <td>...</td>\n",
       "      <td>...</td>\n",
       "      <td>...</td>\n",
       "      <td>...</td>\n",
       "      <td>...</td>\n",
       "      <td>...</td>\n",
       "    </tr>\n",
       "    <tr>\n",
       "      <th>9996</th>\n",
       "      <td>My first Kindle - Love it!</td>\n",
       "      <td>I've never used a Kindle, or any e-reader befo...</td>\n",
       "      <td>5.0</td>\n",
       "      <td>AngieF</td>\n",
       "      <td>positive</td>\n",
       "      <td>ive never use kindl eread wasnt sure much woul...</td>\n",
       "    </tr>\n",
       "    <tr>\n",
       "      <th>9997</th>\n",
       "      <td>Amazon con job</td>\n",
       "      <td>Can no longer \"Remove this title\" from my Kind...</td>\n",
       "      <td>3.0</td>\n",
       "      <td>thom flora</td>\n",
       "      <td>negative</td>\n",
       "      <td>longer remov titl kindl content devic bought v...</td>\n",
       "    </tr>\n",
       "    <tr>\n",
       "      <th>9998</th>\n",
       "      <td>A necessary evil...</td>\n",
       "      <td>I bought the Kindle Paperwhite so I could down...</td>\n",
       "      <td>4.0</td>\n",
       "      <td>Sylvia</td>\n",
       "      <td>positive</td>\n",
       "      <td>bought kindl paperwhit could download book lib...</td>\n",
       "    </tr>\n",
       "    <tr>\n",
       "      <th>9999</th>\n",
       "      <td>New and imporved</td>\n",
       "      <td>Smaller and lighter (green is the new one and ...</td>\n",
       "      <td>5.0</td>\n",
       "      <td>kattface6</td>\n",
       "      <td>positive</td>\n",
       "      <td>smaller lighter green new one white old size s...</td>\n",
       "    </tr>\n",
       "    <tr>\n",
       "      <th>10000</th>\n",
       "      <td>Book covers in black&amp;white-hard to see them</td>\n",
       "      <td>It is lightweight and the perfect size for an ...</td>\n",
       "      <td>3.0</td>\n",
       "      <td>SMZ</td>\n",
       "      <td>negative</td>\n",
       "      <td>lightweight perfect size eread bigger phone sm...</td>\n",
       "    </tr>\n",
       "  </tbody>\n",
       "</table>\n",
       "<p>10001 rows × 6 columns</p>\n",
       "</div>"
      ],
      "text/plain": [
       "                                      review_title  \\\n",
       "0                    Works fine, replaces a Gen 3.   \n",
       "1            Pinhole Bright Spots and Other Issues   \n",
       "2                            Battery life is awful   \n",
       "3                     A Review From 2 Perspectives   \n",
       "4       It’s waterproof. Everything else is worse.   \n",
       "...                                            ...   \n",
       "9996                    My first Kindle - Love it!   \n",
       "9997                                Amazon con job   \n",
       "9998                           A necessary evil...   \n",
       "9999                              New and imporved   \n",
       "10000  Book covers in black&white-hard to see them   \n",
       "\n",
       "                                          product_review product_rating  \\\n",
       "0        If you own an earlier Paperwhite and it's st...            3.0   \n",
       "1                         Updated Review on Oct 6, 2019:            4.0   \n",
       "2        I love Kindle, have always had one since the...            3.0   \n",
       "3        I feel I need to approach this review from 2...            5.0   \n",
       "4        It’s infuriating that Amazon went to market ...            1.0   \n",
       "...                                                  ...            ...   \n",
       "9996   I've never used a Kindle, or any e-reader befo...            5.0   \n",
       "9997   Can no longer \"Remove this title\" from my Kind...            3.0   \n",
       "9998   I bought the Kindle Paperwhite so I could down...            4.0   \n",
       "9999   Smaller and lighter (green is the new one and ...            5.0   \n",
       "10000  It is lightweight and the perfect size for an ...            3.0   \n",
       "\n",
       "                reviewer  category  \\\n",
       "0      E. Hinrichsen  II  negative   \n",
       "1               Sir Mike  positive   \n",
       "2                Ship210  negative   \n",
       "3                 Rustic  positive   \n",
       "4                D. Bier  negative   \n",
       "...                  ...       ...   \n",
       "9996              AngieF  positive   \n",
       "9997          thom flora  negative   \n",
       "9998              Sylvia  positive   \n",
       "9999           kattface6  positive   \n",
       "10000                SMZ  negative   \n",
       "\n",
       "                                  cleaned_product_review  \n",
       "0       earlier paperwhit still function compel reaso...  \n",
       "1                                updat review oct 6 2019  \n",
       "2       love kindl alway one sinc first edit third pa...  \n",
       "3                   feel need approach review 2 perspect  \n",
       "4       infuri amazon went market machin upgrad prior...  \n",
       "...                                                  ...  \n",
       "9996   ive never use kindl eread wasnt sure much woul...  \n",
       "9997   longer remov titl kindl content devic bought v...  \n",
       "9998   bought kindl paperwhit could download book lib...  \n",
       "9999   smaller lighter green new one white old size s...  \n",
       "10000  lightweight perfect size eread bigger phone sm...  \n",
       "\n",
       "[10001 rows x 6 columns]"
      ]
     },
     "execution_count": 29,
     "metadata": {},
     "output_type": "execute_result"
    }
   ],
   "source": [
    "def clean_text(text):\n",
    "    ps=stemmer()\n",
    "    \n",
    "    text=deEmojify(text) # remove emojis\n",
    "    text_cleaned=\"\".join([x for x in text if x not in string.punctuation]) # remove punctuation\n",
    "    \n",
    "    text_cleaned=re.sub(' +', ' ', text_cleaned) # remove extra white spaces\n",
    "    text_cleaned=text_cleaned.lower() # converting to lowercase\n",
    "    tokens=text_cleaned.split(\" \")\n",
    "    tokens=[token for token in tokens if token not in STOPWORDS] # Taking only those words which are not stopwords\n",
    "    text_cleaned=\" \".join([ps.stem(token) for token in tokens])\n",
    "    \n",
    "    return text_cleaned\n",
    "kindle_df['cleaned_product_review']=kindle_df['product_review'].apply(lambda x:clean_text(x))\n",
    "kindle_df"
   ]
  },
  {
   "cell_type": "code",
   "execution_count": 30,
   "metadata": {
    "scrolled": true
   },
   "outputs": [
    {
     "name": "stdout",
     "output_type": "stream",
     "text": [
      "Load 9000 training examples and 1001 validation examples. \n",
      "\n",
      "Show a review in the training set : \n",
      "  love read kindl hard go back paper book second paperwhit one end bottom lake wait week recov bought new one cant without\n"
     ]
    },
    {
     "data": {
      "text/plain": [
       "(2087     wait long time buy kindl paperwhit read book ...\n",
       " 8653    big fan kindl long time final decid upgrad new...\n",
       " 2363     receiv kindl gift gener good perform well how...\n",
       " 3925     like reada lot 4th kindl tri fire batteri lif...\n",
       " 3471     love kindl paperwhit distract finish novel bo...\n",
       "                               ...                        \n",
       " 9225    use read ipad use kindl app fine develop carpa...\n",
       " 4859     research eread lot id never own one decid tak...\n",
       " 3264     ive own kindl time far worst upgrad thing pap...\n",
       " 9845    sensit screen need return home screen format l...\n",
       " 2732     receiv gift husband devic fine littl clunki u...\n",
       " Name: cleaned_product_review, Length: 9000, dtype: object,\n",
       " 2087    positive\n",
       " 8653    negative\n",
       " 2363    negative\n",
       " 3925    positive\n",
       " 3471    positive\n",
       "           ...   \n",
       " 9225    positive\n",
       " 4859    positive\n",
       " 3264    negative\n",
       " 9845    positive\n",
       " 2732    negative\n",
       " Name: category, Length: 9000, dtype: object)"
      ]
     },
     "execution_count": 30,
     "metadata": {},
     "output_type": "execute_result"
    }
   ],
   "source": [
    "# Split data into training set and validation\n",
    "from sklearn.model_selection import train_test_split\n",
    "\n",
    "X_train, X_test, y_train, y_test = train_test_split(kindle_df['cleaned_product_review'], kindle_df['category'], \\\n",
    "                                                    test_size=0.1, random_state=0)\n",
    "\n",
    "print('Load %d training examples and %d validation examples. \\n' %(X_train.shape[0],X_test.shape[0]))\n",
    "print('Show a review in the training set : \\n', X_train.iloc[10])\n",
    "X_train,y_train\n"
   ]
  },
  {
   "cell_type": "code",
   "execution_count": 31,
   "metadata": {},
   "outputs": [],
   "source": [
    "from sklearn.feature_extraction.text import CountVectorizer,TfidfVectorizer\n",
    "countVect = CountVectorizer() "
   ]
  },
  {
   "cell_type": "code",
   "execution_count": 32,
   "metadata": {},
   "outputs": [
    {
     "name": "stdout",
     "output_type": "stream",
     "text": [
      "Number of features : 8014 \n",
      "\n",
      "Show some feature names : \n",
      " ['000', 'battl', 'decid', 'fuch', 'kummaran', 'outi', 'riceinaziplock', 'temperatur', 'yup']\n"
     ]
    }
   ],
   "source": [
    "X_train_countVect = countVect.fit_transform(X_train)\n",
    "print(\"Number of features : %d \\n\" %len(countVect.get_feature_names())) #6378 \n",
    "print(\"Show some feature names : \\n\", countVect.get_feature_names()[::1000])"
   ]
  },
  {
   "cell_type": "code",
   "execution_count": 33,
   "metadata": {},
   "outputs": [],
   "source": [
    "def modelEvaluation(predictions):\n",
    "    '''\n",
    "    Print model evaluation to predicted result \n",
    "    '''\n",
    "    print (\"\\nAccuracy on training set: {:.4f}\".format(mnb.score(X_train_countVect, y_train)))\n",
    "    print (\"\\nAccuracy on validation set: {:.4f}\".format(accuracy_score(y_test, predictions)))\n",
    "    print (\"\\nClassification report : \\n\", metrics.classification_report(y_test, predictions))\n",
    "    print (\"\\nConfusion Matrix : \\n\", metrics.confusion_matrix(y_test, predictions))"
   ]
  },
  {
   "cell_type": "code",
   "execution_count": 34,
   "metadata": {},
   "outputs": [
    {
     "data": {
      "text/plain": [
       "MultinomialNB()"
      ]
     },
     "execution_count": 34,
     "metadata": {},
     "output_type": "execute_result"
    }
   ],
   "source": [
    "# Train MultinomialNB classifier\n",
    "from sklearn.naive_bayes import MultinomialNB\n",
    "\n",
    "mnb = MultinomialNB()\n",
    "mnb.fit(X_train_countVect, y_train)"
   ]
  },
  {
   "cell_type": "code",
   "execution_count": 35,
   "metadata": {
    "scrolled": true
   },
   "outputs": [
    {
     "name": "stdout",
     "output_type": "stream",
     "text": [
      "\n",
      "Accuracy on training set: 0.8543\n",
      "\n",
      "Accuracy on validation set: 0.8142\n",
      "\n",
      "Classification report : \n",
      "               precision    recall  f1-score   support\n",
      "\n",
      "    negative       0.82      0.74      0.78       439\n",
      "    positive       0.81      0.87      0.84       562\n",
      "\n",
      "    accuracy                           0.81      1001\n",
      "   macro avg       0.81      0.81      0.81      1001\n",
      "weighted avg       0.81      0.81      0.81      1001\n",
      "\n",
      "\n",
      "Confusion Matrix : \n",
      " [[325 114]\n",
      " [ 72 490]]\n"
     ]
    }
   ],
   "source": [
    "from sklearn import metrics\n",
    "from sklearn.metrics import accuracy_score\n",
    "predictions = mnb.predict(countVect.transform(X_test))\n",
    "modelEvaluation(predictions)"
   ]
  },
  {
   "cell_type": "code",
   "execution_count": 36,
   "metadata": {},
   "outputs": [],
   "source": [
    "from sklearn.svm import SVC, LinearSVC, NuSVC"
   ]
  },
  {
   "cell_type": "code",
   "execution_count": 37,
   "metadata": {},
   "outputs": [],
   "source": [
    "from sklearn import svm\n",
    "svc = svm.SVC()"
   ]
  },
  {
   "cell_type": "code",
   "execution_count": 38,
   "metadata": {},
   "outputs": [
    {
     "data": {
      "text/plain": [
       "SVC()"
      ]
     },
     "execution_count": 38,
     "metadata": {},
     "output_type": "execute_result"
    }
   ],
   "source": [
    "svc.fit(X_train_countVect, y_train)"
   ]
  },
  {
   "cell_type": "code",
   "execution_count": 39,
   "metadata": {
    "scrolled": true
   },
   "outputs": [
    {
     "name": "stdout",
     "output_type": "stream",
     "text": [
      "\n",
      "Accuracy on training set: 0.8543\n",
      "\n",
      "Accuracy on validation set: 0.8981\n",
      "\n",
      "Classification report : \n",
      "               precision    recall  f1-score   support\n",
      "\n",
      "    negative       0.93      0.83      0.88       439\n",
      "    positive       0.88      0.95      0.91       562\n",
      "\n",
      "    accuracy                           0.90      1001\n",
      "   macro avg       0.90      0.89      0.90      1001\n",
      "weighted avg       0.90      0.90      0.90      1001\n",
      "\n",
      "\n",
      "Confusion Matrix : \n",
      " [[365  74]\n",
      " [ 28 534]]\n"
     ]
    }
   ],
   "source": [
    "predictions = svc.predict(countVect.transform(X_test))\n",
    "modelEvaluation(predictions)"
   ]
  },
  {
   "cell_type": "code",
   "execution_count": 40,
   "metadata": {},
   "outputs": [
    {
     "name": "stdout",
     "output_type": "stream",
     "text": [
      "positive\n",
      "positive\n"
     ]
    }
   ],
   "source": [
    "test = \"i like kindle\"\n",
    "print(mnb.predict(countVect.transform([test]))[0])\n",
    "\n",
    "print(svc.predict(countVect.transform([test]))[0])\n"
   ]
  },
  {
   "cell_type": "code",
   "execution_count": 41,
   "metadata": {},
   "outputs": [
    {
     "name": "stdout",
     "output_type": "stream",
     "text": [
      "positive\n",
      "negative\n"
     ]
    }
   ],
   "source": [
    "test = \"this sucks\"\n",
    "print(mnb.predict(countVect.transform([test]))[0])\n",
    "\n",
    "print(svc.predict(countVect.transform([test]))[0])\n"
   ]
  },
  {
   "cell_type": "code",
   "execution_count": 42,
   "metadata": {},
   "outputs": [
    {
     "name": "stdout",
     "output_type": "stream",
     "text": [
      "positive\n",
      "negative\n"
     ]
    }
   ],
   "source": [
    "test = \"battery is awful\"\n",
    "print(mnb.predict(countVect.transform([test]))[0])\n",
    "\n",
    "print(svc.predict(countVect.transform([test]))[0])\n"
   ]
  },
  {
   "cell_type": "code",
   "execution_count": 43,
   "metadata": {},
   "outputs": [
    {
     "name": "stdout",
     "output_type": "stream",
     "text": [
      "negative\n",
      "negative\n"
     ]
    }
   ],
   "source": [
    "test = \"worst ever\"\n",
    "print(mnb.predict(countVect.transform([test]))[0])\n",
    "\n",
    "print(svc.predict(countVect.transform([test]))[0])\n"
   ]
  },
  {
   "cell_type": "markdown",
   "metadata": {},
   "source": [
    "# BERT"
   ]
  },
  {
   "cell_type": "code",
   "execution_count": null,
   "metadata": {},
   "outputs": [],
   "source": []
  },
  {
   "cell_type": "code",
   "execution_count": 44,
   "metadata": {},
   "outputs": [],
   "source": [
    "from transformers import BertTokenizer, TFBertForSequenceClassification\n",
    "from transformers import InputExample, InputFeatures"
   ]
  },
  {
   "cell_type": "code",
   "execution_count": 45,
   "metadata": {},
   "outputs": [
    {
     "name": "stderr",
     "output_type": "stream",
     "text": [
      "Some layers from the model checkpoint at bert-base-uncased were not used when initializing TFBertForSequenceClassification: ['nsp___cls', 'mlm___cls']\n",
      "- This IS expected if you are initializing TFBertForSequenceClassification from the checkpoint of a model trained on another task or with another architecture (e.g. initializing a BertForSequenceClassification model from a BertForPreTraining model).\n",
      "- This IS NOT expected if you are initializing TFBertForSequenceClassification from the checkpoint of a model that you expect to be exactly identical (initializing a BertForSequenceClassification model from a BertForSequenceClassification model).\n",
      "Some layers of TFBertForSequenceClassification were not initialized from the model checkpoint at bert-base-uncased and are newly initialized: ['dropout_37', 'classifier']\n",
      "You should probably TRAIN this model on a down-stream task to be able to use it for predictions and inference.\n"
     ]
    }
   ],
   "source": [
    "model = TFBertForSequenceClassification.from_pretrained(\"bert-base-uncased\")\n",
    "tokenizer = BertTokenizer.from_pretrained(\"bert-base-uncased\")"
   ]
  },
  {
   "cell_type": "code",
   "execution_count": 46,
   "metadata": {},
   "outputs": [],
   "source": [
    "import tensorflow as tf"
   ]
  },
  {
   "cell_type": "code",
   "execution_count": 47,
   "metadata": {},
   "outputs": [
    {
     "data": {
      "text/html": [
       "<div>\n",
       "<style scoped>\n",
       "    .dataframe tbody tr th:only-of-type {\n",
       "        vertical-align: middle;\n",
       "    }\n",
       "\n",
       "    .dataframe tbody tr th {\n",
       "        vertical-align: top;\n",
       "    }\n",
       "\n",
       "    .dataframe thead th {\n",
       "        text-align: right;\n",
       "    }\n",
       "</style>\n",
       "<table border=\"1\" class=\"dataframe\">\n",
       "  <thead>\n",
       "    <tr style=\"text-align: right;\">\n",
       "      <th></th>\n",
       "      <th>cleaned_product_review</th>\n",
       "      <th>category</th>\n",
       "    </tr>\n",
       "  </thead>\n",
       "  <tbody>\n",
       "    <tr>\n",
       "      <th>2087</th>\n",
       "      <td>wait long time buy kindl paperwhit read book ...</td>\n",
       "      <td>positive</td>\n",
       "    </tr>\n",
       "    <tr>\n",
       "      <th>8653</th>\n",
       "      <td>big fan kindl long time final decid upgrad new...</td>\n",
       "      <td>negative</td>\n",
       "    </tr>\n",
       "    <tr>\n",
       "      <th>2363</th>\n",
       "      <td>receiv kindl gift gener good perform well how...</td>\n",
       "      <td>negative</td>\n",
       "    </tr>\n",
       "    <tr>\n",
       "      <th>3925</th>\n",
       "      <td>like reada lot 4th kindl tri fire batteri lif...</td>\n",
       "      <td>positive</td>\n",
       "    </tr>\n",
       "    <tr>\n",
       "      <th>3471</th>\n",
       "      <td>love kindl paperwhit distract finish novel bo...</td>\n",
       "      <td>positive</td>\n",
       "    </tr>\n",
       "  </tbody>\n",
       "</table>\n",
       "</div>"
      ],
      "text/plain": [
       "                                 cleaned_product_review  category\n",
       "2087   wait long time buy kindl paperwhit read book ...  positive\n",
       "8653  big fan kindl long time final decid upgrad new...  negative\n",
       "2363   receiv kindl gift gener good perform well how...  negative\n",
       "3925   like reada lot 4th kindl tri fire batteri lif...  positive\n",
       "3471   love kindl paperwhit distract finish novel bo...  positive"
      ]
     },
     "execution_count": 47,
     "metadata": {},
     "output_type": "execute_result"
    }
   ],
   "source": [
    "# import tensorflow as tf\n",
    "train = pd.DataFrame([X_train,y_train]).T\n",
    "train.head()"
   ]
  },
  {
   "cell_type": "code",
   "execution_count": 48,
   "metadata": {},
   "outputs": [
    {
     "data": {
      "text/html": [
       "<div>\n",
       "<style scoped>\n",
       "    .dataframe tbody tr th:only-of-type {\n",
       "        vertical-align: middle;\n",
       "    }\n",
       "\n",
       "    .dataframe tbody tr th {\n",
       "        vertical-align: top;\n",
       "    }\n",
       "\n",
       "    .dataframe thead th {\n",
       "        text-align: right;\n",
       "    }\n",
       "</style>\n",
       "<table border=\"1\" class=\"dataframe\">\n",
       "  <thead>\n",
       "    <tr style=\"text-align: right;\">\n",
       "      <th></th>\n",
       "      <th>cleaned_product_review</th>\n",
       "      <th>category</th>\n",
       "    </tr>\n",
       "  </thead>\n",
       "  <tbody>\n",
       "    <tr>\n",
       "      <th>9395</th>\n",
       "      <td>purchas primarili check recent publish book ki...</td>\n",
       "      <td>positive</td>\n",
       "    </tr>\n",
       "    <tr>\n",
       "      <th>898</th>\n",
       "      <td>realli like paperwhit older gener one love bi...</td>\n",
       "      <td>positive</td>\n",
       "    </tr>\n",
       "    <tr>\n",
       "      <th>2398</th>\n",
       "      <td>amazon offer persuas deal turn previou kindl ...</td>\n",
       "      <td>negative</td>\n",
       "    </tr>\n",
       "    <tr>\n",
       "      <th>4737</th>\n",
       "      <td>order one broken send anoth slow unrespons co...</td>\n",
       "      <td>negative</td>\n",
       "    </tr>\n",
       "    <tr>\n",
       "      <th>2343</th>\n",
       "      <td>year avoid digit book gave bought one dont kn...</td>\n",
       "      <td>positive</td>\n",
       "    </tr>\n",
       "  </tbody>\n",
       "</table>\n",
       "</div>"
      ],
      "text/plain": [
       "                                 cleaned_product_review  category\n",
       "9395  purchas primarili check recent publish book ki...  positive\n",
       "898    realli like paperwhit older gener one love bi...  positive\n",
       "2398   amazon offer persuas deal turn previou kindl ...  negative\n",
       "4737   order one broken send anoth slow unrespons co...  negative\n",
       "2343   year avoid digit book gave bought one dont kn...  positive"
      ]
     },
     "execution_count": 48,
     "metadata": {},
     "output_type": "execute_result"
    }
   ],
   "source": [
    "test = pd.DataFrame([X_test,y_test]).T\n",
    "test.head()"
   ]
  },
  {
   "cell_type": "code",
   "execution_count": 49,
   "metadata": {},
   "outputs": [
    {
     "data": {
      "text/plain": [
       "Index(['cleaned_product_review', 'category'], dtype='object')"
      ]
     },
     "execution_count": 49,
     "metadata": {},
     "output_type": "execute_result"
    }
   ],
   "source": [
    "train.columns"
   ]
  },
  {
   "cell_type": "code",
   "execution_count": 50,
   "metadata": {},
   "outputs": [
    {
     "data": {
      "text/plain": [
       "InputExample(guid=None, text_a='Hello, world', text_b=None, label=1)"
      ]
     },
     "execution_count": 50,
     "metadata": {},
     "output_type": "execute_result"
    }
   ],
   "source": [
    "InputExample(guid=None,\n",
    "             text_a = \"Hello, world\",\n",
    "             text_b = None,\n",
    "             label = 1)"
   ]
  },
  {
   "cell_type": "code",
   "execution_count": 51,
   "metadata": {},
   "outputs": [],
   "source": [
    "def convert_data_to_examples(train, test, cleaned_product_review, category): \n",
    "  train_InputExamples = train.apply(lambda x: InputExample(guid=None, # Globally unique ID for bookkeeping, unused in this case\n",
    "                                                          text_a = x[cleaned_product_review], \n",
    "                                                          text_b = None,\n",
    "                                                          label = x[category]), axis = 1)\n",
    "\n",
    "  validation_InputExamples = test.apply(lambda x: InputExample(guid=None, # Globally unique ID for bookkeeping, unused in this case\n",
    "                                                          text_a = x[cleaned_product_review], \n",
    "                                                          text_b = None,\n",
    "                                                          label = x[category]), axis = 1)\n",
    "  \n",
    "  return train_InputExamples, validation_InputExamples\n",
    "\n",
    "  train_InputExamples, validation_InputExamples = convert_data_to_examples(train, \n",
    "                                                                           test, \n",
    "                                                                           'cleaned_product_review', \n",
    "                                                                           'category')\n",
    "  \n",
    "def convert_examples_to_tf_dataset(examples, tokenizer, max_length=128):\n",
    "    features = [] # -> will hold InputFeatures to be converted later\n",
    "\n",
    "    for e in examples:\n",
    "        # Documentation is really strong for this method, so please take a look at it\n",
    "        input_dict = tokenizer.encode_plus(\n",
    "            e.text_a,\n",
    "            add_special_tokens=True,\n",
    "            max_length=max_length, # truncates if len(s) > max_length\n",
    "            return_token_type_ids=True,\n",
    "            return_attention_mask=True,\n",
    "            pad_to_max_length=True, # pads to the right by default # CHECK THIS for pad_to_max_length\n",
    "            truncation=True\n",
    "        )\n",
    "\n",
    "        input_ids, token_type_ids, attention_mask = (input_dict[\"input_ids\"],\n",
    "            input_dict[\"token_type_ids\"], input_dict['attention_mask'])\n",
    "\n",
    "        features.append(\n",
    "            InputFeatures(\n",
    "                input_ids=input_ids, attention_mask=attention_mask, token_type_ids=token_type_ids, label=e.label\n",
    "            )\n",
    "        )\n",
    "\n",
    "    def gen():\n",
    "        for f in features:\n",
    "            yield (\n",
    "                {\n",
    "                    \"input_ids\": f.input_ids,\n",
    "                    \"attention_mask\": f.attention_mask,\n",
    "                    \"token_type_ids\": f.token_type_ids,\n",
    "                },\n",
    "                f.label,\n",
    "            )\n",
    "\n",
    "    return tf.data.Dataset.from_generator(\n",
    "        gen,\n",
    "        ({\"input_ids\": tf.int32, \"attention_mask\": tf.int32, \"token_type_ids\": tf.int32}, tf.int64),\n",
    "        (\n",
    "            {\n",
    "                \"input_ids\": tf.TensorShape([None]),\n",
    "                \"attention_mask\": tf.TensorShape([None]),\n",
    "                \"token_type_ids\": tf.TensorShape([None]),\n",
    "            },\n",
    "            tf.TensorShape([]),\n",
    "        ),\n",
    "    )\n",
    "\n",
    "\n",
    "product_review = 'cleaned_product_review'\n",
    "category = 'category'"
   ]
  },
  {
   "cell_type": "code",
   "execution_count": null,
   "metadata": {},
   "outputs": [],
   "source": [
    "train_InputExamples, validation_InputExamples = convert_data_to_examples(train, test, product_review, category)\n",
    "\n",
    "train_data = convert_examples_to_tf_dataset(list(train_InputExamples), tokenizer)\n",
    "train_data = train_data.shuffle(100).batch(32).repeat(2)\n",
    "\n",
    "validation_data = convert_examples_to_tf_dataset(list(validation_InputExamples), tokenizer)\n",
    "validation_data = validation_data.batch(32)"
   ]
  },
  {
   "cell_type": "code",
   "execution_count": null,
   "metadata": {},
   "outputs": [],
   "source": [
    "model.compile(optimizer=tf.keras.optimizers.Adam(learning_rate=3e-5, epsilon=1e-08, clipnorm=1.0),\n",
    "              loss=tf.keras.losses.SparseCategoricalCrossentropy(from_logits=True), \n",
    "              metrics=[tf.keras.metrics.SparseCategoricalAccuracy('accuracy')])\n",
    "model.fit(train_data, epochs=2, validation_data=validation_data)"
   ]
  },
  {
   "cell_type": "code",
   "execution_count": null,
   "metadata": {},
   "outputs": [],
   "source": [
    "pred_sentences = ['This is an awesome product. Portable and good gift',\n",
    "                  'One of the worst products of all time. I cannot believe I wasted my money on this']"
   ]
  },
  {
   "cell_type": "code",
   "execution_count": null,
   "metadata": {},
   "outputs": [],
   "source": [
    "tf_batch = tokenizer(pred_sentences, max_length=128, padding=True, truncation=True, return_tensors='tf')\n",
    "tf_outputs = model(tf_batch)\n",
    "tf_predictions = tf.nn.softmax(tf_outputs[0], axis=-1)\n",
    "labels = ['Negative','Positive']\n",
    "label = tf.argmax(tf_predictions, axis=1)\n",
    "label = label.numpy()\n",
    "for i in range(len(pred_sentences)):\n",
    "    print(pred_sentences[i], \": \\n\", labels[label[i]])"
   ]
  },
  {
   "cell_type": "code",
   "execution_count": null,
   "metadata": {},
   "outputs": [],
   "source": []
  },
  {
   "cell_type": "markdown",
   "metadata": {},
   "source": [
    "# GFG"
   ]
  },
  {
   "cell_type": "code",
   "execution_count": null,
   "metadata": {},
   "outputs": [],
   "source": [
    "# Creating dataframe according to BERT data requirements by adding the required columns in the right order\n",
    "df_bert = pd.DataFrame({\n",
    "    ‘id’:range(len(train_data)),\n",
    "    ‘label’:train_data[0],\n",
    "    ‘alpha’:[‘a’]*train_data.shape[0],\n",
    "    ‘text’: train_data[1].replace(r’\\n’, ‘ ‘, regex=True)\n",
    "})\n",
    "df_bert.head()"
   ]
  },
  {
   "cell_type": "code",
   "execution_count": null,
   "metadata": {},
   "outputs": [],
   "source": []
  }
 ],
 "metadata": {
  "kernelspec": {
   "display_name": "Python 3",
   "language": "python",
   "name": "python3"
  },
  "language_info": {
   "codemirror_mode": {
    "name": "ipython",
    "version": 3
   },
   "file_extension": ".py",
   "mimetype": "text/x-python",
   "name": "python",
   "nbconvert_exporter": "python",
   "pygments_lexer": "ipython3",
   "version": "3.8.5"
  }
 },
 "nbformat": 4,
 "nbformat_minor": 4
}
